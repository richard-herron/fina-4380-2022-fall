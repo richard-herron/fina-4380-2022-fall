{
 "cells": [
  {
   "cell_type": "markdown",
   "id": "9541dc14-4747-4fa5-99cc-60522b86bd13",
   "metadata": {
    "tags": []
   },
   "source": [
    "# Introduction"
   ]
  },
  {
   "cell_type": "markdown",
   "id": "b9d3d770-3438-48b8-96cb-289a5e65c766",
   "metadata": {},
   "source": [
    "Occasionally, I do not know the answers to questions from the class.\n",
    "Instead of looking up answers and sharing them during class the next week, I will share these answers in a Jupyter Notebook on Canvas.\n",
    "This new approach has several advantages:\n",
    "\n",
    "1. You do not need to wait a week to get these answers.\n",
    "1. I am less likely to forget to share these answers.\n",
    "1. All three sections can benefit from these questions.\n",
    "\n",
    "Below are the answers to these questions from class this week."
   ]
  },
  {
   "cell_type": "code",
   "execution_count": 1,
   "id": "aad72932-e88f-4d70-a64b-e8f540cfb8db",
   "metadata": {},
   "outputs": [],
   "source": [
    "import pandas as pd\n",
    "import numpy as np\n",
    "import matplotlib.pyplot as plt"
   ]
  },
  {
   "cell_type": "code",
   "execution_count": 2,
   "id": "8d3baa30-ac85-41bd-9fe0-25af8acace04",
   "metadata": {},
   "outputs": [],
   "source": [
    "import yfinance as yf\n",
    "import requests_cache\n",
    "session = requests_cache.CachedSession()"
   ]
  },
  {
   "cell_type": "code",
   "execution_count": 3,
   "id": "1935fc8d-b2e7-439a-b28d-e5a5b10a901f",
   "metadata": {},
   "outputs": [],
   "source": [
    "plt.rcParams['figure.dpi'] = 150\n",
    "np.set_printoptions(precision=4, suppress=True)\n",
    "pd.options.display.float_format = '{:.4f}'.format"
   ]
  },
  {
   "cell_type": "markdown",
   "id": "896cfe2f-590d-4af0-abf0-42f6f253e6ff",
   "metadata": {},
   "source": [
    "# Monday - Section 03"
   ]
  },
  {
   "cell_type": "markdown",
   "id": "154d7bc7-f80f-48fd-98bf-f8e350ec7fcd",
   "metadata": {},
   "source": [
    "## Is there a `.lagged()` method we can use instead of `.shift()`?"
   ]
  },
  {
   "cell_type": "markdown",
   "id": "a46f019f-e15c-468e-b19f-eba149d098d6",
   "metadata": {},
   "source": [
    "I use `.shift()` with positive values to get _lags_ and negative values to get _leads_ or _forward_ values.\n",
    "There is a DataCamp exercise in the time series course that generates a column named `lagged`, but I think that the `.shift()` method is the best way to lead and lag values."
   ]
  },
  {
   "cell_type": "code",
   "execution_count": 4,
   "id": "ddcd9d7c-8480-4a03-a450-fb9b2332cca2",
   "metadata": {},
   "outputs": [
    {
     "name": "stdout",
     "output_type": "stream",
     "text": [
      "[*********************100%***********************]  1 of 1 completed\n"
     ]
    }
   ],
   "source": [
    "df = yf.download(tickers='TSLA', session=session)"
   ]
  },
  {
   "cell_type": "code",
   "execution_count": 5,
   "id": "93957ba7-1737-42ba-a2f8-aa52849f3cd0",
   "metadata": {},
   "outputs": [],
   "source": [
    "df['1-Day Lag of Adj Close'] = df['Adj Close'].shift(1)"
   ]
  },
  {
   "cell_type": "code",
   "execution_count": 6,
   "id": "7281662f-f200-4e79-ba8e-4bf8e2ff9b79",
   "metadata": {},
   "outputs": [],
   "source": [
    "df['1-Day Forward Adj Close'] = df['Adj Close'].shift(-1)"
   ]
  },
  {
   "cell_type": "code",
   "execution_count": 7,
   "id": "c39ef287-5aad-422e-8f55-ca530f62537b",
   "metadata": {},
   "outputs": [
    {
     "data": {
      "text/html": [
       "<div>\n",
       "<style scoped>\n",
       "    .dataframe tbody tr th:only-of-type {\n",
       "        vertical-align: middle;\n",
       "    }\n",
       "\n",
       "    .dataframe tbody tr th {\n",
       "        vertical-align: top;\n",
       "    }\n",
       "\n",
       "    .dataframe thead th {\n",
       "        text-align: right;\n",
       "    }\n",
       "</style>\n",
       "<table border=\"1\" class=\"dataframe\">\n",
       "  <thead>\n",
       "    <tr style=\"text-align: right;\">\n",
       "      <th></th>\n",
       "      <th>Adj Close</th>\n",
       "      <th>1-Day Lag of Adj Close</th>\n",
       "      <th>1-Day Forward Adj Close</th>\n",
       "    </tr>\n",
       "    <tr>\n",
       "      <th>Date</th>\n",
       "      <th></th>\n",
       "      <th></th>\n",
       "      <th></th>\n",
       "    </tr>\n",
       "  </thead>\n",
       "  <tbody>\n",
       "    <tr>\n",
       "      <th>2010-06-29</th>\n",
       "      <td>4.7780</td>\n",
       "      <td>NaN</td>\n",
       "      <td>4.7660</td>\n",
       "    </tr>\n",
       "    <tr>\n",
       "      <th>2010-06-30</th>\n",
       "      <td>4.7660</td>\n",
       "      <td>4.7780</td>\n",
       "      <td>4.3920</td>\n",
       "    </tr>\n",
       "    <tr>\n",
       "      <th>2010-07-01</th>\n",
       "      <td>4.3920</td>\n",
       "      <td>4.7660</td>\n",
       "      <td>3.8400</td>\n",
       "    </tr>\n",
       "    <tr>\n",
       "      <th>2010-07-02</th>\n",
       "      <td>3.8400</td>\n",
       "      <td>4.3920</td>\n",
       "      <td>3.2220</td>\n",
       "    </tr>\n",
       "    <tr>\n",
       "      <th>2010-07-06</th>\n",
       "      <td>3.2220</td>\n",
       "      <td>3.8400</td>\n",
       "      <td>3.1600</td>\n",
       "    </tr>\n",
       "    <tr>\n",
       "      <th>...</th>\n",
       "      <td>...</td>\n",
       "      <td>...</td>\n",
       "      <td>...</td>\n",
       "    </tr>\n",
       "    <tr>\n",
       "      <th>2022-03-18</th>\n",
       "      <td>905.3900</td>\n",
       "      <td>871.6000</td>\n",
       "      <td>921.1600</td>\n",
       "    </tr>\n",
       "    <tr>\n",
       "      <th>2022-03-21</th>\n",
       "      <td>921.1600</td>\n",
       "      <td>905.3900</td>\n",
       "      <td>993.9800</td>\n",
       "    </tr>\n",
       "    <tr>\n",
       "      <th>2022-03-22</th>\n",
       "      <td>993.9800</td>\n",
       "      <td>921.1600</td>\n",
       "      <td>999.1100</td>\n",
       "    </tr>\n",
       "    <tr>\n",
       "      <th>2022-03-23</th>\n",
       "      <td>999.1100</td>\n",
       "      <td>993.9800</td>\n",
       "      <td>1013.9200</td>\n",
       "    </tr>\n",
       "    <tr>\n",
       "      <th>2022-03-24</th>\n",
       "      <td>1013.9200</td>\n",
       "      <td>999.1100</td>\n",
       "      <td>NaN</td>\n",
       "    </tr>\n",
       "  </tbody>\n",
       "</table>\n",
       "<p>2956 rows × 3 columns</p>\n",
       "</div>"
      ],
      "text/plain": [
       "            Adj Close  1-Day Lag of Adj Close  1-Day Forward Adj Close\n",
       "Date                                                                  \n",
       "2010-06-29     4.7780                     NaN                   4.7660\n",
       "2010-06-30     4.7660                  4.7780                   4.3920\n",
       "2010-07-01     4.3920                  4.7660                   3.8400\n",
       "2010-07-02     3.8400                  4.3920                   3.2220\n",
       "2010-07-06     3.2220                  3.8400                   3.1600\n",
       "...               ...                     ...                      ...\n",
       "2022-03-18   905.3900                871.6000                 921.1600\n",
       "2022-03-21   921.1600                905.3900                 993.9800\n",
       "2022-03-22   993.9800                921.1600                 999.1100\n",
       "2022-03-23   999.1100                993.9800                1013.9200\n",
       "2022-03-24  1013.9200                999.1100                      NaN\n",
       "\n",
       "[2956 rows x 3 columns]"
      ]
     },
     "execution_count": 7,
     "metadata": {},
     "output_type": "execute_result"
    }
   ],
   "source": [
    "df.filter(regex='Adj Close')"
   ]
  },
  {
   "cell_type": "markdown",
   "id": "fa6d390d-d8d2-46b4-82e1-00ee62917eb6",
   "metadata": {},
   "source": [
    "## Where can we learn more about unit testing?"
   ]
  },
  {
   "cell_type": "markdown",
   "id": "e1ec3b92-25c2-4c46-9c86-c1b00a01a0c1",
   "metadata": {},
   "source": [
    "I asked a friend that works in data analytics at a hedge fund: \"what should I teach students?\"\n",
    "His response: \"unit testing.\"\n",
    "What is [unit testing]()?\n",
    "\n",
    "> In computer programming, unit testing is a software testing method by which individual units of source code—sets of one or more computer program modules together with associated control data, usage procedures, and operating procedures—are tested to determine whether they are fit for use.\n",
    "\n",
    "He is correct that unit tests are important.\n",
    "However, he forgets that unit tests are an advanced skill and unnecessary until you know how to write code.\n",
    "\n",
    "I typically write tests interactively with NumPy functions, like `numpy.allclose()`, which tests the similarity of two objects.\n",
    "When I write persistent tests, I typically use `numpy.testing.assert_close()`.\n",
    "These two functions are similar, but the former returns `False` if the test condition is not met, while the later raises an error.\n",
    "\n",
    "If there is enough interest, we can discuss unit tests during class, but I consider them an advanced skill.\n",
    "At an interview, I think questions about converting daily returns to annualized Sharpe ratios and alphas are more likely than questions about unit tests.\n",
    "If you want to learn more about unit tests, this [StackOverflow answer](https://stackoverflow.com/a/48405555/334755) is a good start."
   ]
  },
  {
   "cell_type": "markdown",
   "id": "7be94621-1d30-417e-82b0-568d89b7f8de",
   "metadata": {},
   "source": [
    "## Can I use Python to dollar cost average (DCA) with Coinbase?"
   ]
  },
  {
   "cell_type": "markdown",
   "id": "1437b6bf-b270-4c70-a612-9592d53ecd44",
   "metadata": {},
   "source": [
    "In most cases, the answer to, \"can I do X with Python?\" is \"yes!\"\n",
    "A student asked how to use this [GitHub repository](https://github.com/jaw12346/Coinbase-Pro-DCA) to DCA with Coinbase, a popular cryptocurrency exchange.\n",
    "Here is a simple example.\n",
    "\n",
    "1. Open a Coinbase account at [coinbase.com](coinbase.com)\n",
    "1. Follow the instructions in the repository above to create your advanced programming interface (API) key; ***I suggest using the sandbox and not trading real assets until you are comfortable with cryptocurrencies, Coinbase, Python, and the code in the repository above***\n",
    "1. Download `config.json` and `main.py` from the repsitory above to the same folder as this notebook\n",
    "1. Follow the instructions in the repository above to modify `config.json`\n",
    "1. Add funds to your sandbox portfolio via Coinbase's website; the name of my sandbox portfolio is \"Default Portfolio\"\n",
    "1. Run `main.py` by executing `%run main.py` in the cell below; you may need to `%pip install cbpro schedule`\n",
    "1. You can also run `main.py` in a terminal window by executing `python main.py`\n",
    "1. This code cell will run until your interrupt it"
   ]
  },
  {
   "cell_type": "code",
   "execution_count": 8,
   "id": "fd0c81ad-182e-43ad-810e-2b928e52cd5a",
   "metadata": {},
   "outputs": [],
   "source": [
    "# %run main.py"
   ]
  },
  {
   "cell_type": "markdown",
   "id": "faa19074-5f12-4298-b001-b95d972d8cdd",
   "metadata": {},
   "source": [
    "This script is a work in progress, but it will get the job done!\n",
    "Also, you can suggest improvements to the script and ask the author to incorporate them!\n",
    "We will not discuss this further.\n",
    "However, if there is enough interest, I would add it to future versions of the course (or add a standalone course)."
   ]
  },
  {
   "cell_type": "markdown",
   "id": "561b64c3-f906-4796-9a9b-7ef6b46ec548",
   "metadata": {},
   "source": [
    "# Wednesday - Section 04"
   ]
  },
  {
   "cell_type": "markdown",
   "id": "4a865607-9cca-47d4-a728-466cb329490a",
   "metadata": {},
   "source": [
    "## Does market timing work in ~~emerging markets~~ Bitcoin?"
   ]
  },
  {
   "cell_type": "markdown",
   "id": "8f42817e-42a7-4b60-a3bb-c0ad82446cc7",
   "metadata": {},
   "source": [
    "No.\n",
    "Altough Bitcoin's volatility is high, it is not high enough to help market timing outperform dollar-cost averaging."
   ]
  },
  {
   "cell_type": "markdown",
   "id": "9a2e0be4-2be3-4a46-bcfe-0bb37ed4172b",
   "metadata": {},
   "source": [
    "![Bitcoin: Tops and Bottoms](project-1-solution-bitcoin-1.png)"
   ]
  },
  {
   "cell_type": "markdown",
   "id": "66fde09e-7bb1-41a3-b91e-8c5601962ebd",
   "metadata": {},
   "source": [
    "![Bitcoin: Comparison of DCA and MT](project-1-solution-bitcoin-2.png)"
   ]
  },
  {
   "cell_type": "markdown",
   "id": "ab148150-971d-40bb-a024-613caa7613ed",
   "metadata": {
    "tags": []
   },
   "source": [
    "# Wednesday - Section 02"
   ]
  },
  {
   "cell_type": "markdown",
   "id": "66835837-c26e-46d4-9322-2f4481bedfb7",
   "metadata": {},
   "source": [
    "No lookups."
   ]
  }
 ],
 "metadata": {
  "author": "Richard Herron",
  "kernelspec": {
   "display_name": "Python 3 (ipykernel)",
   "language": "python",
   "name": "python3"
  },
  "language_info": {
   "codemirror_mode": {
    "name": "ipython",
    "version": 3
   },
   "file_extension": ".py",
   "mimetype": "text/x-python",
   "name": "python",
   "nbconvert_exporter": "python",
   "pygments_lexer": "ipython3",
   "version": "3.9.7"
  },
  "title": "Week 9 Lookups",
  "toc-autonumbering": true
 },
 "nbformat": 4,
 "nbformat_minor": 5
}
