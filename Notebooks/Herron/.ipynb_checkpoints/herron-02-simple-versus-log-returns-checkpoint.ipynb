{
 "cells": [
  {
   "cell_type": "markdown",
   "id": "08900918-0772-4375-ae6f-d6bb6b6e3bb2",
   "metadata": {},
   "source": [
    "# Key Takeaways\n",
    "\n",
    "This notebook explains the differences between simple and log returns.\n",
    "We will almost always use simple returns, and this notebook explains why.\n",
    "\n",
    "***The key takeaways from this notebook are:***\n",
    "\n",
    "1. Calculating simple and log returns\n",
    "1. Simple returns are always appropriate\n",
    "1. But log returns provide a more computationally efficient way to compound returns"
   ]
  },
  {
   "cell_type": "code",
   "execution_count": null,
   "id": "9b3ececb-284b-4226-8137-90def2eb051f",
   "metadata": {},
   "outputs": [],
   "source": [
    "import matplotlib.pyplot as plt\n",
    "import numpy as np\n",
    "import pandas as pd"
   ]
  },
  {
   "cell_type": "code",
   "execution_count": null,
   "id": "6cd64c73-5764-4a7e-b841-1d81fbaf2e64",
   "metadata": {},
   "outputs": [],
   "source": [
    "plt.rcParams['figure.dpi'] = 150\n",
    "np.set_printoptions(precision=4, suppress=True)\n",
    "pd.options.display.float_format = '{:.4f}'.format"
   ]
  },
  {
   "cell_type": "markdown",
   "id": "64f7740a-1c9b-4b71-bed4-96053591806c",
   "metadata": {},
   "source": [
    "# Introduction"
   ]
  },
  {
   "cell_type": "markdown",
   "id": "89b35638-cc1b-47e7-9b7d-82016b64ff68",
   "metadata": {},
   "source": [
    "We will typically calculate *simple* returns as in finance 101:\n",
    "$$R_{simple,t} = \\frac{P_t + D_t - P_{t-1}}{P_{t-1}} = \\frac{P_t + D_t}{P_{t-1}} - 1.$$\n",
    "The simple return is the return that investors receive on invested dollars.\n",
    "We can calculate simple returns from Yahoo Finance data with the `.pct_change()` method on the adjusted close column.\n",
    "The adjusted close column is a reverse-engineered close price that incorporates dividends and splits and makes this simple return calculation correct."
   ]
  },
  {
   "cell_type": "markdown",
   "id": "78b117d0-ed40-4ee8-ac1e-754300a8b4ea",
   "metadata": {},
   "source": [
    "However, we may see *log* returns elsewhere, which are the (natural) log of one plus simple returns:\n",
    "\\begin{align*}\n",
    "    R_{log,t} &= \\log(1 + R_{simple,t}) \\\\\n",
    "    &= \\log\\left(1 + \\frac{P_t - P_{t-1} + D_t}{P_{t-1}} \\right) \\\\\n",
    "    &= \\log\\left(1 +  \\frac{P_t + D_t}{P_{t-1}} - 1 \\right) \\\\\n",
    "    &= \\log\\left(\\frac{P_t + D_t}{P_{t-1}} \\right) \\\\\n",
    "    &= \\log(P_t + D_t) - \\log(P_{t-1})\n",
    "\\end{align*}\n",
    "Therefore, we can calculate log returns as either the log of one plus simple returns or the difference of the logs of the adjusted close column.[^cc]\n",
    "\n",
    "[^cc]: *Log* returns are also known as *continuously-compounded* returns."
   ]
  },
  {
   "cell_type": "markdown",
   "id": "5d32f946-c9db-4d3e-a8b5-5ae1900d21b7",
   "metadata": {},
   "source": [
    "Again, we will typically calculate (and apply) *simple* returns instead of *log* returns.\n",
    "However, for completeness, this notebook explains the differences between simple and log returns and when each is appropriate."
   ]
  },
  {
   "cell_type": "markdown",
   "id": "1ea1d252-1b28-4103-b972-0bb042eb3086",
   "metadata": {},
   "source": [
    "# Simple and Log Returns are Similar for Small Returns"
   ]
  },
  {
   "cell_type": "markdown",
   "id": "2bc29986-f48f-45fb-91ad-c34913e35707",
   "metadata": {},
   "source": [
    "Simple and log returns are similar for small changes because $\\log(1 + R) \\approx R$ for small values of $R$.\n",
    "Returns are typically small for daily and monthly returns, so the difference between simple and log returns is small at daily and monthly frequencies.\n",
    "The following figure shows that $R_{simple,t} \\approx R_{log,t}$ for small $R$s."
   ]
  },
  {
   "cell_type": "code",
   "execution_count": null,
   "id": "27c2ee31-77b1-4791-8bd7-9c08cb3dd6df",
   "metadata": {
    "tags": []
   },
   "outputs": [],
   "source": [
    "R = np.linspace(-0.75, 0.75, 100)"
   ]
  },
  {
   "cell_type": "code",
   "execution_count": null,
   "id": "1606b0f3-b083-4dc0-b951-763f3af4d0e8",
   "metadata": {},
   "outputs": [],
   "source": [
    "plt.plot(R, np.log(1 + R))\n",
    "plt.plot([-1, 1], [-1, 1])\n",
    "plt.xlabel('Simple Return')\n",
    "plt.ylabel('Log Return')\n",
    "plt.title('Log Versus Simple Returns')\n",
    "plt.legend(['Actual Relation', 'If Log = Simple'])\n",
    "plt.show()"
   ]
  },
  {
   "cell_type": "markdown",
   "id": "05ba4fec-ce88-481e-b0b3-02492e3d0616",
   "metadata": {},
   "source": [
    "# Simple Return Advantage: Portfolio Calculations"
   ]
  },
  {
   "cell_type": "markdown",
   "id": "9f3fe6ac-db89-4aba-a05d-b977948f514c",
   "metadata": {},
   "source": [
    "We can only perform portfolio calculations with simple returns.\n",
    "For a portfolio of $N$ assets held with portfolio weights $w_i$, the portfolio return $R_{p}$ is the weighted average of the returns of its assets: $$R_{p} = \\sum_{i=1}^N w_i \\cdot R_{i}.$$\n",
    "For two stocks with portfolio weights of 50%, our portolio return is: $$R_{portfolio} = 0.5 \\cdot R_{\\text{stock 1}} + 0.5 \\cdot R_{\\text{stock 2}}.$$\n",
    "However, the same is not true with log returns because the log of sums is not the same as the sum of logs.\n",
    "*So we cannot calculate a portfolio return as the weighted average of the log returns.*"
   ]
  },
  {
   "cell_type": "markdown",
   "id": "8332578b-6d8f-42ae-a14f-4fd3acfd5813",
   "metadata": {},
   "source": [
    "# Log Return Advantage: Log Returns are Additive"
   ]
  },
  {
   "cell_type": "markdown",
   "id": "9972186a-8f80-439b-8365-4b34ffd9bf9a",
   "metadata": {},
   "source": [
    "The advantage of log returns is that log returns are additive instead of multiplicative.\n",
    "The additive property of log returns helps make code fast (and mathematical proofs easy) because we have to multiply (compound) returns when we consider more than one period.\n",
    "We calculate the return from $t=0$ to $t=T$ as follows.\n",
    "$$1 + R_{0, T} = (1 + R_1) \\times (1 + R_2) \\times \\cdots \\times (1 + R_T)$$\n",
    "With log returns instead of simple returns, this calculation becomes additive instead of multiplicative."
   ]
  },
  {
   "cell_type": "markdown",
   "id": "7e2afb1d-fdd9-4b0e-b74b-319cc712f205",
   "metadata": {},
   "source": [
    "First, take the (natural) log of both sides of the previous equation, then use the principal that the log of products is the sum of logs.\n",
    "\\begin{align*}\n",
    "    \\log(1 + R_{0, T}) &= \\log((1 + R_1) \\times (1 + R_2) \\times \\cdots \\times (1 + R_T)) \\\\\n",
    "    &= \\log(1 + R_1) + \\log(1 + R_2) + \\cdots + \\log(1 + R_T) \\\\\n",
    "    &= \\sum_{t=1}^T \\log(1 + R_t) \\\\\n",
    "\\end{align*}\n",
    "Second, take the exponential of both sides of the previous equation.\n",
    "\\begin{align*}\n",
    "    e^{\\log(1 + R_{0, T})} &= e^{\\sum_{t=0}^T \\log(1 + R_t)} \\\\\n",
    "    1 + R_{0,T} &= e^{\\sum_{t=0}^T \\log(1 + R_t)} \\\\\n",
    "    R_{0 ,T} &= e^{\\sum_{t=0}^T \\log(1 + R_t)} - 1\n",
    "\\end{align*}\n",
    "So we can say that $R_{0,T}$, the return from $t=0$ to $t=T$, is the exponential of the sum of the log returns.\n",
    "This description does not roll off the tongue, but its code executes fast (at least in pandas, because the `.sum()` method is optimized)."
   ]
  },
  {
   "cell_type": "markdown",
   "id": "c1c0eddc-96c7-47d5-b244-60dfff642ca3",
   "metadata": {},
   "source": [
    "The following code generates 10,000 random log returns.\n",
    "The `np.random.standard_normal()` call generates normally distributed random numbers.\n",
    "To generate the equivalent simple returns, we take the exponential of the log returns, then subtract one.\n",
    "Note that the minimum simple return is greater than -100%, so these are well-behaved stock returns."
   ]
  },
  {
   "cell_type": "code",
   "execution_count": null,
   "id": "586c8053-e1f7-46a5-bfdd-586b6b716191",
   "metadata": {},
   "outputs": [],
   "source": [
    "np.random.seed(42)\n",
    "df = pd.DataFrame({'R': np.exp(np.random.standard_normal(10000)) - 1}, index=np.arange(10000, dtype='int'))"
   ]
  },
  {
   "cell_type": "markdown",
   "id": "441c5644-ff96-4c5e-94cc-d10d400f840a",
   "metadata": {},
   "source": [
    "Now we can time the calculation of 12-observation rolling returns.\n",
    "We use `.apply()` for the simple return version because `.rolling()` does not have a product method.\n",
    "We find that `.rolling()` is slower with `.apply()` than with `.sum()` by a factor of 2,001."
   ]
  },
  {
   "cell_type": "code",
   "execution_count": null,
   "id": "f6bac07e-915c-417d-b83d-ecab7ca6c69b",
   "metadata": {},
   "outputs": [],
   "source": [
    "%%timeit\n",
    "df['R12_via_simple'] = df['R'].rolling(12).apply(lambda x : np.prod(1 + x) - 1)"
   ]
  },
  {
   "cell_type": "code",
   "execution_count": null,
   "id": "35b7353b-a86f-48ef-92e6-9f81d382cdea",
   "metadata": {},
   "outputs": [],
   "source": [
    "%%timeit\n",
    "df['R12_via_log'] = np.exp((np.log(1 + df['R'])).rolling(12).sum()) - 1"
   ]
  },
  {
   "cell_type": "code",
   "execution_count": null,
   "id": "585d425e-08d7-4124-b835-0015aea3a889",
   "metadata": {},
   "outputs": [],
   "source": [
    "np.allclose(df['R12_via_simple'], df['R12_via_log'], equal_nan=True)"
   ]
  },
  {
   "cell_type": "markdown",
   "id": "04539e04-5f96-427a-bf62-c41025ad4a28",
   "metadata": {},
   "source": [
    "We get the same answer with both approaches, but the log-return approach saves us time!"
   ]
  },
  {
   "cell_type": "markdown",
   "id": "24f7c7a3-bf9c-4d30-a2d0-dab0108bfb74",
   "metadata": {},
   "source": [
    "# Conclusion"
   ]
  },
  {
   "cell_type": "markdown",
   "id": "9d82d2d7-d70a-4b0d-907a-fbd4b29a0073",
   "metadata": {},
   "source": [
    "Simple and log returns have their advantages.\n",
    "When periods are short and returns are small, simple and log returns are similar.\n",
    "However, log returns are a fast way to compound returns but inappropriate for portfolio calculations.\n",
    "If we compound via log returns, we will typically convert them back to simple returns, which are easier to interpret."
   ]
  }
 ],
 "metadata": {
  "author": "Richard Herron",
  "kernelspec": {
   "display_name": "Python 3 (ipykernel)",
   "language": "python",
   "name": "python3"
  },
  "language_info": {
   "codemirror_mode": {
    "name": "ipython",
    "version": 3
   },
   "file_extension": ".py",
   "mimetype": "text/x-python",
   "name": "python",
   "nbconvert_exporter": "python",
   "pygments_lexer": "ipython3",
   "version": "3.9.12"
  },
  "title": "Simple Versus Log Returns",
  "toc-autonumbering": true
 },
 "nbformat": 4,
 "nbformat_minor": 5
}
