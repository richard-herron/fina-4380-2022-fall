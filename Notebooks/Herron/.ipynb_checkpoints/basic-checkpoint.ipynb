{
 "cells": [
  {
   "cell_type": "code",
   "execution_count": null,
   "id": "85df0acc-535a-42b4-a67e-3af9c82fc7a1",
   "metadata": {},
   "outputs": [],
   "source": [
    "import matplotlib.pyplot as plt\n",
    "import numpy as np\n",
    "import pandas as pd"
   ]
  },
  {
   "cell_type": "code",
   "execution_count": null,
   "id": "43e006dd-fd38-4d6e-8148-548dfe21a084",
   "metadata": {},
   "outputs": [],
   "source": [
    "plt.rcParams['figure.dpi'] = 150\n",
    "np.set_printoptions(precision=2, suppress=True)\n",
    "pd.options.display.float_format = '{:,.2f}'.format"
   ]
  },
  {
   "cell_type": "code",
   "execution_count": null,
   "id": "7825cabf-451e-4bd4-8f0e-8ab6fff71d14",
   "metadata": {},
   "outputs": [],
   "source": [
    "# this function pretty prints data frames in the PDF export\n",
    "# e.g., display_table(df) pretty prints df in the PDF export\n",
    "import warnings\n",
    "def display_table(x):\n",
    "    with warnings.catch_warnings() and pd.option_context('display.latex.repr', True):\n",
    "        warnings.simplefilter(action='ignore', category=FutureWarning)\n",
    "        display(x)"
   ]
  },
  {
   "cell_type": "code",
   "execution_count": null,
   "id": "c9eaf41f-91aa-4825-9076-6d4e881420cd",
   "metadata": {},
   "outputs": [],
   "source": [
    "import yfinance as yf\n",
    "import pandas_datareader as pdr\n",
    "import requests_cache\n",
    "session = requests_cache.CachedSession()"
   ]
  }
 ],
 "metadata": {
  "kernelspec": {
   "display_name": "Python 3 (ipykernel)",
   "language": "python",
   "name": "python3"
  },
  "language_info": {
   "codemirror_mode": {
    "name": "ipython",
    "version": 3
   },
   "file_extension": ".py",
   "mimetype": "text/x-python",
   "name": "python",
   "nbconvert_exporter": "python",
   "pygments_lexer": "ipython3",
   "version": "3.9.12"
  }
 },
 "nbformat": 4,
 "nbformat_minor": 5
}
