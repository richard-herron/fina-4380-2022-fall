{
 "cells": [
  {
   "cell_type": "code",
   "execution_count": null,
   "id": "3cb6a95c-2649-4892-923d-4946e97bb99c",
   "metadata": {},
   "outputs": [],
   "source": [
    "import yfinance as yf\n",
    "import pandas as pd\n",
    "import requests_cache\n",
    "import matplotlib.pyplot as plt\n",
    "import numpy as np\n",
    "session = requests_cache.CachedSession()"
   ]
  },
  {
   "cell_type": "code",
   "execution_count": null,
   "id": "10b8117e-68fe-457d-967b-2d55aade9e2a",
   "metadata": {},
   "outputs": [],
   "source": [
    "plt.rcParams['figure.dpi'] = 150\n",
    "np.set_printoptions(precision=4, suppress=True)\n",
    "pd.options.display.float_format = '{:.4f}'.format"
   ]
  },
  {
   "cell_type": "code",
   "execution_count": null,
   "id": "54c9a9bc-4d56-4be6-8767-2d37fba9f0e0",
   "metadata": {},
   "outputs": [],
   "source": [
    "df = yf.download(tickers='SPY', session=session)"
   ]
  },
  {
   "cell_type": "markdown",
   "id": "fdb63aa0-ca79-4db2-815c-2899a892677e",
   "metadata": {},
   "source": [
    "1. Calculate intraday returns as `Open` to `Close` returns\n",
    "2. Calculate total returns as `Adj Close` to `Adj Close` returns\n",
    "3. The overnight return is the portion of the total return not explained by intraday returns"
   ]
  },
  {
   "cell_type": "markdown",
   "id": "faac5b7a-8495-411a-b548-0517b93e1550",
   "metadata": {},
   "source": [
    "Overnight returns are the portion of total returns that are not due to intraday returns.\n",
    "\n",
    "$$(1 + R_{total}) = (1 + R_{night})\\times(1 + R_{day}) \\implies 1 + R_{night} = \\frac{1 + R_{total}}{1 + R_{day}}  \\implies R_{night} = \\frac{1 + R_{total}}{1 + R_{day}} - 1$$"
   ]
  },
  {
   "cell_type": "code",
   "execution_count": null,
   "id": "5d9262aa-0229-4278-bb2c-8aecc05938ee",
   "metadata": {},
   "outputs": [],
   "source": [
    "df['R_total'] = df['Adj Close'].pct_change()"
   ]
  },
  {
   "cell_type": "code",
   "execution_count": null,
   "id": "9caaba0e-abad-4b07-85f1-ee4abff8c2d8",
   "metadata": {},
   "outputs": [],
   "source": [
    "df['R_day'] = df['Close'] / df['Open'] - 1"
   ]
  },
  {
   "cell_type": "code",
   "execution_count": null,
   "id": "9caee44a-a3b2-4bef-b3f0-f4754a8446f7",
   "metadata": {},
   "outputs": [],
   "source": [
    "df['R_night'] = (1 + df['R_total']) / (1 + df['R_day']) - 1"
   ]
  },
  {
   "cell_type": "code",
   "execution_count": null,
   "id": "7f44c3c0-6d4d-4ba6-95fd-c8eba1bb755a",
   "metadata": {},
   "outputs": [],
   "source": [
    "labels = {\n",
    "    'R_day': 'Intraday Returns',\n",
    "    'R_night': 'Overnight Returns',\n",
    "    'R_total': 'Total Returns'\n",
    "}"
   ]
  },
  {
   "cell_type": "markdown",
   "id": "fe7db557-115e-4499-aeff-7c52d6da1c29",
   "metadata": {},
   "source": [
    "Now we can invest one dollar in each of these returns series."
   ]
  },
  {
   "cell_type": "code",
   "execution_count": null,
   "id": "79ab4c1f-80c1-4db4-8924-ac2f09cd094f",
   "metadata": {},
   "outputs": [],
   "source": [
    "_ = df[['R_day', 'R_night']].dropna().add(1).cumprod().rename(columns=labels)\n",
    "buy_date = (_.index[0] - pd.offsets.BusinessDay()).strftime('%b %d, %Y')\n",
    "_.plot()\n",
    "\n",
    "plt.ylabel('Value ($)')\n",
    "plt.title(\n",
    "    'Comparison of Intraday and Overnight Returns' +\n",
    "    '\\n' +\n",
    "    'Value of $1 Invested in SPY at Close on ' + \n",
    "    buy_date\n",
    ")\n",
    "plt.show()"
   ]
  },
  {
   "cell_type": "code",
   "execution_count": null,
   "id": "e08c6087-6b5b-4a82-bf8d-85fdce81f81f",
   "metadata": {},
   "outputs": [],
   "source": [
    "# 252 annualizes a mean of daily returns\n",
    "# 100 converts decimal returns to percent\n",
    "_ = df[['R_day', 'R_night']].dropna().mean().mul(252 * 100).rename(labels)\n",
    "_.plot(kind='bar')\n",
    "plt.ylabel('Annualized Mean (%)')\n",
    "plt.xticks(rotation=0)\n",
    "plt.title('Comparison of Intraday and Overnight Returns\\nBased on the SPY ETF')\n",
    "plt.show()"
   ]
  }
 ],
 "metadata": {
  "author": "Richard Herron",
  "kernelspec": {
   "display_name": "Python 3 (ipykernel)",
   "language": "python",
   "name": "python3"
  },
  "language_info": {
   "codemirror_mode": {
    "name": "ipython",
    "version": 3
   },
   "file_extension": ".py",
   "mimetype": "text/x-python",
   "name": "python",
   "nbconvert_exporter": "python",
   "pygments_lexer": "ipython3",
   "version": "3.9.7"
  },
  "title": "Overnight vs Intraday Returns"
 },
 "nbformat": 4,
 "nbformat_minor": 5
}
