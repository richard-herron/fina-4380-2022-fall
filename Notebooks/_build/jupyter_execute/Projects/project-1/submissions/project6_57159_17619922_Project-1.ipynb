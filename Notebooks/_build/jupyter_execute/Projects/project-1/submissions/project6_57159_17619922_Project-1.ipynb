{
 "cells": [
  {
   "cell_type": "code",
   "execution_count": 1,
   "id": "3879eba8-0ba5-406e-b30b-2ebf55315361",
   "metadata": {
    "tags": []
   },
   "outputs": [],
   "source": [
    "import pandas as pd\n",
    "import numpy as np\n",
    "import matplotlib.pyplot as plt"
   ]
  },
  {
   "cell_type": "code",
   "execution_count": 2,
   "id": "5d3c23b8-0e36-44a7-bdb8-ab53c6da6130",
   "metadata": {},
   "outputs": [],
   "source": [
    "pd.set_option('display.float_format', '{:.4f}'.format)\n",
    "%precision 4\n",
    "plt.rcParams['figure.dpi'] = 150"
   ]
  },
  {
   "cell_type": "code",
   "execution_count": 3,
   "id": "1420a43e-faf7-4551-9e8b-e71e2df7b7d8",
   "metadata": {},
   "outputs": [],
   "source": [
    "import yfinance as yf\n",
    "import requests_cache\n",
    "session = requests_cache.CachedSession(expire_after='1D')"
   ]
  },
  {
   "cell_type": "markdown",
   "id": "d83b1095-c5b6-41bf-b86a-a7ba93b16a7c",
   "metadata": {},
   "source": [
    "# Calculate daily returns for the S&P 100 stocks."
   ]
  },
  {
   "cell_type": "code",
   "execution_count": 4,
   "id": "5e1ffb46-0004-4acd-a511-2bb4f1b77ee5",
   "metadata": {
    "tags": []
   },
   "outputs": [],
   "source": [
    "returns = pd.read_html(\"https://en.wikipedia.org/wiki/S%26P_100#Components\")[2]"
   ]
  },
  {
   "cell_type": "code",
   "execution_count": 5,
   "id": "936a20af-6b72-448a-b2b2-08a9007d85f4",
   "metadata": {
    "tags": []
   },
   "outputs": [],
   "source": [
    "ticker = list(returns.loc[:, \"Symbol\"])\n",
    "\n",
    "for i in range(len(ticker)):\n",
    "    ticker[i] = ticker[i].replace('.', '-')"
   ]
  },
  {
   "cell_type": "code",
   "execution_count": 6,
   "id": "486a7912-e671-430b-ae13-db608c74c49c",
   "metadata": {},
   "outputs": [],
   "source": [
    "def download(**kwargs):\n",
    "    _stocks = yf.download(**kwargs)\n",
    "    _returns = _stocks[\"Adj Close\"].pct_change()\n",
    "    _multi_index = pd.MultiIndex.from_product([[\"Returns\"],_stocks[\"Adj Close\"].columns])\n",
    "    _stocks[_multi_index] = _returns\n",
    "    return _stocks"
   ]
  },
  {
   "cell_type": "code",
   "execution_count": 7,
   "id": "78bb65ca-9e5d-4c6f-86cf-c27834f69965",
   "metadata": {},
   "outputs": [
    {
     "name": "stdout",
     "output_type": "stream",
     "text": [
      "\r",
      "[                       0%                       ]"
     ]
    },
    {
     "name": "stdout",
     "output_type": "stream",
     "text": [
      "\r",
      "[                       0%                       ]"
     ]
    },
    {
     "name": "stdout",
     "output_type": "stream",
     "text": [
      "\r",
      "[*                      3%                       ]  3 of 101 completed"
     ]
    },
    {
     "name": "stdout",
     "output_type": "stream",
     "text": [
      "\r",
      "[**                     4%                       ]  4 of 101 completed"
     ]
    },
    {
     "name": "stdout",
     "output_type": "stream",
     "text": [
      "\r",
      "[**                     5%                       ]  5 of 101 completed"
     ]
    },
    {
     "name": "stdout",
     "output_type": "stream",
     "text": [
      "\r",
      "[***                    6%                       ]  6 of 101 completed"
     ]
    },
    {
     "name": "stdout",
     "output_type": "stream",
     "text": [
      "\r",
      "[***                    7%                       ]  7 of 101 completed"
     ]
    },
    {
     "name": "stdout",
     "output_type": "stream",
     "text": [
      "\r",
      "[****                   8%                       ]  8 of 101 completed"
     ]
    },
    {
     "name": "stdout",
     "output_type": "stream",
     "text": [
      "\r",
      "[****                   9%                       ]  9 of 101 completed"
     ]
    },
    {
     "name": "stdout",
     "output_type": "stream",
     "text": [
      "\r",
      "[*****                 10%                       ]  10 of 101 completed"
     ]
    },
    {
     "name": "stdout",
     "output_type": "stream",
     "text": [
      "\r",
      "[*****                 11%                       ]  11 of 101 completed"
     ]
    },
    {
     "name": "stdout",
     "output_type": "stream",
     "text": [
      "\r",
      "[******                12%                       ]  12 of 101 completed"
     ]
    },
    {
     "name": "stdout",
     "output_type": "stream",
     "text": [
      "\r",
      "[******                13%                       ]  13 of 101 completed"
     ]
    },
    {
     "name": "stdout",
     "output_type": "stream",
     "text": [
      "\r",
      "[*******               14%                       ]  14 of 101 completed"
     ]
    },
    {
     "name": "stdout",
     "output_type": "stream",
     "text": [
      "\r",
      "[*******               15%                       ]  15 of 101 completed"
     ]
    },
    {
     "name": "stdout",
     "output_type": "stream",
     "text": [
      "\r",
      "[********              16%                       ]  16 of 101 completed"
     ]
    },
    {
     "name": "stdout",
     "output_type": "stream",
     "text": [
      "\r",
      "[********              17%                       ]  17 of 101 completed"
     ]
    },
    {
     "name": "stdout",
     "output_type": "stream",
     "text": [
      "\r",
      "[*********             18%                       ]  18 of 101 completed"
     ]
    },
    {
     "name": "stdout",
     "output_type": "stream",
     "text": [
      "\r",
      "[*********             19%                       ]  19 of 101 completed"
     ]
    },
    {
     "name": "stdout",
     "output_type": "stream",
     "text": [
      "\r",
      "[**********            20%                       ]  20 of 101 completed"
     ]
    },
    {
     "name": "stdout",
     "output_type": "stream",
     "text": [
      "\r",
      "[**********            21%                       ]  21 of 101 completed"
     ]
    },
    {
     "name": "stdout",
     "output_type": "stream",
     "text": [
      "\r",
      "[***********           22%                       ]  22 of 101 completed"
     ]
    },
    {
     "name": "stdout",
     "output_type": "stream",
     "text": [
      "\r",
      "[***********           23%                       ]  23 of 101 completed"
     ]
    },
    {
     "name": "stdout",
     "output_type": "stream",
     "text": [
      "\r",
      "[************          24%                       ]  24 of 101 completed"
     ]
    },
    {
     "name": "stdout",
     "output_type": "stream",
     "text": [
      "\r",
      "[************          25%                       ]  25 of 101 completed"
     ]
    },
    {
     "name": "stdout",
     "output_type": "stream",
     "text": [
      "\r",
      "[************          26%                       ]  26 of 101 completed"
     ]
    },
    {
     "name": "stdout",
     "output_type": "stream",
     "text": [
      "\r",
      "[*************         27%                       ]  27 of 101 completed"
     ]
    },
    {
     "name": "stdout",
     "output_type": "stream",
     "text": [
      "\r",
      "[*************         28%                       ]  28 of 101 completed"
     ]
    },
    {
     "name": "stdout",
     "output_type": "stream",
     "text": [
      "\r",
      "[**************        29%                       ]  29 of 101 completed"
     ]
    },
    {
     "name": "stdout",
     "output_type": "stream",
     "text": [
      "\r",
      "[**************        30%                       ]  30 of 101 completed"
     ]
    },
    {
     "name": "stdout",
     "output_type": "stream",
     "text": [
      "\r",
      "[***************       31%                       ]  31 of 101 completed"
     ]
    },
    {
     "name": "stdout",
     "output_type": "stream",
     "text": [
      "\r",
      "[***************       32%                       ]  32 of 101 completed"
     ]
    },
    {
     "name": "stdout",
     "output_type": "stream",
     "text": [
      "\r",
      "[****************      33%                       ]  33 of 101 completed"
     ]
    },
    {
     "name": "stdout",
     "output_type": "stream",
     "text": [
      "\r",
      "[****************      34%                       ]  34 of 101 completed"
     ]
    },
    {
     "name": "stdout",
     "output_type": "stream",
     "text": [
      "\r",
      "[*****************     35%                       ]  35 of 101 completed"
     ]
    },
    {
     "name": "stdout",
     "output_type": "stream",
     "text": [
      "\r",
      "[*****************     36%                       ]  36 of 101 completed"
     ]
    },
    {
     "name": "stdout",
     "output_type": "stream",
     "text": [
      "\r",
      "[******************    37%                       ]  37 of 101 completed"
     ]
    },
    {
     "name": "stdout",
     "output_type": "stream",
     "text": [
      "\r",
      "[******************    38%                       ]  38 of 101 completed"
     ]
    },
    {
     "name": "stdout",
     "output_type": "stream",
     "text": [
      "\r",
      "[*******************   39%                       ]  39 of 101 completed"
     ]
    },
    {
     "name": "stdout",
     "output_type": "stream",
     "text": [
      "\r",
      "[*******************   40%                       ]  40 of 101 completed"
     ]
    },
    {
     "name": "stdout",
     "output_type": "stream",
     "text": [
      "\r",
      "[********************  41%                       ]  41 of 101 completed"
     ]
    },
    {
     "name": "stdout",
     "output_type": "stream",
     "text": [
      "\r",
      "[********************  42%                       ]  42 of 101 completed"
     ]
    },
    {
     "name": "stdout",
     "output_type": "stream",
     "text": [
      "\r",
      "[********************* 43%                       ]  43 of 101 completed"
     ]
    },
    {
     "name": "stdout",
     "output_type": "stream",
     "text": [
      "\r",
      "[********************* 44%                       ]  44 of 101 completed"
     ]
    },
    {
     "name": "stdout",
     "output_type": "stream",
     "text": [
      "\r",
      "[**********************45%                       ]  45 of 101 completed"
     ]
    },
    {
     "name": "stdout",
     "output_type": "stream",
     "text": [
      "\r",
      "[**********************46%                       ]  46 of 101 completed"
     ]
    },
    {
     "name": "stdout",
     "output_type": "stream",
     "text": [
      "\r",
      "[**********************47%                       ]  47 of 101 completed"
     ]
    },
    {
     "name": "stdout",
     "output_type": "stream",
     "text": [
      "\r",
      "[**********************48%                       ]  48 of 101 completed"
     ]
    },
    {
     "name": "stdout",
     "output_type": "stream",
     "text": [
      "\r",
      "[**********************49%                       ]  49 of 101 completed"
     ]
    },
    {
     "name": "stdout",
     "output_type": "stream",
     "text": [
      "\r",
      "[**********************50%                       ]  50 of 101 completed"
     ]
    },
    {
     "name": "stdout",
     "output_type": "stream",
     "text": [
      "\r",
      "[**********************50%                       ]  51 of 101 completed"
     ]
    },
    {
     "name": "stdout",
     "output_type": "stream",
     "text": [
      "\r",
      "[**********************51%                       ]  52 of 101 completed"
     ]
    },
    {
     "name": "stdout",
     "output_type": "stream",
     "text": [
      "\r",
      "[**********************52%                       ]  53 of 101 completed"
     ]
    },
    {
     "name": "stdout",
     "output_type": "stream",
     "text": [
      "\r",
      "[**********************53%                       ]  54 of 101 completed"
     ]
    },
    {
     "name": "stdout",
     "output_type": "stream",
     "text": [
      "\r",
      "[**********************54%*                      ]  55 of 101 completed"
     ]
    },
    {
     "name": "stdout",
     "output_type": "stream",
     "text": [
      "\r",
      "[**********************55%*                      ]  56 of 101 completed"
     ]
    },
    {
     "name": "stdout",
     "output_type": "stream",
     "text": [
      "\r",
      "[**********************56%**                     ]  57 of 101 completed"
     ]
    },
    {
     "name": "stdout",
     "output_type": "stream",
     "text": [
      "\r",
      "[**********************57%**                     ]  58 of 101 completed"
     ]
    },
    {
     "name": "stdout",
     "output_type": "stream",
     "text": [
      "\r",
      "[**********************58%***                    ]  59 of 101 completed"
     ]
    },
    {
     "name": "stdout",
     "output_type": "stream",
     "text": [
      "\r",
      "[**********************59%***                    ]  60 of 101 completed"
     ]
    },
    {
     "name": "stdout",
     "output_type": "stream",
     "text": [
      "\r",
      "[**********************60%****                   ]  61 of 101 completed"
     ]
    },
    {
     "name": "stdout",
     "output_type": "stream",
     "text": [
      "\r",
      "[**********************61%****                   ]  62 of 101 completed"
     ]
    },
    {
     "name": "stdout",
     "output_type": "stream",
     "text": [
      "\r",
      "[**********************62%*****                  ]  63 of 101 completed"
     ]
    },
    {
     "name": "stdout",
     "output_type": "stream",
     "text": [
      "\r",
      "[**********************63%*****                  ]  64 of 101 completed"
     ]
    },
    {
     "name": "stdout",
     "output_type": "stream",
     "text": [
      "\r",
      "[**********************64%******                 ]  65 of 101 completed"
     ]
    },
    {
     "name": "stdout",
     "output_type": "stream",
     "text": [
      "\r",
      "[**********************65%******                 ]  66 of 101 completed"
     ]
    },
    {
     "name": "stdout",
     "output_type": "stream",
     "text": [
      "\r",
      "[**********************66%*******                ]  67 of 101 completed"
     ]
    },
    {
     "name": "stdout",
     "output_type": "stream",
     "text": [
      "\r",
      "[**********************67%*******                ]  68 of 101 completed"
     ]
    },
    {
     "name": "stdout",
     "output_type": "stream",
     "text": [
      "\r",
      "[**********************68%********               ]  69 of 101 completed"
     ]
    },
    {
     "name": "stdout",
     "output_type": "stream",
     "text": [
      "\r",
      "[**********************69%********               ]  70 of 101 completed"
     ]
    },
    {
     "name": "stdout",
     "output_type": "stream",
     "text": [
      "\r",
      "[**********************70%*********              ]  71 of 101 completed"
     ]
    },
    {
     "name": "stdout",
     "output_type": "stream",
     "text": [
      "\r",
      "[**********************71%*********              ]  72 of 101 completed"
     ]
    },
    {
     "name": "stdout",
     "output_type": "stream",
     "text": [
      "\r",
      "[**********************72%**********             ]  73 of 101 completed"
     ]
    },
    {
     "name": "stdout",
     "output_type": "stream",
     "text": [
      "\r",
      "[**********************73%**********             ]  74 of 101 completed"
     ]
    },
    {
     "name": "stdout",
     "output_type": "stream",
     "text": [
      "\r",
      "[**********************73%**********             ]  74 of 101 completed"
     ]
    },
    {
     "name": "stdout",
     "output_type": "stream",
     "text": [
      "\r",
      "[**********************75%***********            ]  76 of 101 completed"
     ]
    },
    {
     "name": "stdout",
     "output_type": "stream",
     "text": [
      "\r",
      "[**********************76%***********            ]  77 of 101 completed"
     ]
    },
    {
     "name": "stdout",
     "output_type": "stream",
     "text": [
      "\r",
      "[**********************77%************           ]  78 of 101 completed"
     ]
    },
    {
     "name": "stdout",
     "output_type": "stream",
     "text": [
      "\r",
      "[**********************78%************           ]  79 of 101 completed"
     ]
    },
    {
     "name": "stdout",
     "output_type": "stream",
     "text": [
      "\r",
      "[**********************79%*************          ]  80 of 101 completed"
     ]
    },
    {
     "name": "stdout",
     "output_type": "stream",
     "text": [
      "\r",
      "[**********************80%*************          ]  81 of 101 completed"
     ]
    },
    {
     "name": "stdout",
     "output_type": "stream",
     "text": [
      "\r",
      "[**********************81%**************         ]  82 of 101 completed"
     ]
    },
    {
     "name": "stdout",
     "output_type": "stream",
     "text": [
      "\r",
      "[**********************82%**************         ]  83 of 101 completed"
     ]
    },
    {
     "name": "stdout",
     "output_type": "stream",
     "text": [
      "\r",
      "[**********************83%***************        ]  84 of 101 completed"
     ]
    },
    {
     "name": "stdout",
     "output_type": "stream",
     "text": [
      "\r",
      "[**********************84%***************        ]  85 of 101 completed"
     ]
    },
    {
     "name": "stdout",
     "output_type": "stream",
     "text": [
      "\r",
      "[**********************85%****************       ]  86 of 101 completed"
     ]
    },
    {
     "name": "stdout",
     "output_type": "stream",
     "text": [
      "\r",
      "[**********************86%****************       ]  87 of 101 completed"
     ]
    },
    {
     "name": "stdout",
     "output_type": "stream",
     "text": [
      "\r",
      "[**********************87%*****************      ]  88 of 101 completed"
     ]
    },
    {
     "name": "stdout",
     "output_type": "stream",
     "text": [
      "\r",
      "[**********************88%*****************      ]  89 of 101 completed"
     ]
    },
    {
     "name": "stdout",
     "output_type": "stream",
     "text": [
      "\r",
      "[**********************89%******************     ]  90 of 101 completed"
     ]
    },
    {
     "name": "stdout",
     "output_type": "stream",
     "text": [
      "\r",
      "[**********************90%******************     ]  91 of 101 completed"
     ]
    },
    {
     "name": "stdout",
     "output_type": "stream",
     "text": [
      "\r",
      "[**********************91%*******************    ]  92 of 101 completed"
     ]
    },
    {
     "name": "stdout",
     "output_type": "stream",
     "text": [
      "\r",
      "[**********************92%*******************    ]  93 of 101 completed"
     ]
    },
    {
     "name": "stdout",
     "output_type": "stream",
     "text": [
      "\r",
      "[**********************93%********************   ]  94 of 101 completed"
     ]
    },
    {
     "name": "stdout",
     "output_type": "stream",
     "text": [
      "\r",
      "[**********************94%********************   ]  95 of 101 completed"
     ]
    },
    {
     "name": "stdout",
     "output_type": "stream",
     "text": [
      "\r",
      "[**********************95%*********************  ]  96 of 101 completed"
     ]
    },
    {
     "name": "stdout",
     "output_type": "stream",
     "text": [
      "\r",
      "[**********************96%*********************  ]  97 of 101 completed"
     ]
    },
    {
     "name": "stdout",
     "output_type": "stream",
     "text": [
      "\r",
      "[**********************97%********************** ]  98 of 101 completed"
     ]
    },
    {
     "name": "stdout",
     "output_type": "stream",
     "text": [
      "\r",
      "[**********************98%********************** ]  99 of 101 completed"
     ]
    },
    {
     "name": "stdout",
     "output_type": "stream",
     "text": [
      "\r",
      "[**********************99%***********************]  100 of 101 completed"
     ]
    },
    {
     "name": "stdout",
     "output_type": "stream",
     "text": [
      "\r",
      "[*********************100%***********************]  101 of 101 completed"
     ]
    },
    {
     "name": "stdout",
     "output_type": "stream",
     "text": [
      "\n"
     ]
    },
    {
     "name": "stderr",
     "output_type": "stream",
     "text": [
      "/tmp/ipykernel_8243/3013159967.py:5: PerformanceWarning: DataFrame is highly fragmented.  This is usually the result of calling `frame.insert` many times, which has poor performance.  Consider joining all columns at once using pd.concat(axis=1) instead. To get a de-fragmented frame, use `newframe = frame.copy()`\n",
      "  _stocks[_multi_index] = _returns\n"
     ]
    }
   ],
   "source": [
    "df = download(tickers = ticker, session = session).stack().swaplevel().sort_index()"
   ]
  },
  {
   "cell_type": "code",
   "execution_count": 8,
   "id": "ab718364-0ea7-4ab8-99ab-a0e78b74d3d8",
   "metadata": {},
   "outputs": [
    {
     "data": {
      "text/html": [
       "<div>\n",
       "<style scoped>\n",
       "    .dataframe tbody tr th:only-of-type {\n",
       "        vertical-align: middle;\n",
       "    }\n",
       "\n",
       "    .dataframe tbody tr th {\n",
       "        vertical-align: top;\n",
       "    }\n",
       "\n",
       "    .dataframe thead th {\n",
       "        text-align: right;\n",
       "    }\n",
       "</style>\n",
       "<table border=\"1\" class=\"dataframe\">\n",
       "  <thead>\n",
       "    <tr style=\"text-align: right;\">\n",
       "      <th></th>\n",
       "      <th></th>\n",
       "      <th>Returns</th>\n",
       "    </tr>\n",
       "    <tr>\n",
       "      <th></th>\n",
       "      <th>Date</th>\n",
       "      <th></th>\n",
       "    </tr>\n",
       "  </thead>\n",
       "  <tbody>\n",
       "    <tr>\n",
       "      <th rowspan=\"5\" valign=\"top\">AAPL</th>\n",
       "      <th>2020-01-02</th>\n",
       "      <td>0.0228</td>\n",
       "    </tr>\n",
       "    <tr>\n",
       "      <th>2020-01-03</th>\n",
       "      <td>-0.0097</td>\n",
       "    </tr>\n",
       "    <tr>\n",
       "      <th>2020-01-06</th>\n",
       "      <td>0.0080</td>\n",
       "    </tr>\n",
       "    <tr>\n",
       "      <th>2020-01-07</th>\n",
       "      <td>-0.0047</td>\n",
       "    </tr>\n",
       "    <tr>\n",
       "      <th>2020-01-08</th>\n",
       "      <td>0.0161</td>\n",
       "    </tr>\n",
       "    <tr>\n",
       "      <th>...</th>\n",
       "      <th>...</th>\n",
       "      <td>...</td>\n",
       "    </tr>\n",
       "    <tr>\n",
       "      <th rowspan=\"5\" valign=\"top\">XOM</th>\n",
       "      <th>2022-08-25</th>\n",
       "      <td>0.0052</td>\n",
       "    </tr>\n",
       "    <tr>\n",
       "      <th>2022-08-26</th>\n",
       "      <td>-0.0123</td>\n",
       "    </tr>\n",
       "    <tr>\n",
       "      <th>2022-08-29</th>\n",
       "      <td>0.0230</td>\n",
       "    </tr>\n",
       "    <tr>\n",
       "      <th>2022-08-30</th>\n",
       "      <td>-0.0381</td>\n",
       "    </tr>\n",
       "    <tr>\n",
       "      <th>2022-08-31</th>\n",
       "      <td>-0.0075</td>\n",
       "    </tr>\n",
       "  </tbody>\n",
       "</table>\n",
       "<p>67872 rows × 1 columns</p>\n",
       "</div>"
      ],
      "text/plain": [
       "                 Returns\n",
       "     Date               \n",
       "AAPL 2020-01-02   0.0228\n",
       "     2020-01-03  -0.0097\n",
       "     2020-01-06   0.0080\n",
       "     2020-01-07  -0.0047\n",
       "     2020-01-08   0.0161\n",
       "...                  ...\n",
       "XOM  2022-08-25   0.0052\n",
       "     2022-08-26  -0.0123\n",
       "     2022-08-29   0.0230\n",
       "     2022-08-30  -0.0381\n",
       "     2022-08-31  -0.0075\n",
       "\n",
       "[67872 rows x 1 columns]"
      ]
     },
     "execution_count": 8,
     "metadata": {},
     "output_type": "execute_result"
    }
   ],
   "source": [
    "returns_daily = pd.DataFrame(df.loc[:,\"Returns\"]).unstack().unstack().unstack().swaplevel().loc['2020-01-01':'2022-08-31'].swaplevel().unstack().unstack().unstack()\n",
    "returns_daily"
   ]
  },
  {
   "cell_type": "markdown",
   "id": "7cc1ca2a-a613-42e4-b299-03d82f1e868c",
   "metadata": {
    "tags": []
   },
   "source": [
    "# How well do annualized average returns in 2020 predict those in 2021?"
   ]
  },
  {
   "cell_type": "code",
   "execution_count": 9,
   "id": "db10b79f-e5bd-4ba4-9884-a66315d9fc6f",
   "metadata": {},
   "outputs": [
    {
     "name": "stdout",
     "output_type": "stream",
     "text": [
      "The annualized average returns in 2020 do not predict those in 2021 very well. The differences between both years can not only be significant, but are not consistent between the different stocks. Some returns are half as small in 2021 compared to 2020, while some stay relatively the same.\n"
     ]
    },
    {
     "data": {
      "text/html": [
       "<div>\n",
       "<style scoped>\n",
       "    .dataframe tbody tr th:only-of-type {\n",
       "        vertical-align: middle;\n",
       "    }\n",
       "\n",
       "    .dataframe tbody tr th {\n",
       "        vertical-align: top;\n",
       "    }\n",
       "\n",
       "    .dataframe thead th {\n",
       "        text-align: right;\n",
       "    }\n",
       "</style>\n",
       "<table border=\"1\" class=\"dataframe\">\n",
       "  <thead>\n",
       "    <tr style=\"text-align: right;\">\n",
       "      <th></th>\n",
       "      <th>Annualized Average Returns for 2020</th>\n",
       "      <th>Annualized Average Returns for 2021</th>\n",
       "    </tr>\n",
       "  </thead>\n",
       "  <tbody>\n",
       "    <tr>\n",
       "      <th>AAPL</th>\n",
       "      <td>0.7073</td>\n",
       "      <td>0.3290</td>\n",
       "    </tr>\n",
       "    <tr>\n",
       "      <th>ABBV</th>\n",
       "      <td>0.3048</td>\n",
       "      <td>0.3014</td>\n",
       "    </tr>\n",
       "    <tr>\n",
       "      <th>ABT</th>\n",
       "      <td>0.3226</td>\n",
       "      <td>0.2892</td>\n",
       "    </tr>\n",
       "    <tr>\n",
       "      <th>ACN</th>\n",
       "      <td>0.3166</td>\n",
       "      <td>0.4939</td>\n",
       "    </tr>\n",
       "    <tr>\n",
       "      <th>ADBE</th>\n",
       "      <td>0.5290</td>\n",
       "      <td>0.1692</td>\n",
       "    </tr>\n",
       "    <tr>\n",
       "      <th>...</th>\n",
       "      <td>...</td>\n",
       "      <td>...</td>\n",
       "    </tr>\n",
       "    <tr>\n",
       "      <th>VZ</th>\n",
       "      <td>0.0285</td>\n",
       "      <td>-0.0684</td>\n",
       "    </tr>\n",
       "    <tr>\n",
       "      <th>WBA</th>\n",
       "      <td>-0.2294</td>\n",
       "      <td>0.3441</td>\n",
       "    </tr>\n",
       "    <tr>\n",
       "      <th>WFC</th>\n",
       "      <td>-0.3488</td>\n",
       "      <td>0.5340</td>\n",
       "    </tr>\n",
       "    <tr>\n",
       "      <th>WMT</th>\n",
       "      <td>0.2576</td>\n",
       "      <td>0.0335</td>\n",
       "    </tr>\n",
       "    <tr>\n",
       "      <th>XOM</th>\n",
       "      <td>-0.3085</td>\n",
       "      <td>0.4983</td>\n",
       "    </tr>\n",
       "  </tbody>\n",
       "</table>\n",
       "<p>101 rows × 2 columns</p>\n",
       "</div>"
      ],
      "text/plain": [
       "      Annualized Average Returns for 2020  Annualized Average Returns for 2021\n",
       "AAPL                               0.7073                               0.3290\n",
       "ABBV                               0.3048                               0.3014\n",
       "ABT                                0.3226                               0.2892\n",
       "ACN                                0.3166                               0.4939\n",
       "ADBE                               0.5290                               0.1692\n",
       "...                                   ...                                  ...\n",
       "VZ                                 0.0285                              -0.0684\n",
       "WBA                               -0.2294                               0.3441\n",
       "WFC                               -0.3488                               0.5340\n",
       "WMT                                0.2576                               0.0335\n",
       "XOM                               -0.3085                               0.4983\n",
       "\n",
       "[101 rows x 2 columns]"
      ]
     },
     "execution_count": 9,
     "metadata": {},
     "output_type": "execute_result"
    }
   ],
   "source": [
    "print(\"The annualized average returns in 2020 do not predict those in 2021 very well. The differences between both years can not only be significant, but are not consistent between the different stocks. Some returns are half as small in 2021 compared to 2020, while some stay relatively the same.\")\n",
    "unstack_2020 = returns_daily.unstack().unstack().unstack().swaplevel().loc['2020-01-01':'2020-12-31']\n",
    "unstack_2021 = returns_daily.unstack().unstack().unstack().swaplevel().loc['2021-01-01':'2021-12-31']\n",
    "unstack_all = returns_daily.unstack().unstack().unstack().swaplevel()\n",
    "\n",
    "returns_2020 = pd.DataFrame(unstack_2020.mean().mul(252))\n",
    "returns_2021 = pd.DataFrame(unstack_2021.mean().mul(252))\n",
    "\n",
    "returns_2020.columns = ['Annualized Average Returns for 2020']\n",
    "returns_2021.columns = ['Annualized Average Returns for 2021']\n",
    "\n",
    "pd.concat([returns_2020,returns_2021], axis = 1)\n",
    "\n"
   ]
  },
  {
   "cell_type": "markdown",
   "id": "faba8902-0e71-4996-8aeb-82798a7492d5",
   "metadata": {
    "tags": []
   },
   "source": [
    "# How well do annualized standard deviations of returns in 2020 predict those in 2021?"
   ]
  },
  {
   "cell_type": "code",
   "execution_count": 10,
   "id": "9b0f712c-9e95-497c-9f7c-02badd043d82",
   "metadata": {},
   "outputs": [
    {
     "name": "stdout",
     "output_type": "stream",
     "text": [
      "Similar to the annualized average returns, annualized standard deviations of returns in 2020 do not predict those in 2021 very well. The differences between both years are significant throughout all the stocks.\n"
     ]
    },
    {
     "data": {
      "text/html": [
       "<div>\n",
       "<style scoped>\n",
       "    .dataframe tbody tr th:only-of-type {\n",
       "        vertical-align: middle;\n",
       "    }\n",
       "\n",
       "    .dataframe tbody tr th {\n",
       "        vertical-align: top;\n",
       "    }\n",
       "\n",
       "    .dataframe thead th {\n",
       "        text-align: right;\n",
       "    }\n",
       "</style>\n",
       "<table border=\"1\" class=\"dataframe\">\n",
       "  <thead>\n",
       "    <tr style=\"text-align: right;\">\n",
       "      <th></th>\n",
       "      <th>Annualized Standard Deviations for 2020</th>\n",
       "      <th>Annualized Standard Deviations for 2021</th>\n",
       "    </tr>\n",
       "  </thead>\n",
       "  <tbody>\n",
       "    <tr>\n",
       "      <th>AAPL</th>\n",
       "      <td>0.4665</td>\n",
       "      <td>0.2510</td>\n",
       "    </tr>\n",
       "    <tr>\n",
       "      <th>ABBV</th>\n",
       "      <td>0.3488</td>\n",
       "      <td>0.2013</td>\n",
       "    </tr>\n",
       "    <tr>\n",
       "      <th>ABT</th>\n",
       "      <td>0.3922</td>\n",
       "      <td>0.2119</td>\n",
       "    </tr>\n",
       "    <tr>\n",
       "      <th>ACN</th>\n",
       "      <td>0.4171</td>\n",
       "      <td>0.1973</td>\n",
       "    </tr>\n",
       "    <tr>\n",
       "      <th>ADBE</th>\n",
       "      <td>0.4791</td>\n",
       "      <td>0.2934</td>\n",
       "    </tr>\n",
       "    <tr>\n",
       "      <th>...</th>\n",
       "      <td>...</td>\n",
       "      <td>...</td>\n",
       "    </tr>\n",
       "    <tr>\n",
       "      <th>VZ</th>\n",
       "      <td>0.2455</td>\n",
       "      <td>0.1427</td>\n",
       "    </tr>\n",
       "    <tr>\n",
       "      <th>WBA</th>\n",
       "      <td>0.4841</td>\n",
       "      <td>0.2769</td>\n",
       "    </tr>\n",
       "    <tr>\n",
       "      <th>WFC</th>\n",
       "      <td>0.6124</td>\n",
       "      <td>0.3365</td>\n",
       "    </tr>\n",
       "    <tr>\n",
       "      <th>WMT</th>\n",
       "      <td>0.3150</td>\n",
       "      <td>0.1672</td>\n",
       "    </tr>\n",
       "    <tr>\n",
       "      <th>XOM</th>\n",
       "      <td>0.5284</td>\n",
       "      <td>0.2946</td>\n",
       "    </tr>\n",
       "  </tbody>\n",
       "</table>\n",
       "<p>101 rows × 2 columns</p>\n",
       "</div>"
      ],
      "text/plain": [
       "      Annualized Standard Deviations for 2020  \\\n",
       "AAPL                                   0.4665   \n",
       "ABBV                                   0.3488   \n",
       "ABT                                    0.3922   \n",
       "ACN                                    0.4171   \n",
       "ADBE                                   0.4791   \n",
       "...                                       ...   \n",
       "VZ                                     0.2455   \n",
       "WBA                                    0.4841   \n",
       "WFC                                    0.6124   \n",
       "WMT                                    0.3150   \n",
       "XOM                                    0.5284   \n",
       "\n",
       "      Annualized Standard Deviations for 2021  \n",
       "AAPL                                   0.2510  \n",
       "ABBV                                   0.2013  \n",
       "ABT                                    0.2119  \n",
       "ACN                                    0.1973  \n",
       "ADBE                                   0.2934  \n",
       "...                                       ...  \n",
       "VZ                                     0.1427  \n",
       "WBA                                    0.2769  \n",
       "WFC                                    0.3365  \n",
       "WMT                                    0.1672  \n",
       "XOM                                    0.2946  \n",
       "\n",
       "[101 rows x 2 columns]"
      ]
     },
     "execution_count": 10,
     "metadata": {},
     "output_type": "execute_result"
    }
   ],
   "source": [
    "print(\"Similar to the annualized average returns, annualized standard deviations of returns in 2020 do not predict those in 2021 very well. The differences between both years are significant throughout all the stocks.\")\n",
    "sd_2020 = pd.DataFrame(unstack_2020.std().mul(np.sqrt(252)))\n",
    "sd_2021 = pd.DataFrame(unstack_2021.std().mul(np.sqrt(252)))\n",
    "\n",
    "sd_2020.columns = ['Annualized Standard Deviations for 2020']\n",
    "sd_2021.columns = ['Annualized Standard Deviations for 2021']\n",
    "\n",
    "pd.concat([sd_2020,sd_2021], axis = 1)"
   ]
  },
  {
   "cell_type": "markdown",
   "id": "d6a9103c-a60a-46a3-a694-14dbf5e68f33",
   "metadata": {
    "tags": []
   },
   "source": [
    "# What are the mean, median, minimum, and maximum pairwise correlations between two stocks?"
   ]
  },
  {
   "cell_type": "code",
   "execution_count": 11,
   "id": "3a86c181-8c59-4a31-b604-6693d4a98707",
   "metadata": {},
   "outputs": [],
   "source": [
    "corr = unstack_all.corr()\n",
    "corr2 = unstack_all.corr()\n",
    "np.fill_diagonal(corr2.values, np.nan)"
   ]
  },
  {
   "cell_type": "code",
   "execution_count": 12,
   "id": "d06babfd-a9ca-4fc7-a665-0df227ec4b7a",
   "metadata": {
    "tags": []
   },
   "outputs": [],
   "source": [
    "corr3 = corr.agg([\"mean\", \"median\", \"min\"]).unstack().unstack()\n",
    "corr4 = corr2.agg([\"max\"]).unstack().unstack()\n",
    "corr3[\"max\"] = corr4[\"max\"]"
   ]
  },
  {
   "cell_type": "code",
   "execution_count": 13,
   "id": "d411a18b-a252-49cc-8278-d340cc79d627",
   "metadata": {
    "tags": []
   },
   "outputs": [
    {
     "data": {
      "text/html": [
       "<div>\n",
       "<style scoped>\n",
       "    .dataframe tbody tr th:only-of-type {\n",
       "        vertical-align: middle;\n",
       "    }\n",
       "\n",
       "    .dataframe tbody tr th {\n",
       "        vertical-align: top;\n",
       "    }\n",
       "\n",
       "    .dataframe thead th {\n",
       "        text-align: right;\n",
       "    }\n",
       "</style>\n",
       "<table border=\"1\" class=\"dataframe\">\n",
       "  <thead>\n",
       "    <tr style=\"text-align: right;\">\n",
       "      <th></th>\n",
       "      <th>mean</th>\n",
       "      <th>median</th>\n",
       "      <th>min</th>\n",
       "      <th>max</th>\n",
       "    </tr>\n",
       "  </thead>\n",
       "  <tbody>\n",
       "    <tr>\n",
       "      <th>AAPL</th>\n",
       "      <td>0.5066</td>\n",
       "      <td>0.4855</td>\n",
       "      <td>0.3163</td>\n",
       "      <td>0.8098</td>\n",
       "    </tr>\n",
       "    <tr>\n",
       "      <th>ABBV</th>\n",
       "      <td>0.4277</td>\n",
       "      <td>0.4376</td>\n",
       "      <td>0.1798</td>\n",
       "      <td>0.6237</td>\n",
       "    </tr>\n",
       "    <tr>\n",
       "      <th>ABT</th>\n",
       "      <td>0.4739</td>\n",
       "      <td>0.4658</td>\n",
       "      <td>0.1880</td>\n",
       "      <td>0.7007</td>\n",
       "    </tr>\n",
       "    <tr>\n",
       "      <th>ACN</th>\n",
       "      <td>0.5762</td>\n",
       "      <td>0.5825</td>\n",
       "      <td>0.3653</td>\n",
       "      <td>0.7413</td>\n",
       "    </tr>\n",
       "    <tr>\n",
       "      <th>ADBE</th>\n",
       "      <td>0.4583</td>\n",
       "      <td>0.4382</td>\n",
       "      <td>0.1914</td>\n",
       "      <td>0.8310</td>\n",
       "    </tr>\n",
       "    <tr>\n",
       "      <th>...</th>\n",
       "      <td>...</td>\n",
       "      <td>...</td>\n",
       "      <td>...</td>\n",
       "      <td>...</td>\n",
       "    </tr>\n",
       "    <tr>\n",
       "      <th>VZ</th>\n",
       "      <td>0.4312</td>\n",
       "      <td>0.4398</td>\n",
       "      <td>0.0601</td>\n",
       "      <td>0.7176</td>\n",
       "    </tr>\n",
       "    <tr>\n",
       "      <th>WBA</th>\n",
       "      <td>0.4089</td>\n",
       "      <td>0.4013</td>\n",
       "      <td>0.1222</td>\n",
       "      <td>0.6777</td>\n",
       "    </tr>\n",
       "    <tr>\n",
       "      <th>WFC</th>\n",
       "      <td>0.5274</td>\n",
       "      <td>0.5148</td>\n",
       "      <td>0.1633</td>\n",
       "      <td>0.8797</td>\n",
       "    </tr>\n",
       "    <tr>\n",
       "      <th>WMT</th>\n",
       "      <td>0.3341</td>\n",
       "      <td>0.3190</td>\n",
       "      <td>0.1054</td>\n",
       "      <td>0.6551</td>\n",
       "    </tr>\n",
       "    <tr>\n",
       "      <th>XOM</th>\n",
       "      <td>0.4359</td>\n",
       "      <td>0.4256</td>\n",
       "      <td>0.0781</td>\n",
       "      <td>0.8656</td>\n",
       "    </tr>\n",
       "  </tbody>\n",
       "</table>\n",
       "<p>101 rows × 4 columns</p>\n",
       "</div>"
      ],
      "text/plain": [
       "       mean  median    min    max\n",
       "AAPL 0.5066  0.4855 0.3163 0.8098\n",
       "ABBV 0.4277  0.4376 0.1798 0.6237\n",
       "ABT  0.4739  0.4658 0.1880 0.7007\n",
       "ACN  0.5762  0.5825 0.3653 0.7413\n",
       "ADBE 0.4583  0.4382 0.1914 0.8310\n",
       "...     ...     ...    ...    ...\n",
       "VZ   0.4312  0.4398 0.0601 0.7176\n",
       "WBA  0.4089  0.4013 0.1222 0.6777\n",
       "WFC  0.5274  0.5148 0.1633 0.8797\n",
       "WMT  0.3341  0.3190 0.1054 0.6551\n",
       "XOM  0.4359  0.4256 0.0781 0.8656\n",
       "\n",
       "[101 rows x 4 columns]"
      ]
     },
     "execution_count": 13,
     "metadata": {},
     "output_type": "execute_result"
    }
   ],
   "source": [
    "corr3"
   ]
  },
  {
   "cell_type": "code",
   "execution_count": 14,
   "id": "04efce1b-5dc2-4972-bd67-dc8c359bbcdd",
   "metadata": {},
   "outputs": [
    {
     "name": "stdout",
     "output_type": "stream",
     "text": [
      "The two lowest outliers for the correlations are between Verizon and Tesla. These companies are very different in both product and in volatility. Verizon is a steady electric telephone company, while Tesla is an electric car company that is constantly in the news. The next two lowest correlations, the Simon Property Group and Thermo Fisher Scientific, are very different in the service they provide. Simon Property Group is a real estate investment trust, where as Thermo Fisher Scientific actually supplies products. The third lowest correlations are also between companies that serve very different demographics. Altria Group is a tobacco company that serves an older demographic, while Netflix is an entertainment company that serves a younger demographic.\n"
     ]
    },
    {
     "data": {
      "text/html": [
       "<div>\n",
       "<style scoped>\n",
       "    .dataframe tbody tr th:only-of-type {\n",
       "        vertical-align: middle;\n",
       "    }\n",
       "\n",
       "    .dataframe tbody tr th {\n",
       "        vertical-align: top;\n",
       "    }\n",
       "\n",
       "    .dataframe thead th {\n",
       "        text-align: right;\n",
       "    }\n",
       "</style>\n",
       "<table border=\"1\" class=\"dataframe\">\n",
       "  <thead>\n",
       "    <tr style=\"text-align: right;\">\n",
       "      <th></th>\n",
       "      <th>min</th>\n",
       "    </tr>\n",
       "  </thead>\n",
       "  <tbody>\n",
       "    <tr>\n",
       "      <th>VZ</th>\n",
       "      <td>0.0601</td>\n",
       "    </tr>\n",
       "    <tr>\n",
       "      <th>TSLA</th>\n",
       "      <td>0.0601</td>\n",
       "    </tr>\n",
       "    <tr>\n",
       "      <th>SPG</th>\n",
       "      <td>0.0729</td>\n",
       "    </tr>\n",
       "    <tr>\n",
       "      <th>TMO</th>\n",
       "      <td>0.0729</td>\n",
       "    </tr>\n",
       "    <tr>\n",
       "      <th>MO</th>\n",
       "      <td>0.0781</td>\n",
       "    </tr>\n",
       "    <tr>\n",
       "      <th>NFLX</th>\n",
       "      <td>0.0781</td>\n",
       "    </tr>\n",
       "  </tbody>\n",
       "</table>\n",
       "</div>"
      ],
      "text/plain": [
       "        min\n",
       "VZ   0.0601\n",
       "TSLA 0.0601\n",
       "SPG  0.0729\n",
       "TMO  0.0729\n",
       "MO   0.0781\n",
       "NFLX 0.0781"
      ]
     },
     "execution_count": 14,
     "metadata": {},
     "output_type": "execute_result"
    }
   ],
   "source": [
    "print(\"The two lowest outliers for the correlations are between Verizon and Tesla. These companies are very different in both product and in volatility. Verizon is a steady electric telephone company, while Tesla is an electric car company that is constantly in the news. The next two lowest correlations, the Simon Property Group and Thermo Fisher Scientific, are very different in the service they provide. Simon Property Group is a real estate investment trust, where as Thermo Fisher Scientific actually supplies products. The third lowest correlations are also between companies that serve very different demographics. Altria Group is a tobacco company that serves an older demographic, while Netflix is an entertainment company that serves a younger demographic.\")\n",
    "outliers_min = corr3.sort_values(\"min\").head(6)\n",
    "outliers_min[[\"min\"]]"
   ]
  },
  {
   "cell_type": "code",
   "execution_count": 15,
   "id": "d908905e-0899-4924-8232-0629147f3418",
   "metadata": {},
   "outputs": [
    {
     "name": "stdout",
     "output_type": "stream",
     "text": [
      "The two highest outliers for the correlations are between GOOG and GOOGL as they are simply different classes of Aplhabet Inc. The next two outliers are between Bank of America and JP Morgan, both major United States investment major banks. The following two largest outliers are Visa and MasterCard, both major credit card companies.\n"
     ]
    },
    {
     "data": {
      "text/html": [
       "<div>\n",
       "<style scoped>\n",
       "    .dataframe tbody tr th:only-of-type {\n",
       "        vertical-align: middle;\n",
       "    }\n",
       "\n",
       "    .dataframe tbody tr th {\n",
       "        vertical-align: top;\n",
       "    }\n",
       "\n",
       "    .dataframe thead th {\n",
       "        text-align: right;\n",
       "    }\n",
       "</style>\n",
       "<table border=\"1\" class=\"dataframe\">\n",
       "  <thead>\n",
       "    <tr style=\"text-align: right;\">\n",
       "      <th></th>\n",
       "      <th>max</th>\n",
       "    </tr>\n",
       "  </thead>\n",
       "  <tbody>\n",
       "    <tr>\n",
       "      <th>GOOG</th>\n",
       "      <td>0.9937</td>\n",
       "    </tr>\n",
       "    <tr>\n",
       "      <th>GOOGL</th>\n",
       "      <td>0.9937</td>\n",
       "    </tr>\n",
       "    <tr>\n",
       "      <th>BAC</th>\n",
       "      <td>0.9377</td>\n",
       "    </tr>\n",
       "    <tr>\n",
       "      <th>JPM</th>\n",
       "      <td>0.9377</td>\n",
       "    </tr>\n",
       "    <tr>\n",
       "      <th>V</th>\n",
       "      <td>0.9243</td>\n",
       "    </tr>\n",
       "    <tr>\n",
       "      <th>MA</th>\n",
       "      <td>0.9243</td>\n",
       "    </tr>\n",
       "  </tbody>\n",
       "</table>\n",
       "</div>"
      ],
      "text/plain": [
       "         max\n",
       "GOOG  0.9937\n",
       "GOOGL 0.9937\n",
       "BAC   0.9377\n",
       "JPM   0.9377\n",
       "V     0.9243\n",
       "MA    0.9243"
      ]
     },
     "execution_count": 15,
     "metadata": {},
     "output_type": "execute_result"
    }
   ],
   "source": [
    "print(\"The two highest outliers for the correlations are between GOOG and GOOGL as they are simply different classes of Aplhabet Inc. The next two outliers are between Bank of America and JP Morgan, both major United States investment major banks. The following two largest outliers are Visa and MasterCard, both major credit card companies.\")\n",
    "outliers_max = corr3.sort_values(\"max\", ascending = False).head(6)\n",
    "outliers_max[[\"max\"]]"
   ]
  },
  {
   "cell_type": "markdown",
   "id": "3faf08b1-5068-44ef-8088-eb1ecec24063",
   "metadata": {},
   "source": [
    "# Plot annualized average returns versus annualized standard deviations of returns."
   ]
  },
  {
   "cell_type": "code",
   "execution_count": 16,
   "id": "76d9a908-32dc-4b51-ba2b-852661a701eb",
   "metadata": {
    "tags": []
   },
   "outputs": [],
   "source": [
    "returns_all = pd.DataFrame(unstack_all.mean().mul(252)).mul(100)\n",
    "sd_all = pd.DataFrame(unstack_all.std().mul(np.sqrt(252))).mul(100)"
   ]
  },
  {
   "cell_type": "code",
   "execution_count": 17,
   "id": "194eb298-4fef-47fb-9243-2f9650e4462e",
   "metadata": {},
   "outputs": [
    {
     "data": {
      "text/plain": [
       "Text(0.5, 1.0, 'Returns vs Standard Deviation Jan 2020 - Aug 2022')"
      ]
     },
     "execution_count": 17,
     "metadata": {},
     "output_type": "execute_result"
    },
    {
     "data": {
      "image/png": "[encoded data removed]",
      "text/plain": [
       "<Figure size 432x288 with 1 Axes>"
      ]
     },
     "metadata": {
      "filenames": {
       "image/png": "/home/richard/Dropbox/Documents/Teaching/FINA 4380 - 2022 Fall/Notebooks/_build/jupyter_execute/Projects/project-1/submissions/project6_57159_17619922_Project-1_21_1.png"
      },
      "needs_background": "light"
     },
     "output_type": "display_data"
    }
   ],
   "source": [
    "plt.scatter(sd_all, returns_all)\n",
    "plt.xlabel(\"Standard Deviation (%)\")\n",
    "plt.ylabel(\"Returns (%)\")\n",
    "plt.title(\"Returns vs Standard Deviation Jan 2020 - Aug 2022\")"
   ]
  },
  {
   "cell_type": "code",
   "execution_count": 18,
   "id": "c1045c7f-a354-406a-aa11-ffca5ce73294",
   "metadata": {},
   "outputs": [
    {
     "name": "stdout",
     "output_type": "stream",
     "text": [
      "The largest outliers for returns were Tesla, NVIDIA, Eli Lilly and Co, Advanced Micro Devices, and ConocoPhillips, which are large technology, pharmaceutical and oil companies that have been performing well.\n"
     ]
    },
    {
     "data": {
      "text/html": [
       "<div>\n",
       "<style scoped>\n",
       "    .dataframe tbody tr th:only-of-type {\n",
       "        vertical-align: middle;\n",
       "    }\n",
       "\n",
       "    .dataframe tbody tr th {\n",
       "        vertical-align: top;\n",
       "    }\n",
       "\n",
       "    .dataframe thead th {\n",
       "        text-align: right;\n",
       "    }\n",
       "</style>\n",
       "<table border=\"1\" class=\"dataframe\">\n",
       "  <thead>\n",
       "    <tr style=\"text-align: right;\">\n",
       "      <th></th>\n",
       "      <th>Top Returns</th>\n",
       "    </tr>\n",
       "  </thead>\n",
       "  <tbody>\n",
       "    <tr>\n",
       "      <th>TSLA</th>\n",
       "      <td>112.4892</td>\n",
       "    </tr>\n",
       "    <tr>\n",
       "      <th>NVDA</th>\n",
       "      <td>50.8194</td>\n",
       "    </tr>\n",
       "    <tr>\n",
       "      <th>LLY</th>\n",
       "      <td>38.8965</td>\n",
       "    </tr>\n",
       "    <tr>\n",
       "      <th>AMD</th>\n",
       "      <td>38.3120</td>\n",
       "    </tr>\n",
       "    <tr>\n",
       "      <th>COP</th>\n",
       "      <td>37.8884</td>\n",
       "    </tr>\n",
       "  </tbody>\n",
       "</table>\n",
       "</div>"
      ],
      "text/plain": [
       "      Top Returns\n",
       "TSLA     112.4892\n",
       "NVDA      50.8194\n",
       "LLY       38.8965\n",
       "AMD       38.3120\n",
       "COP       37.8884"
      ]
     },
     "execution_count": 18,
     "metadata": {},
     "output_type": "execute_result"
    }
   ],
   "source": [
    "print(\"The largest outliers for returns were Tesla, NVIDIA, Eli Lilly and Co, Advanced Micro Devices, and ConocoPhillips, which are large technology, pharmaceutical and oil companies that have been performing well.\")\n",
    "outliers_returns_max = returns_all.sort_values(0, ascending = False)\n",
    "outliers_returns_max.columns=[\"Top Returns\"]\n",
    "outliers_returns_max.head(5)"
   ]
  },
  {
   "cell_type": "code",
   "execution_count": 19,
   "id": "7f464cb4-e4f4-41a7-9c70-5ca6a2b83135",
   "metadata": {},
   "outputs": [
    {
     "name": "stdout",
     "output_type": "stream",
     "text": [
      "the largest outliers for standard deviation were for Tesla, Boeing Co, Simon Propery Group Inc,NVIDIA, and Advanced Micro Devices, which are large technology, airline and real estate companies with large volatilities based on the economy. \n"
     ]
    },
    {
     "data": {
      "text/html": [
       "<div>\n",
       "<style scoped>\n",
       "    .dataframe tbody tr th:only-of-type {\n",
       "        vertical-align: middle;\n",
       "    }\n",
       "\n",
       "    .dataframe tbody tr th {\n",
       "        vertical-align: top;\n",
       "    }\n",
       "\n",
       "    .dataframe thead th {\n",
       "        text-align: right;\n",
       "    }\n",
       "</style>\n",
       "<table border=\"1\" class=\"dataframe\">\n",
       "  <thead>\n",
       "    <tr style=\"text-align: right;\">\n",
       "      <th></th>\n",
       "      <th>Top Standard Deviation</th>\n",
       "    </tr>\n",
       "  </thead>\n",
       "  <tbody>\n",
       "    <tr>\n",
       "      <th>TSLA</th>\n",
       "      <td>72.8124</td>\n",
       "    </tr>\n",
       "    <tr>\n",
       "      <th>BA</th>\n",
       "      <td>62.7044</td>\n",
       "    </tr>\n",
       "    <tr>\n",
       "      <th>SPG</th>\n",
       "      <td>61.6386</td>\n",
       "    </tr>\n",
       "    <tr>\n",
       "      <th>NVDA</th>\n",
       "      <td>55.4198</td>\n",
       "    </tr>\n",
       "    <tr>\n",
       "      <th>AMD</th>\n",
       "      <td>55.3065</td>\n",
       "    </tr>\n",
       "  </tbody>\n",
       "</table>\n",
       "</div>"
      ],
      "text/plain": [
       "      Top Standard Deviation\n",
       "TSLA                 72.8124\n",
       "BA                   62.7044\n",
       "SPG                  61.6386\n",
       "NVDA                 55.4198\n",
       "AMD                  55.3065"
      ]
     },
     "execution_count": 19,
     "metadata": {},
     "output_type": "execute_result"
    }
   ],
   "source": [
    "print(\"the largest outliers for standard deviation were for Tesla, Boeing Co, Simon Propery Group Inc,NVIDIA, and Advanced Micro Devices, which are large technology, airline and real estate companies with large volatilities based on the economy. \")\n",
    "outliers_sd_max = sd_all.sort_values(0, ascending = False)\n",
    "outliers_sd_max.columns=[\"Top Standard Deviation\"]\n",
    "outliers_sd_max.head(5)"
   ]
  },
  {
   "cell_type": "code",
   "execution_count": 20,
   "id": "2ae81678-d5ea-4a58-ac00-10adbbc1cedd",
   "metadata": {},
   "outputs": [
    {
     "name": "stdout",
     "output_type": "stream",
     "text": [
      "The lowest outliers for returns was for Intel, Walgreens Boots Alliance Inc, Verizon, Boeing Co, and AT&T, all companies that have not been performing well.\n"
     ]
    },
    {
     "data": {
      "text/html": [
       "<div>\n",
       "<style scoped>\n",
       "    .dataframe tbody tr th:only-of-type {\n",
       "        vertical-align: middle;\n",
       "    }\n",
       "\n",
       "    .dataframe tbody tr th {\n",
       "        vertical-align: top;\n",
       "    }\n",
       "\n",
       "    .dataframe thead th {\n",
       "        text-align: right;\n",
       "    }\n",
       "</style>\n",
       "<table border=\"1\" class=\"dataframe\">\n",
       "  <thead>\n",
       "    <tr style=\"text-align: right;\">\n",
       "      <th></th>\n",
       "      <th>Bottom Returns</th>\n",
       "    </tr>\n",
       "  </thead>\n",
       "  <tbody>\n",
       "    <tr>\n",
       "      <th>INTC</th>\n",
       "      <td>-11.7462</td>\n",
       "    </tr>\n",
       "    <tr>\n",
       "      <th>WBA</th>\n",
       "      <td>-8.3692</td>\n",
       "    </tr>\n",
       "    <tr>\n",
       "      <th>VZ</th>\n",
       "      <td>-7.6520</td>\n",
       "    </tr>\n",
       "    <tr>\n",
       "      <th>BA</th>\n",
       "      <td>-6.7236</td>\n",
       "    </tr>\n",
       "    <tr>\n",
       "      <th>T</th>\n",
       "      <td>-6.5549</td>\n",
       "    </tr>\n",
       "  </tbody>\n",
       "</table>\n",
       "</div>"
      ],
      "text/plain": [
       "      Bottom Returns\n",
       "INTC        -11.7462\n",
       "WBA          -8.3692\n",
       "VZ           -7.6520\n",
       "BA           -6.7236\n",
       "T            -6.5549"
      ]
     },
     "execution_count": 20,
     "metadata": {},
     "output_type": "execute_result"
    }
   ],
   "source": [
    "print(\"The lowest outliers for returns was for Intel, Walgreens Boots Alliance Inc, Verizon, Boeing Co, and AT&T, all companies that have not been performing well.\")\n",
    "outliers_returns_min = returns_all.sort_values(0)\n",
    "outliers_returns_min.columns=[\"Bottom Returns\"]\n",
    "outliers_returns_min.head(5)"
   ]
  },
  {
   "cell_type": "code",
   "execution_count": 21,
   "id": "5b0a0547-930d-4d39-aea3-7ce893b4d15b",
   "metadata": {},
   "outputs": [
    {
     "name": "stdout",
     "output_type": "stream",
     "text": [
      "The lowest outliers for standard deviation were for Verizon,Johnson and Johnson, Bristol-Myers Squibb Co, Colgate, and Proctor and Gamble, all companies with low volatility relative to the performance of the economy.\n"
     ]
    },
    {
     "data": {
      "text/html": [
       "<div>\n",
       "<style scoped>\n",
       "    .dataframe tbody tr th:only-of-type {\n",
       "        vertical-align: middle;\n",
       "    }\n",
       "\n",
       "    .dataframe tbody tr th {\n",
       "        vertical-align: top;\n",
       "    }\n",
       "\n",
       "    .dataframe thead th {\n",
       "        text-align: right;\n",
       "    }\n",
       "</style>\n",
       "<table border=\"1\" class=\"dataframe\">\n",
       "  <thead>\n",
       "    <tr style=\"text-align: right;\">\n",
       "      <th></th>\n",
       "      <th>Bottom Standard Deviation</th>\n",
       "    </tr>\n",
       "  </thead>\n",
       "  <tbody>\n",
       "    <tr>\n",
       "      <th>VZ</th>\n",
       "      <td>20.5963</td>\n",
       "    </tr>\n",
       "    <tr>\n",
       "      <th>JNJ</th>\n",
       "      <td>22.4284</td>\n",
       "    </tr>\n",
       "    <tr>\n",
       "      <th>BMY</th>\n",
       "      <td>23.5012</td>\n",
       "    </tr>\n",
       "    <tr>\n",
       "      <th>CL</th>\n",
       "      <td>23.9456</td>\n",
       "    </tr>\n",
       "    <tr>\n",
       "      <th>PG</th>\n",
       "      <td>24.7368</td>\n",
       "    </tr>\n",
       "  </tbody>\n",
       "</table>\n",
       "</div>"
      ],
      "text/plain": [
       "     Bottom Standard Deviation\n",
       "VZ                     20.5963\n",
       "JNJ                    22.4284\n",
       "BMY                    23.5012\n",
       "CL                     23.9456\n",
       "PG                     24.7368"
      ]
     },
     "execution_count": 21,
     "metadata": {},
     "output_type": "execute_result"
    }
   ],
   "source": [
    "print(\"The lowest outliers for standard deviation were for Verizon,Johnson and Johnson, Bristol-Myers Squibb Co, Colgate, and Proctor and Gamble, all companies with low volatility relative to the performance of the economy.\")\n",
    "outliers_sd_min = sd_all.sort_values(0)\n",
    "outliers_sd_min.columns=[\"Bottom Standard Deviation\"]\n",
    "outliers_sd_min.head(5)"
   ]
  },
  {
   "cell_type": "markdown",
   "id": "eb963d91-8f91-4bc8-8856-7b61121ef4e0",
   "metadata": {},
   "source": [
    "# Repeat the exercise above (question 5) with 100 random portfolios of 2, 5, 10, and 25 stocks."
   ]
  },
  {
   "cell_type": "code",
   "execution_count": 22,
   "id": "38b41725-09db-4c61-b59d-af87fbae82d0",
   "metadata": {
    "tags": []
   },
   "outputs": [],
   "source": [
    "np.random.seed(42)"
   ]
  },
  {
   "cell_type": "code",
   "execution_count": 23,
   "id": "a972403a-950b-4fb3-962f-8e8da404ada0",
   "metadata": {
    "tags": []
   },
   "outputs": [],
   "source": [
    "sample_2_returns = []\n",
    "for i in range(100):\n",
    "    sample_2_returns.append(pd.DataFrame(unstack_all.unstack().unstack().unstack().sample(2).mean(axis = 1).mul(252)).mul(100))\n"
   ]
  },
  {
   "cell_type": "code",
   "execution_count": 24,
   "id": "3f8883e8-b92f-48ac-83a5-9a4e6f638d76",
   "metadata": {
    "tags": []
   },
   "outputs": [],
   "source": [
    "sample_2_sd = []\n",
    "for i in range(100):\n",
    "    sample_2_sd.append(pd.DataFrame(unstack_all.unstack().unstack().unstack().sample(2).std(axis = 1).mul(np.sqrt(252))).mul(100))"
   ]
  },
  {
   "cell_type": "code",
   "execution_count": 25,
   "id": "28243561-a905-4c2a-a22d-2d2c8f69825b",
   "metadata": {},
   "outputs": [
    {
     "data": {
      "text/plain": [
       "Text(0.5, 1.0, 'Returns vs Standard Deviation 100 2-Ticker Portfolios Jan 2020 - Aug 2022')"
      ]
     },
     "execution_count": 25,
     "metadata": {},
     "output_type": "execute_result"
    },
    {
     "data": {
      "image/png": "[encoded data removed]",
      "text/plain": [
       "<Figure size 432x288 with 1 Axes>"
      ]
     },
     "metadata": {
      "filenames": {
       "image/png": "/home/richard/Dropbox/Documents/Teaching/FINA 4380 - 2022 Fall/Notebooks/_build/jupyter_execute/Projects/project-1/submissions/project6_57159_17619922_Project-1_30_1.png"
      },
      "needs_background": "light"
     },
     "output_type": "display_data"
    }
   ],
   "source": [
    "plt.scatter(sample_2_sd, sample_2_returns)\n",
    "plt.xlabel(\"Standard Deviation (%)\")\n",
    "plt.ylabel(\"Returns (%)\")\n",
    "plt.title(\"Returns vs Standard Deviation 100 2-Ticker Portfolios Jan 2020 - Aug 2022\")"
   ]
  },
  {
   "cell_type": "code",
   "execution_count": 26,
   "id": "f7ea4dde-bdc1-47e7-8ca0-8776bc1c0265",
   "metadata": {},
   "outputs": [],
   "source": [
    "sample_5_returns = []\n",
    "for i in range(100):\n",
    "    sample_5_returns.append(pd.DataFrame(unstack_all.unstack().unstack().unstack().sample(5).mean(axis=1).mul(252)).mul(100))"
   ]
  },
  {
   "cell_type": "code",
   "execution_count": 27,
   "id": "2956aca2-3afc-4f58-9014-c09322aa3fd5",
   "metadata": {},
   "outputs": [],
   "source": [
    "sample_5_sd = []\n",
    "for i in range(100):\n",
    "    sample_5_sd.append(pd.DataFrame(unstack_all.unstack().unstack().unstack().sample(5).std(axis = 1).mul(np.sqrt(252))).mul(100))"
   ]
  },
  {
   "cell_type": "code",
   "execution_count": 28,
   "id": "df2d655b-75a9-42c6-a927-ff61235d6a94",
   "metadata": {},
   "outputs": [
    {
     "data": {
      "text/plain": [
       "Text(0.5, 1.0, 'Returns vs Standard Deviation 100 5-Ticker Portfolios Jan 2020 - Aug 2022')"
      ]
     },
     "execution_count": 28,
     "metadata": {},
     "output_type": "execute_result"
    },
    {
     "data": {
      "image/png": "[encoded data removed]",
      "text/plain": [
       "<Figure size 432x288 with 1 Axes>"
      ]
     },
     "metadata": {
      "filenames": {
       "image/png": "/home/richard/Dropbox/Documents/Teaching/FINA 4380 - 2022 Fall/Notebooks/_build/jupyter_execute/Projects/project-1/submissions/project6_57159_17619922_Project-1_33_1.png"
      },
      "needs_background": "light"
     },
     "output_type": "display_data"
    }
   ],
   "source": [
    "plt.scatter(sample_5_sd, sample_5_returns)\n",
    "plt.xlabel(\"Standard Deviation (%)\")\n",
    "plt.ylabel(\"Returns (%)\")\n",
    "plt.title(\"Returns vs Standard Deviation 100 5-Ticker Portfolios Jan 2020 - Aug 2022\")"
   ]
  },
  {
   "cell_type": "code",
   "execution_count": 29,
   "id": "23943e7a-a6bc-42cb-97a6-410f1c8f6eaf",
   "metadata": {},
   "outputs": [],
   "source": [
    "sample_10_returns = []\n",
    "for i in range(100):\n",
    "    sample_10_returns.append(pd.DataFrame(unstack_all.unstack().unstack().unstack().sample(10).mean(axis=1).mul(252)).mul(100))"
   ]
  },
  {
   "cell_type": "code",
   "execution_count": 30,
   "id": "34c4de71-7bf1-4f83-a4b1-78596cc6aea4",
   "metadata": {},
   "outputs": [],
   "source": [
    "sample_10_sd = []\n",
    "for i in range(100):\n",
    "    sample_10_sd.append(pd.DataFrame(unstack_all.unstack().unstack().unstack().sample(10).std(axis = 1).mul(np.sqrt(252))).mul(100))"
   ]
  },
  {
   "cell_type": "code",
   "execution_count": 31,
   "id": "f6078ee8-6f61-4488-8ad2-dc7bf234ca1c",
   "metadata": {},
   "outputs": [
    {
     "data": {
      "text/plain": [
       "Text(0.5, 1.0, 'Returns vs Standard Deviation 100 10-Ticker Portfolios Jan 2020 - Aug 2022')"
      ]
     },
     "execution_count": 31,
     "metadata": {},
     "output_type": "execute_result"
    },
    {
     "data": {
      "image/png": "[encoded data removed]",
      "text/plain": [
       "<Figure size 432x288 with 1 Axes>"
      ]
     },
     "metadata": {
      "filenames": {
       "image/png": "/home/richard/Dropbox/Documents/Teaching/FINA 4380 - 2022 Fall/Notebooks/_build/jupyter_execute/Projects/project-1/submissions/project6_57159_17619922_Project-1_36_1.png"
      },
      "needs_background": "light"
     },
     "output_type": "display_data"
    }
   ],
   "source": [
    "plt.scatter(sample_10_sd, sample_10_returns)\n",
    "plt.xlabel(\"Standard Deviation (%)\")\n",
    "plt.ylabel(\"Returns (%)\")\n",
    "plt.title(\"Returns vs Standard Deviation 100 10-Ticker Portfolios Jan 2020 - Aug 2022\")"
   ]
  },
  {
   "cell_type": "code",
   "execution_count": 32,
   "id": "c0b5ef34-59f3-4790-a9ff-bed081e8e460",
   "metadata": {},
   "outputs": [],
   "source": [
    "sample_25_returns = []\n",
    "for i in range(100):\n",
    "    sample_25_returns.append(pd.DataFrame(unstack_all.unstack().unstack().unstack().sample(25).mean(axis=1).mul(252)).mul(100))"
   ]
  },
  {
   "cell_type": "code",
   "execution_count": 33,
   "id": "23e40e8f-b2df-4ac2-aa36-b0ac5cff15a6",
   "metadata": {},
   "outputs": [],
   "source": [
    "sample_25_sd = []\n",
    "for i in range(100):\n",
    "    sample_25_sd.append(pd.DataFrame(unstack_all.unstack().unstack().unstack().sample(25).std(axis = 1).mul(np.sqrt(252))).mul(100))"
   ]
  },
  {
   "cell_type": "code",
   "execution_count": 34,
   "id": "85537c89-b0a0-49c9-8bf1-3d0250f99ce9",
   "metadata": {},
   "outputs": [
    {
     "data": {
      "text/plain": [
       "Text(0.5, 1.0, 'Returns vs Standard Deviation 100 25-Ticker Portfolios Jan 2020 - Aug 2022')"
      ]
     },
     "execution_count": 34,
     "metadata": {},
     "output_type": "execute_result"
    },
    {
     "data": {
      "image/png": "[encoded data removed]",
      "text/plain": [
       "<Figure size 432x288 with 1 Axes>"
      ]
     },
     "metadata": {
      "filenames": {
       "image/png": "/home/richard/Dropbox/Documents/Teaching/FINA 4380 - 2022 Fall/Notebooks/_build/jupyter_execute/Projects/project-1/submissions/project6_57159_17619922_Project-1_39_1.png"
      },
      "needs_background": "light"
     },
     "output_type": "display_data"
    }
   ],
   "source": [
    "plt.scatter(sample_25_sd, sample_25_returns)\n",
    "plt.xlabel(\"Standard Deviation (%)\")\n",
    "plt.ylabel(\"Returns (%)\")\n",
    "plt.title(\"Returns vs Standard Deviation 100 25-Ticker Portfolios Jan 2020 - Aug 2022\")"
   ]
  }
 ],
 "metadata": {
  "author": "Richard Herron",
  "kernelspec": {
   "display_name": "Python 3 (ipykernel)",
   "language": "python",
   "name": "python3"
  },
  "language_info": {
   "codemirror_mode": {
    "name": "ipython",
    "version": 3
   },
   "file_extension": ".py",
   "mimetype": "text/x-python",
   "name": "python",
   "nbconvert_exporter": "python",
   "pygments_lexer": "ipython3",
   "version": "3.10.6"
  },
  "title": "FINA 4380 - Project 1",
  "toc-autonumbering": true
 },
 "nbformat": 4,
 "nbformat_minor": 5
}