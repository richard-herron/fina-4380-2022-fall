{
 "cells": [
  {
   "cell_type": "code",
   "execution_count": 1,
   "id": "fe25d976-f34e-4f24-a240-4e1a7a211dad",
   "metadata": {
    "tags": []
   },
   "outputs": [],
   "source": [
    "import pandas as pd\n",
    "import numpy as np\n",
    "import matplotlib.pyplot as plt"
   ]
  },
  {
   "cell_type": "code",
   "execution_count": 2,
   "id": "5d3c23b8-0e36-44a7-bdb8-ab53c6da6130",
   "metadata": {},
   "outputs": [],
   "source": [
    "pd.set_option('display.float_format', '{:.4f}'.format)\n",
    "%precision 4\n",
    "plt.rcParams['figure.dpi'] = 150"
   ]
  },
  {
   "cell_type": "code",
   "execution_count": 3,
   "id": "1420a43e-faf7-4551-9e8b-e71e2df7b7d8",
   "metadata": {},
   "outputs": [],
   "source": [
    "import yfinance as yf\n",
    "import requests_cache\n",
    "session = requests_cache.CachedSession(expire_after='1D')"
   ]
  },
  {
   "cell_type": "markdown",
   "id": "d83b1095-c5b6-41bf-b86a-a7ba93b16a7c",
   "metadata": {},
   "source": [
    "# 1. Calculate daily returns for the S&P 100 stocks."
   ]
  },
  {
   "cell_type": "code",
   "execution_count": 4,
   "id": "500dc085-2053-43ca-b58a-b9995b27a0c7",
   "metadata": {},
   "outputs": [
    {
     "name": "stdout",
     "output_type": "stream",
     "text": [
      "\r",
      "[                       0%                       ]"
     ]
    },
    {
     "name": "stdout",
     "output_type": "stream",
     "text": [
      "\r",
      "[*                      2%                       ]  2 of 101 completed"
     ]
    },
    {
     "name": "stdout",
     "output_type": "stream",
     "text": [
      "\r",
      "[*                      3%                       ]  3 of 101 completed"
     ]
    },
    {
     "name": "stdout",
     "output_type": "stream",
     "text": [
      "\r",
      "[**                     4%                       ]  4 of 101 completed"
     ]
    },
    {
     "name": "stdout",
     "output_type": "stream",
     "text": [
      "\r",
      "[**                     5%                       ]  5 of 101 completed"
     ]
    },
    {
     "name": "stdout",
     "output_type": "stream",
     "text": [
      "\r",
      "[***                    6%                       ]  6 of 101 completed"
     ]
    },
    {
     "name": "stdout",
     "output_type": "stream",
     "text": [
      "\r",
      "[***                    7%                       ]  7 of 101 completed"
     ]
    },
    {
     "name": "stdout",
     "output_type": "stream",
     "text": [
      "\r",
      "[****                   8%                       ]  8 of 101 completed"
     ]
    },
    {
     "name": "stdout",
     "output_type": "stream",
     "text": [
      "\r",
      "[****                   9%                       ]  9 of 101 completed"
     ]
    },
    {
     "name": "stdout",
     "output_type": "stream",
     "text": [
      "\r",
      "[*****                 10%                       ]  10 of 101 completed"
     ]
    },
    {
     "name": "stdout",
     "output_type": "stream",
     "text": [
      "\r",
      "[*****                 11%                       ]  11 of 101 completed"
     ]
    },
    {
     "name": "stdout",
     "output_type": "stream",
     "text": [
      "\r",
      "[******                12%                       ]  12 of 101 completed"
     ]
    },
    {
     "name": "stdout",
     "output_type": "stream",
     "text": [
      "\r",
      "[******                13%                       ]  13 of 101 completed"
     ]
    },
    {
     "name": "stdout",
     "output_type": "stream",
     "text": [
      "\r",
      "[*******               14%                       ]  14 of 101 completed"
     ]
    },
    {
     "name": "stdout",
     "output_type": "stream",
     "text": [
      "\r",
      "[*******               15%                       ]  15 of 101 completed\r",
      "[*******               15%                       ]  15 of 101 completed\r",
      "[*******               15%                       ]  15 of 101 completed"
     ]
    },
    {
     "name": "stdout",
     "output_type": "stream",
     "text": [
      "\r",
      "[*********             18%                       ]  18 of 101 completed"
     ]
    },
    {
     "name": "stdout",
     "output_type": "stream",
     "text": [
      "\r",
      "[*********             19%                       ]  19 of 101 completed"
     ]
    },
    {
     "name": "stdout",
     "output_type": "stream",
     "text": [
      "\r",
      "[**********            20%                       ]  20 of 101 completed"
     ]
    },
    {
     "name": "stdout",
     "output_type": "stream",
     "text": [
      "\r",
      "[**********            21%                       ]  21 of 101 completed"
     ]
    },
    {
     "name": "stdout",
     "output_type": "stream",
     "text": [
      "\r",
      "[***********           22%                       ]  22 of 101 completed"
     ]
    },
    {
     "name": "stdout",
     "output_type": "stream",
     "text": [
      "\r",
      "[***********           23%                       ]  23 of 101 completed"
     ]
    },
    {
     "name": "stdout",
     "output_type": "stream",
     "text": [
      "\r",
      "[************          24%                       ]  24 of 101 completed"
     ]
    },
    {
     "name": "stdout",
     "output_type": "stream",
     "text": [
      "\r",
      "[************          25%                       ]  25 of 101 completed"
     ]
    },
    {
     "name": "stdout",
     "output_type": "stream",
     "text": [
      "\r",
      "[************          26%                       ]  26 of 101 completed"
     ]
    },
    {
     "name": "stdout",
     "output_type": "stream",
     "text": [
      "\r",
      "[*************         27%                       ]  27 of 101 completed"
     ]
    },
    {
     "name": "stdout",
     "output_type": "stream",
     "text": [
      "\r",
      "[*************         28%                       ]  28 of 101 completed"
     ]
    },
    {
     "name": "stdout",
     "output_type": "stream",
     "text": [
      "\r",
      "[**************        29%                       ]  29 of 101 completed"
     ]
    },
    {
     "name": "stdout",
     "output_type": "stream",
     "text": [
      "\r",
      "[**************        30%                       ]  30 of 101 completed"
     ]
    },
    {
     "name": "stdout",
     "output_type": "stream",
     "text": [
      "\r",
      "[***************       31%                       ]  31 of 101 completed"
     ]
    },
    {
     "name": "stdout",
     "output_type": "stream",
     "text": [
      "\r",
      "[***************       32%                       ]  32 of 101 completed"
     ]
    },
    {
     "name": "stdout",
     "output_type": "stream",
     "text": [
      "\r",
      "[****************      33%                       ]  33 of 101 completed"
     ]
    },
    {
     "name": "stdout",
     "output_type": "stream",
     "text": [
      "\r",
      "[****************      34%                       ]  34 of 101 completed"
     ]
    },
    {
     "name": "stdout",
     "output_type": "stream",
     "text": [
      "\r",
      "[*****************     35%                       ]  35 of 101 completed"
     ]
    },
    {
     "name": "stdout",
     "output_type": "stream",
     "text": [
      "\r",
      "[*****************     36%                       ]  36 of 101 completed"
     ]
    },
    {
     "name": "stdout",
     "output_type": "stream",
     "text": [
      "\r",
      "[******************    37%                       ]  37 of 101 completed"
     ]
    },
    {
     "name": "stdout",
     "output_type": "stream",
     "text": [
      "\r",
      "[******************    38%                       ]  38 of 101 completed"
     ]
    },
    {
     "name": "stdout",
     "output_type": "stream",
     "text": [
      "\r",
      "[*******************   39%                       ]  39 of 101 completed"
     ]
    },
    {
     "name": "stdout",
     "output_type": "stream",
     "text": [
      "\r",
      "[*******************   40%                       ]  40 of 101 completed"
     ]
    },
    {
     "name": "stdout",
     "output_type": "stream",
     "text": [
      "\r",
      "[********************  41%                       ]  41 of 101 completed"
     ]
    },
    {
     "name": "stdout",
     "output_type": "stream",
     "text": [
      "\r",
      "[********************  42%                       ]  42 of 101 completed"
     ]
    },
    {
     "name": "stdout",
     "output_type": "stream",
     "text": [
      "\r",
      "[********************* 43%                       ]  43 of 101 completed"
     ]
    },
    {
     "name": "stdout",
     "output_type": "stream",
     "text": [
      "\r",
      "[********************* 44%                       ]  44 of 101 completed"
     ]
    },
    {
     "name": "stdout",
     "output_type": "stream",
     "text": [
      "\r",
      "[**********************45%                       ]  45 of 101 completed"
     ]
    },
    {
     "name": "stdout",
     "output_type": "stream",
     "text": [
      "\r",
      "[**********************46%                       ]  46 of 101 completed"
     ]
    },
    {
     "name": "stdout",
     "output_type": "stream",
     "text": [
      "\r",
      "[**********************47%                       ]  47 of 101 completed"
     ]
    },
    {
     "name": "stdout",
     "output_type": "stream",
     "text": [
      "\r",
      "[**********************48%                       ]  48 of 101 completed"
     ]
    },
    {
     "name": "stdout",
     "output_type": "stream",
     "text": [
      "\r",
      "[**********************49%                       ]  49 of 101 completed\r",
      "[**********************49%                       ]  49 of 101 completed"
     ]
    },
    {
     "name": "stdout",
     "output_type": "stream",
     "text": [
      "\r",
      "[**********************50%                       ]  51 of 101 completed"
     ]
    },
    {
     "name": "stdout",
     "output_type": "stream",
     "text": [
      "\r",
      "[**********************51%                       ]  52 of 101 completed"
     ]
    },
    {
     "name": "stdout",
     "output_type": "stream",
     "text": [
      "\r",
      "[**********************52%                       ]  53 of 101 completed"
     ]
    },
    {
     "name": "stdout",
     "output_type": "stream",
     "text": [
      "\r",
      "[**********************53%                       ]  54 of 101 completed"
     ]
    },
    {
     "name": "stdout",
     "output_type": "stream",
     "text": [
      "\r",
      "[**********************54%*                      ]  55 of 101 completed"
     ]
    },
    {
     "name": "stdout",
     "output_type": "stream",
     "text": [
      "\r",
      "[**********************55%*                      ]  56 of 101 completed"
     ]
    },
    {
     "name": "stdout",
     "output_type": "stream",
     "text": [
      "\r",
      "[**********************56%**                     ]  57 of 101 completed"
     ]
    },
    {
     "name": "stdout",
     "output_type": "stream",
     "text": [
      "\r",
      "[**********************57%**                     ]  58 of 101 completed"
     ]
    },
    {
     "name": "stdout",
     "output_type": "stream",
     "text": [
      "\r",
      "[**********************58%***                    ]  59 of 101 completed"
     ]
    },
    {
     "name": "stdout",
     "output_type": "stream",
     "text": [
      "\r",
      "[**********************59%***                    ]  60 of 101 completed"
     ]
    },
    {
     "name": "stdout",
     "output_type": "stream",
     "text": [
      "\r",
      "[**********************60%****                   ]  61 of 101 completed"
     ]
    },
    {
     "name": "stdout",
     "output_type": "stream",
     "text": [
      "\r",
      "[**********************61%****                   ]  62 of 101 completed"
     ]
    },
    {
     "name": "stdout",
     "output_type": "stream",
     "text": [
      "\r",
      "[**********************62%*****                  ]  63 of 101 completed"
     ]
    },
    {
     "name": "stdout",
     "output_type": "stream",
     "text": [
      "\r",
      "[**********************63%*****                  ]  64 of 101 completed"
     ]
    },
    {
     "name": "stdout",
     "output_type": "stream",
     "text": [
      "\r",
      "[**********************64%******                 ]  65 of 101 completed"
     ]
    },
    {
     "name": "stdout",
     "output_type": "stream",
     "text": [
      "\r",
      "[**********************65%******                 ]  66 of 101 completed"
     ]
    },
    {
     "name": "stdout",
     "output_type": "stream",
     "text": [
      "\r",
      "[**********************66%*******                ]  67 of 101 completed"
     ]
    },
    {
     "name": "stdout",
     "output_type": "stream",
     "text": [
      "\r",
      "[**********************67%*******                ]  68 of 101 completed"
     ]
    },
    {
     "name": "stdout",
     "output_type": "stream",
     "text": [
      "\r",
      "[**********************68%********               ]  69 of 101 completed"
     ]
    },
    {
     "name": "stdout",
     "output_type": "stream",
     "text": [
      "\r",
      "[**********************69%********               ]  70 of 101 completed"
     ]
    },
    {
     "name": "stdout",
     "output_type": "stream",
     "text": [
      "\r",
      "[**********************70%*********              ]  71 of 101 completed"
     ]
    },
    {
     "name": "stdout",
     "output_type": "stream",
     "text": [
      "\r",
      "[**********************71%*********              ]  72 of 101 completed"
     ]
    },
    {
     "name": "stdout",
     "output_type": "stream",
     "text": [
      "\r",
      "[**********************72%**********             ]  73 of 101 completed"
     ]
    },
    {
     "name": "stdout",
     "output_type": "stream",
     "text": [
      "\r",
      "[**********************73%**********             ]  74 of 101 completed"
     ]
    },
    {
     "name": "stdout",
     "output_type": "stream",
     "text": [
      "\r",
      "[**********************74%***********            ]  75 of 101 completed"
     ]
    },
    {
     "name": "stdout",
     "output_type": "stream",
     "text": [
      "\r",
      "[**********************75%***********            ]  76 of 101 completed\r",
      "[**********************75%***********            ]  76 of 101 completed"
     ]
    },
    {
     "name": "stdout",
     "output_type": "stream",
     "text": [
      "\r",
      "[**********************77%************           ]  78 of 101 completed"
     ]
    },
    {
     "name": "stdout",
     "output_type": "stream",
     "text": [
      "\r",
      "[**********************78%************           ]  79 of 101 completed\r",
      "[**********************78%************           ]  79 of 101 completed"
     ]
    },
    {
     "name": "stdout",
     "output_type": "stream",
     "text": [
      "\r",
      "[**********************80%*************          ]  81 of 101 completed"
     ]
    },
    {
     "name": "stdout",
     "output_type": "stream",
     "text": [
      "\r",
      "[**********************81%**************         ]  82 of 101 completed"
     ]
    },
    {
     "name": "stdout",
     "output_type": "stream",
     "text": [
      "\r",
      "[**********************82%**************         ]  83 of 101 completed"
     ]
    },
    {
     "name": "stdout",
     "output_type": "stream",
     "text": [
      "\r",
      "[**********************83%***************        ]  84 of 101 completed"
     ]
    },
    {
     "name": "stdout",
     "output_type": "stream",
     "text": [
      "\r",
      "[**********************84%***************        ]  85 of 101 completed"
     ]
    },
    {
     "name": "stdout",
     "output_type": "stream",
     "text": [
      "\r",
      "[**********************85%****************       ]  86 of 101 completed"
     ]
    },
    {
     "name": "stdout",
     "output_type": "stream",
     "text": [
      "\r",
      "[**********************86%****************       ]  87 of 101 completed"
     ]
    },
    {
     "name": "stdout",
     "output_type": "stream",
     "text": [
      "\r",
      "[**********************87%*****************      ]  88 of 101 completed"
     ]
    },
    {
     "name": "stdout",
     "output_type": "stream",
     "text": [
      "\r",
      "[**********************88%*****************      ]  89 of 101 completed"
     ]
    },
    {
     "name": "stdout",
     "output_type": "stream",
     "text": [
      "\r",
      "[**********************89%******************     ]  90 of 101 completed"
     ]
    },
    {
     "name": "stdout",
     "output_type": "stream",
     "text": [
      "\r",
      "[**********************90%******************     ]  91 of 101 completed"
     ]
    },
    {
     "name": "stdout",
     "output_type": "stream",
     "text": [
      "\r",
      "[**********************91%*******************    ]  92 of 101 completed"
     ]
    },
    {
     "name": "stdout",
     "output_type": "stream",
     "text": [
      "\r",
      "[**********************92%*******************    ]  93 of 101 completed"
     ]
    },
    {
     "name": "stdout",
     "output_type": "stream",
     "text": [
      "\r",
      "[**********************93%********************   ]  94 of 101 completed"
     ]
    },
    {
     "name": "stdout",
     "output_type": "stream",
     "text": [
      "\r",
      "[**********************94%********************   ]  95 of 101 completed"
     ]
    },
    {
     "name": "stdout",
     "output_type": "stream",
     "text": [
      "\r",
      "[**********************95%*********************  ]  96 of 101 completed"
     ]
    },
    {
     "name": "stdout",
     "output_type": "stream",
     "text": [
      "\r",
      "[**********************96%*********************  ]  97 of 101 completed"
     ]
    },
    {
     "name": "stdout",
     "output_type": "stream",
     "text": [
      "\r",
      "[**********************97%********************** ]  98 of 101 completed"
     ]
    },
    {
     "name": "stdout",
     "output_type": "stream",
     "text": [
      "\r",
      "[**********************98%********************** ]  99 of 101 completed"
     ]
    },
    {
     "name": "stdout",
     "output_type": "stream",
     "text": [
      "\r",
      "[**********************99%***********************]  100 of 101 completed"
     ]
    },
    {
     "name": "stdout",
     "output_type": "stream",
     "text": [
      "\r",
      "[*********************100%***********************]  101 of 101 completed"
     ]
    },
    {
     "name": "stdout",
     "output_type": "stream",
     "text": [
      "\n"
     ]
    },
    {
     "name": "stderr",
     "output_type": "stream",
     "text": [
      "/tmp/ipykernel_8377/995153143.py:15: PerformanceWarning: DataFrame is highly fragmented.  This is usually the result of calling `frame.insert` many times, which has poor performance.  Consider joining all columns at once using pd.concat(axis=1) instead. To get a de-fragmented frame, use `newframe = frame.copy()`\n",
      "  _stocks[pd.MultiIndex.from_product([['Returns'], _stocks['Adj Close'].columns])] = returns\n"
     ]
    }
   ],
   "source": [
    "# creates a list of ticket symbols for the S&P 100 so we can pass into yf.download()\n",
    "wikipedia = pd.read_html('https://en.wikipedia.org/wiki/S%26P_100#Components')\n",
    "sp100 = list(wikipedia[2].loc[:,'Symbol'])\n",
    "\n",
    "# the wikipedia has 'BRK.B', but the ticker on Yahoo Finance is 'BRK-B'\n",
    "sp100.remove('BRK.B') \n",
    "sp100.append('BRK-B')\n",
    "\n",
    "# pull the stock data from yahoo finance\n",
    "_stocks = yf.download(tickers=sp100, session=session)\n",
    "\n",
    "# calculate daily returns, use MultiIndex to add a new 'returns' column to the main 'stocks' dataframe\n",
    "# NOTE - ALL DATA USED WAS FROM JAN 2020 TO AUG 2022 - as per instructions\n",
    "returns = _stocks.loc['January 2020':'August 2022', \"Adj Close\"].pct_change()\n",
    "_stocks[pd.MultiIndex.from_product([['Returns'], _stocks['Adj Close'].columns])] = returns\n",
    "stocks = _stocks.loc['2020-01':'2022-08']\n",
    "\n",
    "# the daily returns for each stock can be found by using stocks.loc[:, 'Returns']"
   ]
  },
  {
   "cell_type": "markdown",
   "id": "7cc1ca2a-a613-42e4-b299-03d82f1e868c",
   "metadata": {
    "tags": []
   },
   "source": [
    "# 2. How well do annualized average returns in 2020 predict those in 2021?"
   ]
  },
  {
   "cell_type": "code",
   "execution_count": 5,
   "id": "356bdf04-0141-4141-9578-11850a667fe9",
   "metadata": {},
   "outputs": [
    {
     "name": "stdout",
     "output_type": "stream",
     "text": [
      "The correlation between 2020 and 2021 annualized average returns is 0.07947834963328149\n"
     ]
    }
   ],
   "source": [
    "# calculate the mean of returns for 2020 and 2021, multiply each by 252 to annualize them \n",
    "annreturn2020 = stocks.loc['2020', 'Returns'].mean().mul(252)\n",
    "annreturn2021 = stocks.loc['2021', 'Returns'].mean().mul(252)\n",
    "\n",
    "# to see how well 2020 predicts 2021, calculate the correlation\n",
    "print(\"The correlation between 2020 and 2021 annualized average returns is\", annreturn2020.corr(annreturn2021))"
   ]
  },
  {
   "cell_type": "code",
   "execution_count": 6,
   "id": "4916b22f-9c87-4481-b03d-1b24e4c762f2",
   "metadata": {
    "tags": []
   },
   "outputs": [
    {
     "data": {
      "image/png": "[encoded data removed]",
      "text/plain": [
       "<Figure size 432x288 with 1 Axes>"
      ]
     },
     "metadata": {
      "filenames": {
       "image/png": "/home/richard/Dropbox/Documents/Teaching/FINA 4380 - 2022 Fall/Notebooks/_build/jupyter_execute/Projects/project-1/submissions/project7_5906_17643342_Project One_7_0.png"
      },
      "needs_background": "light"
     },
     "output_type": "display_data"
    }
   ],
   "source": [
    "#This plots the annualized average returns in 2021 against those of 2020 to determine the relationship between past and future returns\n",
    "plt.scatter(annreturn2020, annreturn2021)\n",
    "plt.xlabel('2020 Annualized Average Returns')\n",
    "plt.ylabel('2021 Annualized Average Returns')\n",
    "plt.title('2020 Annualized Average Returns vs. 2021')\n",
    "m, b = np.polyfit(annreturn2020, annreturn2021, 1)\n",
    "plt.plot(annreturn2020, m*annreturn2020+b)\n",
    "plt.show()"
   ]
  },
  {
   "cell_type": "markdown",
   "id": "b8916716-7c94-4da1-998f-f750a07e96c7",
   "metadata": {},
   "source": [
    "**2.) Written Response:**\n",
    "The plotted points are very far from the line of best fit, visually showing that there is weak correlation. Although the annualized average returns can give a general idea of the performance of stocks, a correlation of 0.0799 is very low and indicates that **annualized average returns in 2020 was NOT a strong predictor of annualized average returns in 2021.** In fact, in statistics, this correlation value would indicate \"negligible association. \n",
    "\n",
    "The weak correlation between annualized average returns in 2020 and annualized average returns in 2021 can be attributed to the unique and extreme market circumstances in both 2020 and 2021. Most equities in 2020 provided low-to-negative returns due to the onset of the Covid-19 pandemic and subsequent economic shutdowns. In 2021, equities largely bounced back and provided positive returns as the global economy reopened and companies recovered from the effects of the pandemic.\n"
   ]
  },
  {
   "cell_type": "markdown",
   "id": "faba8902-0e71-4996-8aeb-82798a7492d5",
   "metadata": {
    "tags": []
   },
   "source": [
    "# 3. How well do annualized standard deviations of returns in 2020 predict those in 2021?"
   ]
  },
  {
   "cell_type": "code",
   "execution_count": 7,
   "id": "5768e0f1-f82a-4759-b691-5ad671e37a5a",
   "metadata": {},
   "outputs": [
    {
     "name": "stdout",
     "output_type": "stream",
     "text": [
      "The correlation between annualized standard deviations of returns in 2020 and 2021 is 0.7166677913945876\n"
     ]
    }
   ],
   "source": [
    "# calculate 2020 and 2021 standard deviations of returns, annualize them using np.sqrt(252)\n",
    "annstddev2020 = stocks.loc['2020', 'Returns'].std().mul(np.sqrt(252))\n",
    "annstddev2021 = stocks.loc['2021', 'Returns'].std().mul(np.sqrt(252))\n",
    "\n",
    "# calculate correlation between 2020 and 2021 standard deviations\n",
    "print(\"The correlation between annualized standard deviations of returns in 2020 and 2021 is\", annstddev2020.corr(annstddev2021))"
   ]
  },
  {
   "cell_type": "markdown",
   "id": "5ce11b68-17b8-4211-a5c1-f89c2ddab680",
   "metadata": {},
   "source": [
    "A correlation of 0.7167 indicates a moderate association, meaning that **annualized standard deviation (risk) of returns in 2020 was a moderate, but not strong, predictor of 2021 annualized standard deviation (risk) of returns.**"
   ]
  },
  {
   "cell_type": "code",
   "execution_count": 8,
   "id": "c5e49ddd-3959-418c-ab0c-937feaf425cf",
   "metadata": {
    "tags": []
   },
   "outputs": [
    {
     "data": {
      "image/png": "[encoded data removed]",
      "text/plain": [
       "<Figure size 432x288 with 1 Axes>"
      ]
     },
     "metadata": {
      "filenames": {
       "image/png": "/home/richard/Dropbox/Documents/Teaching/FINA 4380 - 2022 Fall/Notebooks/_build/jupyter_execute/Projects/project-1/submissions/project7_5906_17643342_Project One_12_0.png"
      },
      "needs_background": "light"
     },
     "output_type": "display_data"
    }
   ],
   "source": [
    "#This plots the annualized average returns in 2021 against those of 2020 to determine whether historical volatility is a reliable predictor of future volatility. \n",
    "plt.clf()\n",
    "plt.scatter(annstddev2020, annstddev2021)\n",
    "plt.xlabel('2020 Annualized Standard Deviation Returns')\n",
    "plt.ylabel('2021 Annualized Standard Deviation Returns')\n",
    "plt.title('2020 Annualized Standard Deviation Returns vs. 2021')\n",
    "m, b = np.polyfit(annstddev2020, annstddev2021, 1)\n",
    "plt.plot(annstddev2020, m*annstddev2020+b)\n",
    "plt.show()"
   ]
  },
  {
   "cell_type": "markdown",
   "id": "bb9c2dbd-3c7b-41c4-9b97-fd9a12f1cf23",
   "metadata": {},
   "source": [
    "**3.) Written Response:**  Per this graph, we can see that there is a moderate positive correlation between annualized standard deviations of returns in 2020 and 2021. This moderate positive correlation means that the stocks are moving in tandem. The stronger the positive correlation, the more likely the stocks are going to move in the same direction. During 2020, we can see that the annualized standard deviation returns congregate mostly around 0.4 while in 2021, they are mostly congregated between 0.15 and 0.20. This is most likely because 2020 was a very volatile year in the market with larger price swings due to Covid. Nonetheless, from this, we can see that in 2020, the market was essentially twice as volatile as 2021 because the annualized standard deviation of returns were double that of 2021. Although, this graph shows us a pattern between 2020 annualized standard deviation returns and 2021 annualized standard deviation returns, we cannot necessarily predict the future of these stocks, we can only summarize the correlation between the volatility of them.   "
   ]
  },
  {
   "cell_type": "markdown",
   "id": "d6a9103c-a60a-46a3-a694-14dbf5e68f33",
   "metadata": {
    "tags": []
   },
   "source": [
    "# 4. What are the mean, median, minimum, and maximum pairwise correlations between two stocks? Discuss and explain any outliers."
   ]
  },
  {
   "cell_type": "code",
   "execution_count": 9,
   "id": "3b7dd641-bc0d-4e8e-b3a0-523858e1be94",
   "metadata": {},
   "outputs": [
    {
     "name": "stdout",
     "output_type": "stream",
     "text": [
      "The mean pairwise correlation is 0.47502105780431503\n",
      "The median pairwise correlation is 0.47354246854670595\n",
      "The maximum pairwise correlation is 0.9937393398304617\n",
      "The minimum pairwise correlation is 0.06045030798081034\n"
     ]
    }
   ],
   "source": [
    "correlationmatrix = stocks.loc[:, 'Returns'].corr() # creates correlaton\n",
    "_corrlist = np.triu(correlationmatrix, k = 1) # changes everything but the upper triangle of the correlation matrixinto a 0, removing the perfect 1 correlations too.\n",
    "_corrlist[_corrlist == 0] = np.nan # replace all the zeroes with NaNs so we can calculate mean and median. \n",
    "print(\"The mean pairwise correlation is\", np.nanmean(_corrlist)) # use np.nanmean() to ignore the NaNs. Same with median. \n",
    "print(\"The median pairwise correlation is\", np.nanmedian(_corrlist))\n",
    "print(\"The maximum pairwise correlation is\", np.nanmax(_corrlist)) #GOOG and GOOGL is an outlier, next highest is JPM and BAC = 0.9376 (makes sense, both are US banks)\n",
    "print(\"The minimum pairwise correlation is\", np.nanmin(_corrlist)) #VZ and TSLA at 0.0604. Makes sense, VZ had a terrible decline while TSLA grew. "
   ]
  },
  {
   "cell_type": "code",
   "execution_count": 10,
   "id": "db5fa5d2-af19-4e8f-953a-62cc97aff5b2",
   "metadata": {},
   "outputs": [
    {
     "name": "stdout",
     "output_type": "stream",
     "text": [
      "The mean corre. is:  0.4750\n"
     ]
    }
   ],
   "source": [
    "print(f'The mean corre. is: {np.nanmean(_corrlist): 0.4f}')"
   ]
  },
  {
   "cell_type": "code",
   "execution_count": 11,
   "id": "b95d5ef6-75fd-4c3c-8194-0b8479fb07e3",
   "metadata": {
    "tags": []
   },
   "outputs": [
    {
     "name": "stdout",
     "output_type": "stream",
     "text": [
      "VZ   TSLA   0.0605\n",
      "TMO  SPG    0.0731\n",
      "dtype: float64\n",
      "GOOGL  GOOG   0.9937\n",
      "BAC    JPM    0.9376\n",
      "dtype: float64\n"
     ]
    }
   ],
   "source": [
    "# prints minimum pairwise correlation\n",
    "minpaircorr = stocks.loc[:, 'Returns'].corr().unstack().sort_values(ascending = True)\n",
    "print(minpaircorr[:3:2])\n",
    "\n",
    "# prints top 2 (because of outlier) maximum pairwise correelation\n",
    "maxpaircorr = stocks.loc[:, 'Returns'].corr().unstack().sort_values(ascending = False)\n",
    "print(maxpaircorr[101:105:2])"
   ]
  },
  {
   "cell_type": "markdown",
   "id": "d134b83e-74fa-4089-8bb0-a54cb9d5a0e9",
   "metadata": {},
   "source": [
    "**4.) Written Response**"
   ]
  },
  {
   "cell_type": "markdown",
   "id": "f85b368f-3c27-4c12-b329-24d37a881010",
   "metadata": {},
   "source": [
    "**Mean pairwise correlation:** 0.4750\n",
    "\n",
    "**Median pairwise correlation:** 0.47354"
   ]
  },
  {
   "cell_type": "markdown",
   "id": "1d27571e-5f5d-4ab5-9e95-0f8feb78de42",
   "metadata": {},
   "source": [
    "**Verizon (VZ) and Tesla (TSLA) have the lowest pairwise correlation in the index, at 0.06.** This most likely has to do with the fact that these companies operate in different industries, Telecom and Automotive respectively. They do not face the same idiosyncratic drivers of growth that you would expect from an industry peer and therefore their earnings lack any correlation with one another, resulting in little correlation among equity returns.\n",
    "\n",
    "**The maximum pairwise correlation would be among Google's dual share classes (GOOG and GOOGL) at 0.9937.** This makes sense as the underlying securities represent the same corporation and follow the same changes in stock price. The only difference between the classes lie in their voting rights and this has no statistical significance with regards to correlated returns. This is an outlier among our dataset as Google is the only company in the S&P 100 with two classes of shares. Accounting for this outlier, the **next highest correlation is JPM and BAC - with a correlation of 0.9376.** This makes sense because both firms are US banks operating within the same market and industry. "
   ]
  },
  {
   "cell_type": "markdown",
   "id": "3faf08b1-5068-44ef-8088-eb1ecec24063",
   "metadata": {},
   "source": [
    "# 5. Plot annualized average returns versus annualized standard deviations of returns. Discuss and explain any outliers."
   ]
  },
  {
   "cell_type": "code",
   "execution_count": 12,
   "id": "e04aee79-527c-4ed1-a1b6-a3856aae2ff4",
   "metadata": {
    "tags": []
   },
   "outputs": [
    {
     "data": {
      "image/png": "[encoded data removed]",
      "text/plain": [
       "<Figure size 432x288 with 1 Axes>"
      ]
     },
     "metadata": {
      "filenames": {
       "image/png": "/home/richard/Dropbox/Documents/Teaching/FINA 4380 - 2022 Fall/Notebooks/_build/jupyter_execute/Projects/project-1/submissions/project7_5906_17643342_Project One_22_0.png"
      },
      "needs_background": "light"
     },
     "output_type": "display_data"
    }
   ],
   "source": [
    "#This plots the annualized average returns against the standard deviation of these stocks. This helps us understand the relationship between risk and return for the 100 stocks in the S&P 100. \n",
    "plt.scatter(returns.mean().mul(252),returns.std().mul(np.sqrt(252)))\n",
    "plt.xlabel('Annualized Average Returns')\n",
    "plt.ylabel('Annualized Std. Deviations')\n",
    "plt.title('Annualized Avg. Returns vs. Annualized Std. Deviations')\n",
    "plt.annotate('Tesla', (stocks.loc[:, ('Returns', 'TSLA')].mean()*252 - 0.1, stocks.loc[:, ('Returns', 'TSLA')].std()*np.sqrt(252) - 0.03))\n",
    "plt.show()"
   ]
  },
  {
   "cell_type": "markdown",
   "id": "19207dde-e8cb-480c-a0c5-d26cf719646b",
   "metadata": {},
   "source": [
    "**5.) Written Response:** Based on the graph above, we can see that there is in fact an **outlier here which is Tesla at (1.1159, 0.7285)**, meaning Tesla had a much higher annualized average return for the year (~112%) than its index peers but this involved taking on significantly higher risk with an annualized std. deviation > 70%. What makes it an outlier is the significantly higher volatility and returns versus the basket of stocks in our analysis. In other words, its value compared to the neighboring values is at the extreme end of a dataset. \n",
    "\n",
    "Historically, Tesla has always been a famously volatile stock due to it being a high-growth company with a high level of risk. Until the last few years, Tesla experienced negative cash flows and also failed to report profitability on fiscal year-end statements. Another aspect of Tesla's high volatility was demonstrated during COVID-19 (from Jan-May 2020), as Tesla stock price fell more than the rest of the S&P100 due to supply chain issues and factory shutdowns in China. However, when the stock market recovered from COVID-19 (June 2020 and onward), Tesla's extremely high volatility now contributed to abnormally high growth and high returns compared to the S&P100. While higher risk generally implies higher returns by fundamental investment principles, Tesla's exceptional growth can also be attributed to its immense potential, high investor confidence, and continued defiance of analyst projections. This explains why Tesla is an outlier: it has higher returns, but it came with higher volatility than all of the rest of the S&P100. Without the outlier, this graph shows us how consistent the returns are over time. "
   ]
  },
  {
   "cell_type": "markdown",
   "id": "eb963d91-8f91-4bc8-8856-7b61121ef4e0",
   "metadata": {
    "tags": []
   },
   "source": [
    "# 6. Repeat the exercise above (question 5) with 100 random portfolios of 2, 5, 10, and 25 stocks."
   ]
  },
  {
   "cell_type": "code",
   "execution_count": 13,
   "id": "721595d1-c385-4e07-b817-a5faa6d7068f",
   "metadata": {},
   "outputs": [
    {
     "name": "stdout",
     "output_type": "stream",
     "text": [
      "0.2766925654992747\n"
     ]
    },
    {
     "data": {
      "image/png": "[encoded data removed]",
      "text/plain": [
       "<Figure size 432x288 with 1 Axes>"
      ]
     },
     "metadata": {
      "filenames": {
       "image/png": "/home/richard/Dropbox/Documents/Teaching/FINA 4380 - 2022 Fall/Notebooks/_build/jupyter_execute/Projects/project-1/submissions/project7_5906_17643342_Project One_25_1.png"
      },
      "needs_background": "light"
     },
     "output_type": "display_data"
    },
    {
     "name": "stdout",
     "output_type": "stream",
     "text": [
      "0.302381354855878\n"
     ]
    },
    {
     "data": {
      "image/png": "[encoded data removed]",
      "text/plain": [
       "<Figure size 432x288 with 1 Axes>"
      ]
     },
     "metadata": {
      "filenames": {
       "image/png": "/home/richard/Dropbox/Documents/Teaching/FINA 4380 - 2022 Fall/Notebooks/_build/jupyter_execute/Projects/project-1/submissions/project7_5906_17643342_Project One_25_3.png"
      },
      "needs_background": "light"
     },
     "output_type": "display_data"
    },
    {
     "name": "stdout",
     "output_type": "stream",
     "text": [
      "0.22928622534410423\n"
     ]
    },
    {
     "data": {
      "image/png": "[encoded data removed]",
      "text/plain": [
       "<Figure size 432x288 with 1 Axes>"
      ]
     },
     "metadata": {
      "filenames": {
       "image/png": "/home/richard/Dropbox/Documents/Teaching/FINA 4380 - 2022 Fall/Notebooks/_build/jupyter_execute/Projects/project-1/submissions/project7_5906_17643342_Project One_25_5.png"
      },
      "needs_background": "light"
     },
     "output_type": "display_data"
    },
    {
     "name": "stdout",
     "output_type": "stream",
     "text": [
      "0.29607720897743617\n"
     ]
    },
    {
     "data": {
      "image/png": "[encoded data removed]",
      "text/plain": [
       "<Figure size 432x288 with 1 Axes>"
      ]
     },
     "metadata": {
      "filenames": {
       "image/png": "/home/richard/Dropbox/Documents/Teaching/FINA 4380 - 2022 Fall/Notebooks/_build/jupyter_execute/Projects/project-1/submissions/project7_5906_17643342_Project One_25_7.png"
      },
      "needs_background": "light"
     },
     "output_type": "display_data"
    }
   ],
   "source": [
    "for i in [2, 5, 10, 25]:\n",
    "    plt.clf()\n",
    "    randreturns = []\n",
    "    randstd = []\n",
    "    \n",
    "    for x in range(100):\n",
    "        portfolio = stocks['Returns'].sample(n = i, axis = 1).mean(axis = 1)\n",
    "        randreturns.append(portfolio.mean()*252)\n",
    "        randstd.append(portfolio.std()*np.sqrt(252))\n",
    "    \n",
    "    print(np.corrcoef(randreturns, randstd)[0,1])\n",
    "    plt.scatter(randreturns, randstd)\n",
    "    plt.xlim([0,0.7])\n",
    "    plt.ylim([0,0.7])\n",
    "    plt.xlabel('Annualized Avg. Returns')\n",
    "    plt.ylabel('Annualized Avg. Standard Deviation (Risk)')\n",
    "    plt.title('Annualized Avg. Returns vs. Annualized Std. for ' + str(i) + ' Stocks')\n",
    "    plt.show()"
   ]
  },
  {
   "cell_type": "markdown",
   "id": "04abd670-4922-4b23-8d28-068c29615ee4",
   "metadata": {},
   "source": [
    "The charts above illustrate the concept of diversification. We generated 100 random portfolios holding 2, 5, 10, and 25 stocks to better understand how risk and return are influenced by the change in n (the number of stocks in a portfolio). As we increased the amount of stocks held in the portfolio, the average annualized returns maintained a similar range with most returns concentrating at ~15% annualized across all portfolios (which is close to the 14.98% return if we held all 101 stocks), but the annualized standard deviation significantly decreased as we added more stocks in the portfolio. The portfolios of 2 stocks had an average standard deviation ranging from 20 to 50%, whereas the portfolio of 25 stocks maintained a range of 20 to 30%. As we hold more stocks in our portfolios, we would expect the standard deviations of more random portfolios to be closer to 25.52%, which is the standard deviation if we fully diversified and held all 101 stocks. Therefore, these plots demonstrate the importance of diversification in order to lower exposure to risk. \n"
   ]
  },
  {
   "cell_type": "code",
   "execution_count": null,
   "id": "f2aa33c4",
   "metadata": {},
   "outputs": [],
   "source": []
  }
 ],
 "metadata": {
  "editor": "DataCamp Workspace",
  "kernelspec": {
   "display_name": "Python 3 (ipykernel)",
   "language": "python",
   "name": "python3"
  },
  "language_info": {
   "codemirror_mode": {
    "name": "ipython",
    "version": 3
   },
   "file_extension": ".py",
   "mimetype": "text/x-python",
   "name": "python",
   "nbconvert_exporter": "python",
   "pygments_lexer": "ipython3",
   "version": "3.10.6"
  }
 },
 "nbformat": 4,
 "nbformat_minor": 5
}