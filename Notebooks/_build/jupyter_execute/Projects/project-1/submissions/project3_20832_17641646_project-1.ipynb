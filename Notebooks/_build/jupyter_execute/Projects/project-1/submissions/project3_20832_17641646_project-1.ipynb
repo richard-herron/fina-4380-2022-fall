{
 "cells": [
  {
   "cell_type": "code",
   "execution_count": 1,
   "id": "3879eba8-0ba5-406e-b30b-2ebf55315361",
   "metadata": {
    "tags": []
   },
   "outputs": [],
   "source": [
    "import pandas as pd\n",
    "import numpy as np\n",
    "import matplotlib.pyplot as plt\n",
    "#use sample and axis 1. 100 portfolios with 2 stocks, 100 with 5, etc. It is to help you get a nice scatterplot"
   ]
  },
  {
   "cell_type": "code",
   "execution_count": 2,
   "id": "5d3c23b8-0e36-44a7-bdb8-ab53c6da6130",
   "metadata": {},
   "outputs": [],
   "source": [
    "pd.set_option('display.float_format', '{:.4f}'.format)\n",
    "%precision 4\n",
    "plt.rcParams['figure.dpi'] = 100"
   ]
  },
  {
   "cell_type": "code",
   "execution_count": 3,
   "id": "1420a43e-faf7-4551-9e8b-e71e2df7b7d8",
   "metadata": {},
   "outputs": [],
   "source": [
    "import yfinance as yf\n",
    "import requests_cache\n",
    "session = requests_cache.CachedSession(expire_after='1D')"
   ]
  },
  {
   "cell_type": "markdown",
   "id": "415c6fd5-e883-4090-876a-119f87c41cc1",
   "metadata": {},
   "source": [
    "# Calculate daily returns for the S&P 100 stocks."
   ]
  },
  {
   "cell_type": "code",
   "execution_count": 4,
   "id": "4bc61599-b3ff-4f6b-8fad-50d93ae1ed27",
   "metadata": {
    "tags": []
   },
   "outputs": [],
   "source": [
    "url = 'https://en.wikipedia.org/wiki/S%26P_100'\n",
    "stock_names = pd.read_html(url)\n",
    "stocks = stock_names[2]['Symbol'].to_list()\n",
    "#wiki[1].sample(3, axis = 1)"
   ]
  },
  {
   "cell_type": "code",
   "execution_count": 5,
   "id": "80973126-65a5-4a61-9323-9d3b4dbcfbb8",
   "metadata": {},
   "outputs": [],
   "source": [
    "stocks.remove('BRK.B')"
   ]
  },
  {
   "cell_type": "code",
   "execution_count": 6,
   "id": "0d651c36-764e-44ad-b8db-a1ba2c5330d3",
   "metadata": {},
   "outputs": [],
   "source": [
    "stocks.append('BRK-B')"
   ]
  },
  {
   "cell_type": "code",
   "execution_count": 7,
   "id": "808033ad-0fde-4d74-adaa-aafb1e1e9252",
   "metadata": {},
   "outputs": [
    {
     "name": "stdout",
     "output_type": "stream",
     "text": [
      "\r",
      "[                       0%                       ]"
     ]
    },
    {
     "name": "stdout",
     "output_type": "stream",
     "text": [
      "\r",
      "[*                      2%                       ]  2 of 101 completed\r",
      "[*                      2%                       ]  2 of 101 completed\r",
      "[*                      2%                       ]  2 of 101 completed"
     ]
    },
    {
     "name": "stdout",
     "output_type": "stream",
     "text": [
      "\r",
      "[**                     5%                       ]  5 of 101 completed"
     ]
    },
    {
     "name": "stdout",
     "output_type": "stream",
     "text": [
      "\r",
      "[***                    6%                       ]  6 of 101 completed\r",
      "[***                    6%                       ]  6 of 101 completed"
     ]
    },
    {
     "name": "stdout",
     "output_type": "stream",
     "text": [
      "\r",
      "[****                   8%                       ]  8 of 101 completed\r",
      "[****                   9%                       ]  9 of 101 completed\r",
      "[****                   9%                       ]  9 of 101 completed\r",
      "[****                   9%                       ]  9 of 101 completed"
     ]
    },
    {
     "name": "stdout",
     "output_type": "stream",
     "text": [
      "\r",
      "[******                12%                       ]  12 of 101 completed"
     ]
    },
    {
     "name": "stdout",
     "output_type": "stream",
     "text": [
      "\r",
      "[******                13%                       ]  13 of 101 completed"
     ]
    },
    {
     "name": "stdout",
     "output_type": "stream",
     "text": [
      "\r",
      "[*******               14%                       ]  14 of 101 completed"
     ]
    },
    {
     "name": "stdout",
     "output_type": "stream",
     "text": [
      "\r",
      "[*******               15%                       ]  15 of 101 completed"
     ]
    },
    {
     "name": "stdout",
     "output_type": "stream",
     "text": [
      "\r",
      "[********              16%                       ]  16 of 101 completed"
     ]
    },
    {
     "name": "stdout",
     "output_type": "stream",
     "text": [
      "\r",
      "[********              17%                       ]  17 of 101 completed"
     ]
    },
    {
     "name": "stdout",
     "output_type": "stream",
     "text": [
      "\r",
      "[********              17%                       ]  17 of 101 completed\r",
      "[********              17%                       ]  17 of 101 completed"
     ]
    },
    {
     "name": "stdout",
     "output_type": "stream",
     "text": [
      "\r",
      "[**********            20%                       ]  20 of 101 completed"
     ]
    },
    {
     "name": "stdout",
     "output_type": "stream",
     "text": [
      "\r",
      "[**********            21%                       ]  21 of 101 completed"
     ]
    },
    {
     "name": "stdout",
     "output_type": "stream",
     "text": [
      "\r",
      "[***********           22%                       ]  22 of 101 completed"
     ]
    },
    {
     "name": "stdout",
     "output_type": "stream",
     "text": [
      "\r",
      "[***********           23%                       ]  23 of 101 completed"
     ]
    },
    {
     "name": "stdout",
     "output_type": "stream",
     "text": [
      "\r",
      "[************          24%                       ]  24 of 101 completed"
     ]
    },
    {
     "name": "stdout",
     "output_type": "stream",
     "text": [
      "\r",
      "[************          25%                       ]  25 of 101 completed"
     ]
    },
    {
     "name": "stdout",
     "output_type": "stream",
     "text": [
      "\r",
      "[************          26%                       ]  26 of 101 completed"
     ]
    },
    {
     "name": "stdout",
     "output_type": "stream",
     "text": [
      "\r",
      "[*************         27%                       ]  27 of 101 completed"
     ]
    },
    {
     "name": "stdout",
     "output_type": "stream",
     "text": [
      "\r",
      "[*************         28%                       ]  28 of 101 completed"
     ]
    },
    {
     "name": "stdout",
     "output_type": "stream",
     "text": [
      "\r",
      "[**************        29%                       ]  29 of 101 completed"
     ]
    },
    {
     "name": "stdout",
     "output_type": "stream",
     "text": [
      "\r",
      "[**************        30%                       ]  30 of 101 completed"
     ]
    },
    {
     "name": "stdout",
     "output_type": "stream",
     "text": [
      "\r",
      "[***************       31%                       ]  31 of 101 completed"
     ]
    },
    {
     "name": "stdout",
     "output_type": "stream",
     "text": [
      "\r",
      "[***************       32%                       ]  32 of 101 completed"
     ]
    },
    {
     "name": "stdout",
     "output_type": "stream",
     "text": [
      "\r",
      "[****************      33%                       ]  33 of 101 completed"
     ]
    },
    {
     "name": "stdout",
     "output_type": "stream",
     "text": [
      "\r",
      "[****************      34%                       ]  34 of 101 completed"
     ]
    },
    {
     "name": "stdout",
     "output_type": "stream",
     "text": [
      "\r",
      "[*****************     35%                       ]  35 of 101 completed"
     ]
    },
    {
     "name": "stdout",
     "output_type": "stream",
     "text": [
      "\r",
      "[*****************     36%                       ]  36 of 101 completed"
     ]
    },
    {
     "name": "stdout",
     "output_type": "stream",
     "text": [
      "\r",
      "[******************    37%                       ]  37 of 101 completed"
     ]
    },
    {
     "name": "stdout",
     "output_type": "stream",
     "text": [
      "\r",
      "[******************    38%                       ]  38 of 101 completed"
     ]
    },
    {
     "name": "stdout",
     "output_type": "stream",
     "text": [
      "\r",
      "[******************    38%                       ]  38 of 101 completed"
     ]
    },
    {
     "name": "stdout",
     "output_type": "stream",
     "text": [
      "\r",
      "[*******************   40%                       ]  40 of 101 completed\r",
      "[*******************   40%                       ]  40 of 101 completed"
     ]
    },
    {
     "name": "stdout",
     "output_type": "stream",
     "text": [
      "\r",
      "[********************  42%                       ]  42 of 101 completed"
     ]
    },
    {
     "name": "stdout",
     "output_type": "stream",
     "text": [
      "\r",
      "[********************* 43%                       ]  43 of 101 completed"
     ]
    },
    {
     "name": "stdout",
     "output_type": "stream",
     "text": [
      "\r",
      "[********************* 44%                       ]  44 of 101 completed"
     ]
    },
    {
     "name": "stdout",
     "output_type": "stream",
     "text": [
      "\r",
      "[**********************45%                       ]  45 of 101 completed"
     ]
    },
    {
     "name": "stdout",
     "output_type": "stream",
     "text": [
      "\r",
      "[**********************46%                       ]  46 of 101 completed"
     ]
    },
    {
     "name": "stdout",
     "output_type": "stream",
     "text": [
      "\r",
      "[**********************47%                       ]  47 of 101 completed"
     ]
    },
    {
     "name": "stdout",
     "output_type": "stream",
     "text": [
      "\r",
      "[**********************48%                       ]  48 of 101 completed"
     ]
    },
    {
     "name": "stdout",
     "output_type": "stream",
     "text": [
      "\r",
      "[**********************49%                       ]  49 of 101 completed"
     ]
    },
    {
     "name": "stdout",
     "output_type": "stream",
     "text": [
      "\r",
      "[**********************50%                       ]  50 of 101 completed"
     ]
    },
    {
     "name": "stdout",
     "output_type": "stream",
     "text": [
      "\r",
      "[**********************50%                       ]  51 of 101 completed"
     ]
    },
    {
     "name": "stdout",
     "output_type": "stream",
     "text": [
      "\r",
      "[**********************51%                       ]  52 of 101 completed"
     ]
    },
    {
     "name": "stdout",
     "output_type": "stream",
     "text": [
      "\r",
      "[**********************52%                       ]  53 of 101 completed"
     ]
    },
    {
     "name": "stdout",
     "output_type": "stream",
     "text": [
      "\r",
      "[**********************53%                       ]  54 of 101 completed"
     ]
    },
    {
     "name": "stdout",
     "output_type": "stream",
     "text": [
      "\r",
      "[**********************54%*                      ]  55 of 101 completed"
     ]
    },
    {
     "name": "stdout",
     "output_type": "stream",
     "text": [
      "\r",
      "[**********************55%*                      ]  56 of 101 completed\r",
      "[**********************55%*                      ]  56 of 101 completed"
     ]
    },
    {
     "name": "stdout",
     "output_type": "stream",
     "text": [
      "\r",
      "[**********************57%**                     ]  58 of 101 completed"
     ]
    },
    {
     "name": "stdout",
     "output_type": "stream",
     "text": [
      "\r",
      "[**********************58%***                    ]  59 of 101 completed\r",
      "[**********************58%***                    ]  59 of 101 completed"
     ]
    },
    {
     "name": "stdout",
     "output_type": "stream",
     "text": [
      "\r",
      "[**********************60%****                   ]  61 of 101 completed"
     ]
    },
    {
     "name": "stdout",
     "output_type": "stream",
     "text": [
      "\r",
      "[**********************61%****                   ]  62 of 101 completed"
     ]
    },
    {
     "name": "stdout",
     "output_type": "stream",
     "text": [
      "\r",
      "[**********************62%*****                  ]  63 of 101 completed"
     ]
    },
    {
     "name": "stdout",
     "output_type": "stream",
     "text": [
      "\r",
      "[**********************63%*****                  ]  64 of 101 completed"
     ]
    },
    {
     "name": "stdout",
     "output_type": "stream",
     "text": [
      "\r",
      "[**********************64%******                 ]  65 of 101 completed"
     ]
    },
    {
     "name": "stdout",
     "output_type": "stream",
     "text": [
      "\r",
      "[**********************65%******                 ]  66 of 101 completed"
     ]
    },
    {
     "name": "stdout",
     "output_type": "stream",
     "text": [
      "\r",
      "[**********************66%*******                ]  67 of 101 completed"
     ]
    },
    {
     "name": "stdout",
     "output_type": "stream",
     "text": [
      "\r",
      "[**********************67%*******                ]  68 of 101 completed"
     ]
    },
    {
     "name": "stdout",
     "output_type": "stream",
     "text": [
      "\r",
      "[**********************68%********               ]  69 of 101 completed"
     ]
    },
    {
     "name": "stdout",
     "output_type": "stream",
     "text": [
      "\r",
      "[**********************69%********               ]  70 of 101 completed"
     ]
    },
    {
     "name": "stdout",
     "output_type": "stream",
     "text": [
      "\r",
      "[**********************70%*********              ]  71 of 101 completed\r",
      "[**********************70%*********              ]  71 of 101 completed"
     ]
    },
    {
     "name": "stdout",
     "output_type": "stream",
     "text": [
      "\r",
      "[**********************72%**********             ]  73 of 101 completed"
     ]
    },
    {
     "name": "stdout",
     "output_type": "stream",
     "text": [
      "\r",
      "[**********************73%**********             ]  74 of 101 completed"
     ]
    },
    {
     "name": "stdout",
     "output_type": "stream",
     "text": [
      "\r",
      "[**********************74%***********            ]  75 of 101 completed"
     ]
    },
    {
     "name": "stdout",
     "output_type": "stream",
     "text": [
      "\r",
      "[**********************75%***********            ]  76 of 101 completed"
     ]
    },
    {
     "name": "stdout",
     "output_type": "stream",
     "text": [
      "\r",
      "[**********************76%***********            ]  77 of 101 completed"
     ]
    },
    {
     "name": "stdout",
     "output_type": "stream",
     "text": [
      "\r",
      "[**********************76%***********            ]  77 of 101 completed"
     ]
    },
    {
     "name": "stdout",
     "output_type": "stream",
     "text": [
      "\r",
      "[**********************78%************           ]  79 of 101 completed"
     ]
    },
    {
     "name": "stdout",
     "output_type": "stream",
     "text": [
      "\r",
      "[**********************78%************           ]  79 of 101 completed"
     ]
    },
    {
     "name": "stdout",
     "output_type": "stream",
     "text": [
      "\r",
      "[**********************80%*************          ]  81 of 101 completed\r",
      "[**********************80%*************          ]  81 of 101 completed"
     ]
    },
    {
     "name": "stdout",
     "output_type": "stream",
     "text": [
      "\r",
      "[**********************82%**************         ]  83 of 101 completed"
     ]
    },
    {
     "name": "stdout",
     "output_type": "stream",
     "text": [
      "\r",
      "[**********************83%***************        ]  84 of 101 completed"
     ]
    },
    {
     "name": "stdout",
     "output_type": "stream",
     "text": [
      "\r",
      "[**********************84%***************        ]  85 of 101 completed"
     ]
    },
    {
     "name": "stdout",
     "output_type": "stream",
     "text": [
      "\r",
      "[**********************85%****************       ]  86 of 101 completed\r",
      "[**********************85%****************       ]  86 of 101 completed"
     ]
    },
    {
     "name": "stdout",
     "output_type": "stream",
     "text": [
      "\r",
      "[**********************87%*****************      ]  88 of 101 completed"
     ]
    },
    {
     "name": "stdout",
     "output_type": "stream",
     "text": [
      "\r",
      "[**********************88%*****************      ]  89 of 101 completed\r",
      "[**********************88%*****************      ]  89 of 101 completed\r",
      "[**********************88%*****************      ]  89 of 101 completed"
     ]
    },
    {
     "name": "stdout",
     "output_type": "stream",
     "text": [
      "\r",
      "[**********************91%*******************    ]  92 of 101 completed"
     ]
    },
    {
     "name": "stdout",
     "output_type": "stream",
     "text": [
      "\r",
      "[**********************91%*******************    ]  92 of 101 completed"
     ]
    },
    {
     "name": "stdout",
     "output_type": "stream",
     "text": [
      "\r",
      "[**********************93%********************   ]  94 of 101 completed"
     ]
    },
    {
     "name": "stdout",
     "output_type": "stream",
     "text": [
      "\r",
      "[**********************94%********************   ]  95 of 101 completed"
     ]
    },
    {
     "name": "stdout",
     "output_type": "stream",
     "text": [
      "\r",
      "[**********************95%*********************  ]  96 of 101 completed"
     ]
    },
    {
     "name": "stdout",
     "output_type": "stream",
     "text": [
      "\r",
      "[**********************96%*********************  ]  97 of 101 completed"
     ]
    },
    {
     "name": "stdout",
     "output_type": "stream",
     "text": [
      "\r",
      "[**********************97%********************** ]  98 of 101 completed"
     ]
    },
    {
     "name": "stdout",
     "output_type": "stream",
     "text": [
      "\r",
      "[**********************98%********************** ]  99 of 101 completed"
     ]
    },
    {
     "name": "stdout",
     "output_type": "stream",
     "text": [
      "\r",
      "[**********************99%***********************]  100 of 101 completed"
     ]
    },
    {
     "name": "stdout",
     "output_type": "stream",
     "text": [
      "\r",
      "[*********************100%***********************]  101 of 101 completed"
     ]
    },
    {
     "name": "stdout",
     "output_type": "stream",
     "text": [
      "\n"
     ]
    }
   ],
   "source": [
    "stock_prices = yf.download(stocks, start='2020-01-01', end='2022-09-01', session=session)"
   ]
  },
  {
   "cell_type": "code",
   "execution_count": 8,
   "id": "d0692aea-2e59-4160-92bd-b0cf87227f23",
   "metadata": {},
   "outputs": [
    {
     "data": {
      "text/html": [
       "<div>\n",
       "<style scoped>\n",
       "    .dataframe tbody tr th:only-of-type {\n",
       "        vertical-align: middle;\n",
       "    }\n",
       "\n",
       "    .dataframe tbody tr th {\n",
       "        vertical-align: top;\n",
       "    }\n",
       "\n",
       "    .dataframe thead th {\n",
       "        text-align: right;\n",
       "    }\n",
       "</style>\n",
       "<table border=\"1\" class=\"dataframe\">\n",
       "  <thead>\n",
       "    <tr style=\"text-align: right;\">\n",
       "      <th></th>\n",
       "      <th>AAPL</th>\n",
       "      <th>ABBV</th>\n",
       "      <th>ABT</th>\n",
       "      <th>ACN</th>\n",
       "      <th>ADBE</th>\n",
       "      <th>AIG</th>\n",
       "      <th>AMD</th>\n",
       "      <th>AMGN</th>\n",
       "      <th>AMT</th>\n",
       "      <th>AMZN</th>\n",
       "      <th>...</th>\n",
       "      <th>UNH</th>\n",
       "      <th>UNP</th>\n",
       "      <th>UPS</th>\n",
       "      <th>USB</th>\n",
       "      <th>V</th>\n",
       "      <th>VZ</th>\n",
       "      <th>WBA</th>\n",
       "      <th>WFC</th>\n",
       "      <th>WMT</th>\n",
       "      <th>XOM</th>\n",
       "    </tr>\n",
       "    <tr>\n",
       "      <th>Date</th>\n",
       "      <th></th>\n",
       "      <th></th>\n",
       "      <th></th>\n",
       "      <th></th>\n",
       "      <th></th>\n",
       "      <th></th>\n",
       "      <th></th>\n",
       "      <th></th>\n",
       "      <th></th>\n",
       "      <th></th>\n",
       "      <th></th>\n",
       "      <th></th>\n",
       "      <th></th>\n",
       "      <th></th>\n",
       "      <th></th>\n",
       "      <th></th>\n",
       "      <th></th>\n",
       "      <th></th>\n",
       "      <th></th>\n",
       "      <th></th>\n",
       "      <th></th>\n",
       "    </tr>\n",
       "  </thead>\n",
       "  <tbody>\n",
       "    <tr>\n",
       "      <th>2020-01-02</th>\n",
       "      <td>NaN</td>\n",
       "      <td>NaN</td>\n",
       "      <td>NaN</td>\n",
       "      <td>NaN</td>\n",
       "      <td>NaN</td>\n",
       "      <td>NaN</td>\n",
       "      <td>NaN</td>\n",
       "      <td>NaN</td>\n",
       "      <td>NaN</td>\n",
       "      <td>NaN</td>\n",
       "      <td>...</td>\n",
       "      <td>NaN</td>\n",
       "      <td>NaN</td>\n",
       "      <td>NaN</td>\n",
       "      <td>NaN</td>\n",
       "      <td>NaN</td>\n",
       "      <td>NaN</td>\n",
       "      <td>NaN</td>\n",
       "      <td>NaN</td>\n",
       "      <td>NaN</td>\n",
       "      <td>NaN</td>\n",
       "    </tr>\n",
       "    <tr>\n",
       "      <th>2020-01-03</th>\n",
       "      <td>-0.0097</td>\n",
       "      <td>-0.0095</td>\n",
       "      <td>-0.0122</td>\n",
       "      <td>-0.0017</td>\n",
       "      <td>-0.0078</td>\n",
       "      <td>-0.0077</td>\n",
       "      <td>-0.0102</td>\n",
       "      <td>-0.0068</td>\n",
       "      <td>0.0005</td>\n",
       "      <td>-0.0121</td>\n",
       "      <td>...</td>\n",
       "      <td>-0.0101</td>\n",
       "      <td>-0.0071</td>\n",
       "      <td>-0.0006</td>\n",
       "      <td>-0.0117</td>\n",
       "      <td>-0.0080</td>\n",
       "      <td>-0.0106</td>\n",
       "      <td>0.0000</td>\n",
       "      <td>-0.0061</td>\n",
       "      <td>-0.0088</td>\n",
       "      <td>-0.0080</td>\n",
       "    </tr>\n",
       "    <tr>\n",
       "      <th>2020-01-06</th>\n",
       "      <td>0.0080</td>\n",
       "      <td>0.0079</td>\n",
       "      <td>0.0052</td>\n",
       "      <td>-0.0065</td>\n",
       "      <td>0.0057</td>\n",
       "      <td>0.0008</td>\n",
       "      <td>-0.0043</td>\n",
       "      <td>0.0077</td>\n",
       "      <td>-0.0003</td>\n",
       "      <td>0.0149</td>\n",
       "      <td>...</td>\n",
       "      <td>0.0069</td>\n",
       "      <td>-0.0086</td>\n",
       "      <td>-0.0045</td>\n",
       "      <td>-0.0137</td>\n",
       "      <td>-0.0022</td>\n",
       "      <td>-0.0022</td>\n",
       "      <td>0.0086</td>\n",
       "      <td>-0.0060</td>\n",
       "      <td>-0.0020</td>\n",
       "      <td>0.0077</td>\n",
       "    </tr>\n",
       "    <tr>\n",
       "      <th>2020-01-07</th>\n",
       "      <td>-0.0047</td>\n",
       "      <td>-0.0057</td>\n",
       "      <td>-0.0056</td>\n",
       "      <td>-0.0216</td>\n",
       "      <td>-0.0010</td>\n",
       "      <td>-0.0056</td>\n",
       "      <td>-0.0029</td>\n",
       "      <td>-0.0094</td>\n",
       "      <td>-0.0213</td>\n",
       "      <td>0.0021</td>\n",
       "      <td>...</td>\n",
       "      <td>-0.0060</td>\n",
       "      <td>-0.0076</td>\n",
       "      <td>-0.0017</td>\n",
       "      <td>-0.0095</td>\n",
       "      <td>-0.0026</td>\n",
       "      <td>-0.0111</td>\n",
       "      <td>-0.0050</td>\n",
       "      <td>-0.0083</td>\n",
       "      <td>-0.0093</td>\n",
       "      <td>-0.0082</td>\n",
       "    </tr>\n",
       "    <tr>\n",
       "      <th>2020-01-08</th>\n",
       "      <td>0.0161</td>\n",
       "      <td>0.0071</td>\n",
       "      <td>0.0041</td>\n",
       "      <td>0.0020</td>\n",
       "      <td>0.0134</td>\n",
       "      <td>0.0117</td>\n",
       "      <td>-0.0087</td>\n",
       "      <td>0.0008</td>\n",
       "      <td>0.0087</td>\n",
       "      <td>-0.0078</td>\n",
       "      <td>...</td>\n",
       "      <td>0.0211</td>\n",
       "      <td>0.0110</td>\n",
       "      <td>0.0057</td>\n",
       "      <td>-0.0021</td>\n",
       "      <td>0.0171</td>\n",
       "      <td>0.0018</td>\n",
       "      <td>-0.0584</td>\n",
       "      <td>0.0030</td>\n",
       "      <td>-0.0034</td>\n",
       "      <td>-0.0151</td>\n",
       "    </tr>\n",
       "    <tr>\n",
       "      <th>...</th>\n",
       "      <td>...</td>\n",
       "      <td>...</td>\n",
       "      <td>...</td>\n",
       "      <td>...</td>\n",
       "      <td>...</td>\n",
       "      <td>...</td>\n",
       "      <td>...</td>\n",
       "      <td>...</td>\n",
       "      <td>...</td>\n",
       "      <td>...</td>\n",
       "      <td>...</td>\n",
       "      <td>...</td>\n",
       "      <td>...</td>\n",
       "      <td>...</td>\n",
       "      <td>...</td>\n",
       "      <td>...</td>\n",
       "      <td>...</td>\n",
       "      <td>...</td>\n",
       "      <td>...</td>\n",
       "      <td>...</td>\n",
       "      <td>...</td>\n",
       "    </tr>\n",
       "    <tr>\n",
       "      <th>2022-08-26</th>\n",
       "      <td>-0.0377</td>\n",
       "      <td>-0.0214</td>\n",
       "      <td>-0.0377</td>\n",
       "      <td>-0.0376</td>\n",
       "      <td>-0.0567</td>\n",
       "      <td>-0.0409</td>\n",
       "      <td>-0.0617</td>\n",
       "      <td>-0.0205</td>\n",
       "      <td>-0.0263</td>\n",
       "      <td>-0.0476</td>\n",
       "      <td>...</td>\n",
       "      <td>-0.0227</td>\n",
       "      <td>-0.0326</td>\n",
       "      <td>-0.0296</td>\n",
       "      <td>-0.0266</td>\n",
       "      <td>-0.0330</td>\n",
       "      <td>-0.0112</td>\n",
       "      <td>-0.0217</td>\n",
       "      <td>-0.0313</td>\n",
       "      <td>-0.0314</td>\n",
       "      <td>-0.0123</td>\n",
       "    </tr>\n",
       "    <tr>\n",
       "      <th>2022-08-29</th>\n",
       "      <td>-0.0137</td>\n",
       "      <td>-0.0047</td>\n",
       "      <td>-0.0006</td>\n",
       "      <td>-0.0100</td>\n",
       "      <td>-0.0151</td>\n",
       "      <td>-0.0038</td>\n",
       "      <td>-0.0295</td>\n",
       "      <td>-0.0053</td>\n",
       "      <td>-0.0056</td>\n",
       "      <td>-0.0073</td>\n",
       "      <td>...</td>\n",
       "      <td>0.0010</td>\n",
       "      <td>0.0049</td>\n",
       "      <td>-0.0083</td>\n",
       "      <td>-0.0084</td>\n",
       "      <td>-0.0028</td>\n",
       "      <td>0.0018</td>\n",
       "      <td>-0.0011</td>\n",
       "      <td>-0.0011</td>\n",
       "      <td>0.0097</td>\n",
       "      <td>0.0230</td>\n",
       "    </tr>\n",
       "    <tr>\n",
       "      <th>2022-08-30</th>\n",
       "      <td>-0.0153</td>\n",
       "      <td>-0.0012</td>\n",
       "      <td>0.0035</td>\n",
       "      <td>-0.0089</td>\n",
       "      <td>-0.0005</td>\n",
       "      <td>-0.0078</td>\n",
       "      <td>-0.0175</td>\n",
       "      <td>-0.0011</td>\n",
       "      <td>-0.0243</td>\n",
       "      <td>-0.0082</td>\n",
       "      <td>...</td>\n",
       "      <td>-0.0131</td>\n",
       "      <td>-0.0254</td>\n",
       "      <td>-0.0113</td>\n",
       "      <td>-0.0041</td>\n",
       "      <td>-0.0047</td>\n",
       "      <td>-0.0185</td>\n",
       "      <td>-0.0217</td>\n",
       "      <td>0.0050</td>\n",
       "      <td>-0.0030</td>\n",
       "      <td>-0.0381</td>\n",
       "    </tr>\n",
       "    <tr>\n",
       "      <th>2022-08-31</th>\n",
       "      <td>-0.0106</td>\n",
       "      <td>-0.0080</td>\n",
       "      <td>0.0044</td>\n",
       "      <td>-0.0138</td>\n",
       "      <td>-0.0043</td>\n",
       "      <td>-0.0122</td>\n",
       "      <td>-0.0238</td>\n",
       "      <td>0.0049</td>\n",
       "      <td>0.0026</td>\n",
       "      <td>-0.0152</td>\n",
       "      <td>...</td>\n",
       "      <td>-0.0067</td>\n",
       "      <td>-0.0032</td>\n",
       "      <td>-0.0028</td>\n",
       "      <td>-0.0065</td>\n",
       "      <td>-0.0133</td>\n",
       "      <td>-0.0169</td>\n",
       "      <td>-0.0034</td>\n",
       "      <td>-0.0097</td>\n",
       "      <td>0.0005</td>\n",
       "      <td>-0.0075</td>\n",
       "    </tr>\n",
       "    <tr>\n",
       "      <th>2022-09-01</th>\n",
       "      <td>0.0000</td>\n",
       "      <td>0.0000</td>\n",
       "      <td>0.0000</td>\n",
       "      <td>0.0000</td>\n",
       "      <td>0.0000</td>\n",
       "      <td>0.0000</td>\n",
       "      <td>0.0000</td>\n",
       "      <td>0.0000</td>\n",
       "      <td>0.0000</td>\n",
       "      <td>0.0000</td>\n",
       "      <td>...</td>\n",
       "      <td>0.0000</td>\n",
       "      <td>0.0000</td>\n",
       "      <td>0.0000</td>\n",
       "      <td>0.0000</td>\n",
       "      <td>0.0000</td>\n",
       "      <td>0.0000</td>\n",
       "      <td>0.0000</td>\n",
       "      <td>0.0000</td>\n",
       "      <td>0.0000</td>\n",
       "      <td>0.0000</td>\n",
       "    </tr>\n",
       "  </tbody>\n",
       "</table>\n",
       "<p>673 rows × 101 columns</p>\n",
       "</div>"
      ],
      "text/plain": [
       "              AAPL    ABBV     ABT     ACN    ADBE     AIG     AMD    AMGN  \\\n",
       "Date                                                                         \n",
       "2020-01-02     NaN     NaN     NaN     NaN     NaN     NaN     NaN     NaN   \n",
       "2020-01-03 -0.0097 -0.0095 -0.0122 -0.0017 -0.0078 -0.0077 -0.0102 -0.0068   \n",
       "2020-01-06  0.0080  0.0079  0.0052 -0.0065  0.0057  0.0008 -0.0043  0.0077   \n",
       "2020-01-07 -0.0047 -0.0057 -0.0056 -0.0216 -0.0010 -0.0056 -0.0029 -0.0094   \n",
       "2020-01-08  0.0161  0.0071  0.0041  0.0020  0.0134  0.0117 -0.0087  0.0008   \n",
       "...            ...     ...     ...     ...     ...     ...     ...     ...   \n",
       "2022-08-26 -0.0377 -0.0214 -0.0377 -0.0376 -0.0567 -0.0409 -0.0617 -0.0205   \n",
       "2022-08-29 -0.0137 -0.0047 -0.0006 -0.0100 -0.0151 -0.0038 -0.0295 -0.0053   \n",
       "2022-08-30 -0.0153 -0.0012  0.0035 -0.0089 -0.0005 -0.0078 -0.0175 -0.0011   \n",
       "2022-08-31 -0.0106 -0.0080  0.0044 -0.0138 -0.0043 -0.0122 -0.0238  0.0049   \n",
       "2022-09-01  0.0000  0.0000  0.0000  0.0000  0.0000  0.0000  0.0000  0.0000   \n",
       "\n",
       "               AMT    AMZN  ...     UNH     UNP     UPS     USB       V  \\\n",
       "Date                        ...                                           \n",
       "2020-01-02     NaN     NaN  ...     NaN     NaN     NaN     NaN     NaN   \n",
       "2020-01-03  0.0005 -0.0121  ... -0.0101 -0.0071 -0.0006 -0.0117 -0.0080   \n",
       "2020-01-06 -0.0003  0.0149  ...  0.0069 -0.0086 -0.0045 -0.0137 -0.0022   \n",
       "2020-01-07 -0.0213  0.0021  ... -0.0060 -0.0076 -0.0017 -0.0095 -0.0026   \n",
       "2020-01-08  0.0087 -0.0078  ...  0.0211  0.0110  0.0057 -0.0021  0.0171   \n",
       "...            ...     ...  ...     ...     ...     ...     ...     ...   \n",
       "2022-08-26 -0.0263 -0.0476  ... -0.0227 -0.0326 -0.0296 -0.0266 -0.0330   \n",
       "2022-08-29 -0.0056 -0.0073  ...  0.0010  0.0049 -0.0083 -0.0084 -0.0028   \n",
       "2022-08-30 -0.0243 -0.0082  ... -0.0131 -0.0254 -0.0113 -0.0041 -0.0047   \n",
       "2022-08-31  0.0026 -0.0152  ... -0.0067 -0.0032 -0.0028 -0.0065 -0.0133   \n",
       "2022-09-01  0.0000  0.0000  ...  0.0000  0.0000  0.0000  0.0000  0.0000   \n",
       "\n",
       "                VZ     WBA     WFC     WMT     XOM  \n",
       "Date                                                \n",
       "2020-01-02     NaN     NaN     NaN     NaN     NaN  \n",
       "2020-01-03 -0.0106  0.0000 -0.0061 -0.0088 -0.0080  \n",
       "2020-01-06 -0.0022  0.0086 -0.0060 -0.0020  0.0077  \n",
       "2020-01-07 -0.0111 -0.0050 -0.0083 -0.0093 -0.0082  \n",
       "2020-01-08  0.0018 -0.0584  0.0030 -0.0034 -0.0151  \n",
       "...            ...     ...     ...     ...     ...  \n",
       "2022-08-26 -0.0112 -0.0217 -0.0313 -0.0314 -0.0123  \n",
       "2022-08-29  0.0018 -0.0011 -0.0011  0.0097  0.0230  \n",
       "2022-08-30 -0.0185 -0.0217  0.0050 -0.0030 -0.0381  \n",
       "2022-08-31 -0.0169 -0.0034 -0.0097  0.0005 -0.0075  \n",
       "2022-09-01  0.0000  0.0000  0.0000  0.0000  0.0000  \n",
       "\n",
       "[673 rows x 101 columns]"
      ]
     },
     "execution_count": 8,
     "metadata": {},
     "output_type": "execute_result"
    }
   ],
   "source": [
    "daily_returns = stock_prices['Adj Close'].pct_change()\n",
    "daily_returns"
   ]
  },
  {
   "cell_type": "markdown",
   "id": "7cc1ca2a-a613-42e4-b299-03d82f1e868c",
   "metadata": {
    "tags": []
   },
   "source": [
    "# How well do annualized average returns in 2020 predict those in 2021?"
   ]
  },
  {
   "cell_type": "code",
   "execution_count": 9,
   "id": "bff6b60a-98ce-42c1-8f2c-d44775cff660",
   "metadata": {},
   "outputs": [
    {
     "data": {
      "image/png": "[encoded data removed]",
      "text/plain": [
       "<Figure size 432x288 with 1 Axes>"
      ]
     },
     "metadata": {
      "filenames": {
       "image/png": "/home/richard/Dropbox/Documents/Teaching/FINA 4380 - 2022 Fall/Notebooks/_build/jupyter_execute/Projects/project-1/submissions/project3_20832_17641646_project-1_10_0.png"
      },
      "needs_background": "light"
     },
     "output_type": "display_data"
    }
   ],
   "source": [
    "x = daily_returns.loc['2020'].mean().mul(252),\n",
    "y = daily_returns.loc['2021'].mean().mul(252)\n",
    "\n",
    "plt.xlabel('Returns in 2020')\n",
    "plt.ylabel('Returns in 2021')\n",
    "plt.title('Stock results in 2020 vs. 2021')\n",
    "\n",
    "plt.scatter(x, y)\n",
    "plt.show()"
   ]
  },
  {
   "cell_type": "markdown",
   "id": "faba8902-0e71-4996-8aeb-82798a7492d5",
   "metadata": {
    "tags": []
   },
   "source": [
    "# How well do annualized standard deviations of returns in 2020 predict those in 2021?"
   ]
  },
  {
   "cell_type": "code",
   "execution_count": 10,
   "id": "10fde11b-ab3a-4b78-9562-c100dbac61bf",
   "metadata": {},
   "outputs": [
    {
     "name": "stderr",
     "output_type": "stream",
     "text": [
      "/tmp/ipykernel_7859/4065453252.py:1: FutureWarning: Indexing a DataFrame with a datetimelike index using a single string to slice the rows, like `frame[string]`, is deprecated and will be removed in a future version. Use `frame.loc[string]` instead.\n",
      "  a = daily_returns['2020'].std().mul(np.sqrt(252))\n",
      "/tmp/ipykernel_7859/4065453252.py:2: FutureWarning: Indexing a DataFrame with a datetimelike index using a single string to slice the rows, like `frame[string]`, is deprecated and will be removed in a future version. Use `frame.loc[string]` instead.\n",
      "  b = daily_returns['2021'].std().mul(np.sqrt(252))\n"
     ]
    },
    {
     "data": {
      "image/png": "[encoded data removed]",
      "text/plain": [
       "<Figure size 432x288 with 1 Axes>"
      ]
     },
     "metadata": {
      "filenames": {
       "image/png": "/home/richard/Dropbox/Documents/Teaching/FINA 4380 - 2022 Fall/Notebooks/_build/jupyter_execute/Projects/project-1/submissions/project3_20832_17641646_project-1_12_1.png"
      },
      "needs_background": "light"
     },
     "output_type": "display_data"
    }
   ],
   "source": [
    "a = daily_returns['2020'].std().mul(np.sqrt(252))\n",
    "b = daily_returns['2021'].std().mul(np.sqrt(252))\n",
    "\n",
    "plt.xlabel('StDev in 2020')\n",
    "plt.ylabel('StDev in 2021')\n",
    "plt.title('StDev results in 2020 vs. 2021')\n",
    "\n",
    "plt.scatter(a, b)\n",
    "plt.show()"
   ]
  },
  {
   "cell_type": "markdown",
   "id": "d6a9103c-a60a-46a3-a694-14dbf5e68f33",
   "metadata": {
    "tags": []
   },
   "source": [
    "# What are the mean, median, minimum, and maximum pairwise correlations between two stocks?"
   ]
  },
  {
   "cell_type": "code",
   "execution_count": 11,
   "id": "4ecb4a8c-1348-446d-8965-a191a853af5c",
   "metadata": {},
   "outputs": [],
   "source": [
    "correlations = daily_returns.corr()"
   ]
  },
  {
   "cell_type": "code",
   "execution_count": 12,
   "id": "bc22c226-1131-48d2-9cca-f625c872c067",
   "metadata": {},
   "outputs": [
    {
     "data": {
      "text/plain": [
       "'The mean is 0.4802.'"
      ]
     },
     "execution_count": 12,
     "metadata": {},
     "output_type": "execute_result"
    }
   ],
   "source": [
    "mean_per_stock = correlations.mean()\n",
    "mean_total = mean_per_stock.mean()\n",
    "'The mean is ' + str(round(mean_total, 4)) + '.'"
   ]
  },
  {
   "cell_type": "code",
   "execution_count": 13,
   "id": "236c7b30-f757-44ca-bd07-875d6f9f466e",
   "metadata": {},
   "outputs": [
    {
     "data": {
      "text/plain": [
       "'The median is 0.4819.'"
      ]
     },
     "execution_count": 13,
     "metadata": {},
     "output_type": "execute_result"
    }
   ],
   "source": [
    "median_per_stock = correlations.median()\n",
    "median_total = median_per_stock.median()\n",
    "'The median is ' + str(round(median_total, 4)) + '.'"
   ]
  },
  {
   "cell_type": "code",
   "execution_count": 14,
   "id": "977b4633-5a22-40aa-a88b-77faed986a54",
   "metadata": {},
   "outputs": [
    {
     "data": {
      "text/plain": [
       "'The minimum pairwise correlation is 0.0604.'"
      ]
     },
     "execution_count": 14,
     "metadata": {},
     "output_type": "execute_result"
    }
   ],
   "source": [
    "lowest_correlations = correlations.unstack().sort_values()\n",
    "min_corr = lowest_correlations.iloc[0]\n",
    "'The minimum pairwise correlation is ' + str(round(min_corr, 4)) + '.'"
   ]
  },
  {
   "cell_type": "code",
   "execution_count": 15,
   "id": "768316cd-98f7-43c0-be89-15d156fa326e",
   "metadata": {},
   "outputs": [
    {
     "data": {
      "text/plain": [
       "'The maximimum pairwise correlation is 0.9937.'"
      ]
     },
     "execution_count": 15,
     "metadata": {},
     "output_type": "execute_result"
    }
   ],
   "source": [
    "highest_correlations_no_same = correlations.unstack().sort_values().drop_duplicates().iloc[:-1]\n",
    "max_corr = highest_correlations_no_same.iloc[-1]\n",
    "'The maximimum pairwise correlation is ' + str(round(max_corr, 4)) + '.'"
   ]
  },
  {
   "cell_type": "markdown",
   "id": "954616fb-3a00-45fc-807f-39b3a29b2515",
   "metadata": {
    "jp-MarkdownHeadingCollapsed": true,
    "tags": []
   },
   "source": [
    "The outliers in this analysis are the minimum and maximum. The minimum outlier stems from a significant difference in the stocks analyzed. This is likely a result of a difference in industries as technology companies will experience highly volatile and perhaps large returns while more stable sectors like industrials will experience much less volatile and more market consistent returns. Additionally, the maximum outlier is a result of the exact same companies but different class of stock being analyzed. For example, Google has a Class A (GOOGL) and Class C (GOOG) stock. Therefore, while two different stocks are being analyzed, the returns for Google on their Class A and C will be virtually the exact same.  "
   ]
  },
  {
   "cell_type": "markdown",
   "id": "3faf08b1-5068-44ef-8088-eb1ecec24063",
   "metadata": {},
   "source": [
    "# Plot annualized average returns versus annualized standard deviations of returns.\n"
   ]
  },
  {
   "cell_type": "code",
   "execution_count": 16,
   "id": "8c09fafe-de1d-4f60-9366-5e0fc6320425",
   "metadata": {},
   "outputs": [],
   "source": [
    "# creates a plot given dataframe and variables\n",
    "def create_plot(plot_data, plot_kind, x_var, y_var, labels=False, trendline=False, **other_vars):\n",
    "    plot = plot_data.plot(kind=plot_kind, x=x_var, y=y_var, **other_vars)\n",
    "    # labeling to identify outliers\n",
    "    if labels:\n",
    "        for idx, r in plot_data.iterrows():\n",
    "            plot.annotate(f'${idx}', (r[x_var],r[y_var]))\n",
    "    # trendline for identifying outliers\n",
    "    if trendline:\n",
    "        m,b = np.polyfit(x=plot_data.loc[:, x_var], y=plot_data.loc[:, y_var], deg=1)\n",
    "        plt.axline(xy1=(0, b), slope=m)\n",
    "    plt.show()\n",
    "    return plot\n",
    "\n",
    "# creates plot of returns vs stdevs when given returns as a dataframe\n",
    "def create_return_stdev_plot(daily_returns, **other_vars):\n",
    "    annual_returns = daily_returns.mean().mul(252)\n",
    "    annual_stdevs = daily_returns.std().mul(np.sqrt(252))\n",
    "    stock_plot_data = pd.concat([annual_returns.rename('return').mul(100), annual_stdevs.rename('stdev').mul(100)], axis=1)\n",
    "    create_plot(stock_plot_data, 'scatter', 'stdev', 'return', \n",
    "            title='Annualized Average Returns vs Annualized Standard Deviation of Returns', \n",
    "            xlabel='Standard Deviation (%)', ylabel='Return (%)', **other_vars)"
   ]
  },
  {
   "cell_type": "code",
   "execution_count": 17,
   "id": "ec3d8bb1-f032-405c-b05d-33f071c9e31a",
   "metadata": {},
   "outputs": [
    {
     "name": "stderr",
     "output_type": "stream",
     "text": [
      "/home/richard/.local/lib/python3.10/site-packages/pandas/plotting/_matplotlib/core.py:1114: UserWarning: No data for colormapping provided via 'c'. Parameters 'cmap' will be ignored\n",
      "  scatter = ax.scatter(\n"
     ]
    },
    {
     "data": {
      "image/png": "[encoded data removed]",
      "text/plain": [
       "<Figure size 432x288 with 1 Axes>"
      ]
     },
     "metadata": {
      "filenames": {
       "image/png": "/home/richard/Dropbox/Documents/Teaching/FINA 4380 - 2022 Fall/Notebooks/_build/jupyter_execute/Projects/project-1/submissions/project3_20832_17641646_project-1_22_1.png"
      },
      "needs_background": "light"
     },
     "output_type": "display_data"
    }
   ],
   "source": [
    "create_return_stdev_plot(daily_returns)"
   ]
  },
  {
   "cell_type": "code",
   "execution_count": 18,
   "id": "4bd6ed9d-8163-42dc-afb3-2aa53216e202",
   "metadata": {},
   "outputs": [
    {
     "data": {
      "image/png": "[encoded data removed]",
      "text/plain": [
       "<Figure size 432x288 with 1 Axes>"
      ]
     },
     "metadata": {
      "filenames": {
       "image/png": "/home/richard/Dropbox/Documents/Teaching/FINA 4380 - 2022 Fall/Notebooks/_build/jupyter_execute/Projects/project-1/submissions/project3_20832_17641646_project-1_23_0.png"
      },
      "needs_background": "light"
     },
     "output_type": "display_data"
    }
   ],
   "source": [
    "plot = create_return_stdev_plot(daily_returns, labels=True, trendline=True)"
   ]
  },
  {
   "cell_type": "markdown",
   "id": "a540440f-fe1d-41fb-bae3-4d6e167765fb",
   "metadata": {},
   "source": [
    "Here, we observe the largest outlier is Tesla ($TSLA), which although containing a high standard deviation, still overperformed its predicted** performance by a relatively large margin of approximately 80%.\n",
    "\n",
    "On the flip side, we observe the outlier of Boeing ($BA). While similar to Tesla in having a high standard deviation, Boeing underperformed its predicted** return by about 35%.\n",
    "\n",
    "** prediction via linear regression"
   ]
  },
  {
   "cell_type": "markdown",
   "id": "eb963d91-8f91-4bc8-8856-7b61121ef4e0",
   "metadata": {
    "tags": []
   },
   "source": [
    "# Repeat the exercise above (question 5) with 100 random portfolios of 2, 5, 10, and 25 stocks."
   ]
  },
  {
   "cell_type": "code",
   "execution_count": 19,
   "id": "0649837b-94fd-4f7a-9fb9-92056056b85f",
   "metadata": {},
   "outputs": [],
   "source": [
    "# generate a given number of portfolios of given number of stocks from given data\n",
    "def generate_portfolios(stock_data, num_stocks, num_portfolios=100):\n",
    "    # 100 random portfolios of 2 stocks\n",
    "    np.random.seed(15)\n",
    "    portfolio_returns = pd.DataFrame({}, index=stock_data.index)\n",
    "    portfolios = []\n",
    "    while len(portfolios) <= num_portfolios:\n",
    "        # get random portfolios\n",
    "        sample_returns = stock_data.sample(num_stocks, axis=1)\n",
    "        # Guarantee unique samples\n",
    "        if set(sample_returns.columns) in portfolios:\n",
    "            break\n",
    "        portfolios.append(set(sample_returns.columns))\n",
    "        # Get portfolio returns, add to dataframe \n",
    "        portfolio_returns[str(set(sample_returns.columns))] = sample_returns.mean(axis=1)\n",
    "    return portfolio_returns"
   ]
  },
  {
   "cell_type": "code",
   "execution_count": 20,
   "id": "3291331e-9241-4a7b-a6cc-5a0b5566f4a2",
   "metadata": {},
   "outputs": [
    {
     "name": "stderr",
     "output_type": "stream",
     "text": [
      "/tmp/ipykernel_7859/2472999032.py:15: PerformanceWarning: DataFrame is highly fragmented.  This is usually the result of calling `frame.insert` many times, which has poor performance.  Consider joining all columns at once using pd.concat(axis=1) instead. To get a de-fragmented frame, use `newframe = frame.copy()`\n",
      "  portfolio_returns[str(set(sample_returns.columns))] = sample_returns.mean(axis=1)\n",
      "/home/richard/.local/lib/python3.10/site-packages/pandas/plotting/_matplotlib/core.py:1114: UserWarning: No data for colormapping provided via 'c'. Parameters 'cmap' will be ignored\n",
      "  scatter = ax.scatter(\n"
     ]
    },
    {
     "data": {
      "image/png": "[encoded data removed]",
      "text/plain": [
       "<Figure size 432x288 with 1 Axes>"
      ]
     },
     "metadata": {
      "filenames": {
       "image/png": "/home/richard/Dropbox/Documents/Teaching/FINA 4380 - 2022 Fall/Notebooks/_build/jupyter_execute/Projects/project-1/submissions/project3_20832_17641646_project-1_27_1.png"
      },
      "needs_background": "light"
     },
     "output_type": "display_data"
    }
   ],
   "source": [
    "# plot 100 random portfolios of 2 stocks\n",
    "create_return_stdev_plot(generate_portfolios(daily_returns, 2))"
   ]
  },
  {
   "cell_type": "code",
   "execution_count": 21,
   "id": "8d06e867-073b-42f6-801e-1bf65535061f",
   "metadata": {},
   "outputs": [
    {
     "name": "stderr",
     "output_type": "stream",
     "text": [
      "/tmp/ipykernel_7859/2472999032.py:15: PerformanceWarning: DataFrame is highly fragmented.  This is usually the result of calling `frame.insert` many times, which has poor performance.  Consider joining all columns at once using pd.concat(axis=1) instead. To get a de-fragmented frame, use `newframe = frame.copy()`\n",
      "  portfolio_returns[str(set(sample_returns.columns))] = sample_returns.mean(axis=1)\n",
      "/home/richard/.local/lib/python3.10/site-packages/pandas/plotting/_matplotlib/core.py:1114: UserWarning: No data for colormapping provided via 'c'. Parameters 'cmap' will be ignored\n",
      "  scatter = ax.scatter(\n"
     ]
    },
    {
     "data": {
      "image/png": "[encoded data removed]",
      "text/plain": [
       "<Figure size 432x288 with 1 Axes>"
      ]
     },
     "metadata": {
      "filenames": {
       "image/png": "/home/richard/Dropbox/Documents/Teaching/FINA 4380 - 2022 Fall/Notebooks/_build/jupyter_execute/Projects/project-1/submissions/project3_20832_17641646_project-1_28_1.png"
      },
      "needs_background": "light"
     },
     "output_type": "display_data"
    }
   ],
   "source": [
    "# plot 100 random portfolios of 5 stocks\n",
    "create_return_stdev_plot(generate_portfolios(daily_returns, 5))"
   ]
  },
  {
   "cell_type": "code",
   "execution_count": 22,
   "id": "cbfc5e93-ec4b-4471-bf20-a823c8d6669d",
   "metadata": {},
   "outputs": [
    {
     "name": "stderr",
     "output_type": "stream",
     "text": [
      "/tmp/ipykernel_7859/2472999032.py:15: PerformanceWarning: DataFrame is highly fragmented.  This is usually the result of calling `frame.insert` many times, which has poor performance.  Consider joining all columns at once using pd.concat(axis=1) instead. To get a de-fragmented frame, use `newframe = frame.copy()`\n",
      "  portfolio_returns[str(set(sample_returns.columns))] = sample_returns.mean(axis=1)\n",
      "/home/richard/.local/lib/python3.10/site-packages/pandas/plotting/_matplotlib/core.py:1114: UserWarning: No data for colormapping provided via 'c'. Parameters 'cmap' will be ignored\n",
      "  scatter = ax.scatter(\n"
     ]
    },
    {
     "data": {
      "image/png": "[encoded data removed]",
      "text/plain": [
       "<Figure size 432x288 with 1 Axes>"
      ]
     },
     "metadata": {
      "filenames": {
       "image/png": "/home/richard/Dropbox/Documents/Teaching/FINA 4380 - 2022 Fall/Notebooks/_build/jupyter_execute/Projects/project-1/submissions/project3_20832_17641646_project-1_29_1.png"
      },
      "needs_background": "light"
     },
     "output_type": "display_data"
    }
   ],
   "source": [
    "# plot 100 random portfolios of 10 stocks\n",
    "create_return_stdev_plot(generate_portfolios(daily_returns, 10))"
   ]
  },
  {
   "cell_type": "code",
   "execution_count": 23,
   "id": "e6ee684e-b09d-438d-8fa5-3db0dbaffc8e",
   "metadata": {},
   "outputs": [
    {
     "name": "stderr",
     "output_type": "stream",
     "text": [
      "/tmp/ipykernel_7859/2472999032.py:15: PerformanceWarning: DataFrame is highly fragmented.  This is usually the result of calling `frame.insert` many times, which has poor performance.  Consider joining all columns at once using pd.concat(axis=1) instead. To get a de-fragmented frame, use `newframe = frame.copy()`\n",
      "  portfolio_returns[str(set(sample_returns.columns))] = sample_returns.mean(axis=1)\n",
      "/home/richard/.local/lib/python3.10/site-packages/pandas/plotting/_matplotlib/core.py:1114: UserWarning: No data for colormapping provided via 'c'. Parameters 'cmap' will be ignored\n",
      "  scatter = ax.scatter(\n"
     ]
    },
    {
     "data": {
      "image/png": "[encoded data removed]",
      "text/plain": [
       "<Figure size 432x288 with 1 Axes>"
      ]
     },
     "metadata": {
      "filenames": {
       "image/png": "/home/richard/Dropbox/Documents/Teaching/FINA 4380 - 2022 Fall/Notebooks/_build/jupyter_execute/Projects/project-1/submissions/project3_20832_17641646_project-1_30_1.png"
      },
      "needs_background": "light"
     },
     "output_type": "display_data"
    }
   ],
   "source": [
    "# plot 100 random portfolios of 25 stocks\n",
    "create_return_stdev_plot(generate_portfolios(daily_returns, 25))"
   ]
  }
 ],
 "metadata": {
  "editor": "DataCamp Workspace",
  "kernelspec": {
   "display_name": "Python 3 (ipykernel)",
   "language": "python",
   "name": "python3"
  },
  "language_info": {
   "codemirror_mode": {
    "name": "ipython",
    "version": 3
   },
   "file_extension": ".py",
   "mimetype": "text/x-python",
   "name": "python",
   "nbconvert_exporter": "python",
   "pygments_lexer": "ipython3",
   "version": "3.10.6"
  },
  "toc-autonumbering": true,
  "toc-showcode": false,
  "toc-showtags": true
 },
 "nbformat": 4,
 "nbformat_minor": 5
}