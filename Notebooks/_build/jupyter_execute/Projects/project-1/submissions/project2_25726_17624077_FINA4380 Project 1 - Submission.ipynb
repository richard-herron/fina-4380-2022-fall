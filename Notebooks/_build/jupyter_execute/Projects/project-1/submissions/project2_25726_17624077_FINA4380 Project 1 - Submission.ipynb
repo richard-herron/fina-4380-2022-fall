{
 "cells": [
  {
   "cell_type": "code",
   "execution_count": 1,
   "id": "9d4eb9b9-f6ab-4530-9291-2eb6e8179ff5",
   "metadata": {},
   "outputs": [],
   "source": [
    "import pandas as pd\n",
    "import numpy as np\n",
    "import matplotlib.pyplot as plt\n",
    "\n",
    "pd.set_option('display.float_format', '{:.4f}'.format)\n",
    "%precision 4\n",
    "plt.rcParams['figure.dpi'] = 150\n",
    "\n",
    "import yfinance as yf\n",
    "import requests_cache\n",
    "session = requests_cache.CachedSession(expire_after='1D')"
   ]
  },
  {
   "cell_type": "code",
   "execution_count": 2,
   "id": "6f992300-1ed9-43af-8a09-73d404d0b364",
   "metadata": {
    "tags": []
   },
   "outputs": [],
   "source": [
    "# Referencing wiki link for all ticker symbols\n",
    "wiki_link = 'https://en.wikipedia.org/wiki/S%26P_100'\n",
    "wiki = pd.read_html(wiki_link)"
   ]
  },
  {
   "cell_type": "code",
   "execution_count": 3,
   "id": "03942705-1014-4c4b-aea7-b107aba2f606",
   "metadata": {
    "tags": []
   },
   "outputs": [],
   "source": [
    "# Pulling tickers from wiki link and saving as 'list' type\n",
    "tickers = wiki[2]['Symbol'].to_list()\n",
    "tickers.remove('BRK.B')\n",
    "tickers.append('BRK-B')"
   ]
  },
  {
   "cell_type": "code",
   "execution_count": 4,
   "id": "79ed5e6d-e798-4e9d-b576-3b5c6c1c761d",
   "metadata": {
    "tags": []
   },
   "outputs": [
    {
     "name": "stdout",
     "output_type": "stream",
     "text": [
      "\r",
      "[                       0%                       ]"
     ]
    },
    {
     "name": "stdout",
     "output_type": "stream",
     "text": [
      "\r",
      "[*                      2%                       ]  2 of 101 completed"
     ]
    },
    {
     "name": "stdout",
     "output_type": "stream",
     "text": [
      "\r",
      "[*                      3%                       ]  3 of 101 completed"
     ]
    },
    {
     "name": "stdout",
     "output_type": "stream",
     "text": [
      "\r",
      "[**                     4%                       ]  4 of 101 completed"
     ]
    },
    {
     "name": "stdout",
     "output_type": "stream",
     "text": [
      "\r",
      "[**                     5%                       ]  5 of 101 completed"
     ]
    },
    {
     "name": "stdout",
     "output_type": "stream",
     "text": [
      "\r",
      "[***                    6%                       ]  6 of 101 completed"
     ]
    },
    {
     "name": "stdout",
     "output_type": "stream",
     "text": [
      "\r",
      "[***                    7%                       ]  7 of 101 completed"
     ]
    },
    {
     "name": "stdout",
     "output_type": "stream",
     "text": [
      "\r",
      "[****                   8%                       ]  8 of 101 completed"
     ]
    },
    {
     "name": "stdout",
     "output_type": "stream",
     "text": [
      "\r",
      "[****                   9%                       ]  9 of 101 completed"
     ]
    },
    {
     "name": "stdout",
     "output_type": "stream",
     "text": [
      "\r",
      "[*****                 10%                       ]  10 of 101 completed"
     ]
    },
    {
     "name": "stdout",
     "output_type": "stream",
     "text": [
      "\r",
      "[*****                 11%                       ]  11 of 101 completed"
     ]
    },
    {
     "name": "stdout",
     "output_type": "stream",
     "text": [
      "\r",
      "[******                12%                       ]  12 of 101 completed"
     ]
    },
    {
     "name": "stdout",
     "output_type": "stream",
     "text": [
      "\r",
      "[******                13%                       ]  13 of 101 completed"
     ]
    },
    {
     "name": "stdout",
     "output_type": "stream",
     "text": [
      "\r",
      "[*******               14%                       ]  14 of 101 completed"
     ]
    },
    {
     "name": "stdout",
     "output_type": "stream",
     "text": [
      "\r",
      "[*******               15%                       ]  15 of 101 completed"
     ]
    },
    {
     "name": "stdout",
     "output_type": "stream",
     "text": [
      "\r",
      "[********              16%                       ]  16 of 101 completed"
     ]
    },
    {
     "name": "stdout",
     "output_type": "stream",
     "text": [
      "\r",
      "[********              17%                       ]  17 of 101 completed"
     ]
    },
    {
     "name": "stdout",
     "output_type": "stream",
     "text": [
      "\r",
      "[*********             18%                       ]  18 of 101 completed"
     ]
    },
    {
     "name": "stdout",
     "output_type": "stream",
     "text": [
      "\r",
      "[*********             19%                       ]  19 of 101 completed"
     ]
    },
    {
     "name": "stdout",
     "output_type": "stream",
     "text": [
      "\r",
      "[**********            20%                       ]  20 of 101 completed"
     ]
    },
    {
     "name": "stdout",
     "output_type": "stream",
     "text": [
      "\r",
      "[**********            21%                       ]  21 of 101 completed"
     ]
    },
    {
     "name": "stdout",
     "output_type": "stream",
     "text": [
      "\r",
      "[***********           22%                       ]  22 of 101 completed"
     ]
    },
    {
     "name": "stdout",
     "output_type": "stream",
     "text": [
      "\r",
      "[***********           23%                       ]  23 of 101 completed"
     ]
    },
    {
     "name": "stdout",
     "output_type": "stream",
     "text": [
      "\r",
      "[************          24%                       ]  24 of 101 completed"
     ]
    },
    {
     "name": "stdout",
     "output_type": "stream",
     "text": [
      "\r",
      "[************          25%                       ]  25 of 101 completed"
     ]
    },
    {
     "name": "stdout",
     "output_type": "stream",
     "text": [
      "\r",
      "[************          26%                       ]  26 of 101 completed"
     ]
    },
    {
     "name": "stdout",
     "output_type": "stream",
     "text": [
      "\r",
      "[*************         27%                       ]  27 of 101 completed"
     ]
    },
    {
     "name": "stdout",
     "output_type": "stream",
     "text": [
      "\r",
      "[*************         28%                       ]  28 of 101 completed"
     ]
    },
    {
     "name": "stdout",
     "output_type": "stream",
     "text": [
      "\r",
      "[**************        29%                       ]  29 of 101 completed"
     ]
    },
    {
     "name": "stdout",
     "output_type": "stream",
     "text": [
      "\r",
      "[**************        30%                       ]  30 of 101 completed"
     ]
    },
    {
     "name": "stdout",
     "output_type": "stream",
     "text": [
      "\r",
      "[***************       31%                       ]  31 of 101 completed"
     ]
    },
    {
     "name": "stdout",
     "output_type": "stream",
     "text": [
      "\r",
      "[***************       32%                       ]  32 of 101 completed"
     ]
    },
    {
     "name": "stdout",
     "output_type": "stream",
     "text": [
      "\r",
      "[****************      33%                       ]  33 of 101 completed"
     ]
    },
    {
     "name": "stdout",
     "output_type": "stream",
     "text": [
      "\r",
      "[****************      34%                       ]  34 of 101 completed"
     ]
    },
    {
     "name": "stdout",
     "output_type": "stream",
     "text": [
      "\r",
      "[*****************     35%                       ]  35 of 101 completed"
     ]
    },
    {
     "name": "stdout",
     "output_type": "stream",
     "text": [
      "\r",
      "[*****************     36%                       ]  36 of 101 completed"
     ]
    },
    {
     "name": "stdout",
     "output_type": "stream",
     "text": [
      "\r",
      "[******************    37%                       ]  37 of 101 completed"
     ]
    },
    {
     "name": "stdout",
     "output_type": "stream",
     "text": [
      "\r",
      "[******************    38%                       ]  38 of 101 completed"
     ]
    },
    {
     "name": "stdout",
     "output_type": "stream",
     "text": [
      "\r",
      "[*******************   39%                       ]  39 of 101 completed"
     ]
    },
    {
     "name": "stdout",
     "output_type": "stream",
     "text": [
      "\r",
      "[*******************   40%                       ]  40 of 101 completed"
     ]
    },
    {
     "name": "stdout",
     "output_type": "stream",
     "text": [
      "\r",
      "[********************  41%                       ]  41 of 101 completed"
     ]
    },
    {
     "name": "stdout",
     "output_type": "stream",
     "text": [
      "\r",
      "[********************  42%                       ]  42 of 101 completed"
     ]
    },
    {
     "name": "stdout",
     "output_type": "stream",
     "text": [
      "\r",
      "[********************* 43%                       ]  43 of 101 completed"
     ]
    },
    {
     "name": "stdout",
     "output_type": "stream",
     "text": [
      "\r",
      "[********************* 44%                       ]  44 of 101 completed"
     ]
    },
    {
     "name": "stdout",
     "output_type": "stream",
     "text": [
      "\r",
      "[**********************45%                       ]  45 of 101 completed"
     ]
    },
    {
     "name": "stdout",
     "output_type": "stream",
     "text": [
      "\r",
      "[**********************46%                       ]  46 of 101 completed"
     ]
    },
    {
     "name": "stdout",
     "output_type": "stream",
     "text": [
      "\r",
      "[**********************46%                       ]  46 of 101 completed"
     ]
    },
    {
     "name": "stdout",
     "output_type": "stream",
     "text": [
      "\r",
      "[**********************48%                       ]  48 of 101 completed"
     ]
    },
    {
     "name": "stdout",
     "output_type": "stream",
     "text": [
      "\r",
      "[**********************49%                       ]  49 of 101 completed"
     ]
    },
    {
     "name": "stdout",
     "output_type": "stream",
     "text": [
      "\r",
      "[**********************50%                       ]  50 of 101 completed"
     ]
    },
    {
     "name": "stdout",
     "output_type": "stream",
     "text": [
      "\r",
      "[**********************50%                       ]  51 of 101 completed"
     ]
    },
    {
     "name": "stdout",
     "output_type": "stream",
     "text": [
      "\r",
      "[**********************51%                       ]  52 of 101 completed"
     ]
    },
    {
     "name": "stdout",
     "output_type": "stream",
     "text": [
      "\r",
      "[**********************52%                       ]  53 of 101 completed"
     ]
    },
    {
     "name": "stdout",
     "output_type": "stream",
     "text": [
      "\r",
      "[**********************53%                       ]  54 of 101 completed"
     ]
    },
    {
     "name": "stdout",
     "output_type": "stream",
     "text": [
      "\r",
      "[**********************54%*                      ]  55 of 101 completed"
     ]
    },
    {
     "name": "stdout",
     "output_type": "stream",
     "text": [
      "\r",
      "[**********************55%*                      ]  56 of 101 completed"
     ]
    },
    {
     "name": "stdout",
     "output_type": "stream",
     "text": [
      "\r",
      "[**********************56%**                     ]  57 of 101 completed"
     ]
    },
    {
     "name": "stdout",
     "output_type": "stream",
     "text": [
      "\r",
      "[**********************57%**                     ]  58 of 101 completed"
     ]
    },
    {
     "name": "stdout",
     "output_type": "stream",
     "text": [
      "\r",
      "[**********************58%***                    ]  59 of 101 completed"
     ]
    },
    {
     "name": "stdout",
     "output_type": "stream",
     "text": [
      "\r",
      "[**********************59%***                    ]  60 of 101 completed"
     ]
    },
    {
     "name": "stdout",
     "output_type": "stream",
     "text": [
      "\r",
      "[**********************60%****                   ]  61 of 101 completed"
     ]
    },
    {
     "name": "stdout",
     "output_type": "stream",
     "text": [
      "\r",
      "[**********************61%****                   ]  62 of 101 completed"
     ]
    },
    {
     "name": "stdout",
     "output_type": "stream",
     "text": [
      "\r",
      "[**********************62%*****                  ]  63 of 101 completed"
     ]
    },
    {
     "name": "stdout",
     "output_type": "stream",
     "text": [
      "\r",
      "[**********************63%*****                  ]  64 of 101 completed"
     ]
    },
    {
     "name": "stdout",
     "output_type": "stream",
     "text": [
      "\r",
      "[**********************64%******                 ]  65 of 101 completed"
     ]
    },
    {
     "name": "stdout",
     "output_type": "stream",
     "text": [
      "\r",
      "[**********************65%******                 ]  66 of 101 completed"
     ]
    },
    {
     "name": "stdout",
     "output_type": "stream",
     "text": [
      "\r",
      "[**********************66%*******                ]  67 of 101 completed"
     ]
    },
    {
     "name": "stdout",
     "output_type": "stream",
     "text": [
      "\r",
      "[**********************67%*******                ]  68 of 101 completed"
     ]
    },
    {
     "name": "stdout",
     "output_type": "stream",
     "text": [
      "\r",
      "[**********************68%********               ]  69 of 101 completed"
     ]
    },
    {
     "name": "stdout",
     "output_type": "stream",
     "text": [
      "\r",
      "[**********************69%********               ]  70 of 101 completed"
     ]
    },
    {
     "name": "stdout",
     "output_type": "stream",
     "text": [
      "\r",
      "[**********************70%*********              ]  71 of 101 completed"
     ]
    },
    {
     "name": "stdout",
     "output_type": "stream",
     "text": [
      "\r",
      "[**********************71%*********              ]  72 of 101 completed"
     ]
    },
    {
     "name": "stdout",
     "output_type": "stream",
     "text": [
      "\r",
      "[**********************72%**********             ]  73 of 101 completed"
     ]
    },
    {
     "name": "stdout",
     "output_type": "stream",
     "text": [
      "\r",
      "[**********************73%**********             ]  74 of 101 completed"
     ]
    },
    {
     "name": "stdout",
     "output_type": "stream",
     "text": [
      "\r",
      "[**********************74%***********            ]  75 of 101 completed\r",
      "[**********************74%***********            ]  75 of 101 completed"
     ]
    },
    {
     "name": "stdout",
     "output_type": "stream",
     "text": [
      "\r",
      "[**********************76%***********            ]  77 of 101 completed"
     ]
    },
    {
     "name": "stdout",
     "output_type": "stream",
     "text": [
      "\r",
      "[**********************77%************           ]  78 of 101 completed"
     ]
    },
    {
     "name": "stdout",
     "output_type": "stream",
     "text": [
      "\r",
      "[**********************78%************           ]  79 of 101 completed"
     ]
    },
    {
     "name": "stdout",
     "output_type": "stream",
     "text": [
      "\r",
      "[**********************79%*************          ]  80 of 101 completed"
     ]
    },
    {
     "name": "stdout",
     "output_type": "stream",
     "text": [
      "\r",
      "[**********************80%*************          ]  81 of 101 completed"
     ]
    },
    {
     "name": "stdout",
     "output_type": "stream",
     "text": [
      "\r",
      "[**********************81%**************         ]  82 of 101 completed"
     ]
    },
    {
     "name": "stdout",
     "output_type": "stream",
     "text": [
      "\r",
      "[**********************82%**************         ]  83 of 101 completed"
     ]
    },
    {
     "name": "stdout",
     "output_type": "stream",
     "text": [
      "\r",
      "[**********************83%***************        ]  84 of 101 completed"
     ]
    },
    {
     "name": "stdout",
     "output_type": "stream",
     "text": [
      "\r",
      "[**********************83%***************        ]  84 of 101 completed"
     ]
    },
    {
     "name": "stdout",
     "output_type": "stream",
     "text": [
      "\r",
      "[**********************85%****************       ]  86 of 101 completed"
     ]
    },
    {
     "name": "stdout",
     "output_type": "stream",
     "text": [
      "\r",
      "[**********************86%****************       ]  87 of 101 completed"
     ]
    },
    {
     "name": "stdout",
     "output_type": "stream",
     "text": [
      "\r",
      "[**********************87%*****************      ]  88 of 101 completed"
     ]
    },
    {
     "name": "stdout",
     "output_type": "stream",
     "text": [
      "\r",
      "[**********************88%*****************      ]  89 of 101 completed"
     ]
    },
    {
     "name": "stdout",
     "output_type": "stream",
     "text": [
      "\r",
      "[**********************89%******************     ]  90 of 101 completed"
     ]
    },
    {
     "name": "stdout",
     "output_type": "stream",
     "text": [
      "\r",
      "[**********************90%******************     ]  91 of 101 completed"
     ]
    },
    {
     "name": "stdout",
     "output_type": "stream",
     "text": [
      "\r",
      "[**********************91%*******************    ]  92 of 101 completed"
     ]
    },
    {
     "name": "stdout",
     "output_type": "stream",
     "text": [
      "\r",
      "[**********************92%*******************    ]  93 of 101 completed"
     ]
    },
    {
     "name": "stdout",
     "output_type": "stream",
     "text": [
      "\r",
      "[**********************93%********************   ]  94 of 101 completed"
     ]
    },
    {
     "name": "stdout",
     "output_type": "stream",
     "text": [
      "\r",
      "[**********************94%********************   ]  95 of 101 completed"
     ]
    },
    {
     "name": "stdout",
     "output_type": "stream",
     "text": [
      "\r",
      "[**********************95%*********************  ]  96 of 101 completed"
     ]
    },
    {
     "name": "stdout",
     "output_type": "stream",
     "text": [
      "\r",
      "[**********************96%*********************  ]  97 of 101 completed"
     ]
    },
    {
     "name": "stdout",
     "output_type": "stream",
     "text": [
      "\r",
      "[**********************97%********************** ]  98 of 101 completed"
     ]
    },
    {
     "name": "stdout",
     "output_type": "stream",
     "text": [
      "\r",
      "[**********************98%********************** ]  99 of 101 completed"
     ]
    },
    {
     "name": "stdout",
     "output_type": "stream",
     "text": [
      "\r",
      "[**********************99%***********************]  100 of 101 completed"
     ]
    },
    {
     "name": "stdout",
     "output_type": "stream",
     "text": [
      "\r",
      "[*********************100%***********************]  101 of 101 completed"
     ]
    },
    {
     "name": "stdout",
     "output_type": "stream",
     "text": [
      "\n"
     ]
    }
   ],
   "source": [
    "#Pulling stock data for each ticker from Yahoo Finance\n",
    "stocks = yf.download(tickers, session=session)"
   ]
  },
  {
   "cell_type": "code",
   "execution_count": 5,
   "id": "293ae836-2010-48e9-b852-8892be751b24",
   "metadata": {
    "tags": []
   },
   "outputs": [
    {
     "name": "stdout",
     "output_type": "stream",
     "text": [
      "\r",
      "[                       0%                       ]"
     ]
    },
    {
     "name": "stdout",
     "output_type": "stream",
     "text": [
      "\r",
      "[*                      2%                       ]  2 of 101 completed"
     ]
    },
    {
     "name": "stdout",
     "output_type": "stream",
     "text": [
      "\r",
      "[*                      3%                       ]  3 of 101 completed"
     ]
    },
    {
     "name": "stdout",
     "output_type": "stream",
     "text": [
      "\r",
      "[**                     4%                       ]  4 of 101 completed"
     ]
    },
    {
     "name": "stdout",
     "output_type": "stream",
     "text": [
      "\r",
      "[**                     5%                       ]  5 of 101 completed"
     ]
    },
    {
     "name": "stdout",
     "output_type": "stream",
     "text": [
      "\r",
      "[***                    6%                       ]  6 of 101 completed\r",
      "[***                    6%                       ]  6 of 101 completed\r",
      "[***                    6%                       ]  6 of 101 completed"
     ]
    },
    {
     "name": "stdout",
     "output_type": "stream",
     "text": [
      "\r",
      "[****                   9%                       ]  9 of 101 completed"
     ]
    },
    {
     "name": "stdout",
     "output_type": "stream",
     "text": [
      "\r",
      "[*****                 10%                       ]  10 of 101 completed"
     ]
    },
    {
     "name": "stdout",
     "output_type": "stream",
     "text": [
      "\r",
      "[*****                 11%                       ]  11 of 101 completed"
     ]
    },
    {
     "name": "stdout",
     "output_type": "stream",
     "text": [
      "\r",
      "[******                12%                       ]  12 of 101 completed"
     ]
    },
    {
     "name": "stdout",
     "output_type": "stream",
     "text": [
      "\r",
      "[******                13%                       ]  13 of 101 completed"
     ]
    },
    {
     "name": "stdout",
     "output_type": "stream",
     "text": [
      "\r",
      "[*******               14%                       ]  14 of 101 completed"
     ]
    },
    {
     "name": "stdout",
     "output_type": "stream",
     "text": [
      "\r",
      "[*******               15%                       ]  15 of 101 completed"
     ]
    },
    {
     "name": "stdout",
     "output_type": "stream",
     "text": [
      "\r",
      "[********              16%                       ]  16 of 101 completed"
     ]
    },
    {
     "name": "stdout",
     "output_type": "stream",
     "text": [
      "\r",
      "[********              17%                       ]  17 of 101 completed"
     ]
    },
    {
     "name": "stdout",
     "output_type": "stream",
     "text": [
      "\r",
      "[*********             18%                       ]  18 of 101 completed"
     ]
    },
    {
     "name": "stdout",
     "output_type": "stream",
     "text": [
      "\r",
      "[*********             19%                       ]  19 of 101 completed"
     ]
    },
    {
     "name": "stdout",
     "output_type": "stream",
     "text": [
      "\r",
      "[**********            20%                       ]  20 of 101 completed"
     ]
    },
    {
     "name": "stdout",
     "output_type": "stream",
     "text": [
      "\r",
      "[**********            21%                       ]  21 of 101 completed"
     ]
    },
    {
     "name": "stdout",
     "output_type": "stream",
     "text": [
      "\r",
      "[***********           22%                       ]  22 of 101 completed\r",
      "[***********           22%                       ]  22 of 101 completed"
     ]
    },
    {
     "name": "stdout",
     "output_type": "stream",
     "text": [
      "\r",
      "[************          24%                       ]  24 of 101 completed"
     ]
    },
    {
     "name": "stdout",
     "output_type": "stream",
     "text": [
      "\r",
      "[************          24%                       ]  24 of 101 completed\r",
      "[************          24%                       ]  24 of 101 completed"
     ]
    },
    {
     "name": "stdout",
     "output_type": "stream",
     "text": [
      "\r",
      "[*************         27%                       ]  27 of 101 completed"
     ]
    },
    {
     "name": "stdout",
     "output_type": "stream",
     "text": [
      "\r",
      "[*************         27%                       ]  27 of 101 completed"
     ]
    },
    {
     "name": "stdout",
     "output_type": "stream",
     "text": [
      "\r",
      "[**************        29%                       ]  29 of 101 completed"
     ]
    },
    {
     "name": "stdout",
     "output_type": "stream",
     "text": [
      "\r",
      "[**************        30%                       ]  30 of 101 completed"
     ]
    },
    {
     "name": "stdout",
     "output_type": "stream",
     "text": [
      "\r",
      "[***************       31%                       ]  31 of 101 completed"
     ]
    },
    {
     "name": "stdout",
     "output_type": "stream",
     "text": [
      "\r",
      "[***************       32%                       ]  32 of 101 completed"
     ]
    },
    {
     "name": "stdout",
     "output_type": "stream",
     "text": [
      "\r",
      "[***************       32%                       ]  32 of 101 completed"
     ]
    },
    {
     "name": "stdout",
     "output_type": "stream",
     "text": [
      "\r",
      "[****************      34%                       ]  34 of 101 completed"
     ]
    },
    {
     "name": "stdout",
     "output_type": "stream",
     "text": [
      "\r",
      "[*****************     35%                       ]  35 of 101 completed"
     ]
    },
    {
     "name": "stdout",
     "output_type": "stream",
     "text": [
      "\r",
      "[*****************     35%                       ]  35 of 101 completed"
     ]
    },
    {
     "name": "stdout",
     "output_type": "stream",
     "text": [
      "\r",
      "[******************    37%                       ]  37 of 101 completed"
     ]
    },
    {
     "name": "stdout",
     "output_type": "stream",
     "text": [
      "\r",
      "[******************    38%                       ]  38 of 101 completed"
     ]
    },
    {
     "name": "stdout",
     "output_type": "stream",
     "text": [
      "\r",
      "[*******************   39%                       ]  39 of 101 completed"
     ]
    },
    {
     "name": "stdout",
     "output_type": "stream",
     "text": [
      "\r",
      "[*******************   40%                       ]  40 of 101 completed"
     ]
    },
    {
     "name": "stdout",
     "output_type": "stream",
     "text": [
      "\r",
      "[********************  41%                       ]  41 of 101 completed"
     ]
    },
    {
     "name": "stdout",
     "output_type": "stream",
     "text": [
      "\r",
      "[********************  41%                       ]  41 of 101 completed"
     ]
    },
    {
     "name": "stdout",
     "output_type": "stream",
     "text": [
      "\r",
      "[********************* 43%                       ]  43 of 101 completed"
     ]
    },
    {
     "name": "stdout",
     "output_type": "stream",
     "text": [
      "\r",
      "[********************* 44%                       ]  44 of 101 completed"
     ]
    },
    {
     "name": "stdout",
     "output_type": "stream",
     "text": [
      "\r",
      "[**********************45%                       ]  45 of 101 completed"
     ]
    },
    {
     "name": "stdout",
     "output_type": "stream",
     "text": [
      "\r",
      "[**********************46%                       ]  46 of 101 completed"
     ]
    },
    {
     "name": "stdout",
     "output_type": "stream",
     "text": [
      "\r",
      "[**********************47%                       ]  47 of 101 completed"
     ]
    },
    {
     "name": "stdout",
     "output_type": "stream",
     "text": [
      "\r",
      "[**********************48%                       ]  48 of 101 completed"
     ]
    },
    {
     "name": "stdout",
     "output_type": "stream",
     "text": [
      "\r",
      "[**********************49%                       ]  49 of 101 completed\r",
      "[**********************49%                       ]  49 of 101 completed"
     ]
    },
    {
     "name": "stdout",
     "output_type": "stream",
     "text": [
      "\r",
      "[**********************50%                       ]  51 of 101 completed"
     ]
    },
    {
     "name": "stdout",
     "output_type": "stream",
     "text": [
      "\r",
      "[**********************51%                       ]  52 of 101 completed"
     ]
    },
    {
     "name": "stdout",
     "output_type": "stream",
     "text": [
      "\r",
      "[**********************52%                       ]  53 of 101 completed"
     ]
    },
    {
     "name": "stdout",
     "output_type": "stream",
     "text": [
      "\r",
      "[**********************53%                       ]  54 of 101 completed"
     ]
    },
    {
     "name": "stdout",
     "output_type": "stream",
     "text": [
      "\r",
      "[**********************54%*                      ]  55 of 101 completed"
     ]
    },
    {
     "name": "stdout",
     "output_type": "stream",
     "text": [
      "\r",
      "[**********************55%*                      ]  56 of 101 completed"
     ]
    },
    {
     "name": "stdout",
     "output_type": "stream",
     "text": [
      "\r",
      "[**********************56%**                     ]  57 of 101 completed"
     ]
    },
    {
     "name": "stdout",
     "output_type": "stream",
     "text": [
      "\r",
      "[**********************57%**                     ]  58 of 101 completed"
     ]
    },
    {
     "name": "stdout",
     "output_type": "stream",
     "text": [
      "\r",
      "[**********************58%***                    ]  59 of 101 completed"
     ]
    },
    {
     "name": "stdout",
     "output_type": "stream",
     "text": [
      "\r",
      "[**********************59%***                    ]  60 of 101 completed"
     ]
    },
    {
     "name": "stdout",
     "output_type": "stream",
     "text": [
      "\r",
      "[**********************60%****                   ]  61 of 101 completed"
     ]
    },
    {
     "name": "stdout",
     "output_type": "stream",
     "text": [
      "\r",
      "[**********************61%****                   ]  62 of 101 completed"
     ]
    },
    {
     "name": "stdout",
     "output_type": "stream",
     "text": [
      "\r",
      "[**********************62%*****                  ]  63 of 101 completed"
     ]
    },
    {
     "name": "stdout",
     "output_type": "stream",
     "text": [
      "\r",
      "[**********************62%*****                  ]  63 of 101 completed\r",
      "[**********************62%*****                  ]  63 of 101 completed"
     ]
    },
    {
     "name": "stdout",
     "output_type": "stream",
     "text": [
      "\r",
      "[**********************65%******                 ]  66 of 101 completed"
     ]
    },
    {
     "name": "stdout",
     "output_type": "stream",
     "text": [
      "\r",
      "[**********************66%*******                ]  67 of 101 completed"
     ]
    },
    {
     "name": "stdout",
     "output_type": "stream",
     "text": [
      "\r",
      "[**********************67%*******                ]  68 of 101 completed"
     ]
    },
    {
     "name": "stdout",
     "output_type": "stream",
     "text": [
      "\r",
      "[**********************68%********               ]  69 of 101 completed"
     ]
    },
    {
     "name": "stdout",
     "output_type": "stream",
     "text": [
      "\r",
      "[**********************69%********               ]  70 of 101 completed"
     ]
    },
    {
     "name": "stdout",
     "output_type": "stream",
     "text": [
      "\r",
      "[**********************70%*********              ]  71 of 101 completed"
     ]
    },
    {
     "name": "stdout",
     "output_type": "stream",
     "text": [
      "\r",
      "[**********************71%*********              ]  72 of 101 completed"
     ]
    },
    {
     "name": "stdout",
     "output_type": "stream",
     "text": [
      "\r",
      "[**********************72%**********             ]  73 of 101 completed"
     ]
    },
    {
     "name": "stdout",
     "output_type": "stream",
     "text": [
      "\r",
      "[**********************73%**********             ]  74 of 101 completed"
     ]
    },
    {
     "name": "stdout",
     "output_type": "stream",
     "text": [
      "\r",
      "[**********************74%***********            ]  75 of 101 completed"
     ]
    },
    {
     "name": "stdout",
     "output_type": "stream",
     "text": [
      "\r",
      "[**********************75%***********            ]  76 of 101 completed"
     ]
    },
    {
     "name": "stdout",
     "output_type": "stream",
     "text": [
      "\r",
      "[**********************76%***********            ]  77 of 101 completed"
     ]
    },
    {
     "name": "stdout",
     "output_type": "stream",
     "text": [
      "\r",
      "[**********************77%************           ]  78 of 101 completed"
     ]
    },
    {
     "name": "stdout",
     "output_type": "stream",
     "text": [
      "\r",
      "[**********************78%************           ]  79 of 101 completed"
     ]
    },
    {
     "name": "stdout",
     "output_type": "stream",
     "text": [
      "\r",
      "[**********************79%*************          ]  80 of 101 completed"
     ]
    },
    {
     "name": "stdout",
     "output_type": "stream",
     "text": [
      "\r",
      "[**********************80%*************          ]  81 of 101 completed"
     ]
    },
    {
     "name": "stdout",
     "output_type": "stream",
     "text": [
      "\r",
      "[**********************81%**************         ]  82 of 101 completed"
     ]
    },
    {
     "name": "stdout",
     "output_type": "stream",
     "text": [
      "\r",
      "[**********************82%**************         ]  83 of 101 completed"
     ]
    },
    {
     "name": "stdout",
     "output_type": "stream",
     "text": [
      "\r",
      "[**********************82%**************         ]  83 of 101 completed"
     ]
    },
    {
     "name": "stdout",
     "output_type": "stream",
     "text": [
      "\r",
      "[**********************84%***************        ]  85 of 101 completed\r",
      "[**********************84%***************        ]  85 of 101 completed"
     ]
    },
    {
     "name": "stdout",
     "output_type": "stream",
     "text": [
      "\r",
      "[**********************86%****************       ]  87 of 101 completed"
     ]
    },
    {
     "name": "stdout",
     "output_type": "stream",
     "text": [
      "\r",
      "[**********************87%*****************      ]  88 of 101 completed"
     ]
    },
    {
     "name": "stdout",
     "output_type": "stream",
     "text": [
      "\r",
      "[**********************88%*****************      ]  89 of 101 completed"
     ]
    },
    {
     "name": "stdout",
     "output_type": "stream",
     "text": [
      "\r",
      "[**********************89%******************     ]  90 of 101 completed"
     ]
    },
    {
     "name": "stdout",
     "output_type": "stream",
     "text": [
      "\r",
      "[**********************90%******************     ]  91 of 101 completed"
     ]
    },
    {
     "name": "stdout",
     "output_type": "stream",
     "text": [
      "\r",
      "[**********************91%*******************    ]  92 of 101 completed"
     ]
    },
    {
     "name": "stdout",
     "output_type": "stream",
     "text": [
      "\r",
      "[**********************92%*******************    ]  93 of 101 completed"
     ]
    },
    {
     "name": "stdout",
     "output_type": "stream",
     "text": [
      "\r",
      "[**********************93%********************   ]  94 of 101 completed"
     ]
    },
    {
     "name": "stdout",
     "output_type": "stream",
     "text": [
      "\r",
      "[**********************94%********************   ]  95 of 101 completed"
     ]
    },
    {
     "name": "stdout",
     "output_type": "stream",
     "text": [
      "\r",
      "[**********************95%*********************  ]  96 of 101 completed"
     ]
    },
    {
     "name": "stdout",
     "output_type": "stream",
     "text": [
      "\r",
      "[**********************96%*********************  ]  97 of 101 completed"
     ]
    },
    {
     "name": "stdout",
     "output_type": "stream",
     "text": [
      "\r",
      "[**********************97%********************** ]  98 of 101 completed"
     ]
    },
    {
     "name": "stdout",
     "output_type": "stream",
     "text": [
      "\r",
      "[**********************98%********************** ]  99 of 101 completed"
     ]
    },
    {
     "name": "stdout",
     "output_type": "stream",
     "text": [
      "\r",
      "[**********************99%***********************]  100 of 101 completed"
     ]
    },
    {
     "name": "stdout",
     "output_type": "stream",
     "text": [
      "\r",
      "[*********************100%***********************]  101 of 101 completed"
     ]
    },
    {
     "name": "stdout",
     "output_type": "stream",
     "text": [
      "\n"
     ]
    }
   ],
   "source": [
    "# Pulling stock data for each ticker from Yahoo Finance\n",
    "stocks = yf.download(tickers, start = \"2020-01-01\", end = \"2022-08-31\", session = session)"
   ]
  },
  {
   "cell_type": "markdown",
   "id": "8ed3021c-8b96-4f96-a179-c4544e888167",
   "metadata": {},
   "source": [
    "### 1) Calculate daily returns for the S&P 100 stocks."
   ]
  },
  {
   "cell_type": "code",
   "execution_count": 6,
   "id": "ceb6f419-981a-4df3-a9f1-0041b424f5ba",
   "metadata": {},
   "outputs": [
    {
     "data": {
      "text/plain": [
       "DatetimeIndex(['2020-01-02', '2020-01-03', '2020-01-06', '2020-01-07',\n",
       "               '2020-01-08', '2020-01-09', '2020-01-10', '2020-01-13',\n",
       "               '2020-01-14', '2020-01-15',\n",
       "               ...\n",
       "               '2022-08-18', '2022-08-19', '2022-08-22', '2022-08-23',\n",
       "               '2022-08-24', '2022-08-25', '2022-08-26', '2022-08-29',\n",
       "               '2022-08-30', '2022-08-31'],\n",
       "              dtype='datetime64[ns]', name='Date', length=672, freq=None)"
      ]
     },
     "execution_count": 6,
     "metadata": {},
     "output_type": "execute_result"
    }
   ],
   "source": [
    "stocks.index"
   ]
  },
  {
   "cell_type": "code",
   "execution_count": 7,
   "id": "0796342d-5eeb-4034-86e8-9eadfb9bf1a5",
   "metadata": {
    "tags": []
   },
   "outputs": [],
   "source": [
    "# Daily returns for the S&P 100 stocks\n",
    "returns = stocks['Adj Close'].dropna().pct_change()"
   ]
  },
  {
   "cell_type": "code",
   "execution_count": 8,
   "id": "14cba3e3-bb19-41d4-9f77-6ec8eee3a186",
   "metadata": {
    "tags": []
   },
   "outputs": [],
   "source": [
    "# Change data type of returns to .to_datetime()\n",
    "returns.index = pd.to_datetime(returns.index)"
   ]
  },
  {
   "cell_type": "markdown",
   "id": "de1da542-5363-4ac5-949c-60a840faabf7",
   "metadata": {},
   "source": [
    "### 2) How well do these annualized average returns in 2020 predict returns in 2021? "
   ]
  },
  {
   "cell_type": "code",
   "execution_count": 9,
   "id": "e02633af-3aa0-43b6-83cc-d5d770e1a05e",
   "metadata": {
    "tags": []
   },
   "outputs": [],
   "source": [
    "returns_2020 = returns.loc['2020'].mean().mul(252)\n",
    "returns_2021 = returns.loc['2021'].mean().mul(252)"
   ]
  },
  {
   "cell_type": "markdown",
   "id": "bcf5e57f-7dd9-4d8f-bded-fff3bedb1f07",
   "metadata": {},
   "source": [
    "#### Comparing 2020 and 2021 annualized average returns."
   ]
  },
  {
   "cell_type": "code",
   "execution_count": 10,
   "id": "94ed3c02-5bdd-48ca-8aa7-77efaab9cc68",
   "metadata": {
    "tags": []
   },
   "outputs": [
    {
     "data": {
      "image/png": "[encoded data removed]",
      "text/plain": [
       "<Figure size 432x288 with 1 Axes>"
      ]
     },
     "metadata": {
      "filenames": {
       "image/png": "/home/richard/Dropbox/Documents/Teaching/FINA 4380 - 2022 Fall/Notebooks/_build/jupyter_execute/Projects/project-1/submissions/project2_25726_17624077_FINA4380 Project 1 - Submission_12_0.png"
      },
      "needs_background": "light"
     },
     "output_type": "display_data"
    }
   ],
   "source": [
    "plt.scatter(\n",
    "    x = returns_2020,\n",
    "    y = returns_2021\n",
    ")\n",
    "\n",
    "plt.title('2020 vs 2021 Anualized Average Returns')\n",
    "plt.xlabel('2020 Annualized Average Returns')\n",
    "plt.ylabel('2021 Annualized Average Returns')\n",
    "plt.ylim(-0.5,1)\n",
    "plt.xlim(-0.5,1)\n",
    "\n",
    "plt.show()"
   ]
  },
  {
   "cell_type": "markdown",
   "id": "3f30877e-3592-409f-a5af-e5259cd875b8",
   "metadata": {},
   "source": [
    "#### Analysis:"
   ]
  },
  {
   "cell_type": "markdown",
   "id": "c04bc29a-6290-4618-b5a5-ca39b13875b8",
   "metadata": {},
   "source": [
    "Based on the plot above, there lacks a correlation between 2020 and 2021 annualized average returns. Given the plot's indistinct pattern, we conclude that there is neither a positive nor negative correlation between the two years. Thus, the annualized average returns from 2020 are not a good indicator of annualized average returns for 2021, and onwards. The annualized average return can help give a general view of the stocks' and S&P 100 index's performance throughout the year, but, as the graph above shows, it does not entail that the annualized average return from the present provides any indication of the future price performance of a given stock."
   ]
  },
  {
   "cell_type": "markdown",
   "id": "76c64434-99c6-4933-8dfe-8ced7f568dbe",
   "metadata": {},
   "source": [
    "### 3) How well do these annualized standard deviations in 2020 predict returns in 2021? "
   ]
  },
  {
   "cell_type": "code",
   "execution_count": 11,
   "id": "dff4f479-6f0b-4a19-b307-d08cbe4521f4",
   "metadata": {
    "tags": []
   },
   "outputs": [
    {
     "name": "stderr",
     "output_type": "stream",
     "text": [
      "/tmp/ipykernel_7623/1801003825.py:1: FutureWarning: Indexing a DataFrame with a datetimelike index using a single string to slice the rows, like `frame[string]`, is deprecated and will be removed in a future version. Use `frame.loc[string]` instead.\n",
      "  std_2020 = returns['2020'].std().mul(np.sqrt(252))\n",
      "/tmp/ipykernel_7623/1801003825.py:2: FutureWarning: Indexing a DataFrame with a datetimelike index using a single string to slice the rows, like `frame[string]`, is deprecated and will be removed in a future version. Use `frame.loc[string]` instead.\n",
      "  std_2021 = returns['2021'].std().mul(np.sqrt(252))\n"
     ]
    }
   ],
   "source": [
    "std_2020 = returns['2020'].std().mul(np.sqrt(252))\n",
    "std_2021 = returns['2021'].std().mul(np.sqrt(252))"
   ]
  },
  {
   "cell_type": "markdown",
   "id": "345e6444-acc9-4851-92a2-b1e2b5b97378",
   "metadata": {},
   "source": [
    "#### Comparing 2020 and 2021 annualized standard deviations."
   ]
  },
  {
   "cell_type": "code",
   "execution_count": 12,
   "id": "259e254a-6807-4818-be83-668d6191ccf8",
   "metadata": {
    "tags": []
   },
   "outputs": [
    {
     "data": {
      "image/png": "[encoded data removed]",
      "text/plain": [
       "<Figure size 432x288 with 1 Axes>"
      ]
     },
     "metadata": {
      "filenames": {
       "image/png": "/home/richard/Dropbox/Documents/Teaching/FINA 4380 - 2022 Fall/Notebooks/_build/jupyter_execute/Projects/project-1/submissions/project2_25726_17624077_FINA4380 Project 1 - Submission_18_0.png"
      },
      "needs_background": "light"
     },
     "output_type": "display_data"
    }
   ],
   "source": [
    "plt.scatter(\n",
    "    x = std_2020,\n",
    "    y = std_2021\n",
    ")\n",
    "plt.title('2020 vs 2021 Anualized Standard Deviation Returns')\n",
    "plt.xlabel('2020 Annualized Standard Deviation Returns')\n",
    "plt.ylabel('2021 Annualized Standard Deviation Returns')\n",
    "plt.ylim(0.0,.6)\n",
    "plt.xlim(0.0,1.2)\n",
    "\n",
    "plt.show()"
   ]
  },
  {
   "cell_type": "markdown",
   "id": "ebc933a4-6fa0-4e85-aebc-ca79c864397d",
   "metadata": {},
   "source": [
    "#### Analysis:"
   ]
  },
  {
   "cell_type": "markdown",
   "id": "d8ebab13-2410-4168-beb7-e4a9f4bc9de3",
   "metadata": {},
   "source": [
    "Per the graph above, there is a positive correlation between annualized standard deviation of returns in 2020 and 2021. This correlation may indicate that there is a relationship between each of the stocks in the SP100. Therefore, it can represent how these stocks generally move together, whether or not there is an increase or decrease in standard deviation (volatility). In 2020, during a volatile year in the equities market, the majority of annualized standard deviations of returns cluster around 0.4, while the majority in 2021 are focused around 0.2. From this we can determine a general pattern between the annualized standard deviations of returns in 2021 being double that of 2020. Comparing S&P 100 stocks to themselves, this correlation in volatility can be determined by a pattern of half of the previous year.  \n",
    "\n",
    "This does not mean that one can predict the future of these stocks. Although there is a correlation between volatility of each stock individually from 2020 to 2021, it is hard to base an estimate of returns off of a similar change in annualized standard deviation of returns. As a whole, 2020 had a range of annualized standard deviations of returns between 0.2 and 0.9 with the majority falling above 0.3, while 2021 differed with a range between 0.1 and below 0.6, and the majority of annualized SDs of returns being below 0.3. This should not give any true predictor, but as seen on the graph, there is an identifiable pattern that can be use to summarize the correlation. "
   ]
  },
  {
   "cell_type": "markdown",
   "id": "87cb4b4a-5e4b-42cd-9924-b37939b74a4a",
   "metadata": {},
   "source": [
    "### 4) What are the mean, median, minimum, and maximum pairwise correlations between two stocks? Discuss and explain any outliers."
   ]
  },
  {
   "cell_type": "code",
   "execution_count": 13,
   "id": "37155c94-80c5-46aa-a675-f57eef448cfd",
   "metadata": {},
   "outputs": [],
   "source": [
    "correlations = returns.dropna().corr()"
   ]
  },
  {
   "cell_type": "markdown",
   "id": "3e0dccf4-ed31-4086-b487-14364fb31fbe",
   "metadata": {
    "tags": []
   },
   "source": [
    "#### Calculate mean, median, minimum, and maximum pairwise correlations."
   ]
  },
  {
   "cell_type": "code",
   "execution_count": 14,
   "id": "7f3ae206-fb4c-4a70-97da-a4d237d5944b",
   "metadata": {
    "tags": []
   },
   "outputs": [
    {
     "name": "stdout",
     "output_type": "stream",
     "text": [
      "The mean of all pairwise correlations is the following:  0.4750492971987221\n",
      "The median of all pairwise correlations is the following:  0.4735478871965029\n",
      "The minimum of all pairwise correlations is the following:  0.060028014277503254 \n",
      "The ticker with the min correlation value is:  ('TSLA', 'VZ')\n",
      "The maximum of all pairwise correlations is the following:  0.9937383498539828 \n",
      "The ticker with the max correlation value is:  ('GOOG', 'GOOGL')\n"
     ]
    }
   ],
   "source": [
    "#empty list to hold correlations\n",
    "corr_list = []\n",
    "\n",
    "#empty list to hold ticker pairs\n",
    "ticker_pair = []\n",
    "\n",
    "#empty list to hold opposite ticker pairs\n",
    "opp_ticker_pair = []\n",
    "\n",
    "#iterate through all ticker pairs\n",
    "for row in correlations.columns:\n",
    "    for col in correlations.index:\n",
    "        #checks that both tickers are different and the opposite combination has not already been computed\n",
    "        if (row != col) & ((row,col) not in opp_ticker_pair):\n",
    "            opp_ticker_pair.append((col,row))\n",
    "            ticker_pair.append((row,col))\n",
    "            corr_list.append((correlations.loc[row,col]))\n",
    "\n",
    "#creates series with correlations\n",
    "corr_series = pd.Series(corr_list)\n",
    "\n",
    "#finding mean, median, min, and max of correlations\n",
    "corr_mean = corr_series.mean()\n",
    "\n",
    "corr_med = corr_series.median()\n",
    "\n",
    "corr_min = corr_series.min()\n",
    "\n",
    "corr_max = corr_series.max()\n",
    "\n",
    "#identify specific pairwise correlation stocks\n",
    "def stock_id(ticker_pair, statistic):\n",
    "    return ticker_pair[corr_list.index(statistic)]\n",
    "\n",
    "print(\"The mean of all pairwise correlations is the following: \" , corr_mean)\n",
    "print(\"The median of all pairwise correlations is the following: \" , corr_med)\n",
    "print(\"The minimum of all pairwise correlations is the following: \" , corr_min, \n",
    "      \"\\nThe ticker with the min correlation value is: \" , stock_id(ticker_pair, corr_min))\n",
    "print(\"The maximum of all pairwise correlations is the following: \" , corr_max, \n",
    "      \"\\nThe ticker with the max correlation value is: \" , stock_id(ticker_pair, corr_max))     "
   ]
  },
  {
   "cell_type": "markdown",
   "id": "e8b2336a-e245-46f5-b751-7bc44db03b42",
   "metadata": {},
   "source": [
    "#### Analysis:"
   ]
  },
  {
   "cell_type": "markdown",
   "id": "504097c5-2b0c-4ae3-b6dc-8a5a6f96a770",
   "metadata": {},
   "source": [
    "The minimum and maximum correlation values are the two outliers of these results. The minimum and maximum have values of about 0.06 and 0.99, respectively, and reflect the two opposite ends of the range of correlation. \n",
    "\n",
    "Refer to the correlation formula below, where covariance represents the measure of how two stock prices move together, and the standard deviation represents the measure of volatility of a stock. With regards to this formula, it's possible to assume that two stocks with low correlation will also have low covariance compared to the product of the standard deviations. Conversely, two stocks with high pairwise correlation will have a covariance of almost equal to the product of the standard deviations - this would result closely to a 1:1 relationship between covariance and product of standard deviations, and therefore, close to an almost perfect 1.00 correlation coefficient. This makes sense for stocks with low and high correlations, as they represent companies that are very different and similar, respectively.\n",
    "\n",
    "$$Corr(x,y)= \\frac{Cov(x,y)}{Std(x)*Std(y)}$$\n",
    "\n",
    "\n",
    "**MIN - TSLA x VZ (0.06):**\n",
    "\n",
    "The minimum pairwise correlation is between Tesla Inc. and Verizon Communications Inc. is almost zero because of the big difference between the two companies compared here. Tesla is an auto manufacturer company, while Verizon is a telecom services company. Therefore, these two companies operate in two completely different industries. Also, Tesla's business revenue model relies on the consumer business cycle, whereas, Verizon relies on a subscription-based revenues. This means that it is less likely for Verizon's number of wireless subscribers to change over a few percentage points, than for the unit sales of cars manufactures and delivered by Tesla to change due to economic conditions. In a recessionary environment, Tesla should theoretically be impacted heavily when CPI dips as automobile sales fall. As Verizon has more of a subscription model and closer to a commodity type of product, even when demand is low for consumer goods, Verizon's revenue should not be heavily impacted.  \n",
    "\n",
    "These fundamental differences between Tesla and Verizon translate to a low positive correlation (0.06) between the two stocks within the S&P 100. \n",
    "\n",
    "\n",
    "**MAX - GOOG x GOOGL (0.99):**\n",
    "\n",
    "The maximum pairwise correlation being between Alphabet Inc. Class A and Alphabet Inc. Class C stock makes sense. As these stocks are holding companies for the same company, Google, the only difference is in voting rights (as a Class C stock, shareholders of GOOG do not have voting rights compared to Class A, GOOGL, shareholders). Therefore, they should move identically.\n"
   ]
  },
  {
   "cell_type": "markdown",
   "id": "cbe43aec-69f0-4008-9c7c-e2a0461fd246",
   "metadata": {},
   "source": [
    "### 5) Plot annualized average returns versus annualized standard deviations of returns. Discuss and explain any outliers."
   ]
  },
  {
   "cell_type": "markdown",
   "id": "97112569-7a27-48d3-a0a9-6da6689e0dc4",
   "metadata": {},
   "source": [
    "#### Plotting:"
   ]
  },
  {
   "cell_type": "code",
   "execution_count": 15,
   "id": "efea0e9a-85f3-4c16-b006-764886ff3af8",
   "metadata": {
    "tags": []
   },
   "outputs": [
    {
     "data": {
      "image/png": "[encoded data removed]",
      "text/plain": [
       "<Figure size 432x288 with 1 Axes>"
      ]
     },
     "metadata": {
      "filenames": {
       "image/png": "/home/richard/Dropbox/Documents/Teaching/FINA 4380 - 2022 Fall/Notebooks/_build/jupyter_execute/Projects/project-1/submissions/project2_25726_17624077_FINA4380 Project 1 - Submission_29_0.png"
      },
      "needs_background": "light"
     },
     "output_type": "display_data"
    }
   ],
   "source": [
    "returns_annual = returns.mean().mul(252)\n",
    "std_annual = returns.std().mul(np.sqrt(252))\n",
    "\n",
    "plt.scatter(\n",
    "    x = returns_annual,\n",
    "    y = std_annual\n",
    ")\n",
    "plt.title('Annualized Average Returns vs Annualized Standard Deviation Returns')\n",
    "plt.xlabel('Annualized Average Returns')\n",
    "plt.ylabel('Annualized Standard Deviation Returns')\n",
    "plt.ylim(-0.25,1)\n",
    "plt.xlim(-0.25,1.2)\n",
    "\n",
    "plt.show()"
   ]
  },
  {
   "cell_type": "code",
   "execution_count": 16,
   "id": "29c6dd8f-29b0-4e6d-8260-72def09a8635",
   "metadata": {},
   "outputs": [],
   "source": [
    "outliers_returns = []\n",
    "outliers_std = []\n",
    "\n",
    "for i in returns_annual.tolist():\n",
    "        if i > 0.5:\n",
    "            outliers_returns.append(i)\n",
    "\n",
    "for j in std_annual.tolist():\n",
    "        if j > 0.6:\n",
    "            outliers_std.append(j)"
   ]
  },
  {
   "cell_type": "code",
   "execution_count": 17,
   "id": "6545441b-ce95-486e-900e-1b0975df1ecd",
   "metadata": {},
   "outputs": [
    {
     "data": {
      "text/plain": [
       "NVDA   0.5114\n",
       "TSLA   1.1204\n",
       "dtype: float64"
      ]
     },
     "execution_count": 17,
     "metadata": {},
     "output_type": "execute_result"
    }
   ],
   "source": [
    "filtered_returns = returns_annual[returns_annual.isin(outliers_returns)]\n",
    "filtered_returns"
   ]
  },
  {
   "cell_type": "code",
   "execution_count": 18,
   "id": "17a03c4a-9a2e-4490-b3cb-cae20fef5894",
   "metadata": {},
   "outputs": [
    {
     "data": {
      "text/plain": [
       "BA     0.6278\n",
       "SPG    0.6170\n",
       "TSLA   0.7290\n",
       "dtype: float64"
      ]
     },
     "execution_count": 18,
     "metadata": {},
     "output_type": "execute_result"
    }
   ],
   "source": [
    "filtered_std = std_annual[std_annual.isin(outliers_std)]\n",
    "filtered_std"
   ]
  },
  {
   "cell_type": "code",
   "execution_count": 19,
   "id": "4060b18d-6861-4fb1-b64e-e5fa7d8bc33b",
   "metadata": {},
   "outputs": [
    {
     "data": {
      "text/plain": [
       "NVDA   0.5114\n",
       "TSLA   1.1204\n",
       "dtype: float64"
      ]
     },
     "execution_count": 19,
     "metadata": {},
     "output_type": "execute_result"
    }
   ],
   "source": [
    "returns_annual.loc[returns_annual > 0.5]"
   ]
  },
  {
   "cell_type": "markdown",
   "id": "96628226-c79a-4e83-a63d-80f5e7f6b572",
   "metadata": {
    "tags": []
   },
   "source": [
    "#### Analysis:"
   ]
  },
  {
   "cell_type": "markdown",
   "id": "015877cc-ef48-4c7c-97f9-0ffb24d8d5ad",
   "metadata": {},
   "source": [
    "The graph depicts the relationship between annualized average returns and the standard deviation of the S&P100 stocks in 2020 and 2021. From the graph, we can conclude there is no discernible correlation between the two factors. For instance, some stocks have high volatility but low returns, whereas others have low volatility but high returns. In an ideal market, this would not be the case. However, the discretion can be explained due to the pandemic's impact on the markets. \n",
    "\n",
    "In addition, based on the above results, we can conclude the outlier from this data set is Tesla. At its core, Tesla is an automotive electric vehicle company. Its primary sales products are electric vehicles, however, it is interesting to note that relative to its peers, it does not manufacture many cars, or had its enviable 20% gross margin translate into consistent profits in 2021. Tesla is a highly volatile investment where investors are accustomed to both big spikes and swoons, as well as plenty of short bets on the company's inflated valuations. To this point, even the company's CEO, Elon Musk, has at times called shares 'overvalued'. \n",
    "\n",
    "Coupled with Tesla's idiosyncratic risks, during pandemic times, stock markets underwent a series of unpredictable freefalls and upticks, which in turn made many investments highly volatile. Tesla's stock performance was no exception to the impact of an unprecedented market environment. During the period under observation, the global economy faced supply chain issues, specifically in the semiconductor industry. Tesla's products were highly dependent on this technology, and the shortage combined with supply chain problems, impacted the returns and volatility of the stock."
   ]
  },
  {
   "cell_type": "markdown",
   "id": "1d086ca3-0a71-4053-9977-16de10ea2a55",
   "metadata": {
    "tags": []
   },
   "source": [
    "### 6) Repeat the exercise above (question 5) with 100 random portfolios of 2, 5, 10, and 25 stocks. For simplicity, use equal-weighted portfolios and re-balance daily."
   ]
  },
  {
   "cell_type": "code",
   "execution_count": 20,
   "id": "a609d416-3a49-4e5b-9c45-f113b6d86e64",
   "metadata": {
    "tags": []
   },
   "outputs": [
    {
     "data": {
      "image/png": "[encoded data removed]",
      "text/plain": [
       "<Figure size 432x288 with 1 Axes>"
      ]
     },
     "metadata": {
      "filenames": {
       "image/png": "/home/richard/Dropbox/Documents/Teaching/FINA 4380 - 2022 Fall/Notebooks/_build/jupyter_execute/Projects/project-1/submissions/project2_25726_17624077_FINA4380 Project 1 - Submission_37_0.png"
      },
      "needs_background": "light"
     },
     "output_type": "display_data"
    },
    {
     "data": {
      "image/png": "[encoded data removed]",
      "text/plain": [
       "<Figure size 432x288 with 1 Axes>"
      ]
     },
     "metadata": {
      "filenames": {
       "image/png": "/home/richard/Dropbox/Documents/Teaching/FINA 4380 - 2022 Fall/Notebooks/_build/jupyter_execute/Projects/project-1/submissions/project2_25726_17624077_FINA4380 Project 1 - Submission_37_1.png"
      },
      "needs_background": "light"
     },
     "output_type": "display_data"
    },
    {
     "data": {
      "image/png": "[encoded data removed]",
      "text/plain": [
       "<Figure size 432x288 with 1 Axes>"
      ]
     },
     "metadata": {
      "filenames": {
       "image/png": "/home/richard/Dropbox/Documents/Teaching/FINA 4380 - 2022 Fall/Notebooks/_build/jupyter_execute/Projects/project-1/submissions/project2_25726_17624077_FINA4380 Project 1 - Submission_37_2.png"
      },
      "needs_background": "light"
     },
     "output_type": "display_data"
    },
    {
     "data": {
      "image/png": "[encoded data removed]",
      "text/plain": [
       "<Figure size 432x288 with 1 Axes>"
      ]
     },
     "metadata": {
      "filenames": {
       "image/png": "/home/richard/Dropbox/Documents/Teaching/FINA 4380 - 2022 Fall/Notebooks/_build/jupyter_execute/Projects/project-1/submissions/project2_25726_17624077_FINA4380 Project 1 - Submission_37_3.png"
      },
      "needs_background": "light"
     },
     "output_type": "display_data"
    }
   ],
   "source": [
    "np.random.seed(42) \n",
    "def port_plot(n_stocks):\n",
    "    for i in range(100): \n",
    "        sample = returns[tickers].sample(n=n_stocks, axis=1)\n",
    "        portfolio = sample.mean(axis=1)\n",
    "        port_mean = portfolio.mean()*252\n",
    "        port_std = portfolio.std()*np.sqrt(252)\n",
    "        plt.scatter(port_mean, port_std)\n",
    "    plt.xlabel('Annualized Average Return (%)')\n",
    "    plt.ylabel('Annualized Standard Deviation Return (%)')\n",
    "    plt.xlim(-.1,1)\n",
    "    plt.ylim(0,1)\n",
    "    # plt.title('100 Random Portfolios of ' +str(n_stocks)+ ' Stocks')\n",
    "    plt.title(f'100 Random Portfolios of {n_stocks:d} Stocks')\n",
    "\n",
    "    plt.show()\n",
    "\n",
    "port_plot(2)\n",
    "port_plot(5)\n",
    "port_plot(10)\n",
    "port_plot(25)"
   ]
  },
  {
   "cell_type": "markdown",
   "id": "5dcd94d4-e9ac-4e3c-8594-1dabffadc223",
   "metadata": {},
   "source": [
    "### Analysis:\n",
    "\n",
    "In question 6, we are tasked with creating a dot plot of portfolios containing 2, 5, 10, and 25 stocks. From a financial perspective, this is creating diversity even in the safety of the S&P 100. Beginning with 2 stocks, it is not surprising that there was a wider range of annual returns and standard deviations with the same idea of being the portfolio with the least diversity. As the portfolios gain diversity, they concentrate on the average annualized standard deviation of returns and annualized average return. This is a true visualization of what diversity does to portfolio returns and what level of risk in volatility a portfolio has.    "
   ]
  }
 ],
 "metadata": {
  "kernelspec": {
   "display_name": "Python 3 (ipykernel)",
   "language": "python",
   "name": "python3"
  },
  "language_info": {
   "codemirror_mode": {
    "name": "ipython",
    "version": 3
   },
   "file_extension": ".py",
   "mimetype": "text/x-python",
   "name": "python",
   "nbconvert_exporter": "python",
   "pygments_lexer": "ipython3",
   "version": "3.10.6"
  }
 },
 "nbformat": 4,
 "nbformat_minor": 5
}