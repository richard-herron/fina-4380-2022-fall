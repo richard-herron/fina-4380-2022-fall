{
 "cells": [
  {
   "cell_type": "markdown",
   "metadata": {},
   "source": [
    "# Lewinson Chapter 7 - Asset Allocation in Python"
   ]
  },
  {
   "cell_type": "markdown",
   "metadata": {
    "tags": []
   },
   "source": [
    "## Introduction\n",
    "\n",
    "Chapter 7 of Eryk Lewinson's [*Python for Finance Cookbook*](https://www.packtpub.com/product/python-for-finance-cookbook/9781789618518) covers portfolios returns and optimization.\n",
    "\n",
    "We will focus on:\n",
    "\n",
    "1. Evaluating $\\frac{1}{n}$ portfolios (i.e., equal-weighted portfolios)\n",
    "1. Using SciPy's optimizer to find the efficient frontier\n",
    "1. Using SciPy's optimizer to achieve any objective\n",
    "\n",
    "***Note:*** Indented block quotes are from Lewinson, and section numbers differ from Lewinson because we will not discuss every topic.\n",
    "\n",
    "I will simplify and streamline his code, where possible."
   ]
  },
  {
   "cell_type": "code",
   "execution_count": 1,
   "metadata": {
    "editable": true
   },
   "outputs": [],
   "source": [
    "import matplotlib.pyplot as plt\n",
    "import numpy as np\n",
    "import pandas as pd"
   ]
  },
  {
   "cell_type": "code",
   "execution_count": 2,
   "metadata": {},
   "outputs": [],
   "source": [
    "%config InlineBackend.figure_format = 'retina'\n",
    "%precision 4\n",
    "pd.options.display.float_format = '{:.4f}'.format"
   ]
  },
  {
   "cell_type": "code",
   "execution_count": 3,
   "metadata": {},
   "outputs": [],
   "source": [
    "import requests_cache\n",
    "session = requests_cache.CachedSession(expire_after='1D')\n",
    "import yfinance as yf\n",
    "import pandas_datareader as pdr"
   ]
  },
  {
   "cell_type": "markdown",
   "metadata": {},
   "source": [
    "## Evaluating the performance of a basic 1/n portfolio\n",
    "\n",
    "> We begin with inspecting the most basic asset allocation strategy: the 1/n portfolio. The idea is to assign equal weights to all the considered assets, thus diversifying the portfolio. As simple as that might sound, DeMiguel, Garlappi, and Uppal (2007) show that it can be difficult to beat the performance of the 1/n portfolio by using more advanced asset allocation strategies.\n",
    ">\n",
    "> The goal of the recipe is to show how to create a 1/n portfolio, calculate its returns, and then use a Python library called pyfolio to quickly obtain all relevant portfolio evaluation metrics in the form of a tear sheet. Historically, a tear sheet is a concise, usually one-page, document, summarizing important information about public companies.\n",
    "\n",
    "We will not use `pyfolio`, which appears to be abandoned.\n",
    "\n",
    "We will follow Lewinson's structure, although I prefer to download all data first then slice or subset it later.\n",
    "These data are small (kilobytes instead of megabytes or gigabytes), so we might as well download all data then slice or subset it when necessary."
   ]
  },
  {
   "cell_type": "code",
   "execution_count": 4,
   "metadata": {
    "ExecuteTime": {
     "end_time": "2020-01-27T22:39:57.697465Z",
     "start_time": "2020-01-27T22:39:57.694109Z"
    }
   },
   "outputs": [],
   "source": [
    "RISKY_ASSETS = ['AAPL', 'IBM', 'MSFT', 'TWTR']\n",
    "START_DATE = '2017-01-01'\n",
    "END_DATE = '2018-12-31'"
   ]
  },
  {
   "cell_type": "code",
   "execution_count": 5,
   "metadata": {
    "ExecuteTime": {
     "end_time": "2020-01-27T22:40:05.074684Z",
     "start_time": "2020-01-27T22:40:00.619657Z"
    }
   },
   "outputs": [
    {
     "name": "stdout",
     "output_type": "stream",
     "text": [
      "[*********************100%***********************]  4 of 4 completed\n"
     ]
    }
   ],
   "source": [
    "df = yf.download(tickers=RISKY_ASSETS, session=session)\n",
    "df.index = df.index.tz_localize(None)"
   ]
  },
  {
   "cell_type": "code",
   "execution_count": 6,
   "metadata": {
    "ExecuteTime": {
     "end_time": "2019-12-06T18:05:52.060088Z",
     "start_time": "2019-12-06T18:05:52.047752Z"
    }
   },
   "outputs": [],
   "source": [
    "returns = df['Adj Close'].pct_change().loc[START_DATE:END_DATE]"
   ]
  },
  {
   "cell_type": "markdown",
   "metadata": {},
   "source": [
    "Before we do portfolio math, we can make $\\frac{1}{n}$ portfolios \"by hand\".\n",
    "The following code creates an equally-weighted and daily-rebalanced portfolio of our four stocks."
   ]
  },
  {
   "cell_type": "code",
   "execution_count": 7,
   "metadata": {},
   "outputs": [],
   "source": [
    "p1 = 0.25*returns['AAPL'] + 0.25*returns['IBM'] + 0.25*returns['MSFT'] + 0.25*returns['TWTR']"
   ]
  },
  {
   "cell_type": "code",
   "execution_count": 8,
   "metadata": {
    "tags": []
   },
   "outputs": [],
   "source": [
    "p2 = 0.25 * returns.sum(axis=1)"
   ]
  },
  {
   "cell_type": "code",
   "execution_count": 9,
   "metadata": {},
   "outputs": [
    {
     "data": {
      "text/plain": [
       "True"
      ]
     },
     "execution_count": 9,
     "metadata": {},
     "output_type": "execute_result"
    }
   ],
   "source": [
    "np.allclose(p1, p2)"
   ]
  },
  {
   "cell_type": "code",
   "execution_count": 10,
   "metadata": {},
   "outputs": [],
   "source": [
    "p3 = returns.mean(axis=1)"
   ]
  },
  {
   "cell_type": "code",
   "execution_count": 11,
   "metadata": {},
   "outputs": [
    {
     "data": {
      "text/plain": [
       "True"
      ]
     },
     "execution_count": 11,
     "metadata": {},
     "output_type": "execute_result"
    }
   ],
   "source": [
    "np.allclose(p1, p3)"
   ]
  },
  {
   "cell_type": "markdown",
   "metadata": {},
   "source": [
    "***Note that when we apply the same portfolio weights every day, we rebalance at the same frequency as the returns data.***\n",
    "If we have daily data, rebalance daily.\n",
    "If we have monthly data, we rebalance monthly, and so on."
   ]
  },
  {
   "cell_type": "code",
   "execution_count": 12,
   "metadata": {},
   "outputs": [
    {
     "data": {
      "text/plain": [
       "(502, 4)"
      ]
     },
     "execution_count": 12,
     "metadata": {},
     "output_type": "execute_result"
    }
   ],
   "source": [
    "returns.shape"
   ]
  },
  {
   "cell_type": "code",
   "execution_count": 13,
   "metadata": {
    "ExecuteTime": {
     "end_time": "2019-12-06T18:05:52.066465Z",
     "start_time": "2019-12-06T18:05:52.063494Z"
    }
   },
   "outputs": [],
   "source": [
    "portfolio_weights = np.ones(returns.shape[1]) / returns.shape[1]"
   ]
  },
  {
   "cell_type": "code",
   "execution_count": 14,
   "metadata": {},
   "outputs": [
    {
     "data": {
      "text/plain": [
       "array([0.25, 0.25, 0.25, 0.25])"
      ]
     },
     "execution_count": 14,
     "metadata": {},
     "output_type": "execute_result"
    }
   ],
   "source": [
    "portfolio_weights"
   ]
  },
  {
   "cell_type": "markdown",
   "metadata": {},
   "source": [
    "The following notation is more compact than Lewinson's notation and generates the same output:\n",
    "$$\n",
    "R_P = \\omega^T R,\n",
    "$$\n",
    "where $R_P$ is a vector of portfolio returns, $\\omega$ is a vector of portfolio weights, and $R$ is a matrix of individual stock or asset returns."
   ]
  },
  {
   "cell_type": "code",
   "execution_count": 15,
   "metadata": {
    "ExecuteTime": {
     "end_time": "2019-12-06T18:05:52.072256Z",
     "start_time": "2019-12-06T18:05:52.068898Z"
    }
   },
   "outputs": [],
   "source": [
    "portfolio_returns = returns.dot(portfolio_weights)"
   ]
  },
  {
   "cell_type": "code",
   "execution_count": 16,
   "metadata": {},
   "outputs": [
    {
     "data": {
      "text/plain": [
       "True"
      ]
     },
     "execution_count": 16,
     "metadata": {},
     "output_type": "execute_result"
    }
   ],
   "source": [
    "np.allclose(p1, portfolio_returns)"
   ]
  },
  {
   "cell_type": "markdown",
   "metadata": {},
   "source": [
    "---\n",
    "\n",
    "Here is a simple example to help understand the `.dot()` method."
   ]
  },
  {
   "cell_type": "code",
   "execution_count": 17,
   "metadata": {},
   "outputs": [
    {
     "data": {
      "text/html": [
       "<div>\n",
       "<style scoped>\n",
       "    .dataframe tbody tr th:only-of-type {\n",
       "        vertical-align: middle;\n",
       "    }\n",
       "\n",
       "    .dataframe tbody tr th {\n",
       "        vertical-align: top;\n",
       "    }\n",
       "\n",
       "    .dataframe thead th {\n",
       "        text-align: right;\n",
       "    }\n",
       "</style>\n",
       "<table border=\"1\" class=\"dataframe\">\n",
       "  <thead>\n",
       "    <tr style=\"text-align: right;\">\n",
       "      <th></th>\n",
       "      <th>0</th>\n",
       "      <th>1</th>\n",
       "      <th>2</th>\n",
       "      <th>3</th>\n",
       "    </tr>\n",
       "  </thead>\n",
       "  <tbody>\n",
       "    <tr>\n",
       "      <th>0</th>\n",
       "      <td>0</td>\n",
       "      <td>1</td>\n",
       "      <td>2</td>\n",
       "      <td>3</td>\n",
       "    </tr>\n",
       "    <tr>\n",
       "      <th>1</th>\n",
       "      <td>4</td>\n",
       "      <td>5</td>\n",
       "      <td>6</td>\n",
       "      <td>7</td>\n",
       "    </tr>\n",
       "  </tbody>\n",
       "</table>\n",
       "</div>"
      ],
      "text/plain": [
       "   0  1  2  3\n",
       "0  0  1  2  3\n",
       "1  4  5  6  7"
      ]
     },
     "execution_count": 17,
     "metadata": {},
     "output_type": "execute_result"
    }
   ],
   "source": [
    "silly = pd.DataFrame(np.arange(8).reshape(2, 4))\n",
    "silly"
   ]
  },
  {
   "cell_type": "code",
   "execution_count": 18,
   "metadata": {},
   "outputs": [
    {
     "data": {
      "text/plain": [
       "0   1.5000\n",
       "1   5.5000\n",
       "dtype: float64"
      ]
     },
     "execution_count": 18,
     "metadata": {},
     "output_type": "execute_result"
    }
   ],
   "source": [
    "silly.dot(portfolio_weights)"
   ]
  },
  {
   "cell_type": "code",
   "execution_count": 19,
   "metadata": {},
   "outputs": [
    {
     "name": "stdout",
     "output_type": "stream",
     "text": [
      "The zero row is: 1.5\n"
     ]
    }
   ],
   "source": [
    "zero_row = silly.iloc[0, 0]*portfolio_weights[0] + silly.iloc[0, 1]*portfolio_weights[1] + silly.iloc[0, 2]*portfolio_weights[2] + silly.iloc[0, 3]*portfolio_weights[3]\n",
    "print(f'The zero row is: {zero_row}')"
   ]
  },
  {
   "cell_type": "code",
   "execution_count": 20,
   "metadata": {},
   "outputs": [],
   "source": [
    "silly_weights = np.array([1, 0, 0, 0])"
   ]
  },
  {
   "cell_type": "code",
   "execution_count": 21,
   "metadata": {},
   "outputs": [
    {
     "data": {
      "text/plain": [
       "0    0\n",
       "1    4\n",
       "dtype: int64"
      ]
     },
     "execution_count": 21,
     "metadata": {},
     "output_type": "execute_result"
    }
   ],
   "source": [
    "silly.dot(silly_weights)"
   ]
  },
  {
   "cell_type": "code",
   "execution_count": 22,
   "metadata": {},
   "outputs": [
    {
     "data": {
      "text/plain": [
       "True"
      ]
     },
     "execution_count": 22,
     "metadata": {},
     "output_type": "execute_result"
    }
   ],
   "source": [
    "np.allclose(returns['AAPL'], returns.dot(silly_weights))"
   ]
  },
  {
   "cell_type": "markdown",
   "metadata": {},
   "source": [
    "---"
   ]
  },
  {
   "cell_type": "markdown",
   "metadata": {},
   "source": [
    "## Finding the Efficient Frontier using Monte Carlo simulations\n",
    "\n",
    "> According to the Modern Portfolio Theory, the Efficient Frontier is a set of optimal portfolios in the risk-return spectrum. This means that the portfolios on the frontier:\n",
    "> \n",
    "> - Offer the highest expected return for a given level of risk\n",
    "> - Offer the lowest level of risk for a given level of expected returns\n",
    "> \n",
    "> All portfolios located under the Efficient Frontier curve are considered sub-optimal, so it is always better to choose the ones on the frontier instead.\n",
    "> \n",
    "> In this recipe, we show how to find the Efficient Frontier using Monte Carlo simulations. We build thousands of portfolios, using randomly assigned weights, and visualize the results. To do so, we use the returns of four US tech companies from 2018.\n",
    "\n",
    "We will skip Lewinson's Monte Carlo simulation of the efficient frontier.\n",
    "This simulation is sometimes enlightening, but often creates bad habits.\n",
    "Therefore, we will jump right to using the optimizer to find the efficient frontier."
   ]
  },
  {
   "cell_type": "markdown",
   "metadata": {},
   "source": [
    "## A Crash Course in scipy's minimize() Function"
   ]
  },
  {
   "cell_type": "markdown",
   "metadata": {},
   "source": [
    "The `sco.minimize()` function iteratively finds the input array `x` that minimizes the output of function `fun`.\n",
    "We pass our first guess for the input array `x` to the argument `x0=`.\n",
    "We pass additional arguments for the function `fun` as a tuple to the argument `args=`.\n",
    "We pass the lower and upper bounds on `x` as a tuple of tuples to the argument `bounds=`.\n",
    "We contrain our results with a tuple of dictionaries of functions to the argument`contraints=`.\n",
    "\n",
    "Here is a simple example that minimizes the `quadratic()` function $y = (x - a)^2$ where $a=5$."
   ]
  },
  {
   "cell_type": "code",
   "execution_count": 23,
   "metadata": {
    "ExecuteTime": {
     "end_time": "2020-01-27T23:15:25.643290Z",
     "start_time": "2020-01-27T23:15:25.640591Z"
    }
   },
   "outputs": [],
   "source": [
    "import scipy.optimize as sco"
   ]
  },
  {
   "cell_type": "code",
   "execution_count": 24,
   "metadata": {},
   "outputs": [],
   "source": [
    "def quadratic(x, a=5):\n",
    "    return (x - a) ** 2"
   ]
  },
  {
   "cell_type": "markdown",
   "metadata": {},
   "source": [
    "The minimum output of `quadratic()` occurs at $x=5$ if we do not use bounds or constraints."
   ]
  },
  {
   "cell_type": "code",
   "execution_count": 25,
   "metadata": {},
   "outputs": [
    {
     "data": {
      "text/plain": [
       "      fun: 2.0392713450495178e-16\n",
       " hess_inv: array([[0.5]])\n",
       "      jac: array([-1.3659e-08])\n",
       "  message: 'Optimization terminated successfully.'\n",
       "     nfev: 18\n",
       "      nit: 4\n",
       "     njev: 9\n",
       "   status: 0\n",
       "  success: True\n",
       "        x: array([5.])"
      ]
     },
     "execution_count": 25,
     "metadata": {},
     "output_type": "execute_result"
    }
   ],
   "source": [
    "sco.minimize(\n",
    "    fun=quadratic,\n",
    "    x0=np.array([2001])\n",
    ")"
   ]
  },
  {
   "cell_type": "markdown",
   "metadata": {},
   "source": [
    "The minimum output of `quadratic()` occurs at $x=6$ if we bound `x` between 6 and 10 (i.e., $6 \\leq x \\leq 10$)."
   ]
  },
  {
   "cell_type": "code",
   "execution_count": 26,
   "metadata": {},
   "outputs": [
    {
     "data": {
      "text/plain": [
       "      fun: 1.0\n",
       " hess_inv: <1x1 LbfgsInvHessProduct with dtype=float64>\n",
       "      jac: array([2.])\n",
       "  message: 'CONVERGENCE: NORM_OF_PROJECTED_GRADIENT_<=_PGTOL'\n",
       "     nfev: 4\n",
       "      nit: 1\n",
       "     njev: 2\n",
       "   status: 0\n",
       "  success: True\n",
       "        x: array([6.])"
      ]
     },
     "execution_count": 26,
     "metadata": {},
     "output_type": "execute_result"
    }
   ],
   "source": [
    "sco.minimize(\n",
    "    fun=quadratic,\n",
    "    x0=np.array([2001]),\n",
    "    bounds=((6, 10),)\n",
    ")"
   ]
  },
  {
   "cell_type": "markdown",
   "metadata": {},
   "source": [
    "Finally, the minimum output of `quadratic()` occurs at $x=6$, again, if we bound `x` between 5 and 10 and constrain `x - 6` to be non-negative.\n",
    "We use bounds to limit the search space directly, and we use constraints to limit the search space indirectly, based on some formula."
   ]
  },
  {
   "cell_type": "code",
   "execution_count": 27,
   "metadata": {},
   "outputs": [
    {
     "data": {
      "text/plain": [
       "     fun: 1.0000000000001776\n",
       "     jac: array([2.])\n",
       " message: 'Optimization terminated successfully'\n",
       "    nfev: 4\n",
       "     nit: 2\n",
       "    njev: 2\n",
       "  status: 0\n",
       " success: True\n",
       "       x: array([6.])"
      ]
     },
     "execution_count": 27,
     "metadata": {},
     "output_type": "execute_result"
    }
   ],
   "source": [
    "sco.minimize(\n",
    "    fun=quadratic,\n",
    "    x0=np.array([2001]),\n",
    "    bounds=((5, 10),),\n",
    "    constraints=({'type': 'ineq', 'fun': lambda x: x - 6})\n",
    ")"
   ]
  },
  {
   "cell_type": "markdown",
   "metadata": {},
   "source": [
    "Finally, we can use the `args=` argument to pass additional arguments to `fun`.\n",
    "Here we change the `a=` argument in `quadratic()` from the default of `a=5` to `a=20` via `args=(20,)`.\n",
    "Note that `args=` expects a tuple, so we need a trailing comma `,` if we only have one argument."
   ]
  },
  {
   "cell_type": "code",
   "execution_count": 28,
   "metadata": {},
   "outputs": [
    {
     "data": {
      "text/plain": [
       "      fun: 7.090392030754976e-17\n",
       " hess_inv: array([[0.5]])\n",
       "      jac: array([-1.9397e-09])\n",
       "  message: 'Optimization terminated successfully.'\n",
       "     nfev: 18\n",
       "      nit: 4\n",
       "     njev: 9\n",
       "   status: 0\n",
       "  success: True\n",
       "        x: array([20.])"
      ]
     },
     "execution_count": 28,
     "metadata": {},
     "output_type": "execute_result"
    }
   ],
   "source": [
    "sco.minimize(\n",
    "    fun=quadratic,\n",
    "    args=(20,),\n",
    "    x0=np.array([2001]),\n",
    ")"
   ]
  },
  {
   "cell_type": "markdown",
   "metadata": {},
   "source": [
    "---\n",
    "***Question in class:***\n",
    "What if we try to minimize an asymptotic function?\n",
    "\n",
    "***Answer:***\n",
    "We can try!\n",
    "For example, $y = 1/x$ does not have a minimimum, but:\n",
    "\n",
    "1. $y \\rightarrow 0$ from below as $x \\rightarrow -\\infty$\n",
    "1. $y \\rightarrow -\\infty$ as $x \\rightarrow 0$ from the left\n",
    "1. $y \\rightarrow +\\infty$ as $x \\rightarrow 0$ from the right\n",
    "1. $y \\rightarrow 0$ from above from below as $x \\rightarrow +\\infty$\n",
    "\n",
    "So where we start (i.e., `x0`) affects our answer!\n",
    "So do other `sco.minimize()` settings that are beyond this class."
   ]
  },
  {
   "cell_type": "markdown",
   "metadata": {},
   "source": [
    "For example, if we start at `x0=1`, $y \\rightarrow 0$ from above.\n",
    "Eventually, `sco.minimize()` sees only small changes in $y$ and considers the problem solved!"
   ]
  },
  {
   "cell_type": "code",
   "execution_count": 29,
   "metadata": {},
   "outputs": [
    {
     "data": {
      "text/plain": [
       "      fun: 0.0026976130894504446\n",
       " hess_inv: array([[7115356.6467]])\n",
       "      jac: array([-7.2771e-06])\n",
       "  message: 'Optimization terminated successfully.'\n",
       "     nfev: 42\n",
       "      nit: 20\n",
       "     njev: 21\n",
       "   status: 0\n",
       "  success: True\n",
       "        x: array([370.6981])"
      ]
     },
     "execution_count": 29,
     "metadata": {},
     "output_type": "execute_result"
    }
   ],
   "source": [
    "sco.minimize(\n",
    "    fun=lambda x: 1/x,\n",
    "    x0=np.array([1]),\n",
    ")"
   ]
  },
  {
   "cell_type": "markdown",
   "metadata": {},
   "source": [
    "For example, if we start at `x0=-1`, $y \\rightarrow \\infty$ and `sco.minimize()` gives up after 200 iterations ($x$ guesses)."
   ]
  },
  {
   "cell_type": "code",
   "execution_count": 30,
   "metadata": {},
   "outputs": [
    {
     "data": {
      "text/plain": [
       "      fun: -1.0\n",
       " hess_inv: array([[1]])\n",
       "      jac: array([-1.])\n",
       "  message: 'Desired error not necessarily achieved due to precision loss.'\n",
       "     nfev: 199\n",
       "      nit: 0\n",
       "     njev: 99\n",
       "   status: 2\n",
       "  success: False\n",
       "        x: array([-1.])"
      ]
     },
     "execution_count": 30,
     "metadata": {},
     "output_type": "execute_result"
    }
   ],
   "source": [
    "sco.minimize(\n",
    "    fun=lambda x: 1/x,\n",
    "    x0=np.array([-1]),\n",
    ")"
   ]
  },
  {
   "cell_type": "markdown",
   "metadata": {},
   "source": [
    "The failures are interesting, but should not occur for portfolio optimization problems.\n",
    "You may come across these failures later in your career, and you can cross that bridge then."
   ]
  },
  {
   "cell_type": "markdown",
   "metadata": {},
   "source": [
    "---"
   ]
  },
  {
   "cell_type": "markdown",
   "metadata": {},
   "source": [
    "## Finding the Efficient Frontier using optimization with scipy\n",
    "\n",
    "> In the previous recipe, Finding the Efficient Frontier using Monte Carlo simulations, we used a brute-force approach based on Monte Carlo simulations to visualize the Efficient Frontier. In this recipe, we use a more refined method to determine the frontier.\n",
    "> \n",
    "> From its definition, the Efficient Frontier is formed by a set of portfolios offering the highest expected portfolio return for a certain volatility, or offering the lowest risk (volatility) for a certain level of expected returns. We can leverage this fact, and use it in numerical optimization. The goal of optimization is to find the best (optimal) value of the objective function by adjusting the target variables and taking into account some boundaries and constraints (which have an impact on the target variables). In this case, the objective function is a function returning portfolio volatility, and the target variables are portfolio weights.\n",
    "> \n",
    "> Mathematically, the problem can be expressed as: $$\\min \\omega^T \\Sigma \\omega$$ s.t. $$\\omega^T \\textbf{1} = 1$$ $$\\omega \\geq 0$$ $$\\omega^T \\mu = \\mu_P$$\n",
    ">\n",
    "> Here, $\\omega$ is a vector of weights, $\\Sigma$ is the covariance matrix, $\\mu$ is a vector of returns, $\\mu_P$ and is the expected portfolio return.\n",
    "> \n",
    "> We iterate the optimization routine used for finding the optimal portfolio weights over a range of expected portfolio returns, and this results in the Efficient Frontier.\n",
    "\n",
    "We will find the minimum variance portfolio with SciPy's optimize module.\n",
    "However, we will not use Lewinson's helper functions.\n",
    "Lewinson's approach is computationally efficient, but requires us to manage different $\\mu$ (mean return vector) and $\\Sigma$ (variance-covariance matrix) for every sample we want to consider.\n",
    "Instead, we will base our helper functions on weights and returns, allowing us to quickly change our sample via the `args=` argument."
   ]
  },
  {
   "cell_type": "code",
   "execution_count": 31,
   "metadata": {},
   "outputs": [],
   "source": [
    "def port_std(w, rs):\n",
    "    return np.sqrt(252) * rs.dot(w).std()"
   ]
  },
  {
   "cell_type": "code",
   "execution_count": 32,
   "metadata": {},
   "outputs": [],
   "source": [
    "res_mv = sco.minimize(\n",
    "    fun=port_std, # we want to minimize portfolio volatility\n",
    "    x0=np.ones(returns.shape[1]) / returns.shape[1], # x0 contains our first guess at portfolio weights\n",
    "    args=(returns, ), # args provides additional argument to the function we will minimize\n",
    "    bounds=((0, 1), (0, 1), (0, 1), (0, 1)), # bounds limits the search space for portfolio weights\n",
    "    constraints=(\n",
    "        {'type': 'eq', 'fun': lambda x: x.sum() - 1} # \"eq\" constraints are driven to zero\n",
    "    )\n",
    ")\n",
    "assert res_mv['success']"
   ]
  },
  {
   "cell_type": "markdown",
   "metadata": {},
   "source": [
    "What are the attributes of this minimum variance portfolio?"
   ]
  },
  {
   "cell_type": "code",
   "execution_count": 33,
   "metadata": {},
   "outputs": [],
   "source": [
    "def print_port_res(w, title, df=returns):\n",
    "    print(\n",
    "        title,\n",
    "        '=' * len(title),\n",
    "        '',\n",
    "        'Performance',\n",
    "        '-----------',\n",
    "        'Return:'.ljust(12) + f'{252 * df.dot(w).mean():0.4f}',\n",
    "        'Volatility:'.ljust(12) + f'{np.sqrt(252) * df.dot(w).std():0.4f}',\n",
    "        '',\n",
    "        sep='\\n'\n",
    "    )\n",
    "\n",
    "    print(\n",
    "        'Weights', \n",
    "        '-------', \n",
    "        sep='\\n'\n",
    "    )\n",
    "    for i, j in zip(df.columns, w):\n",
    "        print(f'{i}:'.ljust(12) + f'{j:0.4f}')\n"
   ]
  },
  {
   "cell_type": "code",
   "execution_count": 34,
   "metadata": {},
   "outputs": [
    {
     "name": "stdout",
     "output_type": "stream",
     "text": [
      "Minimum Variance Portfolio\n",
      "==========================\n",
      "\n",
      "Performance\n",
      "-----------\n",
      "Return:     0.0520\n",
      "Volatility: 0.1766\n",
      "\n",
      "Weights\n",
      "-------\n",
      "AAPL:       0.2575\n",
      "IBM:        0.5172\n",
      "MSFT:       0.2179\n",
      "TWTR:       0.0074\n"
     ]
    }
   ],
   "source": [
    "print_port_res(res_mv['x'], 'Minimum Variance Portfolio')"
   ]
  },
  {
   "cell_type": "markdown",
   "metadata": {},
   "source": [
    "Now we will use these skills to map the efficient frontier in class.\n",
    "Here are some tips:\n",
    "\n",
    "1. Loop over a set of target returns from the best to worst\n",
    "1. Use each target return as a constraint to `sco.minimize()`\n",
    "1. Save your portfolio weights, returns, and volatilities to a data frame named `ef`"
   ]
  },
  {
   "cell_type": "markdown",
   "metadata": {},
   "source": [
    "***We will start here on Friday. Try to map the efficient frontier before we meet on Friday.***"
   ]
  },
  {
   "cell_type": "markdown",
   "metadata": {},
   "source": [
    "We will use helper functions to calculate portfolio standard deviation of returns (i.e., volatility) and mean returns (i.e., expected returns).\n",
    "Note the first arguments are `w` for portfolio weights and these functions return annualized values."
   ]
  },
  {
   "cell_type": "code",
   "execution_count": 35,
   "metadata": {},
   "outputs": [],
   "source": [
    "def port_std(w, rs):\n",
    "    return np.sqrt(252) * rs.dot(w).std()"
   ]
  },
  {
   "cell_type": "code",
   "execution_count": 36,
   "metadata": {},
   "outputs": [],
   "source": [
    "def port_mean(w, rs):\n",
    "    return 252 * rs.dot(w).mean()"
   ]
  },
  {
   "cell_type": "markdown",
   "metadata": {},
   "source": [
    "We will make a data frame to hold the efficient frontier."
   ]
  },
  {
   "cell_type": "code",
   "execution_count": 37,
   "metadata": {},
   "outputs": [],
   "source": [
    "eff_frontier = pd.DataFrame({\n",
    "    'tgt_ret': 252 * np.linspace(returns.mean().min(), returns.mean().max(), 25),\n",
    "    'std': np.nan\n",
    "})"
   ]
  },
  {
   "cell_type": "markdown",
   "metadata": {},
   "source": [
    "We will loop over the target returns and find the minimimum variance portfolio for each target return."
   ]
  },
  {
   "cell_type": "code",
   "execution_count": 38,
   "metadata": {},
   "outputs": [],
   "source": [
    "for i, tgt_ret in eff_frontier[['tgt_ret']].iterrows():\n",
    "    res_eff_frontier = sco.minimize(\n",
    "        fun=port_std, # we want to minimize portfolio volatility\n",
    "        x0=np.ones(returns.shape[1]) / returns.shape[1], # x0 contains our first guess at portfolio weights\n",
    "        args=(returns, ), # args provides additional argument to `fun`\n",
    "        bounds=((0, 1), (0, 1), (0, 1), (0, 1)), # bounds limit the search space for portfolio weights\n",
    "        constraints=(\n",
    "             # constrains weights to sum to one\n",
    "            {'type': 'eq', 'fun': lambda x: x.sum() - 1},\n",
    "             # constrain mean returns to the target\n",
    "            {'type': 'eq', 'fun': lambda x: port_mean(w=x, rs=returns) - tgt_ret}\n",
    "        )\n",
    "    )\n",
    "    assert res_eff_frontier['success'] # check that optimization succeeds\n",
    "    eff_frontier['std'].iloc[i] = res_eff_frontier['fun'] # store portfolio volatility\n"
   ]
  },
  {
   "cell_type": "code",
   "execution_count": 39,
   "metadata": {},
   "outputs": [
    {
     "name": "stderr",
     "output_type": "stream",
     "text": [
      "/home/richard/.local/lib/python3.10/site-packages/pandas/plotting/_matplotlib/core.py:1114: UserWarning: No data for colormapping provided via 'c'. Parameters 'cmap' will be ignored\n",
      "  scatter = ax.scatter(\n"
     ]
    },
    {
     "data": {
      "image/png": "[encoded data removed]",
      "text/plain": [
       "<Figure size 432x288 with 1 Axes>"
      ]
     },
     "metadata": {
      "image/png": {
       "height": 291,
       "width": 390
      },
      "needs_background": "light"
     },
     "output_type": "display_data"
    }
   ],
   "source": [
    "eff_frontier.mul(100).plot(x='std', y='tgt_ret', kind='scatter')\n",
    "plt.ylabel('Annualized Mean Return (%)')\n",
    "plt.xlabel('Annualized Volatility (%)')\n",
    "plt.title(f'Efficient Frontier\\n {\", \".join(returns.columns)}')\n",
    "plt.show()"
   ]
  },
  {
   "cell_type": "markdown",
   "metadata": {},
   "source": [
    "## Practice"
   ]
  },
  {
   "cell_type": "markdown",
   "metadata": {},
   "source": [
    "***Practice:***\n",
    "Write functions for the following performance measures that Lewinson discusses:\n",
    "\n",
    "> - Sharpe ratio: One of the most popular performance evaluation metrics, it measures the excess return (over the risk-free rate) per unit of standard deviation. When no risk-free rate is provided, the default assumption is that it is equal to 0%. The greater the Sharpe ratio, the better the portfolio's risk-adjusted performance.\n",
    "> - Max drawdown: A metric of the downside risk of a portfolio, it measures the largest peak-to-valley loss (expressed as a percentage) during the course of the investment. The lower the maximum drawdown, the better.\n",
    "> - Calmar ratio: The ratio is defined as the average annual compounded rate of return divided by the maximum drawdown for that same time period. The higher the ratio, the better.\n",
    "> - Stability: Measured as the R-squared of a linear fit to the cumulative log returns. In practice, this means regressing a range of integers (serving as the time index) on cumulative log returns.\n",
    "> - ~~Omega ratio: The probability-weighted ratio of gains over losses for a determined return target threshold (default set to 0). Its main advantage over the Sharpe ratio is that the Omega ratio—by construction—considers all moments of the returns distribution, while the former only considers the first two (mean and variance).~~\n",
    "> - Sortino ratio: A modified version of the Sharpe ratio, where the standard deviation in the denominator is replaced with downside deviation.\n",
    "> - Skew: Skewness measures the degree of asymmetry, that is, how much is the given distribution (here, of portfolio returns) more skewed than the Normal distribution. Negative skewness (left-skewed distributions) means  that large negative returns occur more frequently than large positive ones.\n",
    "> - Kurtosis: Measures extreme values in either of the tails. Distributions with large kurtosis exhibit tail data exceeding the tails of the Gaussian distribution, meaning that large and small returns occur more frequently.\n",
    "> - Tail ratio: The ratio (absolute) between the 95th and 5th percentile of the daily returns. A tail ratio of ~0.8 means that losses are ~1.25 times as bad as profits.\n",
    "> - Daily value at risk: Calculated as $\\mu - 2\\sigma$, where $\\mu$ is the average portfolio return over the period, and $\\sigma$ the corresponding standard deviation.\n",
    "\n",
    "Here are some tips:\n",
    "\n",
    "1. Write functions that return decimal returns\n",
    "1. For performance measures with benchmarks or targets, set the default to the risk-free rate of return from Ken French\n",
    "1. Call these functions the lower-case version of the entry name with underscores instead of spaces\n",
    "\n",
    "Also add:\n",
    "\n",
    "1. Total return\n",
    "1. Annual geometric mean return\n",
    "1. Annual volatility"
   ]
  },
  {
   "cell_type": "markdown",
   "metadata": {},
   "source": [
    "***For homework, try to write as many of the functions above as you can...***"
   ]
  },
  {
   "cell_type": "code",
   "execution_count": 40,
   "metadata": {},
   "outputs": [],
   "source": [
    "ff_all = pdr.get_data_famafrench('F-F_Research_Data_Factors_daily', start='1900', session=session)\n",
    "ff = ff_all[0].div(100).assign(Mkt = lambda x: x['Mkt-RF'] + x['RF'])"
   ]
  },
  {
   "cell_type": "code",
   "execution_count": 41,
   "metadata": {},
   "outputs": [],
   "source": [
    "def sharpe_ratio(ri, tgt):\n",
    "    ri_tgt = (ri - tgt).dropna()\n",
    "    return np.sqrt(252) * ri_tgt.mean() / ri_tgt.std()"
   ]
  },
  {
   "cell_type": "code",
   "execution_count": 42,
   "metadata": {},
   "outputs": [],
   "source": [
    "def drawdown(ri):\n",
    "    implied_price = (1 + ri).cumprod()\n",
    "    return implied_price / implied_price.cummax() - 1"
   ]
  },
  {
   "cell_type": "code",
   "execution_count": 43,
   "metadata": {},
   "outputs": [],
   "source": [
    "def max_drawdown(ri):\n",
    "    return drawdown(ri).min() # use .min() because drawdown() is negative"
   ]
  },
  {
   "cell_type": "code",
   "execution_count": 44,
   "metadata": {},
   "outputs": [],
   "source": [
    "def cagr(ri):\n",
    "    T = ri.shape[0]\n",
    "    return (1 + ri).prod() ** (252/T) - 1"
   ]
  },
  {
   "cell_type": "code",
   "execution_count": 45,
   "metadata": {},
   "outputs": [],
   "source": [
    "def calmar_ratio(ri):\n",
    "    return cagr(ri) / (-1 * max_drawdown(ri))"
   ]
  },
  {
   "cell_type": "code",
   "execution_count": 46,
   "metadata": {},
   "outputs": [],
   "source": [
    "def stability(ri):\n",
    "    cumlogri = np.log(1 + ri).cumsum()\n",
    "    time = np.arange(cumlogri.shape[0])\n",
    "    df = pd.DataFrame({'cumlogri': cumlogri, 'time': time})\n",
    "    import statsmodels.formula.api as smf\n",
    "    fit = smf.ols(formula='cumlogri ~ time', data=df).fit()\n",
    "    return fit.rsquared"
   ]
  },
  {
   "cell_type": "code",
   "execution_count": 47,
   "metadata": {},
   "outputs": [],
   "source": [
    "def sortino_ratio(ri, tgt):\n",
    "    ri_tgt = (ri - tgt).dropna()\n",
    "    ri_tgt_downside = ri_tgt.loc[ri_tgt < 0]\n",
    "    return np.sqrt(252) * ri_tgt.mean() / ri_tgt_downside.std()"
   ]
  },
  {
   "cell_type": "code",
   "execution_count": 48,
   "metadata": {},
   "outputs": [],
   "source": [
    "def tail_ratio(ri):\n",
    "    return np.abs(ri.quantile(0.95) / ri.quantile(0.05))"
   ]
  },
  {
   "cell_type": "code",
   "execution_count": 49,
   "metadata": {},
   "outputs": [],
   "source": [
    "def daily_var(ri):\n",
    "    return ri.mean() - 2 * ri.std()"
   ]
  },
  {
   "cell_type": "code",
   "execution_count": 50,
   "metadata": {},
   "outputs": [],
   "source": [
    "def ann_std(ri):\n",
    "    return np.sqrt(252) * ri.std()"
   ]
  },
  {
   "cell_type": "code",
   "execution_count": 51,
   "metadata": {},
   "outputs": [],
   "source": [
    "def total_return(ri):\n",
    "    return (1 + ri).prod() - 1"
   ]
  },
  {
   "cell_type": "markdown",
   "metadata": {},
   "source": [
    "***Practice:***\n",
    "Write a `tear_sheet()` function that tabulates average annual returns, cumulative returns, annual volatility, and the performance measures in the previous practice."
   ]
  },
  {
   "cell_type": "code",
   "execution_count": 52,
   "metadata": {},
   "outputs": [],
   "source": [
    "def tear_sheet(ri, tgt):\n",
    "    name = ri.name\n",
    "    begin = ri.index[0].strftime('%Y-%m-%d')\n",
    "    end = ri.index[-1].strftime('%Y-%m-%d')\n",
    "\n",
    "    df = pd.Series({\n",
    "        'Name': name,\n",
    "        'Begin': begin,\n",
    "        'End': end,\n",
    "        'Total Return (%)': 100 * total_return(ri=ri),\n",
    "        'CAGR (%)': 100 * cagr(ri=ri),\n",
    "        'Annual Volatility (%)': 100 * ann_std(ri=ri),\n",
    "        'Sharpe Ratio': sharpe_ratio(ri=ri, tgt=tgt),\n",
    "        'Max Drawdown (%)': 100 * max_drawdown(ri=ri),\n",
    "        'Calmar Ratio': calmar_ratio(ri=ri),\n",
    "        'Stability': stability(ri=ri),\n",
    "        'Sortino Ratio': sortino_ratio(ri=ri, tgt=tgt),\n",
    "        'Skew': ri.skew(),\n",
    "        'Kurtosis': ri.kurt(),\n",
    "        'Tail Ratio': tail_ratio(ri=ri),\n",
    "        'Daily VaR (%)': 100 * daily_var(ri=ri),\n",
    "    }).to_frame(name='Value')\n",
    "    df.index.name = 'Performance Measure'\n",
    "    \n",
    "    return df"
   ]
  },
  {
   "cell_type": "code",
   "execution_count": 53,
   "metadata": {},
   "outputs": [
    {
     "data": {
      "text/html": [
       "<div>\n",
       "<style scoped>\n",
       "    .dataframe tbody tr th:only-of-type {\n",
       "        vertical-align: middle;\n",
       "    }\n",
       "\n",
       "    .dataframe tbody tr th {\n",
       "        vertical-align: top;\n",
       "    }\n",
       "\n",
       "    .dataframe thead th {\n",
       "        text-align: right;\n",
       "    }\n",
       "</style>\n",
       "<table border=\"1\" class=\"dataframe\">\n",
       "  <thead>\n",
       "    <tr style=\"text-align: right;\">\n",
       "      <th></th>\n",
       "      <th>Value</th>\n",
       "    </tr>\n",
       "    <tr>\n",
       "      <th>Performance Measure</th>\n",
       "      <th></th>\n",
       "    </tr>\n",
       "  </thead>\n",
       "  <tbody>\n",
       "    <tr>\n",
       "      <th>Name</th>\n",
       "      <td>AAPL</td>\n",
       "    </tr>\n",
       "    <tr>\n",
       "      <th>Begin</th>\n",
       "      <td>2017-01-03</td>\n",
       "    </tr>\n",
       "    <tr>\n",
       "      <th>End</th>\n",
       "      <td>2018-12-31</td>\n",
       "    </tr>\n",
       "    <tr>\n",
       "      <th>Total Return (%)</th>\n",
       "      <td>40.4618</td>\n",
       "    </tr>\n",
       "    <tr>\n",
       "      <th>CAGR (%)</th>\n",
       "      <td>18.5968</td>\n",
       "    </tr>\n",
       "    <tr>\n",
       "      <th>Annual Volatility (%)</th>\n",
       "      <td>23.8477</td>\n",
       "    </tr>\n",
       "    <tr>\n",
       "      <th>Sharpe Ratio</th>\n",
       "      <td>0.7794</td>\n",
       "    </tr>\n",
       "    <tr>\n",
       "      <th>Max Drawdown (%)</th>\n",
       "      <td>-36.5095</td>\n",
       "    </tr>\n",
       "    <tr>\n",
       "      <th>Calmar Ratio</th>\n",
       "      <td>0.5094</td>\n",
       "    </tr>\n",
       "    <tr>\n",
       "      <th>Stability</th>\n",
       "      <td>0.7764</td>\n",
       "    </tr>\n",
       "    <tr>\n",
       "      <th>Sortino Ratio</th>\n",
       "      <td>1.0511</td>\n",
       "    </tr>\n",
       "    <tr>\n",
       "      <th>Skew</th>\n",
       "      <td>0.0019</td>\n",
       "    </tr>\n",
       "    <tr>\n",
       "      <th>Kurtosis</th>\n",
       "      <td>3.3785</td>\n",
       "    </tr>\n",
       "    <tr>\n",
       "      <th>Tail Ratio</th>\n",
       "      <td>0.8686</td>\n",
       "    </tr>\n",
       "    <tr>\n",
       "      <th>Daily VaR (%)</th>\n",
       "      <td>-2.9256</td>\n",
       "    </tr>\n",
       "  </tbody>\n",
       "</table>\n",
       "</div>"
      ],
      "text/plain": [
       "                            Value\n",
       "Performance Measure              \n",
       "Name                         AAPL\n",
       "Begin                  2017-01-03\n",
       "End                    2018-12-31\n",
       "Total Return (%)          40.4618\n",
       "CAGR (%)                  18.5968\n",
       "Annual Volatility (%)     23.8477\n",
       "Sharpe Ratio               0.7794\n",
       "Max Drawdown (%)         -36.5095\n",
       "Calmar Ratio               0.5094\n",
       "Stability                  0.7764\n",
       "Sortino Ratio              1.0511\n",
       "Skew                       0.0019\n",
       "Kurtosis                   3.3785\n",
       "Tail Ratio                 0.8686\n",
       "Daily VaR (%)             -2.9256"
      ]
     },
     "execution_count": 53,
     "metadata": {},
     "output_type": "execute_result"
    }
   ],
   "source": [
    "tear_sheet(ri=returns['AAPL'], tgt=ff['RF'])"
   ]
  },
  {
   "cell_type": "markdown",
   "metadata": {},
   "source": [
    "***Practice:***\n",
    "Find the portfolio with the maximum Sharpe Ratio for a portfolio of FAANG stocks from 2012 to 2019.\n",
    "Note that `sco.minimize()` finds *minimums*, so you need to minimize the *negative* Sharpe Ratio."
   ]
  },
  {
   "cell_type": "code",
   "execution_count": 54,
   "metadata": {},
   "outputs": [
    {
     "name": "stdout",
     "output_type": "stream",
     "text": [
      "[*********************100%***********************]  5 of 5 completed\n"
     ]
    }
   ],
   "source": [
    "maang = yf.download('META AAPL AMZN NFLX GOOG', session=session)['Adj Close'].pct_change()\n",
    "maang.index = maang.index.tz_localize(None)"
   ]
  },
  {
   "cell_type": "code",
   "execution_count": 55,
   "metadata": {},
   "outputs": [],
   "source": [
    "def sharpe_ratio(ri, tgt):\n",
    "    ri_tgt = (ri - tgt).dropna()\n",
    "    return np.sqrt(252) * ri_tgt.mean() / ri_tgt.std()"
   ]
  },
  {
   "cell_type": "code",
   "execution_count": 56,
   "metadata": {},
   "outputs": [],
   "source": [
    "def neg_sharpe_ratio(w, rs, tgt):\n",
    "    ri = rs.dot(w)\n",
    "    return -1 * sharpe_ratio(ri=ri, tgt=tgt)"
   ]
  },
  {
   "cell_type": "code",
   "execution_count": 57,
   "metadata": {},
   "outputs": [],
   "source": [
    "res_msr = sco.minimize(\n",
    "    fun=neg_sharpe_ratio, # we want to minimize -1 * Sharpe Ratio\n",
    "    x0=np.ones(maang.shape[1]) / maang.shape[1], # x0 contains our first guess at portfolio weights\n",
    "    args=(maang.loc['2012':'2019'], ff['RF']), # args provides additional argument to the function we will minimize\n",
    "    bounds=tuple([(0,1) for c in maang]), # bounds limits the search space for portfolio weights\n",
    "    constraints=(\n",
    "        {'type': 'eq', 'fun': lambda x: x.sum() - 1}, # \"eq\" constraints are driven to zero\n",
    "    )\n",
    ")\n",
    "assert res_msr['success']"
   ]
  },
  {
   "cell_type": "code",
   "execution_count": 58,
   "metadata": {},
   "outputs": [
    {
     "data": {
      "text/plain": [
       "array([0.2903, 0.2683, 0.055 , 0.1047, 0.2818])"
      ]
     },
     "execution_count": 58,
     "metadata": {},
     "output_type": "execute_result"
    }
   ],
   "source": [
    "res_msr['x']"
   ]
  },
  {
   "cell_type": "code",
   "execution_count": 59,
   "metadata": {},
   "outputs": [
    {
     "name": "stdout",
     "output_type": "stream",
     "text": [
      "Maximum Sharpe Ratio Portfolio (2012-2019)\n",
      "==========================================\n",
      "\n",
      "Performance\n",
      "-----------\n",
      "Return:     0.3016\n",
      "Volatility: 0.2778\n",
      "\n",
      "Weights\n",
      "-------\n",
      "AAPL:       0.2903\n",
      "AMZN:       0.2683\n",
      "GOOG:       0.0550\n",
      "META:       0.1047\n",
      "NFLX:       0.2818\n"
     ]
    }
   ],
   "source": [
    "print_port_res(w=res_msr['x'], title='Maximum Sharpe Ratio Portfolio (2012-2019)', df=maang)"
   ]
  },
  {
   "cell_type": "markdown",
   "metadata": {},
   "source": [
    "***Practice:***\n",
    "What is the *out-of-sample* performance of this maximum Sharpe Ratio portfolio?\n",
    "For example, what is the Sharpe Ratio of this portfolio from 2020 through today?\n",
    "How does this compare to the Sharpe Ratio of the $1/N$ portfolio?"
   ]
  },
  {
   "cell_type": "markdown",
   "metadata": {},
   "source": [
    "They have (about) the same Sharpe Ratio!\n",
    "Many portfolio optimization techniques fail to outperform in practice because out-of-sample correlations change!"
   ]
  },
  {
   "cell_type": "code",
   "execution_count": 60,
   "metadata": {},
   "outputs": [
    {
     "data": {
      "text/plain": [
       "1.3350"
      ]
     },
     "execution_count": 60,
     "metadata": {},
     "output_type": "execute_result"
    }
   ],
   "source": [
    "sharpe_ratio(ri=maang.loc['2020':'2021'].dot(res_msr['x']), tgt=ff['RF'])"
   ]
  },
  {
   "cell_type": "code",
   "execution_count": 61,
   "metadata": {},
   "outputs": [
    {
     "data": {
      "text/plain": [
       "1.3330"
      ]
     },
     "execution_count": 61,
     "metadata": {},
     "output_type": "execute_result"
    }
   ],
   "source": [
    "sharpe_ratio(ri=maang.loc['2020':'2021'].mean(axis=1), tgt=ff['RF'])"
   ]
  },
  {
   "cell_type": "markdown",
   "metadata": {},
   "source": [
    "***Practice:***\n",
    "Find the portfolio with the maximum Sharpe Ratio for a portfolio of FAANG stocks from 2010 to 2019, but allow short positions up to 30% of the portfolio.\n",
    "So for every one dollar invested, you can short one or more of these four stocks to finance another 30 cents."
   ]
  },
  {
   "cell_type": "code",
   "execution_count": 62,
   "metadata": {
    "tags": []
   },
   "outputs": [],
   "source": [
    "res_msr_short = sco.minimize(\n",
    "    fun=neg_sharpe_ratio, # we want to minimize -1 * Sharpe Ratio\n",
    "    x0=np.ones(maang.shape[1]) / maang.shape[1], # x0 contains our first guess\n",
    "    args=(maang.loc['2012':'2019'], ff['RF']), # args provides additional arguments to `fun`\n",
    "    bounds=tuple([(-0.3, 1.3) for c in maang]), # bounds limit our search space\n",
    "    constraints=(\n",
    "        {'type': 'eq', 'fun': lambda x: x.sum() - 1}, # portfolio weights sum to 1\n",
    "        {'type': 'ineq', 'fun': lambda x: x[x < 0].sum() - (-0.3)} # sum of negative weights > -0.3\n",
    "    )\n",
    ")\n",
    "assert res_msr_short['success']"
   ]
  },
  {
   "cell_type": "code",
   "execution_count": 63,
   "metadata": {},
   "outputs": [
    {
     "name": "stdout",
     "output_type": "stream",
     "text": [
      "Maximum Sharpe Ratio Portfolio (2012-2019)\n",
      "with Short Positions\n",
      "===============================================================\n",
      "\n",
      "Performance\n",
      "-----------\n",
      "Return:     0.3015\n",
      "Volatility: 0.2778\n",
      "\n",
      "Weights\n",
      "-------\n",
      "AAPL:       0.2902\n",
      "AMZN:       0.2681\n",
      "GOOG:       0.0552\n",
      "META:       0.1047\n",
      "NFLX:       0.2817\n"
     ]
    }
   ],
   "source": [
    "print_port_res(\n",
    "    w=res_msr_short['x'], \n",
    "    title='Maximum Sharpe Ratio Portfolio (2012-2019)\\nwith Short Positions', \n",
    "    df=maang\n",
    ")"
   ]
  },
  {
   "cell_type": "markdown",
   "metadata": {},
   "source": [
    "With the FAANG stocks, allowing shorts does not increase the Sharpe Ratio!\n",
    "However, allowing shorts increase the Sharpe Ratio with AAPL, IBM, MSFT, and TWTR!"
   ]
  },
  {
   "cell_type": "code",
   "execution_count": 64,
   "metadata": {
    "tags": []
   },
   "outputs": [
    {
     "name": "stderr",
     "output_type": "stream",
     "text": [
      "/home/richard/.local/lib/python3.10/site-packages/scipy/optimize/_optimize.py:284: RuntimeWarning: Values in x were outside bounds during a minimize step, clipping to bounds\n",
      "  warnings.warn(\"Values in x were outside bounds during a \"\n",
      "/home/richard/.local/lib/python3.10/site-packages/scipy/optimize/_optimize.py:284: RuntimeWarning: Values in x were outside bounds during a minimize step, clipping to bounds\n",
      "  warnings.warn(\"Values in x were outside bounds during a \"\n",
      "/home/richard/.local/lib/python3.10/site-packages/scipy/optimize/_optimize.py:284: RuntimeWarning: Values in x were outside bounds during a minimize step, clipping to bounds\n",
      "  warnings.warn(\"Values in x were outside bounds during a \"\n"
     ]
    }
   ],
   "source": [
    "res_msr_short_2 = sco.minimize(\n",
    "    fun=neg_sharpe_ratio, # we want to minimize -1 * Sharpe Ratio\n",
    "    x0=np.ones(returns.shape[1]) / returns.shape[1], # x0 contains our first guess\n",
    "    args=(returns, ff['RF']), # args provides additional arguments to `fun`\n",
    "    bounds=tuple([(-0.3, 1.3) for c in returns]), # bounds limit our search space\n",
    "    constraints=(\n",
    "        {'type': 'eq', 'fun': lambda x: x.sum() - 1}, # portfolio weights sum to 1\n",
    "        {'type': 'ineq', 'fun': lambda x: x[x < 0].sum() - (-0.3)} # sum of negative weights > -0.3\n",
    "    )\n",
    ")\n",
    "assert res_msr_short['success']"
   ]
  },
  {
   "cell_type": "code",
   "execution_count": 65,
   "metadata": {},
   "outputs": [
    {
     "name": "stdout",
     "output_type": "stream",
     "text": [
      "Maximum Sharpe Ratio Portfolio (2017-2018)\n",
      "with Short Positions\n",
      "===============================================================\n",
      "\n",
      "Performance\n",
      "-----------\n",
      "Return:     0.4252\n",
      "Volatility: 0.2689\n",
      "\n",
      "Weights\n",
      "-------\n",
      "AAPL:       0.0716\n",
      "IBM:        -0.3000\n",
      "MSFT:       1.1097\n",
      "TWTR:       0.1187\n"
     ]
    }
   ],
   "source": [
    "print_port_res(\n",
    "    w=res_msr_short_2['x'], \n",
    "    title='Maximum Sharpe Ratio Portfolio (2017-2018)\\nwith Short Positions', \n",
    "    df=returns\n",
    ")"
   ]
  }
 ],
 "metadata": {
  "author": "Richard Herron",
  "kernelspec": {
   "display_name": "Python 3 (ipykernel)",
   "language": "python",
   "name": "python3"
  },
  "language_info": {
   "codemirror_mode": {
    "name": "ipython",
    "version": 3
   },
   "file_extension": ".py",
   "mimetype": "text/x-python",
   "name": "python",
   "nbconvert_exporter": "python",
   "pygments_lexer": "ipython3",
   "version": "3.9.13"
  },
  "title": "Lewinson Chapter 7 - Asset Allocation in Python",
  "toc": {
   "base_numbering": 1,
   "nav_menu": {},
   "number_sections": true,
   "sideBar": true,
   "skip_h1_title": false,
   "title_cell": "Table of Contents",
   "title_sidebar": "Contents",
   "toc_cell": false,
   "toc_position": {
    "height": "calc(100% - 180px)",
    "left": "10px",
    "top": "150px",
    "width": "336px"
   },
   "toc_section_display": true,
   "toc_window_display": true
  },
  "toc-autonumbering": true,
  "varInspector": {
   "cols": {
    "lenName": 16,
    "lenType": 16,
    "lenVar": 40
   },
   "kernels_config": {
    "python": {
     "delete_cmd_postfix": "",
     "delete_cmd_prefix": "del ",
     "library": "var_list.py",
     "varRefreshCmd": "print(var_dic_list())"
    },
    "r": {
     "delete_cmd_postfix": ") ",
     "delete_cmd_prefix": "rm(",
     "library": "var_list.r",
     "varRefreshCmd": "cat(var_dic_list()) "
    }
   },
   "types_to_exclude": [
    "module",
    "function",
    "builtin_function_or_method",
    "instance",
    "_Feature"
   ],
   "window_display": false
  }
 },
 "nbformat": 4,
 "nbformat_minor": 4
}