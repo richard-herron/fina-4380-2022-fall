{
 "cells": [
  {
   "cell_type": "code",
   "execution_count": 1,
   "id": "d0eb4f16-5a99-460d-a5ba-706b7ef0bbe7",
   "metadata": {
    "id": "bA5ajAmk7XH6"
   },
   "outputs": [],
   "source": [
    "import pandas as pd\n",
    "import numpy as np\n",
    "import matplotlib.pyplot as plt\n",
    "from scipy.stats import zscore"
   ]
  },
  {
   "cell_type": "code",
   "execution_count": 2,
   "id": "1b920364-8536-435c-9c9d-7bed5f2c2f15",
   "metadata": {},
   "outputs": [],
   "source": [
    "pd.set_option('display.float_format', '{:.4f}'.format)\n",
    "%precision 4\n",
    "plt.rcParams['figure.dpi'] = 150"
   ]
  },
  {
   "cell_type": "code",
   "execution_count": 3,
   "id": "35c1b99c-f2ee-4d0c-ade6-497ffdfee3a5",
   "metadata": {},
   "outputs": [],
   "source": [
    "import yfinance as yf\n",
    "import requests_cache\n",
    "session = requests_cache.CachedSession"
   ]
  },
  {
   "cell_type": "code",
   "execution_count": 31,
   "id": "7ae19d0a-8b7a-486c-9e0e-1f3d6841df5c",
   "metadata": {},
   "outputs": [
    {
     "data": {
      "text/plain": [
       "requests_cache.session.CachedSession"
      ]
     },
     "execution_count": 31,
     "metadata": {},
     "output_type": "execute_result"
    }
   ],
   "source": [
    "requests_cache.CachedSession"
   ]
  },
  {
   "cell_type": "code",
   "execution_count": 32,
   "id": "0682f814-2e9c-452d-8a90-1d6bac9e817c",
   "metadata": {},
   "outputs": [
    {
     "data": {
      "text/plain": [
       "<CachedSession(cache=<SQLiteCache(name=http_cache)>, expire_after=-1, urls_expire_after=None, allowable_codes=(200,), allowable_methods=('GET', 'HEAD'), stale_if_error=False, cache_control=False)>"
      ]
     },
     "execution_count": 32,
     "metadata": {},
     "output_type": "execute_result"
    }
   ],
   "source": [
    "requests_cache.CachedSession()"
   ]
  },
  {
   "cell_type": "markdown",
   "id": "fb440302-f78c-409f-9364-4945c292d662",
   "metadata": {},
   "source": [
    "# Calculate daily returns for the S&P 100 stocks. \n",
    "Use all the stocks listed here: https://en.wikipedia.org/wiki/S%26P_100#Components"
   ]
  },
  {
   "cell_type": "code",
   "execution_count": 4,
   "id": "29b88350-01a8-4dc1-8882-8d5245730d25",
   "metadata": {},
   "outputs": [
    {
     "data": {
      "text/html": [
       "<div>\n",
       "<style scoped>\n",
       "    .dataframe tbody tr th:only-of-type {\n",
       "        vertical-align: middle;\n",
       "    }\n",
       "\n",
       "    .dataframe tbody tr th {\n",
       "        vertical-align: top;\n",
       "    }\n",
       "\n",
       "    .dataframe thead th {\n",
       "        text-align: right;\n",
       "    }\n",
       "</style>\n",
       "<table border=\"1\" class=\"dataframe\">\n",
       "  <thead>\n",
       "    <tr style=\"text-align: right;\">\n",
       "      <th></th>\n",
       "      <th>Symbol</th>\n",
       "      <th>Name</th>\n",
       "      <th>Sector</th>\n",
       "    </tr>\n",
       "  </thead>\n",
       "  <tbody>\n",
       "    <tr>\n",
       "      <th>0</th>\n",
       "      <td>AAPL</td>\n",
       "      <td>Apple</td>\n",
       "      <td>Information Technology</td>\n",
       "    </tr>\n",
       "    <tr>\n",
       "      <th>1</th>\n",
       "      <td>ABBV</td>\n",
       "      <td>AbbVie</td>\n",
       "      <td>Health Care</td>\n",
       "    </tr>\n",
       "    <tr>\n",
       "      <th>2</th>\n",
       "      <td>ABT</td>\n",
       "      <td>Abbott</td>\n",
       "      <td>Health Care</td>\n",
       "    </tr>\n",
       "    <tr>\n",
       "      <th>3</th>\n",
       "      <td>ACN</td>\n",
       "      <td>Accenture</td>\n",
       "      <td>Information Technology</td>\n",
       "    </tr>\n",
       "    <tr>\n",
       "      <th>4</th>\n",
       "      <td>ADBE</td>\n",
       "      <td>Adobe</td>\n",
       "      <td>Information Technology</td>\n",
       "    </tr>\n",
       "    <tr>\n",
       "      <th>...</th>\n",
       "      <td>...</td>\n",
       "      <td>...</td>\n",
       "      <td>...</td>\n",
       "    </tr>\n",
       "    <tr>\n",
       "      <th>96</th>\n",
       "      <td>VZ</td>\n",
       "      <td>Verizon</td>\n",
       "      <td>Communication Services</td>\n",
       "    </tr>\n",
       "    <tr>\n",
       "      <th>97</th>\n",
       "      <td>WBA</td>\n",
       "      <td>Walgreens Boots Alliance</td>\n",
       "      <td>Consumer Staples</td>\n",
       "    </tr>\n",
       "    <tr>\n",
       "      <th>98</th>\n",
       "      <td>WFC</td>\n",
       "      <td>Wells Fargo</td>\n",
       "      <td>Financials</td>\n",
       "    </tr>\n",
       "    <tr>\n",
       "      <th>99</th>\n",
       "      <td>WMT</td>\n",
       "      <td>Walmart</td>\n",
       "      <td>Consumer Staples</td>\n",
       "    </tr>\n",
       "    <tr>\n",
       "      <th>100</th>\n",
       "      <td>XOM</td>\n",
       "      <td>ExxonMobil</td>\n",
       "      <td>Energy</td>\n",
       "    </tr>\n",
       "  </tbody>\n",
       "</table>\n",
       "<p>101 rows × 3 columns</p>\n",
       "</div>"
      ],
      "text/plain": [
       "    Symbol                      Name                  Sector\n",
       "0     AAPL                     Apple  Information Technology\n",
       "1     ABBV                    AbbVie             Health Care\n",
       "2      ABT                    Abbott             Health Care\n",
       "3      ACN                 Accenture  Information Technology\n",
       "4     ADBE                     Adobe  Information Technology\n",
       "..     ...                       ...                     ...\n",
       "96      VZ                   Verizon  Communication Services\n",
       "97     WBA  Walgreens Boots Alliance        Consumer Staples\n",
       "98     WFC               Wells Fargo              Financials\n",
       "99     WMT                   Walmart        Consumer Staples\n",
       "100    XOM                ExxonMobil                  Energy\n",
       "\n",
       "[101 rows x 3 columns]"
      ]
     },
     "execution_count": 4,
     "metadata": {},
     "output_type": "execute_result"
    }
   ],
   "source": [
    "# extract table of stocks from Wikipedia provided\n",
    "sp_100_companies = pd.read_html('https://en.wikipedia.org/wiki/S%26P_100#Components')\n",
    "sp_100_companies = sp_100_companies[2]\n",
    "sp_100_companies"
   ]
  },
  {
   "cell_type": "code",
   "execution_count": 5,
   "id": "8de621fe-bd3e-4a36-b526-3dee4aea8149",
   "metadata": {},
   "outputs": [],
   "source": [
    "# replace BRK.B with BRK-B\n",
    "sp_100_companies.iloc[18].loc['Symbol'] = 'BRK-B'"
   ]
  },
  {
   "cell_type": "code",
   "execution_count": 6,
   "id": "e8ebcad3-dc54-4d76-81e1-c71a6774cce1",
   "metadata": {},
   "outputs": [
    {
     "name": "stdout",
     "output_type": "stream",
     "text": [
      "[*********************100%***********************]  101 of 101 completed\n"
     ]
    },
    {
     "data": {
      "text/html": [
       "<div>\n",
       "<style scoped>\n",
       "    .dataframe tbody tr th:only-of-type {\n",
       "        vertical-align: middle;\n",
       "    }\n",
       "\n",
       "    .dataframe tbody tr th {\n",
       "        vertical-align: top;\n",
       "    }\n",
       "\n",
       "    .dataframe thead tr th {\n",
       "        text-align: left;\n",
       "    }\n",
       "\n",
       "    .dataframe thead tr:last-of-type th {\n",
       "        text-align: right;\n",
       "    }\n",
       "</style>\n",
       "<table border=\"1\" class=\"dataframe\">\n",
       "  <thead>\n",
       "    <tr>\n",
       "      <th></th>\n",
       "      <th colspan=\"10\" halign=\"left\">Adj Close</th>\n",
       "      <th>...</th>\n",
       "      <th colspan=\"10\" halign=\"left\">Volume</th>\n",
       "    </tr>\n",
       "    <tr>\n",
       "      <th></th>\n",
       "      <th>AAPL</th>\n",
       "      <th>ABBV</th>\n",
       "      <th>ABT</th>\n",
       "      <th>ACN</th>\n",
       "      <th>ADBE</th>\n",
       "      <th>AIG</th>\n",
       "      <th>AMD</th>\n",
       "      <th>AMGN</th>\n",
       "      <th>AMT</th>\n",
       "      <th>AMZN</th>\n",
       "      <th>...</th>\n",
       "      <th>UNH</th>\n",
       "      <th>UNP</th>\n",
       "      <th>UPS</th>\n",
       "      <th>USB</th>\n",
       "      <th>V</th>\n",
       "      <th>VZ</th>\n",
       "      <th>WBA</th>\n",
       "      <th>WFC</th>\n",
       "      <th>WMT</th>\n",
       "      <th>XOM</th>\n",
       "    </tr>\n",
       "    <tr>\n",
       "      <th>Date</th>\n",
       "      <th></th>\n",
       "      <th></th>\n",
       "      <th></th>\n",
       "      <th></th>\n",
       "      <th></th>\n",
       "      <th></th>\n",
       "      <th></th>\n",
       "      <th></th>\n",
       "      <th></th>\n",
       "      <th></th>\n",
       "      <th></th>\n",
       "      <th></th>\n",
       "      <th></th>\n",
       "      <th></th>\n",
       "      <th></th>\n",
       "      <th></th>\n",
       "      <th></th>\n",
       "      <th></th>\n",
       "      <th></th>\n",
       "      <th></th>\n",
       "      <th></th>\n",
       "    </tr>\n",
       "  </thead>\n",
       "  <tbody>\n",
       "    <tr>\n",
       "      <th>2020-01-02</th>\n",
       "      <td>73.6836</td>\n",
       "      <td>78.7256</td>\n",
       "      <td>83.2974</td>\n",
       "      <td>201.5547</td>\n",
       "      <td>334.4300</td>\n",
       "      <td>47.5863</td>\n",
       "      <td>49.1000</td>\n",
       "      <td>221.2049</td>\n",
       "      <td>215.8704</td>\n",
       "      <td>94.9005</td>\n",
       "      <td>...</td>\n",
       "      <td>2543400.0000</td>\n",
       "      <td>2444800.0000</td>\n",
       "      <td>4158100.0000</td>\n",
       "      <td>5002100.0000</td>\n",
       "      <td>8733000.0000</td>\n",
       "      <td>11447900.0000</td>\n",
       "      <td>5700500.0000</td>\n",
       "      <td>16803100.0000</td>\n",
       "      <td>6764900.0000</td>\n",
       "      <td>12456400.0000</td>\n",
       "    </tr>\n",
       "    <tr>\n",
       "      <th>2020-01-03</th>\n",
       "      <td>72.9672</td>\n",
       "      <td>77.9784</td>\n",
       "      <td>82.2820</td>\n",
       "      <td>201.2191</td>\n",
       "      <td>331.8100</td>\n",
       "      <td>47.2186</td>\n",
       "      <td>48.6000</td>\n",
       "      <td>219.7032</td>\n",
       "      <td>215.9743</td>\n",
       "      <td>93.7485</td>\n",
       "      <td>...</td>\n",
       "      <td>2711400.0000</td>\n",
       "      <td>2344200.0000</td>\n",
       "      <td>2477800.0000</td>\n",
       "      <td>5161800.0000</td>\n",
       "      <td>4899700.0000</td>\n",
       "      <td>13263200.0000</td>\n",
       "      <td>4892300.0000</td>\n",
       "      <td>15608800.0000</td>\n",
       "      <td>5399200.0000</td>\n",
       "      <td>17386900.0000</td>\n",
       "    </tr>\n",
       "    <tr>\n",
       "      <th>2020-01-06</th>\n",
       "      <td>73.5486</td>\n",
       "      <td>78.5937</td>\n",
       "      <td>82.7131</td>\n",
       "      <td>199.9051</td>\n",
       "      <td>333.7100</td>\n",
       "      <td>47.2554</td>\n",
       "      <td>48.3900</td>\n",
       "      <td>221.3892</td>\n",
       "      <td>215.9176</td>\n",
       "      <td>95.1440</td>\n",
       "      <td>...</td>\n",
       "      <td>3079100.0000</td>\n",
       "      <td>3142500.0000</td>\n",
       "      <td>3381600.0000</td>\n",
       "      <td>6869200.0000</td>\n",
       "      <td>10109500.0000</td>\n",
       "      <td>15094500.0000</td>\n",
       "      <td>6003300.0000</td>\n",
       "      <td>13200300.0000</td>\n",
       "      <td>6445500.0000</td>\n",
       "      <td>20081900.0000</td>\n",
       "    </tr>\n",
       "    <tr>\n",
       "      <th>2020-01-07</th>\n",
       "      <td>73.2027</td>\n",
       "      <td>78.1454</td>\n",
       "      <td>82.2532</td>\n",
       "      <td>195.5891</td>\n",
       "      <td>333.3900</td>\n",
       "      <td>46.9887</td>\n",
       "      <td>48.2500</td>\n",
       "      <td>219.3070</td>\n",
       "      <td>211.3168</td>\n",
       "      <td>95.3430</td>\n",
       "      <td>...</td>\n",
       "      <td>2492900.0000</td>\n",
       "      <td>4096400.0000</td>\n",
       "      <td>1952300.0000</td>\n",
       "      <td>4006800.0000</td>\n",
       "      <td>4392300.0000</td>\n",
       "      <td>14293100.0000</td>\n",
       "      <td>4365700.0000</td>\n",
       "      <td>13278600.0000</td>\n",
       "      <td>6846900.0000</td>\n",
       "      <td>17387700.0000</td>\n",
       "    </tr>\n",
       "    <tr>\n",
       "      <th>2020-01-08</th>\n",
       "      <td>74.3803</td>\n",
       "      <td>78.6992</td>\n",
       "      <td>82.5885</td>\n",
       "      <td>195.9727</td>\n",
       "      <td>337.8700</td>\n",
       "      <td>47.5404</td>\n",
       "      <td>47.8300</td>\n",
       "      <td>219.4728</td>\n",
       "      <td>213.1496</td>\n",
       "      <td>94.5985</td>\n",
       "      <td>...</td>\n",
       "      <td>3379200.0000</td>\n",
       "      <td>2817500.0000</td>\n",
       "      <td>2016000.0000</td>\n",
       "      <td>5627500.0000</td>\n",
       "      <td>5712000.0000</td>\n",
       "      <td>15926500.0000</td>\n",
       "      <td>17431800.0000</td>\n",
       "      <td>16585600.0000</td>\n",
       "      <td>5875800.0000</td>\n",
       "      <td>15137700.0000</td>\n",
       "    </tr>\n",
       "  </tbody>\n",
       "</table>\n",
       "<p>5 rows × 606 columns</p>\n",
       "</div>"
      ],
      "text/plain": [
       "           Adj Close                                                    \\\n",
       "                AAPL    ABBV     ABT      ACN     ADBE     AIG     AMD   \n",
       "Date                                                                     \n",
       "2020-01-02   73.6836 78.7256 83.2974 201.5547 334.4300 47.5863 49.1000   \n",
       "2020-01-03   72.9672 77.9784 82.2820 201.2191 331.8100 47.2186 48.6000   \n",
       "2020-01-06   73.5486 78.5937 82.7131 199.9051 333.7100 47.2554 48.3900   \n",
       "2020-01-07   73.2027 78.1454 82.2532 195.5891 333.3900 46.9887 48.2500   \n",
       "2020-01-08   74.3803 78.6992 82.5885 195.9727 337.8700 47.5404 47.8300   \n",
       "\n",
       "                                      ...       Volume               \\\n",
       "               AMGN      AMT    AMZN  ...          UNH          UNP   \n",
       "Date                                  ...                             \n",
       "2020-01-02 221.2049 215.8704 94.9005  ... 2543400.0000 2444800.0000   \n",
       "2020-01-03 219.7032 215.9743 93.7485  ... 2711400.0000 2344200.0000   \n",
       "2020-01-06 221.3892 215.9176 95.1440  ... 3079100.0000 3142500.0000   \n",
       "2020-01-07 219.3070 211.3168 95.3430  ... 2492900.0000 4096400.0000   \n",
       "2020-01-08 219.4728 213.1496 94.5985  ... 3379200.0000 2817500.0000   \n",
       "\n",
       "                                                                  \\\n",
       "                    UPS          USB             V            VZ   \n",
       "Date                                                               \n",
       "2020-01-02 4158100.0000 5002100.0000  8733000.0000 11447900.0000   \n",
       "2020-01-03 2477800.0000 5161800.0000  4899700.0000 13263200.0000   \n",
       "2020-01-06 3381600.0000 6869200.0000 10109500.0000 15094500.0000   \n",
       "2020-01-07 1952300.0000 4006800.0000  4392300.0000 14293100.0000   \n",
       "2020-01-08 2016000.0000 5627500.0000  5712000.0000 15926500.0000   \n",
       "\n",
       "                                                                   \n",
       "                     WBA           WFC          WMT           XOM  \n",
       "Date                                                               \n",
       "2020-01-02  5700500.0000 16803100.0000 6764900.0000 12456400.0000  \n",
       "2020-01-03  4892300.0000 15608800.0000 5399200.0000 17386900.0000  \n",
       "2020-01-06  6003300.0000 13200300.0000 6445500.0000 20081900.0000  \n",
       "2020-01-07  4365700.0000 13278600.0000 6846900.0000 17387700.0000  \n",
       "2020-01-08 17431800.0000 16585600.0000 5875800.0000 15137700.0000  \n",
       "\n",
       "[5 rows x 606 columns]"
      ]
     },
     "execution_count": 6,
     "metadata": {},
     "output_type": "execute_result"
    }
   ],
   "source": [
    "# create list of stocks to download\n",
    "stocks = list(sp_100_companies.loc[:, 'Symbol'])\n",
    "\n",
    "# request past daily stock prices\n",
    "yf_data = yf.download(stocks, start='2020-01-01', end='2022-08-31', session=session)\n",
    "yf_data = pd.DataFrame(yf_data)\n",
    "yf_data.head()"
   ]
  },
  {
   "cell_type": "code",
   "execution_count": 34,
   "id": "a111c71e-8d07-4b5f-9a16-607b6e2848ed",
   "metadata": {},
   "outputs": [
    {
     "name": "stdout",
     "output_type": "stream",
     "text": [
      "[*********************100%***********************]  101 of 101 completed\n"
     ]
    }
   ],
   "source": [
    "yf_data = yf.download(stocks, start='2020-01-01', end='2022-08-31', session=session)\n"
   ]
  },
  {
   "cell_type": "code",
   "execution_count": 35,
   "id": "10bf16f1-5146-417c-a65c-a614cb5ef822",
   "metadata": {},
   "outputs": [
    {
     "data": {
      "text/html": [
       "<div>\n",
       "<style scoped>\n",
       "    .dataframe tbody tr th:only-of-type {\n",
       "        vertical-align: middle;\n",
       "    }\n",
       "\n",
       "    .dataframe tbody tr th {\n",
       "        vertical-align: top;\n",
       "    }\n",
       "\n",
       "    .dataframe thead tr th {\n",
       "        text-align: left;\n",
       "    }\n",
       "\n",
       "    .dataframe thead tr:last-of-type th {\n",
       "        text-align: right;\n",
       "    }\n",
       "</style>\n",
       "<table border=\"1\" class=\"dataframe\">\n",
       "  <thead>\n",
       "    <tr>\n",
       "      <th></th>\n",
       "      <th colspan=\"10\" halign=\"left\">Adj Close</th>\n",
       "      <th>...</th>\n",
       "      <th colspan=\"10\" halign=\"left\">Volume</th>\n",
       "    </tr>\n",
       "    <tr>\n",
       "      <th></th>\n",
       "      <th>AAPL</th>\n",
       "      <th>ABBV</th>\n",
       "      <th>ABT</th>\n",
       "      <th>ACN</th>\n",
       "      <th>ADBE</th>\n",
       "      <th>AIG</th>\n",
       "      <th>AMD</th>\n",
       "      <th>AMGN</th>\n",
       "      <th>AMT</th>\n",
       "      <th>AMZN</th>\n",
       "      <th>...</th>\n",
       "      <th>UNH</th>\n",
       "      <th>UNP</th>\n",
       "      <th>UPS</th>\n",
       "      <th>USB</th>\n",
       "      <th>V</th>\n",
       "      <th>VZ</th>\n",
       "      <th>WBA</th>\n",
       "      <th>WFC</th>\n",
       "      <th>WMT</th>\n",
       "      <th>XOM</th>\n",
       "    </tr>\n",
       "    <tr>\n",
       "      <th>Date</th>\n",
       "      <th></th>\n",
       "      <th></th>\n",
       "      <th></th>\n",
       "      <th></th>\n",
       "      <th></th>\n",
       "      <th></th>\n",
       "      <th></th>\n",
       "      <th></th>\n",
       "      <th></th>\n",
       "      <th></th>\n",
       "      <th></th>\n",
       "      <th></th>\n",
       "      <th></th>\n",
       "      <th></th>\n",
       "      <th></th>\n",
       "      <th></th>\n",
       "      <th></th>\n",
       "      <th></th>\n",
       "      <th></th>\n",
       "      <th></th>\n",
       "      <th></th>\n",
       "    </tr>\n",
       "  </thead>\n",
       "  <tbody>\n",
       "    <tr>\n",
       "      <th>2020-01-02</th>\n",
       "      <td>73.6836</td>\n",
       "      <td>78.7256</td>\n",
       "      <td>83.2974</td>\n",
       "      <td>201.5547</td>\n",
       "      <td>334.4300</td>\n",
       "      <td>47.5863</td>\n",
       "      <td>49.1000</td>\n",
       "      <td>221.2049</td>\n",
       "      <td>215.8704</td>\n",
       "      <td>94.9005</td>\n",
       "      <td>...</td>\n",
       "      <td>2543400.0000</td>\n",
       "      <td>2444800.0000</td>\n",
       "      <td>4158100.0000</td>\n",
       "      <td>5002100.0000</td>\n",
       "      <td>8733000.0000</td>\n",
       "      <td>11447900.0000</td>\n",
       "      <td>5700500.0000</td>\n",
       "      <td>16803100.0000</td>\n",
       "      <td>6764900.0000</td>\n",
       "      <td>12456400.0000</td>\n",
       "    </tr>\n",
       "    <tr>\n",
       "      <th>2020-01-03</th>\n",
       "      <td>72.9672</td>\n",
       "      <td>77.9783</td>\n",
       "      <td>82.2820</td>\n",
       "      <td>201.2191</td>\n",
       "      <td>331.8100</td>\n",
       "      <td>47.2186</td>\n",
       "      <td>48.6000</td>\n",
       "      <td>219.7032</td>\n",
       "      <td>215.9743</td>\n",
       "      <td>93.7485</td>\n",
       "      <td>...</td>\n",
       "      <td>2711400.0000</td>\n",
       "      <td>2344200.0000</td>\n",
       "      <td>2477800.0000</td>\n",
       "      <td>5161800.0000</td>\n",
       "      <td>4899700.0000</td>\n",
       "      <td>13263200.0000</td>\n",
       "      <td>4892300.0000</td>\n",
       "      <td>15608800.0000</td>\n",
       "      <td>5399200.0000</td>\n",
       "      <td>17386900.0000</td>\n",
       "    </tr>\n",
       "    <tr>\n",
       "      <th>2020-01-06</th>\n",
       "      <td>73.5486</td>\n",
       "      <td>78.5937</td>\n",
       "      <td>82.7131</td>\n",
       "      <td>199.9050</td>\n",
       "      <td>333.7100</td>\n",
       "      <td>47.2554</td>\n",
       "      <td>48.3900</td>\n",
       "      <td>221.3891</td>\n",
       "      <td>215.9176</td>\n",
       "      <td>95.1440</td>\n",
       "      <td>...</td>\n",
       "      <td>3079100.0000</td>\n",
       "      <td>3142500.0000</td>\n",
       "      <td>3381600.0000</td>\n",
       "      <td>6869200.0000</td>\n",
       "      <td>10109500.0000</td>\n",
       "      <td>15094500.0000</td>\n",
       "      <td>6003300.0000</td>\n",
       "      <td>13200300.0000</td>\n",
       "      <td>6445500.0000</td>\n",
       "      <td>20081900.0000</td>\n",
       "    </tr>\n",
       "    <tr>\n",
       "      <th>2020-01-07</th>\n",
       "      <td>73.2027</td>\n",
       "      <td>78.1454</td>\n",
       "      <td>82.2532</td>\n",
       "      <td>195.5891</td>\n",
       "      <td>333.3900</td>\n",
       "      <td>46.9887</td>\n",
       "      <td>48.2500</td>\n",
       "      <td>219.3070</td>\n",
       "      <td>211.3168</td>\n",
       "      <td>95.3430</td>\n",
       "      <td>...</td>\n",
       "      <td>2492900.0000</td>\n",
       "      <td>4096400.0000</td>\n",
       "      <td>1952300.0000</td>\n",
       "      <td>4006800.0000</td>\n",
       "      <td>4392300.0000</td>\n",
       "      <td>14293100.0000</td>\n",
       "      <td>4365700.0000</td>\n",
       "      <td>13278600.0000</td>\n",
       "      <td>6846900.0000</td>\n",
       "      <td>17387700.0000</td>\n",
       "    </tr>\n",
       "    <tr>\n",
       "      <th>2020-01-08</th>\n",
       "      <td>74.3803</td>\n",
       "      <td>78.6992</td>\n",
       "      <td>82.5885</td>\n",
       "      <td>195.9727</td>\n",
       "      <td>337.8700</td>\n",
       "      <td>47.5404</td>\n",
       "      <td>47.8300</td>\n",
       "      <td>219.4728</td>\n",
       "      <td>213.1496</td>\n",
       "      <td>94.5985</td>\n",
       "      <td>...</td>\n",
       "      <td>3379200.0000</td>\n",
       "      <td>2817500.0000</td>\n",
       "      <td>2016000.0000</td>\n",
       "      <td>5627500.0000</td>\n",
       "      <td>5712000.0000</td>\n",
       "      <td>15926500.0000</td>\n",
       "      <td>17431800.0000</td>\n",
       "      <td>16585600.0000</td>\n",
       "      <td>5875800.0000</td>\n",
       "      <td>15137700.0000</td>\n",
       "    </tr>\n",
       "    <tr>\n",
       "      <th>...</th>\n",
       "      <td>...</td>\n",
       "      <td>...</td>\n",
       "      <td>...</td>\n",
       "      <td>...</td>\n",
       "      <td>...</td>\n",
       "      <td>...</td>\n",
       "      <td>...</td>\n",
       "      <td>...</td>\n",
       "      <td>...</td>\n",
       "      <td>...</td>\n",
       "      <td>...</td>\n",
       "      <td>...</td>\n",
       "      <td>...</td>\n",
       "      <td>...</td>\n",
       "      <td>...</td>\n",
       "      <td>...</td>\n",
       "      <td>...</td>\n",
       "      <td>...</td>\n",
       "      <td>...</td>\n",
       "      <td>...</td>\n",
       "      <td>...</td>\n",
       "    </tr>\n",
       "    <tr>\n",
       "      <th>2022-08-25</th>\n",
       "      <td>170.0300</td>\n",
       "      <td>139.3300</td>\n",
       "      <td>105.8900</td>\n",
       "      <td>308.3986</td>\n",
       "      <td>403.9300</td>\n",
       "      <td>54.9337</td>\n",
       "      <td>97.1800</td>\n",
       "      <td>245.6800</td>\n",
       "      <td>266.2982</td>\n",
       "      <td>137.2800</td>\n",
       "      <td>...</td>\n",
       "      <td>1965800.0000</td>\n",
       "      <td>1624100.0000</td>\n",
       "      <td>1984400.0000</td>\n",
       "      <td>5296700.0000</td>\n",
       "      <td>4495000.0000</td>\n",
       "      <td>14327600.0000</td>\n",
       "      <td>6433300.0000</td>\n",
       "      <td>11783200.0000</td>\n",
       "      <td>6471500.0000</td>\n",
       "      <td>15305700.0000</td>\n",
       "    </tr>\n",
       "    <tr>\n",
       "      <th>2022-08-26</th>\n",
       "      <td>163.6200</td>\n",
       "      <td>136.3500</td>\n",
       "      <td>101.9000</td>\n",
       "      <td>296.8101</td>\n",
       "      <td>381.0200</td>\n",
       "      <td>52.6871</td>\n",
       "      <td>91.1800</td>\n",
       "      <td>240.6500</td>\n",
       "      <td>259.2993</td>\n",
       "      <td>130.7500</td>\n",
       "      <td>...</td>\n",
       "      <td>1906700.0000</td>\n",
       "      <td>1728800.0000</td>\n",
       "      <td>2203900.0000</td>\n",
       "      <td>5070200.0000</td>\n",
       "      <td>5060200.0000</td>\n",
       "      <td>16795700.0000</td>\n",
       "      <td>6927600.0000</td>\n",
       "      <td>13405200.0000</td>\n",
       "      <td>7110600.0000</td>\n",
       "      <td>15531400.0000</td>\n",
       "    </tr>\n",
       "    <tr>\n",
       "      <th>2022-08-29</th>\n",
       "      <td>161.3800</td>\n",
       "      <td>135.7100</td>\n",
       "      <td>101.8400</td>\n",
       "      <td>293.8333</td>\n",
       "      <td>375.2600</td>\n",
       "      <td>52.4883</td>\n",
       "      <td>88.4900</td>\n",
       "      <td>239.3800</td>\n",
       "      <td>257.8399</td>\n",
       "      <td>129.7900</td>\n",
       "      <td>...</td>\n",
       "      <td>1594000.0000</td>\n",
       "      <td>2139900.0000</td>\n",
       "      <td>1928000.0000</td>\n",
       "      <td>3650000.0000</td>\n",
       "      <td>4476200.0000</td>\n",
       "      <td>15039500.0000</td>\n",
       "      <td>5316400.0000</td>\n",
       "      <td>12504900.0000</td>\n",
       "      <td>5793900.0000</td>\n",
       "      <td>23059200.0000</td>\n",
       "    </tr>\n",
       "    <tr>\n",
       "      <th>2022-08-30</th>\n",
       "      <td>158.9100</td>\n",
       "      <td>135.5500</td>\n",
       "      <td>102.2000</td>\n",
       "      <td>291.2050</td>\n",
       "      <td>375.0700</td>\n",
       "      <td>52.0807</td>\n",
       "      <td>86.9400</td>\n",
       "      <td>239.1200</td>\n",
       "      <td>251.5657</td>\n",
       "      <td>128.7300</td>\n",
       "      <td>...</td>\n",
       "      <td>2013400.0000</td>\n",
       "      <td>3159400.0000</td>\n",
       "      <td>2238000.0000</td>\n",
       "      <td>5105500.0000</td>\n",
       "      <td>3918200.0000</td>\n",
       "      <td>20705100.0000</td>\n",
       "      <td>6668800.0000</td>\n",
       "      <td>14365000.0000</td>\n",
       "      <td>4822700.0000</td>\n",
       "      <td>17086800.0000</td>\n",
       "    </tr>\n",
       "    <tr>\n",
       "      <th>2022-08-31</th>\n",
       "      <td>NaN</td>\n",
       "      <td>NaN</td>\n",
       "      <td>NaN</td>\n",
       "      <td>NaN</td>\n",
       "      <td>NaN</td>\n",
       "      <td>NaN</td>\n",
       "      <td>NaN</td>\n",
       "      <td>NaN</td>\n",
       "      <td>NaN</td>\n",
       "      <td>NaN</td>\n",
       "      <td>...</td>\n",
       "      <td>NaN</td>\n",
       "      <td>NaN</td>\n",
       "      <td>NaN</td>\n",
       "      <td>NaN</td>\n",
       "      <td>NaN</td>\n",
       "      <td>NaN</td>\n",
       "      <td>NaN</td>\n",
       "      <td>NaN</td>\n",
       "      <td>NaN</td>\n",
       "      <td>NaN</td>\n",
       "    </tr>\n",
       "  </tbody>\n",
       "</table>\n",
       "<p>672 rows × 606 columns</p>\n",
       "</div>"
      ],
      "text/plain": [
       "           Adj Close                                                      \\\n",
       "                AAPL     ABBV      ABT      ACN     ADBE     AIG     AMD   \n",
       "Date                                                                       \n",
       "2020-01-02   73.6836  78.7256  83.2974 201.5547 334.4300 47.5863 49.1000   \n",
       "2020-01-03   72.9672  77.9783  82.2820 201.2191 331.8100 47.2186 48.6000   \n",
       "2020-01-06   73.5486  78.5937  82.7131 199.9050 333.7100 47.2554 48.3900   \n",
       "2020-01-07   73.2027  78.1454  82.2532 195.5891 333.3900 46.9887 48.2500   \n",
       "2020-01-08   74.3803  78.6992  82.5885 195.9727 337.8700 47.5404 47.8300   \n",
       "...              ...      ...      ...      ...      ...     ...     ...   \n",
       "2022-08-25  170.0300 139.3300 105.8900 308.3986 403.9300 54.9337 97.1800   \n",
       "2022-08-26  163.6200 136.3500 101.9000 296.8101 381.0200 52.6871 91.1800   \n",
       "2022-08-29  161.3800 135.7100 101.8400 293.8333 375.2600 52.4883 88.4900   \n",
       "2022-08-30  158.9100 135.5500 102.2000 291.2050 375.0700 52.0807 86.9400   \n",
       "2022-08-31       NaN      NaN      NaN      NaN      NaN     NaN     NaN   \n",
       "\n",
       "                                       ...       Volume               \\\n",
       "               AMGN      AMT     AMZN  ...          UNH          UNP   \n",
       "Date                                   ...                             \n",
       "2020-01-02 221.2049 215.8704  94.9005  ... 2543400.0000 2444800.0000   \n",
       "2020-01-03 219.7032 215.9743  93.7485  ... 2711400.0000 2344200.0000   \n",
       "2020-01-06 221.3891 215.9176  95.1440  ... 3079100.0000 3142500.0000   \n",
       "2020-01-07 219.3070 211.3168  95.3430  ... 2492900.0000 4096400.0000   \n",
       "2020-01-08 219.4728 213.1496  94.5985  ... 3379200.0000 2817500.0000   \n",
       "...             ...      ...      ...  ...          ...          ...   \n",
       "2022-08-25 245.6800 266.2982 137.2800  ... 1965800.0000 1624100.0000   \n",
       "2022-08-26 240.6500 259.2993 130.7500  ... 1906700.0000 1728800.0000   \n",
       "2022-08-29 239.3800 257.8399 129.7900  ... 1594000.0000 2139900.0000   \n",
       "2022-08-30 239.1200 251.5657 128.7300  ... 2013400.0000 3159400.0000   \n",
       "2022-08-31      NaN      NaN      NaN  ...          NaN          NaN   \n",
       "\n",
       "                                                                  \\\n",
       "                    UPS          USB             V            VZ   \n",
       "Date                                                               \n",
       "2020-01-02 4158100.0000 5002100.0000  8733000.0000 11447900.0000   \n",
       "2020-01-03 2477800.0000 5161800.0000  4899700.0000 13263200.0000   \n",
       "2020-01-06 3381600.0000 6869200.0000 10109500.0000 15094500.0000   \n",
       "2020-01-07 1952300.0000 4006800.0000  4392300.0000 14293100.0000   \n",
       "2020-01-08 2016000.0000 5627500.0000  5712000.0000 15926500.0000   \n",
       "...                 ...          ...           ...           ...   \n",
       "2022-08-25 1984400.0000 5296700.0000  4495000.0000 14327600.0000   \n",
       "2022-08-26 2203900.0000 5070200.0000  5060200.0000 16795700.0000   \n",
       "2022-08-29 1928000.0000 3650000.0000  4476200.0000 15039500.0000   \n",
       "2022-08-30 2238000.0000 5105500.0000  3918200.0000 20705100.0000   \n",
       "2022-08-31          NaN          NaN           NaN           NaN   \n",
       "\n",
       "                                                                   \n",
       "                     WBA           WFC          WMT           XOM  \n",
       "Date                                                               \n",
       "2020-01-02  5700500.0000 16803100.0000 6764900.0000 12456400.0000  \n",
       "2020-01-03  4892300.0000 15608800.0000 5399200.0000 17386900.0000  \n",
       "2020-01-06  6003300.0000 13200300.0000 6445500.0000 20081900.0000  \n",
       "2020-01-07  4365700.0000 13278600.0000 6846900.0000 17387700.0000  \n",
       "2020-01-08 17431800.0000 16585600.0000 5875800.0000 15137700.0000  \n",
       "...                  ...           ...          ...           ...  \n",
       "2022-08-25  6433300.0000 11783200.0000 6471500.0000 15305700.0000  \n",
       "2022-08-26  6927600.0000 13405200.0000 7110600.0000 15531400.0000  \n",
       "2022-08-29  5316400.0000 12504900.0000 5793900.0000 23059200.0000  \n",
       "2022-08-30  6668800.0000 14365000.0000 4822700.0000 17086800.0000  \n",
       "2022-08-31           NaN           NaN          NaN           NaN  \n",
       "\n",
       "[672 rows x 606 columns]"
      ]
     },
     "execution_count": 35,
     "metadata": {},
     "output_type": "execute_result"
    }
   ],
   "source": [
    "yf_data"
   ]
  },
  {
   "cell_type": "code",
   "execution_count": 7,
   "id": "3b10f967-aa65-462d-9794-28b0bdfd5e8f",
   "metadata": {},
   "outputs": [],
   "source": [
    "# make list of stocks for future reference\n",
    "stocks = list()\n",
    "\n",
    "for tuple in yf_data.keys()[:101]:\n",
    "    stocks.append(tuple[1])"
   ]
  },
  {
   "cell_type": "code",
   "execution_count": 8,
   "id": "1726aa48-72b0-4347-a56e-29fa023711cb",
   "metadata": {},
   "outputs": [],
   "source": [
    "# define function that calculates a daily return for a single stock across an open and a close - all resulting values are in %\n",
    "def daily_return(open, close):\n",
    "    return (close - open) / open * 100"
   ]
  },
  {
   "cell_type": "code",
   "execution_count": 9,
   "id": "2b1a3c82-5ba9-4b46-9421-a47fcecc531f",
   "metadata": {},
   "outputs": [],
   "source": [
    "# define function that calculates average daily returns of a single stock - all resulting values are in %\n",
    "def avg_return(stock, data = yf_data):\n",
    "    # get all adj close values for the provided stock\n",
    "    stock_adj_close = data[('Adj Close', stock)]\n",
    "    # iterate through each day except for the last day\n",
    "    all_days_returns = list()\n",
    "    for index, day in enumerate(stock_adj_close.values[:-1]):\n",
    "        all_days_returns.append(daily_return(day, stock_adj_close[index + 1]))\n",
    "    return all_days_returns"
   ]
  },
  {
   "cell_type": "code",
   "execution_count": 10,
   "id": "e247a13f-f61d-4a76-b5db-e42780f96cfa",
   "metadata": {},
   "outputs": [],
   "source": [
    "# create data frame of each stock's daily returns\n",
    "def calculate_daily_returns(stocks=stocks):\n",
    "    df = pd.DataFrame()\n",
    "    for stock in stocks:\n",
    "        df[stock] = avg_return(stock)\n",
    "    return df"
   ]
  },
  {
   "cell_type": "code",
   "execution_count": 11,
   "id": "9dbc87f6-c1bd-4ae3-9b55-81851c7b8f6a",
   "metadata": {},
   "outputs": [
    {
     "name": "stderr",
     "output_type": "stream",
     "text": [
      "/tmp/ipykernel_14835/1908975407.py:5: PerformanceWarning: DataFrame is highly fragmented.  This is usually the result of calling `frame.insert` many times, which has poor performance.  Consider joining all columns at once using pd.concat(axis=1) instead. To get a de-fragmented frame, use `newframe = frame.copy()`\n",
      "  df[stock] = avg_return(stock)\n",
      "/tmp/ipykernel_14835/3612013804.py:3: PerformanceWarning: DataFrame is highly fragmented.  This is usually the result of calling `frame.insert` many times, which has poor performance.  Consider joining all columns at once using pd.concat(axis=1) instead. To get a de-fragmented frame, use `newframe = frame.copy()`\n",
      "  df_daily_returns['Date'] = yf_data.index[:-1]\n"
     ]
    },
    {
     "data": {
      "text/html": [
       "<div>\n",
       "<style scoped>\n",
       "    .dataframe tbody tr th:only-of-type {\n",
       "        vertical-align: middle;\n",
       "    }\n",
       "\n",
       "    .dataframe tbody tr th {\n",
       "        vertical-align: top;\n",
       "    }\n",
       "\n",
       "    .dataframe thead th {\n",
       "        text-align: right;\n",
       "    }\n",
       "</style>\n",
       "<table border=\"1\" class=\"dataframe\">\n",
       "  <thead>\n",
       "    <tr style=\"text-align: right;\">\n",
       "      <th></th>\n",
       "      <th>AAPL</th>\n",
       "      <th>ABBV</th>\n",
       "      <th>ABT</th>\n",
       "      <th>ACN</th>\n",
       "      <th>ADBE</th>\n",
       "      <th>AIG</th>\n",
       "      <th>AMD</th>\n",
       "      <th>AMGN</th>\n",
       "      <th>AMT</th>\n",
       "      <th>AMZN</th>\n",
       "      <th>...</th>\n",
       "      <th>UNH</th>\n",
       "      <th>UNP</th>\n",
       "      <th>UPS</th>\n",
       "      <th>USB</th>\n",
       "      <th>V</th>\n",
       "      <th>VZ</th>\n",
       "      <th>WBA</th>\n",
       "      <th>WFC</th>\n",
       "      <th>WMT</th>\n",
       "      <th>XOM</th>\n",
       "    </tr>\n",
       "    <tr>\n",
       "      <th>Date</th>\n",
       "      <th></th>\n",
       "      <th></th>\n",
       "      <th></th>\n",
       "      <th></th>\n",
       "      <th></th>\n",
       "      <th></th>\n",
       "      <th></th>\n",
       "      <th></th>\n",
       "      <th></th>\n",
       "      <th></th>\n",
       "      <th></th>\n",
       "      <th></th>\n",
       "      <th></th>\n",
       "      <th></th>\n",
       "      <th></th>\n",
       "      <th></th>\n",
       "      <th></th>\n",
       "      <th></th>\n",
       "      <th></th>\n",
       "      <th></th>\n",
       "      <th></th>\n",
       "    </tr>\n",
       "  </thead>\n",
       "  <tbody>\n",
       "    <tr>\n",
       "      <th>2020-01-02</th>\n",
       "      <td>-0.9722</td>\n",
       "      <td>-0.9492</td>\n",
       "      <td>-1.2191</td>\n",
       "      <td>-0.1665</td>\n",
       "      <td>-0.7834</td>\n",
       "      <td>-0.7728</td>\n",
       "      <td>-1.0183</td>\n",
       "      <td>-0.6789</td>\n",
       "      <td>0.0481</td>\n",
       "      <td>-1.2139</td>\n",
       "      <td>...</td>\n",
       "      <td>-1.0120</td>\n",
       "      <td>-0.7078</td>\n",
       "      <td>-0.0599</td>\n",
       "      <td>-1.1655</td>\n",
       "      <td>-0.7953</td>\n",
       "      <td>-1.0647</td>\n",
       "      <td>0.0000</td>\n",
       "      <td>-0.6139</td>\n",
       "      <td>-0.8828</td>\n",
       "      <td>-0.8039</td>\n",
       "    </tr>\n",
       "    <tr>\n",
       "      <th>2020-01-03</th>\n",
       "      <td>0.7968</td>\n",
       "      <td>0.7892</td>\n",
       "      <td>0.5239</td>\n",
       "      <td>-0.6530</td>\n",
       "      <td>0.5726</td>\n",
       "      <td>0.0779</td>\n",
       "      <td>-0.4321</td>\n",
       "      <td>0.7674</td>\n",
       "      <td>-0.0262</td>\n",
       "      <td>1.4886</td>\n",
       "      <td>...</td>\n",
       "      <td>0.6942</td>\n",
       "      <td>-0.8564</td>\n",
       "      <td>-0.4455</td>\n",
       "      <td>-1.3673</td>\n",
       "      <td>-0.2163</td>\n",
       "      <td>-0.2152</td>\n",
       "      <td>0.8632</td>\n",
       "      <td>-0.5990</td>\n",
       "      <td>-0.2036</td>\n",
       "      <td>0.7678</td>\n",
       "    </tr>\n",
       "    <tr>\n",
       "      <th>2020-01-06</th>\n",
       "      <td>-0.4703</td>\n",
       "      <td>-0.5705</td>\n",
       "      <td>-0.5559</td>\n",
       "      <td>-2.1590</td>\n",
       "      <td>-0.0959</td>\n",
       "      <td>-0.5642</td>\n",
       "      <td>-0.2893</td>\n",
       "      <td>-0.9405</td>\n",
       "      <td>-2.1308</td>\n",
       "      <td>0.2092</td>\n",
       "      <td>...</td>\n",
       "      <td>-0.6037</td>\n",
       "      <td>-0.7580</td>\n",
       "      <td>-0.1721</td>\n",
       "      <td>-0.9531</td>\n",
       "      <td>-0.2643</td>\n",
       "      <td>-1.1117</td>\n",
       "      <td>-0.5034</td>\n",
       "      <td>-0.8286</td>\n",
       "      <td>-0.9265</td>\n",
       "      <td>-0.8184</td>\n",
       "    </tr>\n",
       "    <tr>\n",
       "      <th>2020-01-07</th>\n",
       "      <td>1.6086</td>\n",
       "      <td>0.7087</td>\n",
       "      <td>0.4077</td>\n",
       "      <td>0.1962</td>\n",
       "      <td>1.3438</td>\n",
       "      <td>1.1739</td>\n",
       "      <td>-0.8705</td>\n",
       "      <td>0.0756</td>\n",
       "      <td>0.8673</td>\n",
       "      <td>-0.7809</td>\n",
       "      <td>...</td>\n",
       "      <td>2.1084</td>\n",
       "      <td>1.0951</td>\n",
       "      <td>0.5690</td>\n",
       "      <td>-0.2099</td>\n",
       "      <td>1.7118</td>\n",
       "      <td>0.1846</td>\n",
       "      <td>-5.8357</td>\n",
       "      <td>0.3038</td>\n",
       "      <td>-0.3432</td>\n",
       "      <td>-1.5081</td>\n",
       "    </tr>\n",
       "    <tr>\n",
       "      <th>2020-01-08</th>\n",
       "      <td>2.1241</td>\n",
       "      <td>0.7708</td>\n",
       "      <td>0.2668</td>\n",
       "      <td>0.8907</td>\n",
       "      <td>0.7636</td>\n",
       "      <td>1.1023</td>\n",
       "      <td>2.3834</td>\n",
       "      <td>0.2981</td>\n",
       "      <td>0.3767</td>\n",
       "      <td>0.4799</td>\n",
       "      <td>...</td>\n",
       "      <td>-0.5678</td>\n",
       "      <td>-0.5111</td>\n",
       "      <td>0.2314</td>\n",
       "      <td>0.0351</td>\n",
       "      <td>0.6930</td>\n",
       "      <td>-0.4146</td>\n",
       "      <td>-2.0598</td>\n",
       "      <td>-0.1704</td>\n",
       "      <td>1.0331</td>\n",
       "      <td>0.7656</td>\n",
       "    </tr>\n",
       "  </tbody>\n",
       "</table>\n",
       "<p>5 rows × 101 columns</p>\n",
       "</div>"
      ],
      "text/plain": [
       "              AAPL    ABBV     ABT     ACN    ADBE     AIG     AMD    AMGN  \\\n",
       "Date                                                                         \n",
       "2020-01-02 -0.9722 -0.9492 -1.2191 -0.1665 -0.7834 -0.7728 -1.0183 -0.6789   \n",
       "2020-01-03  0.7968  0.7892  0.5239 -0.6530  0.5726  0.0779 -0.4321  0.7674   \n",
       "2020-01-06 -0.4703 -0.5705 -0.5559 -2.1590 -0.0959 -0.5642 -0.2893 -0.9405   \n",
       "2020-01-07  1.6086  0.7087  0.4077  0.1962  1.3438  1.1739 -0.8705  0.0756   \n",
       "2020-01-08  2.1241  0.7708  0.2668  0.8907  0.7636  1.1023  2.3834  0.2981   \n",
       "\n",
       "               AMT    AMZN  ...     UNH     UNP     UPS     USB       V  \\\n",
       "Date                        ...                                           \n",
       "2020-01-02  0.0481 -1.2139  ... -1.0120 -0.7078 -0.0599 -1.1655 -0.7953   \n",
       "2020-01-03 -0.0262  1.4886  ...  0.6942 -0.8564 -0.4455 -1.3673 -0.2163   \n",
       "2020-01-06 -2.1308  0.2092  ... -0.6037 -0.7580 -0.1721 -0.9531 -0.2643   \n",
       "2020-01-07  0.8673 -0.7809  ...  2.1084  1.0951  0.5690 -0.2099  1.7118   \n",
       "2020-01-08  0.3767  0.4799  ... -0.5678 -0.5111  0.2314  0.0351  0.6930   \n",
       "\n",
       "                VZ     WBA     WFC     WMT     XOM  \n",
       "Date                                                \n",
       "2020-01-02 -1.0647  0.0000 -0.6139 -0.8828 -0.8039  \n",
       "2020-01-03 -0.2152  0.8632 -0.5990 -0.2036  0.7678  \n",
       "2020-01-06 -1.1117 -0.5034 -0.8286 -0.9265 -0.8184  \n",
       "2020-01-07  0.1846 -5.8357  0.3038 -0.3432 -1.5081  \n",
       "2020-01-08 -0.4146 -2.0598 -0.1704  1.0331  0.7656  \n",
       "\n",
       "[5 rows x 101 columns]"
      ]
     },
     "execution_count": 11,
     "metadata": {},
     "output_type": "execute_result"
    }
   ],
   "source": [
    "# calculate and display dataframe of each stocks daily returns\n",
    "df_daily_returns = calculate_daily_returns()\n",
    "df_daily_returns['Date'] = yf_data.index[:-1]\n",
    "df_daily_returns = df_daily_returns.set_index('Date')\n",
    "df_daily_returns.head()"
   ]
  },
  {
   "cell_type": "markdown",
   "id": "ca8b816c-9434-4658-977b-9abdf599ea40",
   "metadata": {},
   "source": [
    "# How well do annualized average returns in 2020 predict those in 2021?\n",
    "Annualize the mean of daily returns by multiplying by 252."
   ]
  },
  {
   "cell_type": "code",
   "execution_count": 12,
   "id": "c9a63980-2f13-4f4f-80f8-762041abf589",
   "metadata": {},
   "outputs": [
    {
     "data": {
      "text/plain": [
       "AAPL    65.9995\n",
       "ABBV    27.7213\n",
       "ABT     31.8158\n",
       "ACN     30.0488\n",
       "ADBE    48.5609\n",
       "         ...   \n",
       "VZ       3.5909\n",
       "WBA    -19.3484\n",
       "WFC    -36.3734\n",
       "WMT     27.3186\n",
       "XOM    -31.7766\n",
       "Length: 101, dtype: float64"
      ]
     },
     "execution_count": 12,
     "metadata": {},
     "output_type": "execute_result"
    }
   ],
   "source": [
    "# calculates average returns of each stock only from the year 2020\n",
    "df_avg_returns_2020 = df_daily_returns.loc[:'2020-12-31']\n",
    "\n",
    "# calculate the annualized average returns from 2020\n",
    "df_annualized_avg_returns_2020 = df_avg_returns_2020.mean() * 252\n",
    "df_annualized_avg_returns_2020"
   ]
  },
  {
   "cell_type": "code",
   "execution_count": 13,
   "id": "a7d4b869-ab15-4c1f-9393-32b16e821a83",
   "metadata": {},
   "outputs": [
    {
     "data": {
      "text/plain": [
       "AAPL   37.8768\n",
       "ABBV   31.7755\n",
       "ABT    28.0571\n",
       "ACN    49.4345\n",
       "ADBE   19.3987\n",
       "         ...  \n",
       "VZ     -6.0845\n",
       "WBA    32.3219\n",
       "WFC    60.7266\n",
       "WMT     1.6753\n",
       "XOM    52.9887\n",
       "Length: 101, dtype: float64"
      ]
     },
     "execution_count": 13,
     "metadata": {},
     "output_type": "execute_result"
    }
   ],
   "source": [
    "# calculates average returns of each stock only from the year 2021\n",
    "df_avg_returns_2021 = df_daily_returns.loc['2021-01-01':'2021-12-31']\n",
    "\n",
    "# calculate the annualized average returns from 2021\n",
    "df_annualized_avg_returns_2021 = df_avg_returns_2021.mean() * 252\n",
    "df_annualized_avg_returns_2021"
   ]
  },
  {
   "cell_type": "code",
   "execution_count": 14,
   "id": "f3d752d8-a1f8-444f-8327-ae51971a6269",
   "metadata": {},
   "outputs": [
    {
     "data": {
      "image/png": "[encoded data removed]",
      "text/plain": [
       "<Figure size 360x216 with 1 Axes>"
      ]
     },
     "metadata": {
      "needs_background": "light"
     },
     "output_type": "display_data"
    }
   ],
   "source": [
    "plt.figure(figsize=(5, 3))\n",
    "\n",
    "plt.scatter(df_annualized_avg_returns_2020, df_annualized_avg_returns_2021, s=3)\n",
    "plt.title('Annualized Average Daily Returns of S&P100 Stocks Between 2020 and 2021')\n",
    "plt.xlabel('2020 Annualized Average Daily Returns')\n",
    "plt.ylabel('2021 Ann. Avg. Daily Returns')\n",
    "plt.show()"
   ]
  },
  {
   "cell_type": "code",
   "execution_count": 15,
   "id": "4b5a56e5-8778-482f-b12d-0571984183b4",
   "metadata": {},
   "outputs": [
    {
     "data": {
      "text/plain": [
       "0.1043"
      ]
     },
     "execution_count": 15,
     "metadata": {},
     "output_type": "execute_result"
    }
   ],
   "source": [
    "df_annualized_avg_returns_2020.corr(df_annualized_avg_returns_2021)"
   ]
  },
  {
   "cell_type": "markdown",
   "id": "436d4ae3-9601-489b-89a7-712983ada305",
   "metadata": {},
   "source": [
    "The annualized average daily return of the S&P100 had a small correlation between 2020 and 2021. Therefore the annualized average return of 2020 would not be a good prediction of 2021. We should consider however that 2020 was highly impacted by Covid-19, therefore using this method for different years might have a higher correlation. "
   ]
  },
  {
   "cell_type": "markdown",
   "id": "d0135279-7bcb-47bb-abba-a20f7554346a",
   "metadata": {
    "tags": []
   },
   "source": [
    "# How well do annualized standard deviations of returns in 2020 predict those in 2021?\n",
    "\n",
    "Annualize the standard deviation of daily returns by multiplying by the square root of 252."
   ]
  },
  {
   "cell_type": "code",
   "execution_count": 16,
   "id": "77c20a56-8fb8-4c1f-a223-ed4b0af5eba8",
   "metadata": {},
   "outputs": [
    {
     "data": {
      "text/plain": [
       "AAPL   46.6870\n",
       "ABBV   34.9066\n",
       "ABT    39.2248\n",
       "ACN    41.7559\n",
       "ADBE   48.0006\n",
       "         ...  \n",
       "VZ     24.5446\n",
       "WBA    48.5670\n",
       "WFC    61.2549\n",
       "WMT    31.5348\n",
       "XOM    52.8143\n",
       "Length: 101, dtype: float64"
      ]
     },
     "execution_count": 16,
     "metadata": {},
     "output_type": "execute_result"
    }
   ],
   "source": [
    "# calculates standard deviations of each stock only from the year 2020\n",
    "df_std_dev_2020 = df_daily_returns.loc[:'2020-12-31'].std()\n",
    "\n",
    "# calculate the annualized standard deviations of returns from 2020\n",
    "df_annualized_std_2020 = df_std_dev_2020 * np.sqrt(252)\n",
    "df_annualized_std_2020 "
   ]
  },
  {
   "cell_type": "code",
   "execution_count": 17,
   "id": "dee2204d-0df1-4e9e-b815-a66edfecda72",
   "metadata": {},
   "outputs": [
    {
     "data": {
      "text/plain": [
       "AAPL   25.0768\n",
       "ABBV   20.0518\n",
       "ABT    21.2302\n",
       "ACN    19.7285\n",
       "ADBE   29.1837\n",
       "         ...  \n",
       "VZ     14.3013\n",
       "WBA    27.4904\n",
       "WFC    34.0521\n",
       "WMT    16.6363\n",
       "XOM    29.6806\n",
       "Length: 101, dtype: float64"
      ]
     },
     "execution_count": 17,
     "metadata": {},
     "output_type": "execute_result"
    }
   ],
   "source": [
    "# calculates standard deviations of each stock only from the year 2020\n",
    "df_std_dev_2021 = df_daily_returns.loc['2021-01-01':'2021-12-31'].std()\n",
    "\n",
    "# calculate the annualized standard deviations of returns from 2020\n",
    "df_annualized_std_2021 = df_std_dev_2021 * np.sqrt(252)\n",
    "df_annualized_std_2021 "
   ]
  },
  {
   "cell_type": "code",
   "execution_count": 18,
   "id": "a62f550e-2461-4096-a2ff-4ed4318081a5",
   "metadata": {},
   "outputs": [
    {
     "data": {
      "image/png": "[encoded data removed]",
      "text/plain": [
       "<Figure size 360x324 with 1 Axes>"
      ]
     },
     "metadata": {
      "needs_background": "light"
     },
     "output_type": "display_data"
    }
   ],
   "source": [
    "plt.figure(figsize=(5, 4.5))\n",
    "\n",
    "plt.scatter(df_annualized_std_2020, df_annualized_std_2021, s=3)\n",
    "plt.title('Annualized Standard Deviations of S&P100 Stocks Between 2020 and 2021')\n",
    "plt.xlabel('2020 Annualized Standard Deviations of Stocks')\n",
    "plt.ylabel('2021 Annualized Standard Deviations of Stocks')\n",
    "\n",
    "plt.show()"
   ]
  },
  {
   "cell_type": "code",
   "execution_count": 19,
   "id": "6ef3c4ca-7b11-498e-bc9d-7dc1fed65da0",
   "metadata": {},
   "outputs": [
    {
     "data": {
      "text/plain": [
       "0.7142"
      ]
     },
     "execution_count": 19,
     "metadata": {},
     "output_type": "execute_result"
    }
   ],
   "source": [
    "df_std_dev_2020.corr(df_std_dev_2021)"
   ]
  },
  {
   "cell_type": "markdown",
   "id": "8b7e73a5-8f6f-490d-b5c4-46d9e9cb9db8",
   "metadata": {},
   "source": [
    "The annualized standard deviation of the S&P 100 had a fairly strong correlation between 2020 and 2021. Annualized standard deviation of 2020 would therefore be a fairly good prediction for those of 2021. "
   ]
  },
  {
   "cell_type": "markdown",
   "id": "5e7d74bf-b5af-4dae-84fd-1b91ce987777",
   "metadata": {},
   "source": [
    "# What are the mean, median, minimum, and maximum pairwise correlations between two stocks?\n",
    "Discuss and explain any outliers."
   ]
  },
  {
   "cell_type": "code",
   "execution_count": 20,
   "id": "86591ada-0baf-4cbe-85db-a1299a1b8bd5",
   "metadata": {},
   "outputs": [
    {
     "name": "stdout",
     "output_type": "stream",
     "text": [
      "Mean pairwise correlation: 0.24415751116322099\n",
      "Median pairwise correlation: 0.23175799671411024\n",
      "Maximum pairwise correlation: 0.9776557461442278\n",
      "Minimum pairwise correlation: -0.21413676622519895\n"
     ]
    }
   ],
   "source": [
    "corr_matrix= df_avg_returns_2021.corr()\n",
    "correlation= corr_matrix.stack().reset_index()\n",
    "corr_list =np.triu(corr_matrix,k=1)\n",
    "corr_list[corr_list==0]=np.nan\n",
    "    \n",
    "print(\"Mean pairwise correlation:\", np.nanmean (corr_list))\n",
    "print(\"Median pairwise correlation:\", np.nanmedian (corr_list))\n",
    "print(\"Maximum pairwise correlation:\", np.nanmax(corr_list))\n",
    "print(\"Minimum pairwise correlation:\", np.nanmin(corr_list))"
   ]
  },
  {
   "cell_type": "code",
   "execution_count": 36,
   "id": "7eb96423-f7d1-4366-a344-5d1c310a404b",
   "metadata": {},
   "outputs": [
    {
     "data": {
      "text/plain": [
       "array([[    nan,  0.2024,  0.2103, ...,  0.0849,  0.2622,  0.0642],\n",
       "       [    nan,     nan,  0.24  , ...,  0.2411,  0.2598,  0.2737],\n",
       "       [    nan,     nan,     nan, ..., -0.0743,  0.161 , -0.0956],\n",
       "       ...,\n",
       "       [    nan,     nan,     nan, ...,     nan,  0.1933,  0.579 ],\n",
       "       [    nan,     nan,     nan, ...,     nan,     nan,  0.1536],\n",
       "       [    nan,     nan,     nan, ...,     nan,     nan,     nan]])"
      ]
     },
     "execution_count": 36,
     "metadata": {},
     "output_type": "execute_result"
    }
   ],
   "source": [
    "corr_list"
   ]
  },
  {
   "cell_type": "code",
   "execution_count": 21,
   "id": "c7b4b56b-99c2-4391-afb6-9e3995059bf7",
   "metadata": {},
   "outputs": [
    {
     "name": "stdout",
     "output_type": "stream",
     "text": [
      "VZ    ADBE   -0.2141\n",
      "ADBE  VZ     -0.2141\n",
      "XOM   TMO    -0.1992\n",
      "TMO   XOM    -0.1992\n",
      "ADBE  T      -0.1963\n",
      "               ...  \n",
      "NFLX  NFLX    1.0000\n",
      "NKE   NKE     1.0000\n",
      "NVDA  NVDA    1.0000\n",
      "PEP   PEP     1.0000\n",
      "XOM   XOM     1.0000\n",
      "Length: 10201, dtype: float64\n",
      "VZ    ADBE   -0.2141\n",
      "ADBE  VZ     -0.2141\n",
      "XOM   TMO    -0.1992\n",
      "TMO   XOM    -0.1992\n",
      "ADBE  T      -0.1963\n",
      "               ...  \n",
      "NFLX  NFLX    1.0000\n",
      "NKE   NKE     1.0000\n",
      "NVDA  NVDA    1.0000\n",
      "PEP   PEP     1.0000\n",
      "XOM   XOM     1.0000\n",
      "Length: 10201, dtype: float64\n"
     ]
    }
   ],
   "source": [
    "min_pair_corr= df_avg_returns_2021.corr().unstack().sort_values()\n",
    "print(min_pair_corr)\n",
    "max_pair_corr= df_avg_returns_2021.corr().unstack().sort_values()\n",
    "print(max_pair_corr)"
   ]
  },
  {
   "cell_type": "markdown",
   "id": "79b6c7f8-9656-4b04-8f7f-0df57b9fd610",
   "metadata": {
    "tags": []
   },
   "source": [
    "# Plot annualized average returns versus annualized standard deviations of returns."
   ]
  },
  {
   "cell_type": "code",
   "execution_count": 22,
   "id": "af48fadd-43a5-453a-b39c-afdff8fa098d",
   "metadata": {},
   "outputs": [
    {
     "data": {
      "image/png": "[encoded data removed]",
      "text/plain": [
       "<Figure size 360x216 with 1 Axes>"
      ]
     },
     "metadata": {
      "needs_background": "light"
     },
     "output_type": "display_data"
    },
    {
     "data": {
      "text/plain": [
       "0.3494"
      ]
     },
     "execution_count": 22,
     "metadata": {},
     "output_type": "execute_result"
    }
   ],
   "source": [
    "df_annualized_avg_returns = df_daily_returns.mean() * 252\n",
    "df_standard_dev = df_daily_returns.std() * np.sqrt(252)\n",
    "\n",
    "plt.figure(figsize=(5, 3))\n",
    "plt.scatter(df_annualized_avg_returns, df_standard_dev, s=3)\n",
    "plt.xlabel('Annualized Average Returns')\n",
    "plt.ylabel('Annualized Std.Dev of Returns')\n",
    "plt.title('Annualized Average Return vs. Annualized Std.Dev of Returns')\n",
    "\n",
    "m, b = np.polyfit(df_annualized_avg_returns, df_standard_dev, 1)\n",
    "plt.plot(df_annualized_avg_returns, m*df_annualized_avg_returns+b)\n",
    "plt.show()\n",
    "\n",
    "df_annualized_avg_returns.corr(df_standard_dev)\n"
   ]
  },
  {
   "cell_type": "code",
   "execution_count": 38,
   "id": "134226ea-caf0-442d-8f93-37634692647b",
   "metadata": {},
   "outputs": [
    {
     "data": {
      "text/plain": [
       "AAPL   35.6191\n",
       "ABBV   24.0912\n",
       "ABT    12.2955\n",
       "ACN    19.1313\n",
       "ADBE   12.5777\n",
       "         ...  \n",
       "VZ     -6.8237\n",
       "WBA    -8.3425\n",
       "WFC     6.0726\n",
       "WMT     9.1359\n",
       "XOM    26.4388\n",
       "Length: 100, dtype: float64"
      ]
     },
     "execution_count": 38,
     "metadata": {},
     "output_type": "execute_result"
    }
   ],
   "source": [
    "df_annualized_avg_returns.drop('TSLA')"
   ]
  },
  {
   "cell_type": "code",
   "execution_count": 39,
   "id": "58c63870-d7d8-4c33-bdc8-f7d5ddc9e056",
   "metadata": {},
   "outputs": [],
   "source": [
    "m, b = np.polyfit(df_annualized_avg_returns.drop('TSLA'), df_standard_dev.drop('TSLA'), 1)\n"
   ]
  },
  {
   "cell_type": "code",
   "execution_count": 42,
   "id": "76c2815d-8d65-4ee7-9c50-ca0c4f0fe5db",
   "metadata": {},
   "outputs": [
    {
     "data": {
      "text/plain": [
       "<matplotlib.collections.PathCollection at 0x7f3b59579540>"
      ]
     },
     "execution_count": 42,
     "metadata": {},
     "output_type": "execute_result"
    },
    {
     "data": {
      "image/png": "[encoded data removed]",
      "text/plain": [
       "<Figure size 432x288 with 1 Axes>"
      ]
     },
     "metadata": {
      "needs_background": "light"
     },
     "output_type": "display_data"
    }
   ],
   "source": [
    "plt.scatter(df_annualized_avg_returns.drop('TSLA'), df_standard_dev.drop('TSLA'), s=3)\n"
   ]
  },
  {
   "cell_type": "markdown",
   "id": "cb97cb72-c696-42dc-a21f-c6c55c475231",
   "metadata": {
    "tags": []
   },
   "source": [
    "## Analysis/Discussion of Results and Outliers\n",
    "The total annualized returns when compared to their respective standard deviations are weakly positively correlated. The coefficient is .349 making it on the higher end of the weak range for correlation. This does not provide any conclusive data since the weak correlation provides only a minor trend and nothing substantial. If we are to contribute the correlation to any factor, looking at the industries for each company can provide insight. Inside the S&P 100, the industry breakdown is weighted towards technology, pharmaceuticals, and financial companies. Intra-industry comparables can marginally account for the such correlation. \n"
   ]
  },
  {
   "cell_type": "markdown",
   "id": "002b7629-d533-4d7d-a6bc-29555d0b7aa0",
   "metadata": {
    "tags": []
   },
   "source": [
    "# Repeat the exercise above (question 5) with 100 random portfolios of 2, 5, 10, and 25 stocks.\n",
    "For simplicity, use equal-weighted portfolios and re-balance daily. These portfolio returns are df.mean(axis=1) if data frame df contains columns of daily returns. The .sample() method can randomly sample columns to create random portfolios."
   ]
  },
  {
   "cell_type": "code",
   "execution_count": 23,
   "id": "88bee447-a198-4ead-811e-4f3e7bc22abb",
   "metadata": {},
   "outputs": [],
   "source": [
    "# input `size` must be 2, 5, 10, or 25 to yield results desired\n",
    "def get_portfolio(size):\n",
    "    return df_daily_returns.sample(size, axis=1)"
   ]
  },
  {
   "cell_type": "code",
   "execution_count": 24,
   "id": "fc54f58e-0655-452c-8bfc-4eb3fb92209c",
   "metadata": {},
   "outputs": [],
   "source": [
    "def get_mean(size):\n",
    "    return get_portfolio(size).mean(axis=1)"
   ]
  },
  {
   "cell_type": "code",
   "execution_count": 25,
   "id": "4e61bc15-6b6a-4814-b454-67c88361af60",
   "metadata": {},
   "outputs": [],
   "source": [
    "def get_std(size):\n",
    "    return get_portfolio(size).std(axis=1)"
   ]
  },
  {
   "cell_type": "code",
   "execution_count": 26,
   "id": "f5aa9d18-2cfb-420d-80ad-737d69102c9c",
   "metadata": {},
   "outputs": [],
   "source": [
    "# input `size` must be 2, 5, 10, or 25 to yield results desired\n",
    "def get_portfolio_avg_returns(size):\n",
    "\n",
    "    # create empty df to store values\n",
    "    avg_returns = list()\n",
    "    xlabel = list()\n",
    "\n",
    "    for i in range(1, 101):\n",
    "        avg_returns.append(get_mean(size))\n",
    "        xlabel.append(f'Portfolio {i}')\n",
    "    \n",
    "    df = pd.DataFrame(avg_returns).transpose()\n",
    "    df.columns = xlabel\n",
    "    \n",
    "    return df"
   ]
  },
  {
   "cell_type": "code",
   "execution_count": 27,
   "id": "516115ea-c3e6-46d3-ab1c-c1596a31ba3d",
   "metadata": {},
   "outputs": [],
   "source": [
    "# input `size` must be 2, 5, 10, or 25 to yield results desired\n",
    "def get_portfolio_std(size):\n",
    "\n",
    "    # create empty df to store values\n",
    "    avg_returns = list()\n",
    "    xlabel = list()\n",
    "\n",
    "    for i in range(1, 101):\n",
    "        avg_returns.append(get_std(size))\n",
    "        xlabel.append(f'Portfolio {i}')\n",
    "    \n",
    "    df = pd.DataFrame(avg_returns).transpose()\n",
    "    df.columns = xlabel\n",
    "    \n",
    "    return df"
   ]
  },
  {
   "cell_type": "code",
   "execution_count": 28,
   "id": "d8285d9b-acd4-4ea0-9465-c45f84d54c91",
   "metadata": {},
   "outputs": [],
   "source": [
    "size_two_returns = get_portfolio_avg_returns(2)\n",
    "size_five_returns = get_portfolio_avg_returns(5)\n",
    "size_ten_returns = get_portfolio_avg_returns(10)\n",
    "size_twentyfive_returns = get_portfolio_avg_returns(25)\n",
    "size_two_std = get_portfolio_std(2)\n",
    "size_five_std = get_portfolio_std(5)\n",
    "size_ten_std = get_portfolio_std(10)\n",
    "size_twentyfive_std = get_portfolio_std(25)"
   ]
  },
  {
   "cell_type": "code",
   "execution_count": 29,
   "id": "1f431eae-af3a-4ca5-8eba-f37e98275ec8",
   "metadata": {},
   "outputs": [
    {
     "data": {
      "text/plain": [
       "Text(0.5, 1.0, 'Axis [0, 0]')"
      ]
     },
     "execution_count": 29,
     "metadata": {},
     "output_type": "execute_result"
    },
    {
     "data": {
      "image/png": "[encoded data removed]",
      "text/plain": [
       "<Figure size 432x288 with 4 Axes>"
      ]
     },
     "metadata": {
      "needs_background": "light"
     },
     "output_type": "display_data"
    }
   ],
   "source": [
    "# https://matplotlib.org/stable/gallery/subplots_axes_and_figures/subplots_demo.html\n",
    "fig, axs = plt.subplots(2, 2)\n",
    "axs[0, 0].scatter(size_two_returns, size_two_std, alpha=0.05)\n",
    "axs[0, 0].set_title('Axis [0, 0]')\n",
    "#axs[0, 1].scatter(size_five_returns, size_five_std, 'tab:orange', alpha=0.05)\n",
    "#axs[0, 1].set_title('Axis [0, 1]')\n",
    "#axs[1, 0].scatter(size_ten_returns, size_ten_std, 'tab:green', alpha=0.05)\n",
    "#axs[1, 0].set_title('Axis [1, 0]')\n",
    "#axs[1, 1].scatter(size_twentyfive_returns, size_twentyfive_std, 'tab:red',alpha=0.05)\n",
    "#axs[1, 1].set_title('Axis [1, 1]')\n",
    "\n",
    "#for ax in axs.flat:\n",
    "#    ax.set(xlabel='x-label', ylabel='y-label')\n",
    "\n",
    "# Hide x labels and tick labels for top plots and y ticks for right plots.\n",
    "#for ax in axs.flat:\n",
    "#    ax.label_outer()"
   ]
  }
 ],
 "metadata": {
  "colab": {
   "name": "Welcome to DataCamp Workspaces.ipynb",
   "provenance": []
  },
  "kernelspec": {
   "display_name": "Python 3 (ipykernel)",
   "language": "python",
   "name": "python3"
  },
  "language_info": {
   "codemirror_mode": {
    "name": "ipython",
    "version": 3
   },
   "file_extension": ".py",
   "mimetype": "text/x-python",
   "name": "python",
   "nbconvert_exporter": "python",
   "pygments_lexer": "ipython3",
   "version": "3.10.6"
  }
 },
 "nbformat": 4,
 "nbformat_minor": 5
}
