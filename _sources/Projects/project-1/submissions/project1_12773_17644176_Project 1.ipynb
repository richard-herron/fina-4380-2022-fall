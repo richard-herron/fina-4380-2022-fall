{
 "cells": [
  {
   "cell_type": "code",
   "execution_count": 1,
   "id": "3879eba8-0ba5-406e-b30b-2ebf55315361",
   "metadata": {},
   "outputs": [],
   "source": [
    "import pandas as pd\n",
    "import numpy as np\n",
    "import matplotlib.pyplot as plt"
   ]
  },
  {
   "cell_type": "code",
   "execution_count": 2,
   "id": "5d3c23b8-0e36-44a7-bdb8-ab53c6da6130",
   "metadata": {},
   "outputs": [],
   "source": [
    "pd.set_option('display.float_format', '{:.4f}'.format)\n",
    "%precision 4\n",
    "plt.rcParams['figure.dpi'] = 150"
   ]
  },
  {
   "cell_type": "code",
   "execution_count": 3,
   "id": "1420a43e-faf7-4551-9e8b-e71e2df7b7d8",
   "metadata": {},
   "outputs": [],
   "source": [
    "import yfinance as yf\n",
    "import requests_cache\n",
    "session = requests_cache.CachedSession(expire_after='1D')"
   ]
  },
  {
   "cell_type": "code",
   "execution_count": 4,
   "id": "51b2d886-e08f-45eb-8938-58359df01485",
   "metadata": {},
   "outputs": [],
   "source": [
    "tickers_list = ['AAPL', 'ABBV', 'ABT', 'ACN', 'ADBE', 'AIG', 'AMD', 'AMGN', 'AMT', 'AMZN', 'AVGO', 'AXP', 'BA', 'BAC', \n",
    "                'BK', 'BKNG', 'BLK', 'BMY', 'BRK', 'C', 'CAT', 'CHTR', 'CL', 'CMCSA', 'COF', 'COP', 'COST', 'CRM', \n",
    "                'CSCO', 'CVS', 'CVX', 'DHR', 'DIS', 'DOW', 'DUK', 'EMR', 'EXC', 'F', 'FDX', 'GD', 'GE', 'GILD', 'GM', \n",
    "                'GOOG', 'GOOGL', 'GS', 'HD', 'HON', 'IBM', 'INTC', 'JNJ', 'JPM', 'KHC', 'KO', 'LIN', 'LLY', 'LMT', 'LOW', \n",
    "                'MA', 'MCD', 'MDLZ', 'MDT', 'MET', 'META', 'MMM', 'META', 'MMM', 'MO', 'MRK', 'MS', 'MSFT', 'NEE', \n",
    "                'NFLX', 'NKE', 'NVDA', 'ORCL', 'PEP', 'PFE', 'PG', 'PM', 'PYPL', 'QCOM', 'RTX', 'SBUX', 'SCHW', 'SO', \n",
    "                'SPG', 'T', 'TGT', 'TMO', 'TMUS', 'TSLA', 'TXN', 'UNH', 'UNP', 'UPS', 'USB', 'V', 'VZ', 'WBA', 'WFC', \n",
    "                'WMT', 'XOM']"
   ]
  },
  {
   "cell_type": "code",
   "execution_count": 5,
   "id": "0fdebb74-4249-4b5a-828b-43440a771ae2",
   "metadata": {},
   "outputs": [],
   "source": [
    "def download(**kwargs):\n",
    "    # this function is wrapper around yf.download and add returns to it\n",
    "    stocks = yf.download(**kwargs)\n",
    "    returns = stocks['Adj Close'].pct_change()\n",
    "    multi_index = pd.MultiIndex.from_product([['Returns'], stocks['Adj Close'].columns])\n",
    "    stocks[multi_index] = returns\n",
    "    stocks.columns.names = ['Variable', 'Ticker']\n",
    "    return stocks"
   ]
  },
  {
   "cell_type": "code",
   "execution_count": 6,
   "id": "ce012fc1-7048-43fd-b175-61fc90a911da",
   "metadata": {},
   "outputs": [
    {
     "name": "stdout",
     "output_type": "stream",
     "text": [
      "[*********************100%***********************]  101 of 101 completed\n"
     ]
    },
    {
     "name": "stderr",
     "output_type": "stream",
     "text": [
      "/tmp/ipykernel_22945/511497442.py:6: PerformanceWarning: DataFrame is highly fragmented.  This is usually the result of calling `frame.insert` many times, which has poor performance.  Consider joining all columns at once using pd.concat(axis=1) instead. To get a de-fragmented frame, use `newframe = frame.copy()`\n",
      "  stocks[multi_index] = returns\n"
     ]
    }
   ],
   "source": [
    "stocks = download(tickers = tickers_list, session=session)"
   ]
  },
  {
   "cell_type": "markdown",
   "id": "0f267fae-b54d-4fbe-9f1a-5528dd6cfb30",
   "metadata": {},
   "source": [
    "# Calculate daily returns for the S&P 100 stocks."
   ]
  },
  {
   "cell_type": "code",
   "execution_count": 7,
   "id": "e2be5b52-d70d-4894-b12f-ded06b7dd778",
   "metadata": {},
   "outputs": [],
   "source": [
    "returns = stocks['Adj Close'].pct_change() # daily returns"
   ]
  },
  {
   "cell_type": "code",
   "execution_count": 8,
   "id": "0d41e61d-b72b-4cc7-8f19-e4e33bb9c9cf",
   "metadata": {},
   "outputs": [],
   "source": [
    "returns_2020 = returns['2019-08-01':'2020-08-01']\n",
    "returns_2021 = returns['2020-08-01':'2021-08-01']"
   ]
  },
  {
   "cell_type": "code",
   "execution_count": 9,
   "id": "af7271f0-0d20-48bd-b740-2f7eaa43b1de",
   "metadata": {},
   "outputs": [
    {
     "data": {
      "text/html": [
       "<div>\n",
       "<style scoped>\n",
       "    .dataframe tbody tr th:only-of-type {\n",
       "        vertical-align: middle;\n",
       "    }\n",
       "\n",
       "    .dataframe tbody tr th {\n",
       "        vertical-align: top;\n",
       "    }\n",
       "\n",
       "    .dataframe thead th {\n",
       "        text-align: right;\n",
       "    }\n",
       "</style>\n",
       "<table border=\"1\" class=\"dataframe\">\n",
       "  <thead>\n",
       "    <tr style=\"text-align: right;\">\n",
       "      <th>Ticker</th>\n",
       "      <th>AAPL</th>\n",
       "      <th>ABBV</th>\n",
       "      <th>ABT</th>\n",
       "      <th>ACN</th>\n",
       "      <th>ADBE</th>\n",
       "      <th>AIG</th>\n",
       "      <th>AMD</th>\n",
       "      <th>AMGN</th>\n",
       "      <th>AMT</th>\n",
       "      <th>AMZN</th>\n",
       "      <th>...</th>\n",
       "      <th>UNH</th>\n",
       "      <th>UNP</th>\n",
       "      <th>UPS</th>\n",
       "      <th>USB</th>\n",
       "      <th>V</th>\n",
       "      <th>VZ</th>\n",
       "      <th>WBA</th>\n",
       "      <th>WFC</th>\n",
       "      <th>WMT</th>\n",
       "      <th>XOM</th>\n",
       "    </tr>\n",
       "    <tr>\n",
       "      <th>Date</th>\n",
       "      <th></th>\n",
       "      <th></th>\n",
       "      <th></th>\n",
       "      <th></th>\n",
       "      <th></th>\n",
       "      <th></th>\n",
       "      <th></th>\n",
       "      <th></th>\n",
       "      <th></th>\n",
       "      <th></th>\n",
       "      <th></th>\n",
       "      <th></th>\n",
       "      <th></th>\n",
       "      <th></th>\n",
       "      <th></th>\n",
       "      <th></th>\n",
       "      <th></th>\n",
       "      <th></th>\n",
       "      <th></th>\n",
       "      <th></th>\n",
       "      <th></th>\n",
       "    </tr>\n",
       "  </thead>\n",
       "  <tbody>\n",
       "    <tr>\n",
       "      <th>2019-08-01</th>\n",
       "      <td>-0.0216</td>\n",
       "      <td>-0.0123</td>\n",
       "      <td>-0.0117</td>\n",
       "      <td>0.0082</td>\n",
       "      <td>-0.0014</td>\n",
       "      <td>-0.0229</td>\n",
       "      <td>-0.0194</td>\n",
       "      <td>-0.0031</td>\n",
       "      <td>-0.0010</td>\n",
       "      <td>-0.0061</td>\n",
       "      <td>...</td>\n",
       "      <td>0.0010</td>\n",
       "      <td>-0.0275</td>\n",
       "      <td>-0.0208</td>\n",
       "      <td>-0.0255</td>\n",
       "      <td>0.0066</td>\n",
       "      <td>-0.0002</td>\n",
       "      <td>-0.0077</td>\n",
       "      <td>-0.0279</td>\n",
       "      <td>-0.0091</td>\n",
       "      <td>-0.0256</td>\n",
       "    </tr>\n",
       "    <tr>\n",
       "      <th>2019-08-02</th>\n",
       "      <td>-0.0212</td>\n",
       "      <td>-0.0068</td>\n",
       "      <td>-0.0030</td>\n",
       "      <td>-0.0059</td>\n",
       "      <td>-0.0158</td>\n",
       "      <td>-0.0069</td>\n",
       "      <td>-0.0141</td>\n",
       "      <td>0.0066</td>\n",
       "      <td>0.0192</td>\n",
       "      <td>-0.0173</td>\n",
       "      <td>...</td>\n",
       "      <td>0.0032</td>\n",
       "      <td>-0.0085</td>\n",
       "      <td>0.0019</td>\n",
       "      <td>-0.0047</td>\n",
       "      <td>-0.0098</td>\n",
       "      <td>0.0060</td>\n",
       "      <td>-0.0072</td>\n",
       "      <td>0.0081</td>\n",
       "      <td>0.0002</td>\n",
       "      <td>-0.0098</td>\n",
       "    </tr>\n",
       "    <tr>\n",
       "      <th>2019-08-05</th>\n",
       "      <td>-0.0523</td>\n",
       "      <td>-0.0018</td>\n",
       "      <td>-0.0310</td>\n",
       "      <td>-0.0387</td>\n",
       "      <td>-0.0455</td>\n",
       "      <td>-0.0280</td>\n",
       "      <td>-0.0493</td>\n",
       "      <td>-0.0306</td>\n",
       "      <td>-0.0073</td>\n",
       "      <td>-0.0319</td>\n",
       "      <td>...</td>\n",
       "      <td>-0.0200</td>\n",
       "      <td>-0.0385</td>\n",
       "      <td>-0.0201</td>\n",
       "      <td>-0.0429</td>\n",
       "      <td>-0.0482</td>\n",
       "      <td>-0.0067</td>\n",
       "      <td>-0.0337</td>\n",
       "      <td>-0.0274</td>\n",
       "      <td>-0.0327</td>\n",
       "      <td>-0.0205</td>\n",
       "    </tr>\n",
       "    <tr>\n",
       "      <th>2019-08-06</th>\n",
       "      <td>0.0189</td>\n",
       "      <td>-0.0071</td>\n",
       "      <td>0.0204</td>\n",
       "      <td>0.0176</td>\n",
       "      <td>0.0209</td>\n",
       "      <td>0.0297</td>\n",
       "      <td>0.0311</td>\n",
       "      <td>0.0163</td>\n",
       "      <td>0.0143</td>\n",
       "      <td>0.0129</td>\n",
       "      <td>...</td>\n",
       "      <td>0.0131</td>\n",
       "      <td>0.0089</td>\n",
       "      <td>0.0013</td>\n",
       "      <td>0.0096</td>\n",
       "      <td>0.0214</td>\n",
       "      <td>-0.0031</td>\n",
       "      <td>-0.0081</td>\n",
       "      <td>0.0171</td>\n",
       "      <td>0.0137</td>\n",
       "      <td>0.0097</td>\n",
       "    </tr>\n",
       "    <tr>\n",
       "      <th>2019-08-07</th>\n",
       "      <td>0.0104</td>\n",
       "      <td>-0.0048</td>\n",
       "      <td>-0.0031</td>\n",
       "      <td>0.0003</td>\n",
       "      <td>0.0098</td>\n",
       "      <td>0.0006</td>\n",
       "      <td>0.0114</td>\n",
       "      <td>-0.0050</td>\n",
       "      <td>0.0022</td>\n",
       "      <td>0.0031</td>\n",
       "      <td>...</td>\n",
       "      <td>-0.0074</td>\n",
       "      <td>-0.0084</td>\n",
       "      <td>0.0036</td>\n",
       "      <td>-0.0177</td>\n",
       "      <td>0.0165</td>\n",
       "      <td>0.0007</td>\n",
       "      <td>0.0200</td>\n",
       "      <td>-0.0239</td>\n",
       "      <td>0.0087</td>\n",
       "      <td>-0.0065</td>\n",
       "    </tr>\n",
       "    <tr>\n",
       "      <th>...</th>\n",
       "      <td>...</td>\n",
       "      <td>...</td>\n",
       "      <td>...</td>\n",
       "      <td>...</td>\n",
       "      <td>...</td>\n",
       "      <td>...</td>\n",
       "      <td>...</td>\n",
       "      <td>...</td>\n",
       "      <td>...</td>\n",
       "      <td>...</td>\n",
       "      <td>...</td>\n",
       "      <td>...</td>\n",
       "      <td>...</td>\n",
       "      <td>...</td>\n",
       "      <td>...</td>\n",
       "      <td>...</td>\n",
       "      <td>...</td>\n",
       "      <td>...</td>\n",
       "      <td>...</td>\n",
       "      <td>...</td>\n",
       "      <td>...</td>\n",
       "    </tr>\n",
       "    <tr>\n",
       "      <th>2020-07-27</th>\n",
       "      <td>0.0237</td>\n",
       "      <td>0.0005</td>\n",
       "      <td>0.0105</td>\n",
       "      <td>0.0085</td>\n",
       "      <td>0.0158</td>\n",
       "      <td>-0.0147</td>\n",
       "      <td>-0.0062</td>\n",
       "      <td>0.0229</td>\n",
       "      <td>0.0155</td>\n",
       "      <td>0.0154</td>\n",
       "      <td>...</td>\n",
       "      <td>-0.0073</td>\n",
       "      <td>0.0040</td>\n",
       "      <td>0.0225</td>\n",
       "      <td>-0.0206</td>\n",
       "      <td>0.0090</td>\n",
       "      <td>0.0004</td>\n",
       "      <td>-0.0165</td>\n",
       "      <td>-0.0293</td>\n",
       "      <td>-0.0002</td>\n",
       "      <td>0.0147</td>\n",
       "    </tr>\n",
       "    <tr>\n",
       "      <th>2020-07-28</th>\n",
       "      <td>-0.0164</td>\n",
       "      <td>-0.0046</td>\n",
       "      <td>-0.0013</td>\n",
       "      <td>-0.0051</td>\n",
       "      <td>-0.0111</td>\n",
       "      <td>0.0032</td>\n",
       "      <td>-0.0197</td>\n",
       "      <td>0.0064</td>\n",
       "      <td>0.0249</td>\n",
       "      <td>-0.0180</td>\n",
       "      <td>...</td>\n",
       "      <td>0.0045</td>\n",
       "      <td>-0.0136</td>\n",
       "      <td>-0.0115</td>\n",
       "      <td>0.0044</td>\n",
       "      <td>-0.0009</td>\n",
       "      <td>0.0107</td>\n",
       "      <td>0.0211</td>\n",
       "      <td>0.0016</td>\n",
       "      <td>0.0042</td>\n",
       "      <td>-0.0118</td>\n",
       "    </tr>\n",
       "    <tr>\n",
       "      <th>2020-07-29</th>\n",
       "      <td>0.0192</td>\n",
       "      <td>0.0031</td>\n",
       "      <td>0.0266</td>\n",
       "      <td>0.0099</td>\n",
       "      <td>0.0093</td>\n",
       "      <td>0.0556</td>\n",
       "      <td>0.1254</td>\n",
       "      <td>-0.0251</td>\n",
       "      <td>0.0168</td>\n",
       "      <td>0.0111</td>\n",
       "      <td>...</td>\n",
       "      <td>0.0225</td>\n",
       "      <td>0.0205</td>\n",
       "      <td>0.0339</td>\n",
       "      <td>0.0383</td>\n",
       "      <td>0.0094</td>\n",
       "      <td>-0.0005</td>\n",
       "      <td>0.0118</td>\n",
       "      <td>0.0098</td>\n",
       "      <td>-0.0081</td>\n",
       "      <td>0.0110</td>\n",
       "    </tr>\n",
       "    <tr>\n",
       "      <th>2020-07-30</th>\n",
       "      <td>0.0121</td>\n",
       "      <td>-0.0100</td>\n",
       "      <td>-0.0097</td>\n",
       "      <td>-0.0018</td>\n",
       "      <td>0.0059</td>\n",
       "      <td>-0.0272</td>\n",
       "      <td>0.0277</td>\n",
       "      <td>-0.0109</td>\n",
       "      <td>-0.0324</td>\n",
       "      <td>0.0060</td>\n",
       "      <td>...</td>\n",
       "      <td>-0.0047</td>\n",
       "      <td>-0.0291</td>\n",
       "      <td>0.1438</td>\n",
       "      <td>-0.0212</td>\n",
       "      <td>-0.0228</td>\n",
       "      <td>-0.0026</td>\n",
       "      <td>-0.0126</td>\n",
       "      <td>-0.0438</td>\n",
       "      <td>-0.0044</td>\n",
       "      <td>-0.0491</td>\n",
       "    </tr>\n",
       "    <tr>\n",
       "      <th>2020-07-31</th>\n",
       "      <td>0.1047</td>\n",
       "      <td>-0.0118</td>\n",
       "      <td>-0.0088</td>\n",
       "      <td>0.0036</td>\n",
       "      <td>0.0124</td>\n",
       "      <td>0.0113</td>\n",
       "      <td>-0.0098</td>\n",
       "      <td>-0.0060</td>\n",
       "      <td>-0.0042</td>\n",
       "      <td>0.0370</td>\n",
       "      <td>...</td>\n",
       "      <td>-0.0080</td>\n",
       "      <td>0.0032</td>\n",
       "      <td>0.0092</td>\n",
       "      <td>-0.0019</td>\n",
       "      <td>-0.0189</td>\n",
       "      <td>0.0031</td>\n",
       "      <td>0.0017</td>\n",
       "      <td>-0.0158</td>\n",
       "      <td>-0.0055</td>\n",
       "      <td>0.0050</td>\n",
       "    </tr>\n",
       "  </tbody>\n",
       "</table>\n",
       "<p>253 rows × 101 columns</p>\n",
       "</div>"
      ],
      "text/plain": [
       "Ticker        AAPL    ABBV     ABT     ACN    ADBE     AIG     AMD    AMGN  \\\n",
       "Date                                                                         \n",
       "2019-08-01 -0.0216 -0.0123 -0.0117  0.0082 -0.0014 -0.0229 -0.0194 -0.0031   \n",
       "2019-08-02 -0.0212 -0.0068 -0.0030 -0.0059 -0.0158 -0.0069 -0.0141  0.0066   \n",
       "2019-08-05 -0.0523 -0.0018 -0.0310 -0.0387 -0.0455 -0.0280 -0.0493 -0.0306   \n",
       "2019-08-06  0.0189 -0.0071  0.0204  0.0176  0.0209  0.0297  0.0311  0.0163   \n",
       "2019-08-07  0.0104 -0.0048 -0.0031  0.0003  0.0098  0.0006  0.0114 -0.0050   \n",
       "...            ...     ...     ...     ...     ...     ...     ...     ...   \n",
       "2020-07-27  0.0237  0.0005  0.0105  0.0085  0.0158 -0.0147 -0.0062  0.0229   \n",
       "2020-07-28 -0.0164 -0.0046 -0.0013 -0.0051 -0.0111  0.0032 -0.0197  0.0064   \n",
       "2020-07-29  0.0192  0.0031  0.0266  0.0099  0.0093  0.0556  0.1254 -0.0251   \n",
       "2020-07-30  0.0121 -0.0100 -0.0097 -0.0018  0.0059 -0.0272  0.0277 -0.0109   \n",
       "2020-07-31  0.1047 -0.0118 -0.0088  0.0036  0.0124  0.0113 -0.0098 -0.0060   \n",
       "\n",
       "Ticker         AMT    AMZN  ...     UNH     UNP     UPS     USB       V  \\\n",
       "Date                        ...                                           \n",
       "2019-08-01 -0.0010 -0.0061  ...  0.0010 -0.0275 -0.0208 -0.0255  0.0066   \n",
       "2019-08-02  0.0192 -0.0173  ...  0.0032 -0.0085  0.0019 -0.0047 -0.0098   \n",
       "2019-08-05 -0.0073 -0.0319  ... -0.0200 -0.0385 -0.0201 -0.0429 -0.0482   \n",
       "2019-08-06  0.0143  0.0129  ...  0.0131  0.0089  0.0013  0.0096  0.0214   \n",
       "2019-08-07  0.0022  0.0031  ... -0.0074 -0.0084  0.0036 -0.0177  0.0165   \n",
       "...            ...     ...  ...     ...     ...     ...     ...     ...   \n",
       "2020-07-27  0.0155  0.0154  ... -0.0073  0.0040  0.0225 -0.0206  0.0090   \n",
       "2020-07-28  0.0249 -0.0180  ...  0.0045 -0.0136 -0.0115  0.0044 -0.0009   \n",
       "2020-07-29  0.0168  0.0111  ...  0.0225  0.0205  0.0339  0.0383  0.0094   \n",
       "2020-07-30 -0.0324  0.0060  ... -0.0047 -0.0291  0.1438 -0.0212 -0.0228   \n",
       "2020-07-31 -0.0042  0.0370  ... -0.0080  0.0032  0.0092 -0.0019 -0.0189   \n",
       "\n",
       "Ticker          VZ     WBA     WFC     WMT     XOM  \n",
       "Date                                                \n",
       "2019-08-01 -0.0002 -0.0077 -0.0279 -0.0091 -0.0256  \n",
       "2019-08-02  0.0060 -0.0072  0.0081  0.0002 -0.0098  \n",
       "2019-08-05 -0.0067 -0.0337 -0.0274 -0.0327 -0.0205  \n",
       "2019-08-06 -0.0031 -0.0081  0.0171  0.0137  0.0097  \n",
       "2019-08-07  0.0007  0.0200 -0.0239  0.0087 -0.0065  \n",
       "...            ...     ...     ...     ...     ...  \n",
       "2020-07-27  0.0004 -0.0165 -0.0293 -0.0002  0.0147  \n",
       "2020-07-28  0.0107  0.0211  0.0016  0.0042 -0.0118  \n",
       "2020-07-29 -0.0005  0.0118  0.0098 -0.0081  0.0110  \n",
       "2020-07-30 -0.0026 -0.0126 -0.0438 -0.0044 -0.0491  \n",
       "2020-07-31  0.0031  0.0017 -0.0158 -0.0055  0.0050  \n",
       "\n",
       "[253 rows x 101 columns]"
      ]
     },
     "execution_count": 9,
     "metadata": {},
     "output_type": "execute_result"
    }
   ],
   "source": [
    "# Daily returns for 2020 fiscal year\n",
    "returns_2020"
   ]
  },
  {
   "cell_type": "code",
   "execution_count": 10,
   "id": "30c33670-45de-4854-ae58-d548d5c544ce",
   "metadata": {},
   "outputs": [
    {
     "data": {
      "text/html": [
       "<div>\n",
       "<style scoped>\n",
       "    .dataframe tbody tr th:only-of-type {\n",
       "        vertical-align: middle;\n",
       "    }\n",
       "\n",
       "    .dataframe tbody tr th {\n",
       "        vertical-align: top;\n",
       "    }\n",
       "\n",
       "    .dataframe thead th {\n",
       "        text-align: right;\n",
       "    }\n",
       "</style>\n",
       "<table border=\"1\" class=\"dataframe\">\n",
       "  <thead>\n",
       "    <tr style=\"text-align: right;\">\n",
       "      <th>Ticker</th>\n",
       "      <th>AAPL</th>\n",
       "      <th>ABBV</th>\n",
       "      <th>ABT</th>\n",
       "      <th>ACN</th>\n",
       "      <th>ADBE</th>\n",
       "      <th>AIG</th>\n",
       "      <th>AMD</th>\n",
       "      <th>AMGN</th>\n",
       "      <th>AMT</th>\n",
       "      <th>AMZN</th>\n",
       "      <th>...</th>\n",
       "      <th>UNH</th>\n",
       "      <th>UNP</th>\n",
       "      <th>UPS</th>\n",
       "      <th>USB</th>\n",
       "      <th>V</th>\n",
       "      <th>VZ</th>\n",
       "      <th>WBA</th>\n",
       "      <th>WFC</th>\n",
       "      <th>WMT</th>\n",
       "      <th>XOM</th>\n",
       "    </tr>\n",
       "    <tr>\n",
       "      <th>Date</th>\n",
       "      <th></th>\n",
       "      <th></th>\n",
       "      <th></th>\n",
       "      <th></th>\n",
       "      <th></th>\n",
       "      <th></th>\n",
       "      <th></th>\n",
       "      <th></th>\n",
       "      <th></th>\n",
       "      <th></th>\n",
       "      <th></th>\n",
       "      <th></th>\n",
       "      <th></th>\n",
       "      <th></th>\n",
       "      <th></th>\n",
       "      <th></th>\n",
       "      <th></th>\n",
       "      <th></th>\n",
       "      <th></th>\n",
       "      <th></th>\n",
       "      <th></th>\n",
       "    </tr>\n",
       "  </thead>\n",
       "  <tbody>\n",
       "    <tr>\n",
       "      <th>2020-08-03</th>\n",
       "      <td>0.0252</td>\n",
       "      <td>0.0109</td>\n",
       "      <td>0.0004</td>\n",
       "      <td>0.0107</td>\n",
       "      <td>0.0082</td>\n",
       "      <td>0.0000</td>\n",
       "      <td>0.0031</td>\n",
       "      <td>0.0110</td>\n",
       "      <td>-0.0184</td>\n",
       "      <td>-0.0167</td>\n",
       "      <td>...</td>\n",
       "      <td>0.0027</td>\n",
       "      <td>-0.0074</td>\n",
       "      <td>-0.0041</td>\n",
       "      <td>-0.0011</td>\n",
       "      <td>0.0015</td>\n",
       "      <td>-0.0042</td>\n",
       "      <td>0.0091</td>\n",
       "      <td>0.0012</td>\n",
       "      <td>-0.0008</td>\n",
       "      <td>0.0040</td>\n",
       "    </tr>\n",
       "    <tr>\n",
       "      <th>2020-08-04</th>\n",
       "      <td>0.0067</td>\n",
       "      <td>-0.0172</td>\n",
       "      <td>-0.0074</td>\n",
       "      <td>-0.0001</td>\n",
       "      <td>-0.0023</td>\n",
       "      <td>-0.0753</td>\n",
       "      <td>0.0949</td>\n",
       "      <td>-0.0152</td>\n",
       "      <td>0.0140</td>\n",
       "      <td>0.0087</td>\n",
       "      <td>...</td>\n",
       "      <td>0.0029</td>\n",
       "      <td>0.0094</td>\n",
       "      <td>0.0179</td>\n",
       "      <td>-0.0155</td>\n",
       "      <td>0.0084</td>\n",
       "      <td>0.0117</td>\n",
       "      <td>-0.0037</td>\n",
       "      <td>-0.0029</td>\n",
       "      <td>0.0181</td>\n",
       "      <td>0.0289</td>\n",
       "    </tr>\n",
       "    <tr>\n",
       "      <th>2020-08-05</th>\n",
       "      <td>0.0036</td>\n",
       "      <td>-0.0110</td>\n",
       "      <td>0.0221</td>\n",
       "      <td>0.0068</td>\n",
       "      <td>0.0058</td>\n",
       "      <td>0.0155</td>\n",
       "      <td>0.0032</td>\n",
       "      <td>-0.0087</td>\n",
       "      <td>-0.0188</td>\n",
       "      <td>0.0211</td>\n",
       "      <td>...</td>\n",
       "      <td>0.0262</td>\n",
       "      <td>0.0218</td>\n",
       "      <td>0.0025</td>\n",
       "      <td>0.0174</td>\n",
       "      <td>0.0198</td>\n",
       "      <td>-0.0064</td>\n",
       "      <td>-0.0029</td>\n",
       "      <td>0.0074</td>\n",
       "      <td>-0.0139</td>\n",
       "      <td>0.0087</td>\n",
       "    </tr>\n",
       "    <tr>\n",
       "      <th>2020-08-06</th>\n",
       "      <td>0.0349</td>\n",
       "      <td>-0.0073</td>\n",
       "      <td>-0.0038</td>\n",
       "      <td>0.0096</td>\n",
       "      <td>0.0325</td>\n",
       "      <td>-0.0285</td>\n",
       "      <td>0.0164</td>\n",
       "      <td>0.0003</td>\n",
       "      <td>0.0009</td>\n",
       "      <td>0.0062</td>\n",
       "      <td>...</td>\n",
       "      <td>0.0051</td>\n",
       "      <td>0.0121</td>\n",
       "      <td>0.0027</td>\n",
       "      <td>-0.0019</td>\n",
       "      <td>0.0136</td>\n",
       "      <td>0.0050</td>\n",
       "      <td>0.0020</td>\n",
       "      <td>-0.0025</td>\n",
       "      <td>-0.0035</td>\n",
       "      <td>-0.0048</td>\n",
       "    </tr>\n",
       "    <tr>\n",
       "      <th>2020-08-07</th>\n",
       "      <td>-0.0227</td>\n",
       "      <td>0.0038</td>\n",
       "      <td>-0.0051</td>\n",
       "      <td>0.0029</td>\n",
       "      <td>-0.0313</td>\n",
       "      <td>0.0457</td>\n",
       "      <td>-0.0215</td>\n",
       "      <td>-0.0036</td>\n",
       "      <td>0.0082</td>\n",
       "      <td>-0.0178</td>\n",
       "      <td>...</td>\n",
       "      <td>0.0095</td>\n",
       "      <td>0.0185</td>\n",
       "      <td>0.0786</td>\n",
       "      <td>0.0182</td>\n",
       "      <td>-0.0121</td>\n",
       "      <td>0.0121</td>\n",
       "      <td>0.0154</td>\n",
       "      <td>0.0342</td>\n",
       "      <td>0.0048</td>\n",
       "      <td>-0.0046</td>\n",
       "    </tr>\n",
       "    <tr>\n",
       "      <th>...</th>\n",
       "      <td>...</td>\n",
       "      <td>...</td>\n",
       "      <td>...</td>\n",
       "      <td>...</td>\n",
       "      <td>...</td>\n",
       "      <td>...</td>\n",
       "      <td>...</td>\n",
       "      <td>...</td>\n",
       "      <td>...</td>\n",
       "      <td>...</td>\n",
       "      <td>...</td>\n",
       "      <td>...</td>\n",
       "      <td>...</td>\n",
       "      <td>...</td>\n",
       "      <td>...</td>\n",
       "      <td>...</td>\n",
       "      <td>...</td>\n",
       "      <td>...</td>\n",
       "      <td>...</td>\n",
       "      <td>...</td>\n",
       "      <td>...</td>\n",
       "    </tr>\n",
       "    <tr>\n",
       "      <th>2021-07-26</th>\n",
       "      <td>0.0029</td>\n",
       "      <td>-0.0034</td>\n",
       "      <td>-0.0106</td>\n",
       "      <td>0.0010</td>\n",
       "      <td>-0.0081</td>\n",
       "      <td>0.0085</td>\n",
       "      <td>-0.0036</td>\n",
       "      <td>-0.0107</td>\n",
       "      <td>-0.0023</td>\n",
       "      <td>0.0118</td>\n",
       "      <td>...</td>\n",
       "      <td>-0.0100</td>\n",
       "      <td>0.0002</td>\n",
       "      <td>-0.0084</td>\n",
       "      <td>0.0083</td>\n",
       "      <td>0.0049</td>\n",
       "      <td>-0.0018</td>\n",
       "      <td>0.0155</td>\n",
       "      <td>0.0094</td>\n",
       "      <td>0.0014</td>\n",
       "      <td>0.0252</td>\n",
       "    </tr>\n",
       "    <tr>\n",
       "      <th>2021-07-27</th>\n",
       "      <td>-0.0149</td>\n",
       "      <td>0.0014</td>\n",
       "      <td>0.0024</td>\n",
       "      <td>0.0029</td>\n",
       "      <td>-0.0041</td>\n",
       "      <td>-0.0061</td>\n",
       "      <td>-0.0086</td>\n",
       "      <td>-0.0016</td>\n",
       "      <td>0.0080</td>\n",
       "      <td>-0.0198</td>\n",
       "      <td>...</td>\n",
       "      <td>0.0038</td>\n",
       "      <td>-0.0098</td>\n",
       "      <td>-0.0699</td>\n",
       "      <td>-0.0005</td>\n",
       "      <td>0.0027</td>\n",
       "      <td>0.0075</td>\n",
       "      <td>-0.0091</td>\n",
       "      <td>0.0029</td>\n",
       "      <td>0.0001</td>\n",
       "      <td>-0.0111</td>\n",
       "    </tr>\n",
       "    <tr>\n",
       "      <th>2021-07-28</th>\n",
       "      <td>-0.0122</td>\n",
       "      <td>0.0050</td>\n",
       "      <td>0.0059</td>\n",
       "      <td>-0.0112</td>\n",
       "      <td>0.0043</td>\n",
       "      <td>-0.0099</td>\n",
       "      <td>0.0758</td>\n",
       "      <td>-0.0018</td>\n",
       "      <td>-0.0066</td>\n",
       "      <td>0.0011</td>\n",
       "      <td>...</td>\n",
       "      <td>-0.0143</td>\n",
       "      <td>-0.0067</td>\n",
       "      <td>-0.0161</td>\n",
       "      <td>-0.0020</td>\n",
       "      <td>-0.0159</td>\n",
       "      <td>-0.0085</td>\n",
       "      <td>0.0062</td>\n",
       "      <td>0.0082</td>\n",
       "      <td>-0.0041</td>\n",
       "      <td>0.0067</td>\n",
       "    </tr>\n",
       "    <tr>\n",
       "      <th>2021-07-29</th>\n",
       "      <td>0.0046</td>\n",
       "      <td>0.0027</td>\n",
       "      <td>0.0047</td>\n",
       "      <td>0.0064</td>\n",
       "      <td>0.0013</td>\n",
       "      <td>0.0196</td>\n",
       "      <td>0.0513</td>\n",
       "      <td>-0.0073</td>\n",
       "      <td>-0.0069</td>\n",
       "      <td>-0.0084</td>\n",
       "      <td>...</td>\n",
       "      <td>0.0071</td>\n",
       "      <td>0.0035</td>\n",
       "      <td>-0.0012</td>\n",
       "      <td>0.0071</td>\n",
       "      <td>0.0040</td>\n",
       "      <td>0.0047</td>\n",
       "      <td>-0.0015</td>\n",
       "      <td>0.0218</td>\n",
       "      <td>0.0013</td>\n",
       "      <td>0.0122</td>\n",
       "    </tr>\n",
       "    <tr>\n",
       "      <th>2021-07-30</th>\n",
       "      <td>0.0015</td>\n",
       "      <td>-0.0216</td>\n",
       "      <td>-0.0009</td>\n",
       "      <td>-0.0021</td>\n",
       "      <td>-0.0001</td>\n",
       "      <td>-0.0109</td>\n",
       "      <td>0.0315</td>\n",
       "      <td>-0.0038</td>\n",
       "      <td>-0.0007</td>\n",
       "      <td>-0.0756</td>\n",
       "      <td>...</td>\n",
       "      <td>0.0003</td>\n",
       "      <td>0.0066</td>\n",
       "      <td>-0.0023</td>\n",
       "      <td>-0.0159</td>\n",
       "      <td>-0.0062</td>\n",
       "      <td>-0.0036</td>\n",
       "      <td>0.0023</td>\n",
       "      <td>-0.0120</td>\n",
       "      <td>0.0022</td>\n",
       "      <td>-0.0231</td>\n",
       "    </tr>\n",
       "  </tbody>\n",
       "</table>\n",
       "<p>251 rows × 101 columns</p>\n",
       "</div>"
      ],
      "text/plain": [
       "Ticker        AAPL    ABBV     ABT     ACN    ADBE     AIG     AMD    AMGN  \\\n",
       "Date                                                                         \n",
       "2020-08-03  0.0252  0.0109  0.0004  0.0107  0.0082  0.0000  0.0031  0.0110   \n",
       "2020-08-04  0.0067 -0.0172 -0.0074 -0.0001 -0.0023 -0.0753  0.0949 -0.0152   \n",
       "2020-08-05  0.0036 -0.0110  0.0221  0.0068  0.0058  0.0155  0.0032 -0.0087   \n",
       "2020-08-06  0.0349 -0.0073 -0.0038  0.0096  0.0325 -0.0285  0.0164  0.0003   \n",
       "2020-08-07 -0.0227  0.0038 -0.0051  0.0029 -0.0313  0.0457 -0.0215 -0.0036   \n",
       "...            ...     ...     ...     ...     ...     ...     ...     ...   \n",
       "2021-07-26  0.0029 -0.0034 -0.0106  0.0010 -0.0081  0.0085 -0.0036 -0.0107   \n",
       "2021-07-27 -0.0149  0.0014  0.0024  0.0029 -0.0041 -0.0061 -0.0086 -0.0016   \n",
       "2021-07-28 -0.0122  0.0050  0.0059 -0.0112  0.0043 -0.0099  0.0758 -0.0018   \n",
       "2021-07-29  0.0046  0.0027  0.0047  0.0064  0.0013  0.0196  0.0513 -0.0073   \n",
       "2021-07-30  0.0015 -0.0216 -0.0009 -0.0021 -0.0001 -0.0109  0.0315 -0.0038   \n",
       "\n",
       "Ticker         AMT    AMZN  ...     UNH     UNP     UPS     USB       V  \\\n",
       "Date                        ...                                           \n",
       "2020-08-03 -0.0184 -0.0167  ...  0.0027 -0.0074 -0.0041 -0.0011  0.0015   \n",
       "2020-08-04  0.0140  0.0087  ...  0.0029  0.0094  0.0179 -0.0155  0.0084   \n",
       "2020-08-05 -0.0188  0.0211  ...  0.0262  0.0218  0.0025  0.0174  0.0198   \n",
       "2020-08-06  0.0009  0.0062  ...  0.0051  0.0121  0.0027 -0.0019  0.0136   \n",
       "2020-08-07  0.0082 -0.0178  ...  0.0095  0.0185  0.0786  0.0182 -0.0121   \n",
       "...            ...     ...  ...     ...     ...     ...     ...     ...   \n",
       "2021-07-26 -0.0023  0.0118  ... -0.0100  0.0002 -0.0084  0.0083  0.0049   \n",
       "2021-07-27  0.0080 -0.0198  ...  0.0038 -0.0098 -0.0699 -0.0005  0.0027   \n",
       "2021-07-28 -0.0066  0.0011  ... -0.0143 -0.0067 -0.0161 -0.0020 -0.0159   \n",
       "2021-07-29 -0.0069 -0.0084  ...  0.0071  0.0035 -0.0012  0.0071  0.0040   \n",
       "2021-07-30 -0.0007 -0.0756  ...  0.0003  0.0066 -0.0023 -0.0159 -0.0062   \n",
       "\n",
       "Ticker          VZ     WBA     WFC     WMT     XOM  \n",
       "Date                                                \n",
       "2020-08-03 -0.0042  0.0091  0.0012 -0.0008  0.0040  \n",
       "2020-08-04  0.0117 -0.0037 -0.0029  0.0181  0.0289  \n",
       "2020-08-05 -0.0064 -0.0029  0.0074 -0.0139  0.0087  \n",
       "2020-08-06  0.0050  0.0020 -0.0025 -0.0035 -0.0048  \n",
       "2020-08-07  0.0121  0.0154  0.0342  0.0048 -0.0046  \n",
       "...            ...     ...     ...     ...     ...  \n",
       "2021-07-26 -0.0018  0.0155  0.0094  0.0014  0.0252  \n",
       "2021-07-27  0.0075 -0.0091  0.0029  0.0001 -0.0111  \n",
       "2021-07-28 -0.0085  0.0062  0.0082 -0.0041  0.0067  \n",
       "2021-07-29  0.0047 -0.0015  0.0218  0.0013  0.0122  \n",
       "2021-07-30 -0.0036  0.0023 -0.0120  0.0022 -0.0231  \n",
       "\n",
       "[251 rows x 101 columns]"
      ]
     },
     "execution_count": 10,
     "metadata": {},
     "output_type": "execute_result"
    }
   ],
   "source": [
    "# Daily returns for 2021 fiscal year\n",
    "returns_2021"
   ]
  },
  {
   "cell_type": "markdown",
   "id": "7cc1ca2a-a613-42e4-b299-03d82f1e868c",
   "metadata": {
    "tags": []
   },
   "source": [
    "# How well do annualized average returns in 2020 predict those in 2021?"
   ]
  },
  {
   "cell_type": "code",
   "execution_count": 11,
   "id": "7bf0ad5a-3ba6-481a-82dc-46e5ca3c804a",
   "metadata": {},
   "outputs": [],
   "source": [
    "# annualized average returns in 2020\n",
    "returns_2020_annum = returns_2020.mean().mul(252)\n",
    "# annualized average returns in 2021\n",
    "returns_2021_annum = returns_2021.mean().mul(252)"
   ]
  },
  {
   "cell_type": "code",
   "execution_count": 12,
   "id": "07b303b7-aef8-4b09-979e-e3524a78c6c4",
   "metadata": {},
   "outputs": [
    {
     "data": {
      "text/plain": [
       "-0.0197"
      ]
     },
     "execution_count": 12,
     "metadata": {},
     "output_type": "execute_result"
    }
   ],
   "source": [
    "# correlation between all stocks' 2020 and 2021 fiscal year returns\n",
    "returns_2020_annum.corr(returns_2021_annum)"
   ]
  },
  {
   "cell_type": "markdown",
   "id": "34f3551c-2cd9-43ff-a8a8-4f9a19d95a3e",
   "metadata": {},
   "source": [
    "### Annualized average returns in 2020 are a poor predictor of annualized average returns in 2021. A correlation (also referred to as “r”) of -0.0197 was found. Under 0.25 is considered a weak relationship."
   ]
  },
  {
   "cell_type": "markdown",
   "id": "faba8902-0e71-4996-8aeb-82798a7492d5",
   "metadata": {
    "tags": []
   },
   "source": [
    "# How well do annualized standard deviations of returns in 2020 predict those in 2021?"
   ]
  },
  {
   "cell_type": "code",
   "execution_count": 13,
   "id": "727943f8-e34f-475a-b8b3-d4dd3f44ec01",
   "metadata": {},
   "outputs": [],
   "source": [
    "stdev_2020 = returns_2020.std().mul(np.sqrt(252))\n",
    "stdev_2021 = returns_2021.std().mul(np.sqrt(252))"
   ]
  },
  {
   "cell_type": "code",
   "execution_count": 14,
   "id": "bd47f70d-708f-4c28-99ef-05855bfa96ea",
   "metadata": {},
   "outputs": [
    {
     "data": {
      "text/plain": [
       "0.8190"
      ]
     },
     "execution_count": 14,
     "metadata": {},
     "output_type": "execute_result"
    }
   ],
   "source": [
    "# correlation between the standard deviations all stocks' 2020 and 2021 fiscal year returns \n",
    "stdev_2020.corr(stdev_2021)"
   ]
  },
  {
   "cell_type": "markdown",
   "id": "cce9982f-a841-426a-9d1c-93edeea07c34",
   "metadata": {},
   "source": [
    "### Annualized standard deviations of returns in 2020 are a good predictor of those in 2021. They had a correlation of 0.8190. Over 0.75 is considered a strong relationship. Because 2020 returns don't predict 2021 returns well but 2020's standard deviations do, we can conclude we couldn't have predicted how these stocks' prices would move in 2021 based on 2020's prices, but we could know that regardless of how 2021 prices moved, they were going to have similar volatilities."
   ]
  },
  {
   "cell_type": "markdown",
   "id": "d6a9103c-a60a-46a3-a694-14dbf5e68f33",
   "metadata": {
    "tags": []
   },
   "source": [
    "# What are the mean, median, minimum, and maximum pairwise correlations between two stocks?"
   ]
  },
  {
   "cell_type": "code",
   "execution_count": 15,
   "id": "10244ca5-39be-45f6-acd7-c7cedc33f545",
   "metadata": {},
   "outputs": [],
   "source": [
    "returns_both_yrs = returns['2020-01-02':'2022-08-31':]"
   ]
  },
  {
   "cell_type": "code",
   "execution_count": 16,
   "id": "a9e4f23f-6520-436f-bf28-f7560bd6ee48",
   "metadata": {},
   "outputs": [],
   "source": [
    "corr = returns_both_yrs.corr()"
   ]
  },
  {
   "cell_type": "code",
   "execution_count": 17,
   "id": "ccca1f95-f9a7-45c8-b045-af6146d724d7",
   "metadata": {},
   "outputs": [],
   "source": [
    "mean_corr = corr.mean().mean()\n",
    "median_corr = corr.median().median()\n",
    "min_corr = corr.min().min()\n",
    "max_corrs = []\n",
    "for c in corr.columns:\n",
    "    corrs = corr[c]\n",
    "    max_corrs.append(corrs[corrs < 1].max())\n",
    "max_corr = max(max_corrs)"
   ]
  },
  {
   "cell_type": "code",
   "execution_count": 18,
   "id": "6c31da71-4809-4711-9780-f10cea0a7f1d",
   "metadata": {},
   "outputs": [
    {
     "data": {
      "text/plain": [
       "0.4775"
      ]
     },
     "execution_count": 18,
     "metadata": {},
     "output_type": "execute_result"
    }
   ],
   "source": [
    "mean_corr"
   ]
  },
  {
   "cell_type": "code",
   "execution_count": 19,
   "id": "b2878ac3-68a6-4771-8eda-bbba15c097de",
   "metadata": {},
   "outputs": [
    {
     "data": {
      "text/plain": [
       "0.4798"
      ]
     },
     "execution_count": 19,
     "metadata": {},
     "output_type": "execute_result"
    }
   ],
   "source": [
    "median_corr"
   ]
  },
  {
   "cell_type": "code",
   "execution_count": 20,
   "id": "9739acaf-0fa2-4e1a-8a37-ca8bbc519a9b",
   "metadata": {},
   "outputs": [
    {
     "data": {
      "text/plain": [
       "0.0601"
      ]
     },
     "execution_count": 20,
     "metadata": {},
     "output_type": "execute_result"
    }
   ],
   "source": [
    "min_corr"
   ]
  },
  {
   "cell_type": "code",
   "execution_count": 21,
   "id": "adfcd2f6-15a0-40cd-8eca-f27f19a3a7e7",
   "metadata": {},
   "outputs": [
    {
     "data": {
      "text/plain": [
       "0.9937"
      ]
     },
     "execution_count": 21,
     "metadata": {},
     "output_type": "execute_result"
    }
   ],
   "source": [
    "max_corr"
   ]
  },
  {
   "cell_type": "markdown",
   "id": "65f8ea9c-1a90-458e-b4a8-7761869d7ed3",
   "metadata": {},
   "source": [
    "### Mean Correlation: 0.4775\n",
    "### Median Correlation: 0.4798\n",
    "### Minimum Correlation: 0.0601\n",
    "### Maximum Correlation for 2 different stocks: 0.99377"
   ]
  },
  {
   "cell_type": "markdown",
   "id": "fa664186-06ad-4de7-95e1-a426f05583ca",
   "metadata": {},
   "source": [
    "The smallest pairwise correlation between 2 stocks was between Verizon (VZ) and Tesla (TSLA), with a correlation of 0.0601. This is because these two companies are in industries that are viewed very differently by market participant, telecommunications and autonomous vehicle manufacturing, respectively. A telecomm firm like Verizon is a value stocks; it has existed for decades and has very slow growth rates, which means its stock has very low price and returns volatility relative to growth stocks like Tesla. Tesla's stock has much greater and more rapid price swings, which give it a high volatility and explain why its returns move nothing alike those of Verizon.\n",
    " \n",
    "The closest correlation, 0.9937, is between the tickers GOOGL and GOOG, which makes sense as both these stocks are from the same parent company, Alphabet. GOOGL are Alpabet's Class A shares while GOOG are its Class C shares. Class A shares trade at a slight premium to Class C shares since they have voting rights while Class C shares don't. However, although their prices are usually different, the prices move almost identically, which explains a correlation of nearly 1."
   ]
  },
  {
   "cell_type": "markdown",
   "id": "3faf08b1-5068-44ef-8088-eb1ecec24063",
   "metadata": {},
   "source": [
    "# Plot annualized average returns versus annualized standard deviations of returns."
   ]
  },
  {
   "cell_type": "code",
   "execution_count": 22,
   "id": "45e06745-19b1-41f0-bc0d-1a85bf4320c9",
   "metadata": {},
   "outputs": [],
   "source": [
    "avg_returns = returns_both_yrs.mean().mul(252)\n",
    "stdev_returns = returns_both_yrs.std().mul(np.sqrt(252))"
   ]
  },
  {
   "cell_type": "code",
   "execution_count": 23,
   "id": "7ea82c9b-fee4-496d-a7e4-5550d1676018",
   "metadata": {},
   "outputs": [
    {
     "data": {
      "image/png": "[encoded data removed]",
      "text/plain": [
       "<Figure size 432x288 with 1 Axes>"
      ]
     },
     "metadata": {
      "needs_background": "light"
     },
     "output_type": "display_data"
    }
   ],
   "source": [
    "plt.scatter(stdev_returns, avg_returns)\n",
    "plt.title('Annualized Average Returns Vs. Annualized Standard Deviation of Returns')\n",
    "plt.xlabel('Annualized Standard Deviation of Returns')\n",
    "plt.ylabel('Annualized Average Returns')\n",
    "plt.xlim([0.1,0.7])\n",
    "plt.ylim([-0.2,0.6])\n",
    "plt.show()"
   ]
  },
  {
   "cell_type": "markdown",
   "id": "df42ad18-ea5a-4135-86c2-589579efa134",
   "metadata": {},
   "source": [
    "There were two outliers on this graph, Berkshire Hathaway (BRK) and Tesla (TSLA). Both are not shown in order to give a closer up graph of the rest of the data points. Berkshire Hathaway had a return and standard deviation of 0 because data could not be pulled for it. The other outlier is Tesla, which had a return of 1.1249 over this period. Many factors are behind this growth. During the beginning of the COVID-19 pandemic in 2020, Tesla was one of just a few large cap public companies that was thriving because of fast growing sales, maintaining substantial liquidity, and finally turning profitable. While most stocks' prices crashed in 2020 and took around a year to return to pre-pandemic levels, Tesla's share price shot up a few hundred percent. It became one of the most popular stocks for retail investors to buy. Even more, due to Tesla’s commitment to sustainability initiatives, it gained a better ESG classification, which led to massive increases in the number of ETFs it was listed on, from 106 in July 2018 to 244 by December 2021.\n"
   ]
  },
  {
   "cell_type": "markdown",
   "id": "eb963d91-8f91-4bc8-8856-7b61121ef4e0",
   "metadata": {},
   "source": [
    "# Repeat the exercise above (question 5) with 100 random portfolios of 2, 5, 10, and 25 stocks."
   ]
  },
  {
   "cell_type": "code",
   "execution_count": 24,
   "id": "c93e4488-0d17-43d8-a4da-685bfa6e8b19",
   "metadata": {},
   "outputs": [],
   "source": [
    "import random\n",
    "from random import sample"
   ]
  },
  {
   "cell_type": "code",
   "execution_count": 25,
   "id": "f986d639-6a81-42eb-a165-3fc61a8914c3",
   "metadata": {},
   "outputs": [
    {
     "data": {
      "image/png": "[encoded data removed]",
      "text/plain": [
       "<Figure size 432x288 with 1 Axes>"
      ]
     },
     "metadata": {
      "needs_background": "light"
     },
     "output_type": "display_data"
    },
    {
     "data": {
      "image/png": "[encoded data removed]",
      "text/plain": [
       "<Figure size 432x288 with 1 Axes>"
      ]
     },
     "metadata": {
      "needs_background": "light"
     },
     "output_type": "display_data"
    },
    {
     "data": {
      "image/png": "[encoded data removed]",
      "text/plain": [
       "<Figure size 432x288 with 1 Axes>"
      ]
     },
     "metadata": {
      "needs_background": "light"
     },
     "output_type": "display_data"
    },
    {
     "data": {
      "image/png": "[encoded data removed]",
      "text/plain": [
       "<Figure size 432x288 with 1 Axes>"
      ]
     },
     "metadata": {
      "needs_background": "light"
     },
     "output_type": "display_data"
    }
   ],
   "source": [
    "for n in [2, 5, 10, 25]:\n",
    "    avg_returns = []\n",
    "    stdev_returns = []\n",
    "    for i in range(100):\n",
    "        random_tickers = sample(list(tickers_list), n)\n",
    "        avg_return = returns_both_yrs[random_tickers].mean(axis=1).mul(252).mean()\n",
    "        stdev_return = returns_both_yrs[random_tickers].std(axis=1).mul(np.sqrt(252))\n",
    "       \n",
    "        avg_returns.append(avg_return)\n",
    "        stdev_returns.append(stdev_return)\n",
    "        std_array = np.array(pd.DataFrame(stdev_returns))\n",
    "        average_std = []\n",
    "        for r in std_array:\n",
    "            sum_of_squares = 0\n",
    "            for i in r:\n",
    "                sum_of_squares += i**2\n",
    "            divide = sum_of_squares/len(std_array[0])\n",
    "            sqrt = np.sqrt(divide)\n",
    "            average_std.append(sqrt)\n",
    "        \n",
    "    plt.scatter(average_std, avg_returns)\n",
    "    plt.title(f'Annualized Average Returns Vs. Standard Deviation of Returns for {n}-Stock Portfolios')\n",
    "    plt.xlabel('Annualized Standard Deviation of Returns')\n",
    "    plt.ylabel('Annualized Returns')\n",
    "    plt.xlim(.15,.4)\n",
    "    plt.ylim(-.1,.35)\n",
    "    plt.show()"
   ]
  },
  {
   "cell_type": "code",
   "execution_count": 34,
   "id": "63e5a006-ac9b-4ba6-b028-c0b54bdd0c15",
   "metadata": {},
   "outputs": [
    {
     "data": {
      "text/plain": [
       "Date\n",
       "1996-08-13   0.0000\n",
       "1996-08-15   0.0000\n",
       "1996-08-21   0.0000\n",
       "1996-08-26   0.0000\n",
       "1996-08-29   0.0000\n",
       "              ...  \n",
       "2022-10-06   0.0000\n",
       "2022-10-07   0.0000\n",
       "2022-10-10   0.0000\n",
       "2022-10-11   0.0000\n",
       "2022-10-12   0.0000\n",
       "Name: BRK, Length: 2632, dtype: float64"
      ]
     },
     "execution_count": 34,
     "metadata": {},
     "output_type": "execute_result"
    }
   ],
   "source": [
    "returns['BRK'][returns['BRK']==0]"
   ]
  },
  {
   "cell_type": "markdown",
   "id": "725d3af6-7505-49cb-b5ea-6ab6ee6aa165",
   "metadata": {},
   "source": [
    "Observing the graphs above, it's clear that portfolios holding more stocks from an index (in this case the S&P 100) have more predictable performances. The first graph, showing returns versus standard deviations for 100 random 2-stock portfolios, is very scattered. If we were to plot the data for a 101st portfolio on this graph, we wouldn't be able to estimate what it's annualized returns and standard deviations might be with a high degree of certainty. However, if we plotted a 101st 25-stock portfolio on the fourth graph, we could assume it's return would most likely be between 11% and 17%, and it would have a standard deviation of about 27% to 30%. We would be confident in our prediction because those are the ranges the vast majority of the 100 random portfolios on the graph are clustered in.\n",
    "\n",
    "Furthermore, portfolios containing a larger number of stocks in an index will mimic that index's behavior more closely, so we can also conclude that the annualized returns and standard deviation of the S&P 100 over this time period will fall in the same ranges listed above. This also means that more diversified portfolios can attribute larger portions of their volatility to systematic (market) risk. Less diversified portfolios have more unsystematic risk. Therefore, more diversified portfolios are more predictable based on the market and are therefore less risky because they stabilize returns and mitigate the risks associated with individual stocks.\n"
   ]
  }
 ],
 "metadata": {
  "editor": "DataCamp Workspace",
  "kernelspec": {
   "display_name": "Python 3 (ipykernel)",
   "language": "python",
   "name": "python3"
  },
  "language_info": {
   "codemirror_mode": {
    "name": "ipython",
    "version": 3
   },
   "file_extension": ".py",
   "mimetype": "text/x-python",
   "name": "python",
   "nbconvert_exporter": "python",
   "pygments_lexer": "ipython3",
   "version": "3.10.6"
  }
 },
 "nbformat": 4,
 "nbformat_minor": 5
}
